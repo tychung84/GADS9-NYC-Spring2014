{
 "metadata": {
  "name": ""
 },
 "nbformat": 3,
 "nbformat_minor": 0,
 "worksheets": [
  {
   "cells": [
    {
     "cell_type": "code",
     "collapsed": false,
     "input": [
      "%matplotlib inline\n",
      "\n",
      "import pandas as pd\n",
      "import numpy as np\n",
      "import matplotlib.pyplot as plt\n",
      "from sklearn.linear_model import LinearRegression\n",
      "from sklearn.feature_selection import f_regression\n",
      "from sklearn.metrics import mean_squared_error, mean_absolute_error"
     ],
     "language": "python",
     "metadata": {},
     "outputs": [],
     "prompt_number": 22
    },
    {
     "cell_type": "markdown",
     "metadata": {},
     "source": [
      "## Load Data"
     ]
    },
    {
     "cell_type": "code",
     "collapsed": false,
     "input": [
      "day = pd.read_csv('data/day.csv')\n",
      "day.head()"
     ],
     "language": "python",
     "metadata": {},
     "outputs": [
      {
       "html": [
        "<div style=\"max-height:1000px;max-width:1500px;overflow:auto;\">\n",
        "<table border=\"1\" class=\"dataframe\">\n",
        "  <thead>\n",
        "    <tr style=\"text-align: right;\">\n",
        "      <th></th>\n",
        "      <th>instant</th>\n",
        "      <th>dteday</th>\n",
        "      <th>season</th>\n",
        "      <th>yr</th>\n",
        "      <th>mnth</th>\n",
        "      <th>holiday</th>\n",
        "      <th>weekday</th>\n",
        "      <th>workingday</th>\n",
        "      <th>weathersit</th>\n",
        "      <th>temp</th>\n",
        "      <th>atemp</th>\n",
        "      <th>hum</th>\n",
        "      <th>windspeed</th>\n",
        "      <th>casual</th>\n",
        "      <th>registered</th>\n",
        "      <th>cnt</th>\n",
        "    </tr>\n",
        "  </thead>\n",
        "  <tbody>\n",
        "    <tr>\n",
        "      <th>0</th>\n",
        "      <td> 1</td>\n",
        "      <td> 2011-01-01</td>\n",
        "      <td> 1</td>\n",
        "      <td> 0</td>\n",
        "      <td> 1</td>\n",
        "      <td> 0</td>\n",
        "      <td> 6</td>\n",
        "      <td> 0</td>\n",
        "      <td> 2</td>\n",
        "      <td> 0.344167</td>\n",
        "      <td> 0.363625</td>\n",
        "      <td> 0.805833</td>\n",
        "      <td> 0.160446</td>\n",
        "      <td> 331</td>\n",
        "      <td>  654</td>\n",
        "      <td>  985</td>\n",
        "    </tr>\n",
        "    <tr>\n",
        "      <th>1</th>\n",
        "      <td> 2</td>\n",
        "      <td> 2011-01-02</td>\n",
        "      <td> 1</td>\n",
        "      <td> 0</td>\n",
        "      <td> 1</td>\n",
        "      <td> 0</td>\n",
        "      <td> 0</td>\n",
        "      <td> 0</td>\n",
        "      <td> 2</td>\n",
        "      <td> 0.363478</td>\n",
        "      <td> 0.353739</td>\n",
        "      <td> 0.696087</td>\n",
        "      <td> 0.248539</td>\n",
        "      <td> 131</td>\n",
        "      <td>  670</td>\n",
        "      <td>  801</td>\n",
        "    </tr>\n",
        "    <tr>\n",
        "      <th>2</th>\n",
        "      <td> 3</td>\n",
        "      <td> 2011-01-03</td>\n",
        "      <td> 1</td>\n",
        "      <td> 0</td>\n",
        "      <td> 1</td>\n",
        "      <td> 0</td>\n",
        "      <td> 1</td>\n",
        "      <td> 1</td>\n",
        "      <td> 1</td>\n",
        "      <td> 0.196364</td>\n",
        "      <td> 0.189405</td>\n",
        "      <td> 0.437273</td>\n",
        "      <td> 0.248309</td>\n",
        "      <td> 120</td>\n",
        "      <td> 1229</td>\n",
        "      <td> 1349</td>\n",
        "    </tr>\n",
        "    <tr>\n",
        "      <th>3</th>\n",
        "      <td> 4</td>\n",
        "      <td> 2011-01-04</td>\n",
        "      <td> 1</td>\n",
        "      <td> 0</td>\n",
        "      <td> 1</td>\n",
        "      <td> 0</td>\n",
        "      <td> 2</td>\n",
        "      <td> 1</td>\n",
        "      <td> 1</td>\n",
        "      <td> 0.200000</td>\n",
        "      <td> 0.212122</td>\n",
        "      <td> 0.590435</td>\n",
        "      <td> 0.160296</td>\n",
        "      <td> 108</td>\n",
        "      <td> 1454</td>\n",
        "      <td> 1562</td>\n",
        "    </tr>\n",
        "    <tr>\n",
        "      <th>4</th>\n",
        "      <td> 5</td>\n",
        "      <td> 2011-01-05</td>\n",
        "      <td> 1</td>\n",
        "      <td> 0</td>\n",
        "      <td> 1</td>\n",
        "      <td> 0</td>\n",
        "      <td> 3</td>\n",
        "      <td> 1</td>\n",
        "      <td> 1</td>\n",
        "      <td> 0.226957</td>\n",
        "      <td> 0.229270</td>\n",
        "      <td> 0.436957</td>\n",
        "      <td> 0.186900</td>\n",
        "      <td>  82</td>\n",
        "      <td> 1518</td>\n",
        "      <td> 1600</td>\n",
        "    </tr>\n",
        "  </tbody>\n",
        "</table>\n",
        "<p>5 rows \u00d7 16 columns</p>\n",
        "</div>"
       ],
       "metadata": {},
       "output_type": "pyout",
       "prompt_number": 5,
       "text": [
        "   instant      dteday  season  yr  mnth  holiday  weekday  workingday  \\\n",
        "0        1  2011-01-01       1   0     1        0        6           0   \n",
        "1        2  2011-01-02       1   0     1        0        0           0   \n",
        "2        3  2011-01-03       1   0     1        0        1           1   \n",
        "3        4  2011-01-04       1   0     1        0        2           1   \n",
        "4        5  2011-01-05       1   0     1        0        3           1   \n",
        "\n",
        "   weathersit      temp     atemp       hum  windspeed  casual  registered  \\\n",
        "0           2  0.344167  0.363625  0.805833   0.160446     331         654   \n",
        "1           2  0.363478  0.353739  0.696087   0.248539     131         670   \n",
        "2           1  0.196364  0.189405  0.437273   0.248309     120        1229   \n",
        "3           1  0.200000  0.212122  0.590435   0.160296     108        1454   \n",
        "4           1  0.226957  0.229270  0.436957   0.186900      82        1518   \n",
        "\n",
        "    cnt  \n",
        "0   985  \n",
        "1   801  \n",
        "2  1349  \n",
        "3  1562  \n",
        "4  1600  \n",
        "\n",
        "[5 rows x 16 columns]"
       ]
      }
     ],
     "prompt_number": 5
    },
    {
     "cell_type": "code",
     "collapsed": false,
     "input": [
      "day[['workingday', 'weekday']].describe()"
     ],
     "language": "python",
     "metadata": {},
     "outputs": [
      {
       "html": [
        "<div style=\"max-height:1000px;max-width:1500px;overflow:auto;\">\n",
        "<table border=\"1\" class=\"dataframe\">\n",
        "  <thead>\n",
        "    <tr style=\"text-align: right;\">\n",
        "      <th></th>\n",
        "      <th>workingday</th>\n",
        "      <th>weekday</th>\n",
        "    </tr>\n",
        "  </thead>\n",
        "  <tbody>\n",
        "    <tr>\n",
        "      <th>count</th>\n",
        "      <td> 731.000000</td>\n",
        "      <td> 731.000000</td>\n",
        "    </tr>\n",
        "    <tr>\n",
        "      <th>mean</th>\n",
        "      <td>   0.683995</td>\n",
        "      <td>   2.997264</td>\n",
        "    </tr>\n",
        "    <tr>\n",
        "      <th>std</th>\n",
        "      <td>   0.465233</td>\n",
        "      <td>   2.004787</td>\n",
        "    </tr>\n",
        "    <tr>\n",
        "      <th>min</th>\n",
        "      <td>   0.000000</td>\n",
        "      <td>   0.000000</td>\n",
        "    </tr>\n",
        "    <tr>\n",
        "      <th>25%</th>\n",
        "      <td>   0.000000</td>\n",
        "      <td>   1.000000</td>\n",
        "    </tr>\n",
        "    <tr>\n",
        "      <th>50%</th>\n",
        "      <td>   1.000000</td>\n",
        "      <td>   3.000000</td>\n",
        "    </tr>\n",
        "    <tr>\n",
        "      <th>75%</th>\n",
        "      <td>   1.000000</td>\n",
        "      <td>   5.000000</td>\n",
        "    </tr>\n",
        "    <tr>\n",
        "      <th>max</th>\n",
        "      <td>   1.000000</td>\n",
        "      <td>   6.000000</td>\n",
        "    </tr>\n",
        "  </tbody>\n",
        "</table>\n",
        "<p>8 rows \u00d7 2 columns</p>\n",
        "</div>"
       ],
       "metadata": {},
       "output_type": "pyout",
       "prompt_number": 11,
       "text": [
        "       workingday     weekday\n",
        "count  731.000000  731.000000\n",
        "mean     0.683995    2.997264\n",
        "std      0.465233    2.004787\n",
        "min      0.000000    0.000000\n",
        "25%      0.000000    1.000000\n",
        "50%      1.000000    3.000000\n",
        "75%      1.000000    5.000000\n",
        "max      1.000000    6.000000\n",
        "\n",
        "[8 rows x 2 columns]"
       ]
      }
     ],
     "prompt_number": 11
    },
    {
     "cell_type": "code",
     "collapsed": false,
     "input": [
      "day[['casual', 'registered', 'cnt']].describe()"
     ],
     "language": "python",
     "metadata": {},
     "outputs": [
      {
       "html": [
        "<div style=\"max-height:1000px;max-width:1500px;overflow:auto;\">\n",
        "<table border=\"1\" class=\"dataframe\">\n",
        "  <thead>\n",
        "    <tr style=\"text-align: right;\">\n",
        "      <th></th>\n",
        "      <th>casual</th>\n",
        "      <th>registered</th>\n",
        "      <th>cnt</th>\n",
        "    </tr>\n",
        "  </thead>\n",
        "  <tbody>\n",
        "    <tr>\n",
        "      <th>count</th>\n",
        "      <td>  731.000000</td>\n",
        "      <td>  731.000000</td>\n",
        "      <td>  731.000000</td>\n",
        "    </tr>\n",
        "    <tr>\n",
        "      <th>mean</th>\n",
        "      <td>  848.176471</td>\n",
        "      <td> 3656.172367</td>\n",
        "      <td> 4504.348837</td>\n",
        "    </tr>\n",
        "    <tr>\n",
        "      <th>std</th>\n",
        "      <td>  686.622488</td>\n",
        "      <td> 1560.256377</td>\n",
        "      <td> 1937.211452</td>\n",
        "    </tr>\n",
        "    <tr>\n",
        "      <th>min</th>\n",
        "      <td>    2.000000</td>\n",
        "      <td>   20.000000</td>\n",
        "      <td>   22.000000</td>\n",
        "    </tr>\n",
        "    <tr>\n",
        "      <th>25%</th>\n",
        "      <td>  315.500000</td>\n",
        "      <td> 2497.000000</td>\n",
        "      <td> 3152.000000</td>\n",
        "    </tr>\n",
        "    <tr>\n",
        "      <th>50%</th>\n",
        "      <td>  713.000000</td>\n",
        "      <td> 3662.000000</td>\n",
        "      <td> 4548.000000</td>\n",
        "    </tr>\n",
        "    <tr>\n",
        "      <th>75%</th>\n",
        "      <td> 1096.000000</td>\n",
        "      <td> 4776.500000</td>\n",
        "      <td> 5956.000000</td>\n",
        "    </tr>\n",
        "    <tr>\n",
        "      <th>max</th>\n",
        "      <td> 3410.000000</td>\n",
        "      <td> 6946.000000</td>\n",
        "      <td> 8714.000000</td>\n",
        "    </tr>\n",
        "  </tbody>\n",
        "</table>\n",
        "<p>8 rows \u00d7 3 columns</p>\n",
        "</div>"
       ],
       "metadata": {},
       "output_type": "pyout",
       "prompt_number": 73,
       "text": [
        "            casual   registered          cnt\n",
        "count   731.000000   731.000000   731.000000\n",
        "mean    848.176471  3656.172367  4504.348837\n",
        "std     686.622488  1560.256377  1937.211452\n",
        "min       2.000000    20.000000    22.000000\n",
        "25%     315.500000  2497.000000  3152.000000\n",
        "50%     713.000000  3662.000000  4548.000000\n",
        "75%    1096.000000  4776.500000  5956.000000\n",
        "max    3410.000000  6946.000000  8714.000000\n",
        "\n",
        "[8 rows x 3 columns]"
       ]
      }
     ],
     "prompt_number": 73
    },
    {
     "cell_type": "code",
     "collapsed": false,
     "input": [
      "countWhileWorking=day.workingday*day.cnt\n",
      "countWhileWorking.mean()"
     ],
     "language": "python",
     "metadata": {},
     "outputs": [
      {
       "metadata": {},
       "output_type": "pyout",
       "prompt_number": 20,
       "text": [
        "3135.9917920656635"
       ]
      }
     ],
     "prompt_number": 20
    },
    {
     "cell_type": "markdown",
     "metadata": {},
     "source": [
      "## Visualize Data"
     ]
    },
    {
     "cell_type": "code",
     "collapsed": false,
     "input": [
      "day.weekday.unique()\n",
      "if day.weekday == 1:"
     ],
     "language": "python",
     "metadata": {},
     "outputs": [
      {
       "metadata": {},
       "output_type": "pyout",
       "prompt_number": 21,
       "text": [
        "array([6, 0, 1, 2, 3, 4, 5])"
       ]
      }
     ],
     "prompt_number": 21
    },
    {
     "cell_type": "code",
     "collapsed": false,
     "input": [
      "fig, ax1 = plt.subplots(1,1)\n",
      "ax1.hist(day.season, bins=4, color='#eeeeee')"
     ],
     "language": "python",
     "metadata": {},
     "outputs": [
      {
       "metadata": {},
       "output_type": "pyout",
       "prompt_number": 7,
       "text": [
        "(array([ 181.,  184.,  188.,  178.]),\n",
        " array([ 1.  ,  1.75,  2.5 ,  3.25,  4.  ]),\n",
        " <a list of 4 Patch objects>)"
       ]
      },
      {
       "metadata": {},
       "output_type": "display_data",
       "png": "[encoded data removed]",
       "text": [
        "<matplotlib.figure.Figure at 0x1099f8350>"
       ]
      }
     ],
     "prompt_number": 7
    },
    {
     "cell_type": "code",
     "collapsed": false,
     "input": [
      "plt.hist(day.temp, bins=100)"
     ],
     "language": "python",
     "metadata": {},
     "outputs": [
      {
       "metadata": {},
       "output_type": "pyout",
       "prompt_number": 29,
       "text": [
        "(array([  1.,   0.,   0.,   0.,   2.,   0.,   1.,   0.,   1.,   2.,   1.,\n",
        "         2.,   2.,   4.,   4.,   4.,   5.,   6.,   2.,   6.,   9.,   4.,\n",
        "         4.,   3.,  10.,  15.,   9.,  13.,  10.,  13.,   6.,   8.,  15.,\n",
        "        15.,   9.,  15.,   9.,   8.,   7.,  12.,  10.,   9.,   9.,   9.,\n",
        "         9.,  10.,   9.,  10.,   6.,  12.,  10.,   9.,   7.,   5.,   6.,\n",
        "         7.,   8.,   7.,  13.,   8.,  11.,  10.,  13.,   6.,   7.,   6.,\n",
        "         8.,  12.,  10.,  10.,   7.,  17.,   5.,  10.,  16.,   8.,   5.,\n",
        "        13.,   8.,  12.,  13.,  15.,  16.,  11.,   6.,  11.,   9.,   6.,\n",
        "         7.,   9.,   5.,   3.,   1.,   3.,   3.,   3.,   2.,   1.,   2.,\n",
        "         1.]),\n",
        " array([ 0.0591304 ,  0.06715577,  0.07518113,  0.0832065 ,  0.09123186,\n",
        "        0.09925723,  0.1072826 ,  0.11530796,  0.12333333,  0.13135869,\n",
        "        0.13938406,  0.14740943,  0.15543479,  0.16346016,  0.17148552,\n",
        "        0.17951089,  0.18753626,  0.19556162,  0.20358699,  0.21161235,\n",
        "        0.21963772,  0.22766309,  0.23568845,  0.24371382,  0.25173918,\n",
        "        0.25976455,  0.26778992,  0.27581528,  0.28384065,  0.29186601,\n",
        "        0.29989138,  0.30791675,  0.31594211,  0.32396748,  0.33199284,\n",
        "        0.34001821,  0.34804358,  0.35606894,  0.36409431,  0.37211967,\n",
        "        0.38014504,  0.38817041,  0.39619577,  0.40422114,  0.4122465 ,\n",
        "        0.42027187,  0.42829724,  0.4363226 ,  0.44434797,  0.45237333,\n",
        "        0.4603987 ,  0.46842407,  0.47644943,  0.4844748 ,  0.49250016,\n",
        "        0.50052553,  0.5085509 ,  0.51657626,  0.52460163,  0.53262699,\n",
        "        0.54065236,  0.54867773,  0.55670309,  0.56472846,  0.57275382,\n",
        "        0.58077919,  0.58880456,  0.59682992,  0.60485529,  0.61288065,\n",
        "        0.62090602,  0.62893139,  0.63695675,  0.64498212,  0.65300748,\n",
        "        0.66103285,  0.66905822,  0.67708358,  0.68510895,  0.69313431,\n",
        "        0.70115968,  0.70918505,  0.71721041,  0.72523578,  0.73326114,\n",
        "        0.74128651,  0.74931188,  0.75733724,  0.76536261,  0.77338797,\n",
        "        0.78141334,  0.78943871,  0.79746407,  0.80548944,  0.8135148 ,\n",
        "        0.82154017,  0.82956554,  0.8375909 ,  0.84561627,  0.85364163,\n",
        "        0.861667  ]),\n",
        " <a list of 100 Patch objects>)"
       ]
      },
      {
       "metadata": {},
       "output_type": "display_data",
       "png": "[encoded data removed]",
       "text": [
        "<matplotlib.figure.Figure at 0x10c1b3a10>"
       ]
      }
     ],
     "prompt_number": 29
    },
    {
     "cell_type": "code",
     "collapsed": false,
     "input": [
      "plt.hist(day.hum, bins=40)"
     ],
     "language": "python",
     "metadata": {},
     "outputs": [
      {
       "metadata": {},
       "output_type": "pyout",
       "prompt_number": 38,
       "text": [
        "(array([  1.,   0.,   0.,   0.,   0.,   0.,   0.,   1.,   0.,   0.,   1.,\n",
        "         2.,   5.,   3.,   4.,   6.,  19.,  20.,  24.,  32.,  55.,  28.,\n",
        "        45.,  45.,  41.,  41.,  48.,  34.,  54.,  35.,  42.,  38.,  16.,\n",
        "        24.,  22.,  11.,  14.,  11.,   4.,   5.]),\n",
        " array([ 0.       ,  0.0243125,  0.048625 ,  0.0729375,  0.09725  ,\n",
        "        0.1215625,  0.145875 ,  0.1701875,  0.1945   ,  0.2188125,\n",
        "        0.243125 ,  0.2674375,  0.29175  ,  0.3160625,  0.340375 ,\n",
        "        0.3646875,  0.389    ,  0.4133125,  0.437625 ,  0.4619375,\n",
        "        0.48625  ,  0.5105625,  0.534875 ,  0.5591875,  0.5835   ,\n",
        "        0.6078125,  0.632125 ,  0.6564375,  0.68075  ,  0.7050625,\n",
        "        0.729375 ,  0.7536875,  0.778    ,  0.8023125,  0.826625 ,\n",
        "        0.8509375,  0.87525  ,  0.8995625,  0.923875 ,  0.9481875,  0.9725   ]),\n",
        " <a list of 40 Patch objects>)"
       ]
      },
      {
       "metadata": {},
       "output_type": "display_data",
       "png": "[encoded data removed]",
       "text": [
        "<matplotlib.figure.Figure at 0x10d1f1990>"
       ]
      }
     ],
     "prompt_number": 38
    },
    {
     "cell_type": "code",
     "collapsed": false,
     "input": [
      "plt.scatter(day.cnt, day.temp)"
     ],
     "language": "python",
     "metadata": {},
     "outputs": [
      {
       "metadata": {},
       "output_type": "pyout",
       "prompt_number": 30,
       "text": [
        "<matplotlib.collections.PathCollection at 0x10cfa1910>"
       ]
      },
      {
       "metadata": {},
       "output_type": "display_data",
       "png": "[encoded data removed]",
       "text": [
        "<matplotlib.figure.Figure at 0x10cbf9b90>"
       ]
      }
     ],
     "prompt_number": 30
    },
    {
     "cell_type": "code",
     "collapsed": false,
     "input": [
      "plt.scatter(np.log(day.cnt), np.log(day.hum))"
     ],
     "language": "python",
     "metadata": {},
     "outputs": [
      {
       "metadata": {},
       "output_type": "pyout",
       "prompt_number": 35,
       "text": [
        "<matplotlib.collections.PathCollection at 0x10d1db6d0>"
       ]
      },
      {
       "metadata": {},
       "output_type": "display_data",
       "png": "[encoded data removed]",
       "text": [
        "<matplotlib.figure.Figure at 0x10d1bea50>"
       ]
      }
     ],
     "prompt_number": 35
    },
    {
     "cell_type": "code",
     "collapsed": false,
     "input": [
      "plt.scatter(day.cnt, day.workingday)"
     ],
     "language": "python",
     "metadata": {},
     "outputs": [
      {
       "metadata": {},
       "output_type": "pyout",
       "prompt_number": 41,
       "text": [
        "<matplotlib.collections.PathCollection at 0x10e145bd0>"
       ]
      },
      {
       "metadata": {},
       "output_type": "display_data",
       "png": "[encoded data removed]",
       "text": [
        "<matplotlib.figure.Figure at 0x10cfbbf10>"
       ]
      }
     ],
     "prompt_number": 41
    },
    {
     "cell_type": "markdown",
     "metadata": {},
     "source": [
      "## Build Model"
     ]
    },
    {
     "cell_type": "code",
     "collapsed": false,
     "input": [
      "lin_f, lin_p = f_regression(day[['workingday', 'temp', 'hum', 'weathersit']].values, day['registered'].values)\n",
      "print 'LINEAR F-Test Values:', lin_f[0], lin_f[1], lin_f[2], lin_f[3]\n",
      "print 'LINEAR p-values:     ', lin_p[0], lin_p[1], lin_p[2], lin_p[3]"
     ],
     "language": "python",
     "metadata": {},
     "outputs": [
      {
       "output_type": "stream",
       "stream": "stdout",
       "text": [
        "LINEAR F-Test Values: 74.1814674938 300.098390251 6.09921653421 53.0225014005\n",
        "LINEAR p-values:      4.38157108937e-17 1.44622865127e-56 0.013752174101 8.56559966833e-13\n"
       ]
      }
     ],
     "prompt_number": 51
    },
    {
     "cell_type": "code",
     "collapsed": false,
     "input": [
      "lin_f, lin_p = f_regression(day[['workingday', 'temp', 'hum', 'weathersit']].values, day['casual'].values)\n",
      "print 'LINEAR F-Test Values:', lin_f[0], lin_f[1], lin_f[2], lin_f[3]\n",
      "print 'LINEAR p-values:     ', lin_p[0], lin_p[1], lin_p[2], lin_p[3]"
     ],
     "language": "python",
     "metadata": {},
     "outputs": [
      {
       "output_type": "stream",
       "stream": "stdout",
       "text": [
        "LINEAR F-Test Values: 267.404992895 305.274676145 4.34891601425 47.5095770452\n",
        "LINEAR p-values:      1.94426737339e-51 2.30884218728e-57 0.0373797801372 1.18603466749e-11\n"
       ]
      }
     ],
     "prompt_number": 54
    },
    {
     "cell_type": "code",
     "collapsed": false,
     "input": [
      "lin_f, lin_p = f_regression(day[['workingday', 'temp', 'hum', 'weathersit']].values, day['cnt'].values)\n",
      "print 'LINEAR F-Test Values:', lin_f[0], lin_f[1], lin_f[2], lin_f[3]\n",
      "print 'LINEAR p-values:     ', lin_p[0], lin_p[1], lin_p[2], lin_p[3]"
     ],
     "language": "python",
     "metadata": {},
     "outputs": [
      {
       "output_type": "stream",
       "stream": "stdout",
       "text": [
        "LINEAR F-Test Values: 2.73674228319 473.471710535 7.46193999635 70.7292978292\n",
        "LINEAR p-values:      0.0984949616002 2.81062239759e-81 0.00645414332544 2.15097582142e-16\n"
       ]
      }
     ],
     "prompt_number": 55
    },
    {
     "cell_type": "code",
     "collapsed": false,
     "input": [
      "def ols_regression(x_input, y_response):\n",
      "    \"\"\"solution for solving a regression.\n",
      "    x_input: an input narray (X)\n",
      "    y_response: a 1d array of expected outputs (y)\n",
      "    X and y must have equal lengths, but x can be multiple dimensions\n",
      "    should return back a 1d array of 1 intercept + all coefficients\n",
      "    \"\"\"\n",
      "    intercept_matrix = np.ones(len(x_input))\n",
      "    x_var = np.array([intercept_matrix, x_input]).T\n",
      "    x_inv = x_var.T\n",
      "    a = np.linalg.inv(x_inv.dot(x_var))\n",
      "    b = x_inv.dot(y_response)\n",
      "    return a.dot(b)\n",
      "\n",
      "Xvar = np.array([3.385, 0.48, 1.35, 465, 36.33])\n",
      "yvar = np.array([44.5, 15.5, 8.1, 423, 119.5])\n",
      "y_intercept, coefficient = ols_regression(Xvar, yvar)\n",
      "print y_intercept, coefficient"
     ],
     "language": "python",
     "metadata": {},
     "outputs": [
      {
       "output_type": "stream",
       "stream": "stdout",
       "text": [
        "37.2008960793 0.838218755695\n"
       ]
      }
     ],
     "prompt_number": 56
    },
    {
     "cell_type": "code",
     "collapsed": false,
     "input": [
      "def ols_predict(x_input, y_intercept, coefficients):\n",
      "    \"\"\"solution for predicting new data.\n",
      "    x_input: an input narray (X)\n",
      "    y_intercept: a float\n",
      "    coefficients: matrix of coefficients\n",
      "    X and y must have equal lengths, but x can be multiple dimensions\n",
      "    should return back a 1d array of 1 intercept + all coefficients\n",
      "    \"\"\"\n",
      "    return y_intercept + np.dot(coefficients, x_input)\n",
      "\n",
      "ols_predict(Xvar, y_intercept, np.array(coefficient))"
     ],
     "language": "python",
     "metadata": {},
     "outputs": [
      {
       "metadata": {},
       "output_type": "pyout",
       "prompt_number": 57,
       "text": [
        "array([  40.03826657,   37.60324108,   38.3324914 ,  426.97261748,\n",
        "         67.65338347])"
       ]
      }
     ],
     "prompt_number": 57
    },
    {
     "cell_type": "code",
     "collapsed": false,
     "input": [
      "registered_linear_fit = LinearRegression()\n",
      "\n",
      "registered_linear_fit.fit(day[['workingday','temp']].values, day['registered'].values)\n",
      "\n",
      "print \"Registered users intercept and coef:\", registered_linear_fit.intercept_, registered_linear_fit.coef_\n",
      "registered_linear_fit.predict([1,0.5])"
     ],
     "language": "python",
     "metadata": {},
     "outputs": [
      {
       "output_type": "stream",
       "stream": "stdout",
       "text": [
        "Registered users intercept and coef: 803.747616902 [  926.41525113  4478.8653966 ]\n"
       ]
      },
      {
       "metadata": {},
       "output_type": "pyout",
       "prompt_number": 91,
       "text": [
        "3969.5955663264167"
       ]
      }
     ],
     "prompt_number": 91
    },
    {
     "cell_type": "code",
     "collapsed": false,
     "input": [
      "casual_linear_fit = LinearRegression()\n",
      "\n",
      "casual_linear_fit.fit(day[['workingday','temp']].values, day['casual'].values)\n",
      "\n",
      "print \"Casual users intercept and coef:\", casual_linear_fit.intercept_, casual_linear_fit.coef_\n",
      "casual_linear_fit.predict([1,0.5])"
     ],
     "language": "python",
     "metadata": {},
     "outputs": [
      {
       "output_type": "stream",
       "stream": "stdout",
       "text": [
        "Casual users intercept and coef: 338.387116619 [ -809.03115377  2146.13419876]\n"
       ]
      },
      {
       "metadata": {},
       "output_type": "pyout",
       "prompt_number": 90,
       "text": [
        "602.4230622304791"
       ]
      }
     ],
     "prompt_number": 90
    },
    {
     "cell_type": "code",
     "collapsed": false,
     "input": [
      "cnt_linear_fit = LinearRegression()\n",
      "\n",
      "cnt_linear_fit.fit(day[['workingday','temp']].values, day['cnt'].values)\n",
      "\n",
      "print \"Total users intercept and coef:\", cnt_linear_fit.intercept_, cnt_linear_fit.coef_\n",
      "cnt_linear_fit.predict([1, 0.5])"
     ],
     "language": "python",
     "metadata": {},
     "outputs": [
      {
       "output_type": "stream",
       "stream": "stdout",
       "text": [
        "Total users intercept and coef: 1142.13473352 [  117.38409736  6624.99959535]\n"
       ]
      },
      {
       "metadata": {},
       "output_type": "pyout",
       "prompt_number": 88,
       "text": [
        "4572.0186285568952"
       ]
      }
     ],
     "prompt_number": 88
    },
    {
     "cell_type": "code",
     "collapsed": false,
     "input": [
      "ols_predict([1,0.5], linear_fit.intercept_, linear_fit.coef_)"
     ],
     "language": "python",
     "metadata": {},
     "outputs": [
      {
       "metadata": {},
       "output_type": "pyout",
       "prompt_number": 74,
       "text": [
        "4572.0186285568952"
       ]
      }
     ],
     "prompt_number": 74
    }
   ],
   "metadata": {}
  }
 ]
}