{
 "metadata": {
  "name": "estimation"
 },
 "nbformat": 3,
 "nbformat_minor": 0,
 "worksheets": [
  {
   "cells": [
    {
     "cell_type": "code",
     "collapsed": false,
     "input": [
      "import pandas as pd\n",
      "import numpy as np\n",
      "import matplotlib.pyplot as plt\n",
      "import math, datetime"
     ],
     "language": "python",
     "metadata": {},
     "outputs": [],
     "prompt_number": 1
    },
    {
     "cell_type": "code",
     "collapsed": false,
     "input": [
      "lemon_train = pd.read_csv('lemon_training.csv', index_col = 'RefId')"
     ],
     "language": "python",
     "metadata": {},
     "outputs": [],
     "prompt_number": 2
    },
    {
     "cell_type": "code",
     "collapsed": false,
     "input": [
      "lemon_train.count()"
     ],
     "language": "python",
     "metadata": {},
     "outputs": [
      {
       "output_type": "pyout",
       "prompt_number": 3,
       "text": [
        "IsBadBuy                             51088\n",
        "PurchDate                            51088\n",
        "Auction                              51088\n",
        "VehYear                              51088\n",
        "VehicleAge                           51088\n",
        "Make                                 51088\n",
        "Model                                51088\n",
        "Trim                                 49426\n",
        "SubModel                             51082\n",
        "Color                                51082\n",
        "Transmission                         51081\n",
        "WheelTypeID                          48819\n",
        "WheelType                            48816\n",
        "VehOdo                               51088\n",
        "Nationality                          51086\n",
        "Size                                 51086\n",
        "TopThreeAmericanName                 51086\n",
        "MMRAcquisitionAuctionAveragePrice    51076\n",
        "MMRAcquisitionAuctionCleanPrice      51076\n",
        "MMRAcquisitionRetailAveragePrice     51076\n",
        "MMRAcquisitonRetailCleanPrice        51076\n",
        "MMRCurrentAuctionAveragePrice        50872\n",
        "MMRCurrentAuctionCleanPrice          50872\n",
        "MMRCurrentRetailAveragePrice         50872\n",
        "MMRCurrentRetailCleanPrice           50872\n",
        "PRIMEUNIT                             2388\n",
        "AUCGUART                              2388\n",
        "BYRNO                                51088\n",
        "VNZIP1                               51088\n",
        "VNST                                 51088\n",
        "VehBCost                             51088\n",
        "IsOnlineSale                         51088\n",
        "WarrantyCost                         51088\n",
        "dtype: int64"
       ]
      }
     ],
     "prompt_number": 3
    },
    {
     "cell_type": "code",
     "collapsed": false,
     "input": [
      "#plt.scatter(lemon_train.MMRCurrentAuctionAveragePrice.values, lemon_train.VehBCost.values - lemon_train.MMRCurrentAuctionAveragePrice.values, alpha\n",
      "lemon_train.groupby(['Size']).IsBadBuy.mean()\n",
      "#Auction/VehicleAge/TopThreeAmericanName/WheelType/Transmission/Color/PrimeUnit/IsOnlineSale/BYRNO/MMRAcquisitionAuctionAveragePrice"
     ],
     "language": "python",
     "metadata": {},
     "outputs": [
      {
       "output_type": "pyout",
       "prompt_number": 4,
       "text": [
        "Size\n",
        "COMPACT        0.159796\n",
        "CROSSOVER      0.102395\n",
        "LARGE          0.092792\n",
        "LARGE SUV      0.167002\n",
        "LARGE TRUCK    0.107206\n",
        "MEDIUM         0.113955\n",
        "MEDIUM SUV     0.152174\n",
        "SMALL SUV      0.136276\n",
        "SMALL TRUCK    0.131363\n",
        "SPECIALTY      0.094424\n",
        "SPORTS         0.181985\n",
        "VAN            0.130735\n",
        "Name: IsBadBuy, dtype: float64"
       ]
      }
     ],
     "prompt_number": 4
    },
    {
     "cell_type": "code",
     "collapsed": false,
     "input": [
      "# figuring out notable sellers\n",
      "a = pd.DataFrame(lemon_train.groupby('BYRNO').IsBadBuy.mean())\n",
      "a = a.join(pd.DataFrame(lemon_train.groupby('BYRNO').IsBadBuy.count()))\n",
      "a.columns = ['prob','totCount']\n",
      "a['zScore'] = (a.prob - lemon_train.IsBadBuy.mean())/lemon_train.IsBadBuy.std()*sqrt(a.totCount)\n",
      "a[((a.zScore>=2) | (a.zScore <= -2)) & (a.totCount > 100)].index.values"
     ],
     "language": "python",
     "metadata": {},
     "outputs": [
      {
       "output_type": "pyout",
       "prompt_number": 5,
       "text": [
        "array([ 5546, 16044, 16926, 17675, 18822, 18880, 18881, 20740, 20833,\n",
        "       20928, 22916, 23359, 52644, 99750, 99761])"
       ]
      }
     ],
     "prompt_number": 5
    },
    {
     "cell_type": "code",
     "collapsed": false,
     "input": [
      "Y_data = lemon_train.IsBadBuy\n",
      "newLemons = clean_all_lemons(lemon_train)\n",
      "    "
     ],
     "language": "python",
     "metadata": {},
     "outputs": [],
     "prompt_number": 25
    },
    {
     "cell_type": "code",
     "collapsed": false,
     "input": [
      "(newLemons.columns.values)"
     ],
     "language": "python",
     "metadata": {},
     "outputs": [
      {
       "output_type": "pyout",
       "prompt_number": 26,
       "text": [
        "array(['VehicleAge', 'WheelType_Alloy', 'WheelType_Covers',\n",
        "       'WheelType_Special', 'WheelType_nan', 'Transmission_AUTO',\n",
        "       'Transmission_MANUAL', 'Transmission_nan', 'Color_BEIGE',\n",
        "       'Color_BLACK', 'Color_BLUE', 'Color_BROWN', 'Color_GOLD',\n",
        "       'Color_GREEN', 'Color_GREY', 'Color_MAROON', 'Color_NOT AVAIL',\n",
        "       'Color_ORANGE', 'Color_OTHER', 'Color_PURPLE', 'Color_RED',\n",
        "       'Color_SILVER', 'Color_WHITE', 'Color_YELLOW', 'Color_nan',\n",
        "       'PRIMEUNIT_NO', 'PRIMEUNIT_YES', 'PRIMEUNIT_nan', 'BYR_5546',\n",
        "       'BYR_16044', 'BYR_16926', 'BYR_17675', 'BYR_18822', 'BYR_18880',\n",
        "       'BYR_18881', 'BYR_20740', 'BYR_20833', 'BYR_20928', 'BYR_22916',\n",
        "       'BYR_23359', 'BYR_52644', 'BYR_99750', 'BYR_99761'], dtype=object)"
       ]
      }
     ],
     "prompt_number": 26
    },
    {
     "cell_type": "code",
     "collapsed": false,
     "input": [
      "import statsmodels.api as sm\n",
      "model = sm.OLS(Y_data.values, newLemons[['VehicleAge','WheelType_Alloy', 'WheelType_Covers',\n",
      "       'WheelType_nan', 'Color_OTHER', 'PRIMEUNIT_NO', 'BYR_5546', 'BYR_16044', 'BYR_16926', 'BYR_18822', 'BYR_18881', 'BYR_20740', 'BYR_20833', 'BYR_20928', 'BYR_23359', 'BYR_52644', 'BYR_99750']].values)\n",
      "results = model.fit()\n",
      "xNames = newLemons.columns.values\n",
      "results.summary()\n",
      "\n",
      "#1,19-22,26-27,29-30,32-33,36-40,43, 46-48,50,52-55,57-59"
     ],
     "language": "python",
     "metadata": {},
     "outputs": [
      {
       "html": [
        "<table class=\"simpletable\">\n",
        "<caption>OLS Regression Results</caption>\n",
        "<tr>\n",
        "  <th>Dep. Variable:</th>            <td>y</td>        <th>  R-squared:         </th> <td>   0.180</td> \n",
        "</tr>\n",
        "<tr>\n",
        "  <th>Model:</th>                   <td>OLS</td>       <th>  Adj. R-squared:    </th> <td>   0.180</td> \n",
        "</tr>\n",
        "<tr>\n",
        "  <th>Method:</th>             <td>Least Squares</td>  <th>  F-statistic:       </th> <td>   701.1</td> \n",
        "</tr>\n",
        "<tr>\n",
        "  <th>Date:</th>             <td>Mon, 19 May 2014</td> <th>  Prob (F-statistic):</th>  <td>  0.00</td>  \n",
        "</tr>\n",
        "<tr>\n",
        "  <th>Time:</th>                 <td>16:12:46</td>     <th>  Log-Likelihood:    </th> <td> -10555.</td> \n",
        "</tr>\n",
        "<tr>\n",
        "  <th>No. Observations:</th>      <td> 51088</td>      <th>  AIC:               </th> <td>2.114e+04</td>\n",
        "</tr>\n",
        "<tr>\n",
        "  <th>Df Residuals:</th>          <td> 51071</td>      <th>  BIC:               </th> <td>2.129e+04</td>\n",
        "</tr>\n",
        "<tr>\n",
        "  <th>Df Model:</th>              <td>    16</td>      <th>                     </th>     <td> </td>    \n",
        "</tr>\n",
        "</table>\n",
        "<table class=\"simpletable\">\n",
        "<tr>\n",
        "   <td></td>      <th>coef</th>     <th>std err</th>      <th>t</th>      <th>P>|t|</th> <th>[95.0% Conf. Int.]</th> \n",
        "</tr>\n",
        "<tr>\n",
        "  <th>x1</th>  <td>    0.0284</td> <td>    0.001</td> <td>   36.644</td> <td> 0.000</td> <td>    0.027     0.030</td>\n",
        "</tr>\n",
        "<tr>\n",
        "  <th>x2</th>  <td>   -0.0188</td> <td>    0.004</td> <td>   -4.641</td> <td> 0.000</td> <td>   -0.027    -0.011</td>\n",
        "</tr>\n",
        "<tr>\n",
        "  <th>x3</th>  <td>   -0.0185</td> <td>    0.004</td> <td>   -5.268</td> <td> 0.000</td> <td>   -0.025    -0.012</td>\n",
        "</tr>\n",
        "<tr>\n",
        "  <th>x4</th>  <td>    0.5862</td> <td>    0.007</td> <td>   81.633</td> <td> 0.000</td> <td>    0.572     0.600</td>\n",
        "</tr>\n",
        "<tr>\n",
        "  <th>x5</th>  <td>   -0.1316</td> <td>    0.023</td> <td>   -5.761</td> <td> 0.000</td> <td>   -0.176    -0.087</td>\n",
        "</tr>\n",
        "<tr>\n",
        "  <th>x6</th>  <td>   -0.0838</td> <td>    0.006</td> <td>  -13.242</td> <td> 0.000</td> <td>   -0.096    -0.071</td>\n",
        "</tr>\n",
        "<tr>\n",
        "  <th>x7</th>  <td>   -0.0325</td> <td>    0.008</td> <td>   -4.180</td> <td> 0.000</td> <td>   -0.048    -0.017</td>\n",
        "</tr>\n",
        "<tr>\n",
        "  <th>x8</th>  <td>    0.0395</td> <td>    0.009</td> <td>    4.428</td> <td> 0.000</td> <td>    0.022     0.057</td>\n",
        "</tr>\n",
        "<tr>\n",
        "  <th>x9</th>  <td>    0.0361</td> <td>    0.010</td> <td>    3.633</td> <td> 0.000</td> <td>    0.017     0.056</td>\n",
        "</tr>\n",
        "<tr>\n",
        "  <th>x10</th> <td>    0.0222</td> <td>    0.008</td> <td>    2.826</td> <td> 0.005</td> <td>    0.007     0.038</td>\n",
        "</tr>\n",
        "<tr>\n",
        "  <th>x11</th> <td>   -0.0228</td> <td>    0.009</td> <td>   -2.637</td> <td> 0.008</td> <td>   -0.040    -0.006</td>\n",
        "</tr>\n",
        "<tr>\n",
        "  <th>x12</th> <td>    0.0205</td> <td>    0.007</td> <td>    2.757</td> <td> 0.006</td> <td>    0.006     0.035</td>\n",
        "</tr>\n",
        "<tr>\n",
        "  <th>x13</th> <td>    0.0672</td> <td>    0.008</td> <td>    8.412</td> <td> 0.000</td> <td>    0.052     0.083</td>\n",
        "</tr>\n",
        "<tr>\n",
        "  <th>x14</th> <td>   -0.0388</td> <td>    0.007</td> <td>   -5.367</td> <td> 0.000</td> <td>   -0.053    -0.025</td>\n",
        "</tr>\n",
        "<tr>\n",
        "  <th>x15</th> <td>    0.0298</td> <td>    0.008</td> <td>    3.748</td> <td> 0.000</td> <td>    0.014     0.045</td>\n",
        "</tr>\n",
        "<tr>\n",
        "  <th>x16</th> <td>    0.0637</td> <td>    0.018</td> <td>    3.509</td> <td> 0.000</td> <td>    0.028     0.099</td>\n",
        "</tr>\n",
        "<tr>\n",
        "  <th>x17</th> <td>   -0.0675</td> <td>    0.007</td> <td>   -9.444</td> <td> 0.000</td> <td>   -0.081    -0.053</td>\n",
        "</tr>\n",
        "</table>\n",
        "<table class=\"simpletable\">\n",
        "<tr>\n",
        "  <th>Omnibus:</th>       <td>21280.580</td> <th>  Durbin-Watson:     </th> <td>   1.912</td> \n",
        "</tr>\n",
        "<tr>\n",
        "  <th>Prob(Omnibus):</th>  <td> 0.000</td>   <th>  Jarque-Bera (JB):  </th> <td>79503.616</td>\n",
        "</tr>\n",
        "<tr>\n",
        "  <th>Skew:</th>           <td> 2.142</td>   <th>  Prob(JB):          </th> <td>    0.00</td> \n",
        "</tr>\n",
        "<tr>\n",
        "  <th>Kurtosis:</th>       <td> 7.358</td>   <th>  Cond. No.          </th> <td>    79.1</td> \n",
        "</tr>\n",
        "</table>"
       ],
       "output_type": "pyout",
       "prompt_number": 28,
       "text": [
        "<class 'statsmodels.iolib.summary.Summary'>\n",
        "\"\"\"\n",
        "                            OLS Regression Results                            \n",
        "==============================================================================\n",
        "Dep. Variable:                      y   R-squared:                       0.180\n",
        "Model:                            OLS   Adj. R-squared:                  0.180\n",
        "Method:                 Least Squares   F-statistic:                     701.1\n",
        "Date:                Mon, 19 May 2014   Prob (F-statistic):               0.00\n",
        "Time:                        16:12:46   Log-Likelihood:                -10555.\n",
        "No. Observations:               51088   AIC:                         2.114e+04\n",
        "Df Residuals:                   51071   BIC:                         2.129e+04\n",
        "Df Model:                          16                                         \n",
        "==============================================================================\n",
        "                 coef    std err          t      P>|t|      [95.0% Conf. Int.]\n",
        "------------------------------------------------------------------------------\n",
        "x1             0.0284      0.001     36.644      0.000         0.027     0.030\n",
        "x2            -0.0188      0.004     -4.641      0.000        -0.027    -0.011\n",
        "x3            -0.0185      0.004     -5.268      0.000        -0.025    -0.012\n",
        "x4             0.5862      0.007     81.633      0.000         0.572     0.600\n",
        "x5            -0.1316      0.023     -5.761      0.000        -0.176    -0.087\n",
        "x6            -0.0838      0.006    -13.242      0.000        -0.096    -0.071\n",
        "x7            -0.0325      0.008     -4.180      0.000        -0.048    -0.017\n",
        "x8             0.0395      0.009      4.428      0.000         0.022     0.057\n",
        "x9             0.0361      0.010      3.633      0.000         0.017     0.056\n",
        "x10            0.0222      0.008      2.826      0.005         0.007     0.038\n",
        "x11           -0.0228      0.009     -2.637      0.008        -0.040    -0.006\n",
        "x12            0.0205      0.007      2.757      0.006         0.006     0.035\n",
        "x13            0.0672      0.008      8.412      0.000         0.052     0.083\n",
        "x14           -0.0388      0.007     -5.367      0.000        -0.053    -0.025\n",
        "x15            0.0298      0.008      3.748      0.000         0.014     0.045\n",
        "x16            0.0637      0.018      3.509      0.000         0.028     0.099\n",
        "x17           -0.0675      0.007     -9.444      0.000        -0.081    -0.053\n",
        "==============================================================================\n",
        "Omnibus:                    21280.580   Durbin-Watson:                   1.912\n",
        "Prob(Omnibus):                  0.000   Jarque-Bera (JB):            79503.616\n",
        "Skew:                           2.142   Prob(JB):                         0.00\n",
        "Kurtosis:                       7.358   Cond. No.                         79.1\n",
        "==============================================================================\n",
        "\"\"\""
       ]
      }
     ],
     "prompt_number": 28
    },
    {
     "cell_type": "code",
     "collapsed": false,
     "input": [
      "from sklearn import cross_validation\n",
      "from sklearn.ensemble import RandomForestClassifier\n",
      "\n",
      "X_data = newLemons\n",
      "X_train, X_test, Y_train, Y_test = cross_validation.train_test_split(X_data, Y_data, test_size=.25)\n",
      "\n",
      "newForest = RandomForestClassifier(n_estimators = 50, criterion = 'gini', max_depth = 9)\n",
      "newForest.fit(X_train, Y_train)\n"
     ],
     "language": "python",
     "metadata": {},
     "outputs": [
      {
       "output_type": "pyout",
       "prompt_number": 29,
       "text": [
        "RandomForestClassifier(bootstrap=True, compute_importances=False,\n",
        "            criterion='gini', max_depth=9, max_features='auto',\n",
        "            min_density=0.1, min_samples_leaf=1, min_samples_split=2,\n",
        "            n_estimators=50, n_jobs=1, oob_score=False, random_state=None,\n",
        "            verbose=0)"
       ]
      }
     ],
     "prompt_number": 29
    },
    {
     "cell_type": "code",
     "collapsed": false,
     "input": [
      "print \"Score for train is: %.2f\" % newForest.score(X_train, Y_train)\n",
      "print \"Score for test is: %.2f\" % newForest.score(X_test, Y_test)\n"
     ],
     "language": "python",
     "metadata": {},
     "outputs": [
      {
       "output_type": "stream",
       "stream": "stdout",
       "text": [
        "Score for train is: 0.90\n",
        "Score for test is: 0.90"
       ]
      },
      {
       "output_type": "stream",
       "stream": "stdout",
       "text": [
        "\n"
       ]
      }
     ],
     "prompt_number": 30
    },
    {
     "cell_type": "code",
     "collapsed": false,
     "input": [
      "from sklearn import tree\n",
      "\n",
      "justATree = tree.DecisionTreeClassifier(max_depth = 7)\n",
      "justATree = justATree.fit(X_train, Y_train)"
     ],
     "language": "python",
     "metadata": {},
     "outputs": [],
     "prompt_number": 31
    },
    {
     "cell_type": "code",
     "collapsed": false,
     "input": [
      "print \"Score for train is: %.2f\" % justATree.score(X_train, Y_train)\n",
      "print \"Score for test is: %.2f\" % justATree.score(X_test, Y_test)\n"
     ],
     "language": "python",
     "metadata": {},
     "outputs": [
      {
       "output_type": "stream",
       "stream": "stdout",
       "text": [
        "Score for train is: 0.90\n",
        "Score for test is: 0.90\n"
       ]
      }
     ],
     "prompt_number": 14
    },
    {
     "cell_type": "code",
     "collapsed": false,
     "input": [
      "from StringIO import StringIO\n",
      "import pydot\n",
      "\n",
      "dot_data = StringIO()\n",
      "tree.export_graphviz(justATree, out_file='dot_data.dot')\n",
      "graph = pydot.graph_from_dot_file('dot_data.dot')"
     ],
     "language": "python",
     "metadata": {},
     "outputs": [
      {
       "output_type": "stream",
       "stream": "stdout",
       "text": [
        "158 [label=\"X[0] <= 5.5000\\nerror = 0.489795918367\\nsamples = 7\\nvalue = [ 4.\n",
        "    ^\n",
        "Expected \"}\" (at char 16311), (line:317, col:5)\n"
       ]
      }
     ],
     "prompt_number": 15
    },
    {
     "cell_type": "code",
     "collapsed": false,
     "input": [
      "from sklearn.linear_model import LogisticRegression\n",
      "\n",
      "logReg = LogisticRegression()\n",
      "logReg = logReg.fit(X_train, Y_train)"
     ],
     "language": "python",
     "metadata": {},
     "outputs": [],
     "prompt_number": 19
    },
    {
     "cell_type": "code",
     "collapsed": false,
     "input": [
      "print \"Score for train is: %.2f\" % logReg.score(X_train, Y_train)\n",
      "print \"Score for test is: %.2f\" % logReg.score(X_test, Y_test)"
     ],
     "language": "python",
     "metadata": {},
     "outputs": [
      {
       "output_type": "stream",
       "stream": "stdout",
       "text": [
        "Score for train is: 0.89\n",
        "Score for test is: 0.90\n"
       ]
      }
     ],
     "prompt_number": 20
    },
    {
     "cell_type": "code",
     "collapsed": false,
     "input": [
      "actTest = pd.read_csv('lemon_test.csv')\n",
      "results = pd.DataFrame(logReg.predict(clean_all_lemons(actTest)))\n",
      "results.to_csv('submissionLemons.csv')"
     ],
     "language": "python",
     "metadata": {},
     "outputs": [],
     "prompt_number": 34
    },
    {
     "cell_type": "code",
     "collapsed": false,
     "input": [
      "def clean_all_lemons (df):\n",
      "    #data cleanup\n",
      "    a = df.drop(['WheelTypeID'], axis=1)\n",
      "    a['Transmission'] = a['Transmission'].replace('Manual','MANUAL')\n",
      "    a['Make'] = a['Make'].replace('TOYOTA SCION','SCION')\n",
      "    a['Nationality'] = a['Nationality'].replace('TOP LINE ASIAN','OTHER ASIAN')\n",
      "    a['Size'] = a['Size'].replace('LARGE SUV','SUV')\n",
      "    a['Size'] = a['Size'].replace('MEDIUM SUV','SUV')\n",
      "    a['Size'] = a['Size'].replace('SMALL SUV','SUV')\n",
      "    a['Size'] = a['Size'].replace('CROSSOVER','LARGE')\n",
      "    a['Size'] = a['Size'].replace('LARGE TRUCK','TRUCK')\n",
      "    a['Size'] = a['Size'].replace('SMALL TRUCK','TRUCK')\n",
      "    a['Size'] = a['Size'].replace('VAN','TRUCK')\n",
      "    a['Size'] = a['Size'].replace('SPECIALTY','LARGE')\n",
      "    \n",
      "    #binarization of data\n",
      "    #Auction/VehicleAge/TopThreeAmericanName/WheelType/Transmission/Color/PrimeUnit/IsOnlineSale/BYRNO/MMRAcquisitionAuctionAveragePrice\n",
      "    a = a[['VehicleAge','WheelType','Transmission','Color','PRIMEUNIT','BYRNO']]\n",
      "    for k in ['WheelType','Transmission','Color','PRIMEUNIT']:\n",
      "        a = a.join(pd.get_dummies(a[k], dummy_na=True, prefix=k, prefix_sep='_')) \n",
      "    \n",
      "    #chopping up sellers\n",
      "    for k in [ 5546, 16044, 16926, 17675, 18822, 18880, 18881, 20740, 20833, 20928, 22916, 23359, 52644, 99750, 99761]:\n",
      "        a['BYR_' + str(k)] = (a.BYRNO == k) * 1\n",
      "    \n",
      "    #removing orig columns\n",
      "    a = a.drop(['WheelType','Transmission','Color','BYRNO','PRIMEUNIT'], axis=1)\n",
      "    \n",
      "    return a\n",
      "    "
     ],
     "language": "python",
     "metadata": {},
     "outputs": [],
     "prompt_number": 24
    }
   ],
   "metadata": {}
  }
 ]
}