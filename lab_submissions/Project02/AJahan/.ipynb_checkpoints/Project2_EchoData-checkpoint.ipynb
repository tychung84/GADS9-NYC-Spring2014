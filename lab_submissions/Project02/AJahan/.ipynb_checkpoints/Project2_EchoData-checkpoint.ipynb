{
 "metadata": {
  "name": ""
 },
 "nbformat": 3,
 "nbformat_minor": 0,
 "worksheets": [
  {
   "cells": [
    {
     "cell_type": "markdown",
     "metadata": {},
     "source": [
      "##Project 2: Classifier\n",
      "\n",
      "####What? \n",
      "Data set that shows patients who have had heart attacks, their heart condition based on echocardiogram and how long they survived by the time data was updated. \n",
      "\n",
      "####What am I looking for?\n",
      "Well, it would be interesting to see what measurements at the time of heart attack directly can predict if that person wil lstay alive. \n",
      "\n",
      "####Why?\n",
      "I wasn't so sure about which type of data set to use. I wanted something with biomedical theme, but wasn't able to find any with enough metadata. So intead I chose a set that is supposed to get classified. \n",
      "\n",
      "####Next step?\n",
      "Would like to find other datasets that provide metadata rather than just summaries and counts so I can do exploration like I was able to here. \n",
      "\n",
      "______________\n"
     ]
    },
    {
     "cell_type": "raw",
     "metadata": {},
     "source": [
      "Data Source: https://archive.ics.uci.edu/ml/datasets/Echocardiogram\n",
      "\n",
      "Data Description: \n",
      "survival -- the number of months patient survived (has survived,if patient is still alive).  Because all the patients had their heart attacks at different times, it is possible that some patients have survived less than one year but they are still alive.  Check the second variable to confirm this.  Such patients cannot be used for the prediction task mentioned above.\n",
      "\n",
      "still-alive -- a binary variable.  0=dead at end of survival period,1 means still alive \n",
      "\n",
      "age-at-heart-attack -- age in years when heart attack occurred\n",
      "\n",
      "pericardial-effusion -- binary. Pericardial effusion is fluidaround the heart.  0=no fluid, 1=fluid\n",
      "\n",
      "fractional-shortening -- a measure of contracility around the heart lower numbers are increasingly abnormal\n",
      "\n",
      "epss -- E-point septal separation, another measure of contractility.  Larger numbers are increasingly abnormal.\n",
      "\n",
      "lvdd -- left ventricular end-diastolic dimension.  This is a measure of the size of the heart at end-diastole. Large hearts tend to be sick hearts.\n",
      "\n",
      "wall-motion-score -- a measure of how the segments of the left ventricle are moving\n",
      "\n",
      "wall-motion-index -- equals wall-motion-score divided by number of segments seen.  Usually 12-13 segments are seen in an echocardiogram.  Use this variable INSTEAD of the wall motion score.\n",
      "\n",
      "mult -- a derivate var which can be ignored"
     ]
    },
    {
     "cell_type": "markdown",
     "metadata": {},
     "source": [
      "___\n",
      "\n",
      "#1.Acquiring Data"
     ]
    },
    {
     "cell_type": "code",
     "collapsed": false,
     "input": [
      "%pylab inline\n",
      "import numpy as np\n",
      "import pandas as pd\n",
      "import pylab as pl\n",
      "\n",
      "\n",
      "import csv as csv\n",
      "from matplotlib import pyplot as plt\n",
      "from sklearn import datasets\n",
      "from pandas import DataFrame\n",
      "\n",
      "echofile = pd.read_csv('data/echocardiogramdata.csv', index_col='RefId')"
     ],
     "language": "python",
     "metadata": {},
     "outputs": [
      {
       "output_type": "stream",
       "stream": "stdout",
       "text": [
        "Populating the interactive namespace from numpy and matplotlib\n"
       ]
      }
     ],
     "prompt_number": 25
    },
    {
     "cell_type": "markdown",
     "metadata": {},
     "source": [
      "#2. Cleaning the Data"
     ]
    },
    {
     "cell_type": "code",
     "collapsed": false,
     "input": [
      "print echofile.head(3)\n",
      "\n",
      "echofile2 = echofile.drop(['mult', 'wms'], inplace=True, axis=1)\n",
      "\n",
      "#removed features that are not telling or redundant with another feature"
     ],
     "language": "python",
     "metadata": {},
     "outputs": [
      {
       "output_type": "stream",
       "stream": "stdout",
       "text": [
        "       survivedmos  alive  HAage  PEffusion  fractional_shortening  epss  \\\n",
        "RefId                                                                      \n",
        "1               11      0     71          0                   0.26     9   \n",
        "2               19      0     72          0                   0.38     6   \n",
        "3               16      0     55          0                   0.26     4   \n",
        "\n",
        "       lvdd  wms  wmi   mult  \n",
        "RefId                         \n",
        "1      4.60   14  1.0  1.000  \n",
        "2      4.10   14  1.7  0.588  \n",
        "3      3.42   14  1.0  1.000  \n",
        "\n",
        "[3 rows x 10 columns]\n"
       ]
      }
     ],
     "prompt_number": 26
    },
    {
     "cell_type": "code",
     "collapsed": false,
     "input": [
      "echofile.head(3)\n",
      "#making sure the removal happened"
     ],
     "language": "python",
     "metadata": {},
     "outputs": [
      {
       "html": [
        "<div style=\"max-height:1000px;max-width:1500px;overflow:auto;\">\n",
        "<table border=\"1\" class=\"dataframe\">\n",
        "  <thead>\n",
        "    <tr style=\"text-align: right;\">\n",
        "      <th></th>\n",
        "      <th>survivedmos</th>\n",
        "      <th>alive</th>\n",
        "      <th>HAage</th>\n",
        "      <th>PEffusion</th>\n",
        "      <th>fractional_shortening</th>\n",
        "      <th>epss</th>\n",
        "      <th>lvdd</th>\n",
        "      <th>wmi</th>\n",
        "    </tr>\n",
        "    <tr>\n",
        "      <th>RefId</th>\n",
        "      <th></th>\n",
        "      <th></th>\n",
        "      <th></th>\n",
        "      <th></th>\n",
        "      <th></th>\n",
        "      <th></th>\n",
        "      <th></th>\n",
        "      <th></th>\n",
        "    </tr>\n",
        "  </thead>\n",
        "  <tbody>\n",
        "    <tr>\n",
        "      <th>1</th>\n",
        "      <td> 11</td>\n",
        "      <td> 0</td>\n",
        "      <td> 71</td>\n",
        "      <td> 0</td>\n",
        "      <td> 0.26</td>\n",
        "      <td> 9</td>\n",
        "      <td> 4.60</td>\n",
        "      <td> 1.0</td>\n",
        "    </tr>\n",
        "    <tr>\n",
        "      <th>2</th>\n",
        "      <td> 19</td>\n",
        "      <td> 0</td>\n",
        "      <td> 72</td>\n",
        "      <td> 0</td>\n",
        "      <td> 0.38</td>\n",
        "      <td> 6</td>\n",
        "      <td> 4.10</td>\n",
        "      <td> 1.7</td>\n",
        "    </tr>\n",
        "    <tr>\n",
        "      <th>3</th>\n",
        "      <td> 16</td>\n",
        "      <td> 0</td>\n",
        "      <td> 55</td>\n",
        "      <td> 0</td>\n",
        "      <td> 0.26</td>\n",
        "      <td> 4</td>\n",
        "      <td> 3.42</td>\n",
        "      <td> 1.0</td>\n",
        "    </tr>\n",
        "  </tbody>\n",
        "</table>\n",
        "<p>3 rows \u00d7 8 columns</p>\n",
        "</div>"
       ],
       "metadata": {},
       "output_type": "pyout",
       "prompt_number": 27,
       "text": [
        "       survivedmos  alive  HAage  PEffusion  fractional_shortening  epss  \\\n",
        "RefId                                                                      \n",
        "1               11      0     71          0                   0.26     9   \n",
        "2               19      0     72          0                   0.38     6   \n",
        "3               16      0     55          0                   0.26     4   \n",
        "\n",
        "       lvdd  wmi  \n",
        "RefId             \n",
        "1      4.60  1.0  \n",
        "2      4.10  1.7  \n",
        "3      3.42  1.0  \n",
        "\n",
        "[3 rows x 8 columns]"
       ]
      }
     ],
     "prompt_number": 27
    },
    {
     "cell_type": "code",
     "collapsed": false,
     "input": [
      "echofile.info()\n",
      "echofile.describe()\n",
      "\n",
      "#It's good to take a look at how the entire dataframe looks, is it consistent? same length? \n",
      "#This tells us that we are missing a lot of information in different columns. "
     ],
     "language": "python",
     "metadata": {},
     "outputs": [
      {
       "output_type": "stream",
       "stream": "stdout",
       "text": [
        "<class 'pandas.core.frame.DataFrame'>\n",
        "Int64Index: 131 entries, 1 to 131\n",
        "Data columns (total 8 columns):\n",
        "survivedmos              131 non-null float64\n",
        "alive                    131 non-null int64\n",
        "HAage                    126 non-null float64\n",
        "PEffusion                131 non-null int64\n",
        "fractional_shortening    124 non-null float64\n",
        "epss                     117 non-null float64\n",
        "lvdd                     121 non-null float64\n",
        "wmi                      130 non-null float64\n",
        "dtypes: float64(6), int64(2)"
       ]
      },
      {
       "output_type": "stream",
       "stream": "stderr",
       "text": [
        "/Users/aribajahan/anaconda/lib/python2.7/site-packages/pandas/compat/scipy.py:68: DeprecationWarning: using a non-integer number instead of an integer will result in an error in the future\n",
        "  score = values[idx]\n",
        "/Users/aribajahan/anaconda/lib/python2.7/site-packages/pandas/compat/scipy.py:68: DeprecationWarning: using a non-integer number instead of an integer will result in an error in the future\n",
        "  score = values[idx]\n",
        "/Users/aribajahan/anaconda/lib/python2.7/site-packages/pandas/compat/scipy.py:68: DeprecationWarning: using a non-integer number instead of an integer will result in an error in the future\n",
        "  score = values[idx]\n",
        "/Users/aribajahan/anaconda/lib/python2.7/site-packages/pandas/compat/scipy.py:68: DeprecationWarning: using a non-integer number instead of an integer will result in an error in the future\n",
        "  score = values[idx]\n"
       ]
      },
      {
       "html": [
        "<div style=\"max-height:1000px;max-width:1500px;overflow:auto;\">\n",
        "<table border=\"1\" class=\"dataframe\">\n",
        "  <thead>\n",
        "    <tr style=\"text-align: right;\">\n",
        "      <th></th>\n",
        "      <th>survivedmos</th>\n",
        "      <th>alive</th>\n",
        "      <th>HAage</th>\n",
        "      <th>PEffusion</th>\n",
        "      <th>fractional_shortening</th>\n",
        "      <th>epss</th>\n",
        "      <th>lvdd</th>\n",
        "      <th>wmi</th>\n",
        "    </tr>\n",
        "  </thead>\n",
        "  <tbody>\n",
        "    <tr>\n",
        "      <th>count</th>\n",
        "      <td> 131.000000</td>\n",
        "      <td> 131.000000</td>\n",
        "      <td> 126.000000</td>\n",
        "      <td> 131.000000</td>\n",
        "      <td> 124.000000</td>\n",
        "      <td> 117.000000</td>\n",
        "      <td> 121.000000</td>\n",
        "      <td> 130.00000</td>\n",
        "    </tr>\n",
        "    <tr>\n",
        "      <th>mean</th>\n",
        "      <td>  22.265496</td>\n",
        "      <td>   0.328244</td>\n",
        "      <td>  62.813722</td>\n",
        "      <td>   0.183206</td>\n",
        "      <td>   0.216734</td>\n",
        "      <td>  12.164769</td>\n",
        "      <td>   4.763157</td>\n",
        "      <td>   1.37800</td>\n",
        "    </tr>\n",
        "    <tr>\n",
        "      <th>std</th>\n",
        "      <td>  15.825402</td>\n",
        "      <td>   0.471377</td>\n",
        "      <td>   8.342110</td>\n",
        "      <td>   0.388320</td>\n",
        "      <td>   0.107513</td>\n",
        "      <td>   7.370159</td>\n",
        "      <td>   0.810013</td>\n",
        "      <td>   0.45185</td>\n",
        "    </tr>\n",
        "    <tr>\n",
        "      <th>min</th>\n",
        "      <td>   0.030000</td>\n",
        "      <td>   0.000000</td>\n",
        "      <td>  35.000000</td>\n",
        "      <td>   0.000000</td>\n",
        "      <td>   0.010000</td>\n",
        "      <td>   0.000000</td>\n",
        "      <td>   2.320000</td>\n",
        "      <td>   1.00000</td>\n",
        "    </tr>\n",
        "    <tr>\n",
        "      <th>25%</th>\n",
        "      <td>   8.250000</td>\n",
        "      <td>   0.000000</td>\n",
        "      <td>  57.000000</td>\n",
        "      <td>   0.000000</td>\n",
        "      <td>   0.150000</td>\n",
        "      <td>   7.000000</td>\n",
        "      <td>   4.230000</td>\n",
        "      <td>   1.00000</td>\n",
        "    </tr>\n",
        "    <tr>\n",
        "      <th>50%</th>\n",
        "      <td>  24.000000</td>\n",
        "      <td>   0.000000</td>\n",
        "      <td>  62.000000</td>\n",
        "      <td>   0.000000</td>\n",
        "      <td>   0.205000</td>\n",
        "      <td>  11.000000</td>\n",
        "      <td>   4.650000</td>\n",
        "      <td>   1.21600</td>\n",
        "    </tr>\n",
        "    <tr>\n",
        "      <th>75%</th>\n",
        "      <td>  33.000000</td>\n",
        "      <td>   1.000000</td>\n",
        "      <td>  67.750000</td>\n",
        "      <td>   0.000000</td>\n",
        "      <td>   0.270000</td>\n",
        "      <td>  16.100000</td>\n",
        "      <td>   5.300000</td>\n",
        "      <td>   1.50750</td>\n",
        "    </tr>\n",
        "    <tr>\n",
        "      <th>max</th>\n",
        "      <td>  57.000000</td>\n",
        "      <td>   1.000000</td>\n",
        "      <td>  86.000000</td>\n",
        "      <td>   1.000000</td>\n",
        "      <td>   0.610000</td>\n",
        "      <td>  40.000000</td>\n",
        "      <td>   6.780000</td>\n",
        "      <td>   3.00000</td>\n",
        "    </tr>\n",
        "  </tbody>\n",
        "</table>\n",
        "<p>8 rows \u00d7 8 columns</p>\n",
        "</div>"
       ],
       "metadata": {},
       "output_type": "pyout",
       "prompt_number": 28,
       "text": [
        "       survivedmos       alive       HAage   PEffusion  fractional_shortening  \\\n",
        "count   131.000000  131.000000  126.000000  131.000000             124.000000   \n",
        "mean     22.265496    0.328244   62.813722    0.183206               0.216734   \n",
        "std      15.825402    0.471377    8.342110    0.388320               0.107513   \n",
        "min       0.030000    0.000000   35.000000    0.000000               0.010000   \n",
        "25%       8.250000    0.000000   57.000000    0.000000               0.150000   \n",
        "50%      24.000000    0.000000   62.000000    0.000000               0.205000   \n",
        "75%      33.000000    1.000000   67.750000    0.000000               0.270000   \n",
        "max      57.000000    1.000000   86.000000    1.000000               0.610000   \n",
        "\n",
        "             epss        lvdd        wmi  \n",
        "count  117.000000  121.000000  130.00000  \n",
        "mean    12.164769    4.763157    1.37800  \n",
        "std      7.370159    0.810013    0.45185  \n",
        "min      0.000000    2.320000    1.00000  \n",
        "25%      7.000000    4.230000    1.00000  \n",
        "50%     11.000000    4.650000    1.21600  \n",
        "75%     16.100000    5.300000    1.50750  \n",
        "max     40.000000    6.780000    3.00000  \n",
        "\n",
        "[8 rows x 8 columns]"
       ]
      }
     ],
     "prompt_number": 28
    },
    {
     "cell_type": "code",
     "collapsed": false,
     "input": [
      "pd.isnull(echofile['HAage'])\n",
      "#Just wanted to explore one column to see if the blanks were already registered as null values so that I can replace them"
     ],
     "language": "python",
     "metadata": {},
     "outputs": [
      {
       "metadata": {},
       "output_type": "pyout",
       "prompt_number": 29,
       "text": [
        "RefId\n",
        "1        False\n",
        "2        False\n",
        "3        False\n",
        "4        False\n",
        "5        False\n",
        "6        False\n",
        "7        False\n",
        "8        False\n",
        "9        False\n",
        "10       False\n",
        "11       False\n",
        "12       False\n",
        "13       False\n",
        "14       False\n",
        "15       False\n",
        "...\n",
        "117      False\n",
        "118      False\n",
        "119       True\n",
        "120      False\n",
        "121      False\n",
        "122      False\n",
        "123      False\n",
        "124      False\n",
        "125       True\n",
        "126      False\n",
        "127      False\n",
        "128      False\n",
        "129      False\n",
        "130      False\n",
        "131      False\n",
        "Name: HAage, Length: 131, dtype: bool"
       ]
      }
     ],
     "prompt_number": 29
    },
    {
     "cell_type": "code",
     "collapsed": false,
     "input": [
      "echofileX = echofile.sort(['alive', 'survivedmos'])\n",
      "\n",
      "print echofileX"
     ],
     "language": "python",
     "metadata": {},
     "outputs": [
      {
       "output_type": "stream",
       "stream": "stdout",
       "text": [
        "       survivedmos  alive  HAage  PEffusion  fractional_shortening    epss  \\\n",
        "RefId                                                                        \n",
        "61               9      0     73          0                  0.120     NaN   \n",
        "52              10      0     57          0                  0.240  14.800   \n",
        "55              10      0     66          0                  0.290  15.600   \n",
        "1               11      0     71          0                  0.260   9.000   \n",
        "53              12      0     58          0                  0.300   9.400   \n",
        "64              12      0     67          1                  0.110  10.300   \n",
        "78              12      0     64          0                  0.200   7.100   \n",
        "123             12      0     61          1                  0.190  13.200   \n",
        "7               13      0     62          0                  0.230  31.000   \n",
        "111             13      0     66          0                  0.240  13.600   \n",
        "75              15      0     54          0                  0.217  17.900   \n",
        "3               16      0     55          0                  0.260   4.000   \n",
        "37              16      0     63          1                    NaN     NaN   \n",
        "42              16      0     70          1                  0.270   4.700   \n",
        "120             17      0     64          0                  0.150   6.600   \n",
        "125             17      0    NaN          0                  0.090   6.800   \n",
        "2               19      0     72          0                  0.380   6.000   \n",
        "9               19      0     46          0                  0.340   0.000   \n",
        "39              19      0     68          0                  0.510     NaN   \n",
        "131             20      0     62          0                  0.150   0.000   \n",
        "126             21      0     61          0                  0.140  25.500   \n",
        "57              22      0     57          0                  0.130  18.600   \n",
        "102             22      0     70          0                  0.380   0.000   \n",
        "130             22      0     57          0                  0.140  16.100   \n",
        "82              23      0     62          0                  0.250   6.000   \n",
        "16              24      0     55          1                  0.250  12.063   \n",
        "105             24      0     59          0                  0.170  14.300   \n",
        "107             24      0     57          0                  0.036   7.000   \n",
        "10              25      0     54          0                  0.140  13.000   \n",
        "103             25      0     62          0                  0.258  11.800   \n",
        "106             25      0     57          0                  0.228   9.700   \n",
        "113             25      0     59          1                  0.400   9.200   \n",
        "6               26      0     68          0                  0.260   5.000   \n",
        "36              26      0     61          0                  0.610  13.100   \n",
        "60              26      0     79          0                  0.170  11.900   \n",
        "62              26      0     72          0                  0.187  12.000   \n",
        "74              26      0     50          0                  0.060  30.100   \n",
        "34              27      0     47          0                  0.400   5.120   \n",
        "81              27      0     54          1                  0.070  16.800   \n",
        "110             27      0     62          0                  0.220  12.100   \n",
        "114             27      0     57          0                  0.290   9.400   \n",
        "119             28      0    NaN          0                  0.230  19.100   \n",
        "26              29      0     54          0                  0.300   7.000   \n",
        "27              29      0     35          0                  0.300   5.000   \n",
        "28              29      0     55          0                    NaN   7.000   \n",
        "72              29      0     60          0                  0.120  10.200   \n",
        "40              31      0     80          0                  0.410   5.400   \n",
        "100             31      0     53          0                  0.170     NaN   \n",
        "122             31      0     61          0                  0.180   0.000   \n",
        "41              32      0     54          0                  0.350   9.300   \n",
        "79              32      0     63          0                  0.200   5.000   \n",
        "80              32      0     65          0                  0.060  23.600   \n",
        "71              33      0     56          0                  0.250  11.000   \n",
        "93              33      0     46          0                  0.272  16.500   \n",
        "95              33      0     63          0                  0.250   5.600   \n",
        "97              33      0     59          0                  0.500   9.100   \n",
        "101             33      0     66          0                  0.200     NaN   \n",
        "85              34      0     52          0                  0.140  25.000   \n",
        "115             34      0     62          1                  0.190  28.900   \n",
        "117             34      0     54          0                  0.430   9.300   \n",
        "               ...    ...    ...        ...                    ...     ...   \n",
        "\n",
        "       lvdd    wmi  \n",
        "RefId               \n",
        "61     6.78  1.390  \n",
        "52     5.26  1.380  \n",
        "55     6.15  1.000  \n",
        "1      4.60  1.000  \n",
        "53     3.49  1.000  \n",
        "64     4.68  1.000  \n",
        "78     4.58  1.000  \n",
        "123    5.04  1.730  \n",
        "7      5.43  1.875  \n",
        "111    4.38  2.200  \n",
        "75     4.54  1.180  \n",
        "3      3.42  1.000  \n",
        "37     5.31  1.000  \n",
        "42     4.49  2.000  \n",
        "120    4.17  1.270  \n",
        "125    4.96  1.080  \n",
        "2      4.10  1.700  \n",
        "9      5.09  1.140  \n",
        "39     3.88  1.670  \n",
        "131    4.51  1.409  \n",
        "126    5.16  1.270  \n",
        "57     4.37  1.370  \n",
        "102    4.55  1.000  \n",
        "130    4.36  1.360  \n",
        "82     4.48  1.000  \n",
        "16     4.29  1.000  \n",
        "105    5.49  1.500  \n",
        "107    4.12  1.230  \n",
        "10     4.49  1.190  \n",
        "103    4.87  1.000  \n",
        "106    4.29  1.000  \n",
        "113    5.36  1.000  \n",
        "6      4.31  1.000  \n",
        "36     4.07  1.625  \n",
        "60     5.15  1.050  \n",
        "62     5.02  1.180  \n",
        "74     5.95  2.390  \n",
        "34     3.10  1.000  \n",
        "81     4.16  1.500  \n",
        "110    3.92  1.000  \n",
        "114    4.77  1.000  \n",
        "119    5.49  1.200  \n",
        "26     3.85  1.667  \n",
        "27     4.17  1.000  \n",
        "28      NaN  1.000  \n",
        "72     4.31  1.670  \n",
        "40     4.36  1.000  \n",
        "100    4.69  1.000  \n",
        "122    4.48  1.375  \n",
        "41     3.63  1.222  \n",
        "79     5.20  1.000  \n",
        "80     6.74  1.090  \n",
        "71     4.72  1.000  \n",
        "93     5.36  1.060  \n",
        "95     3.87  1.500  \n",
        "97     3.42  1.500  \n",
        "101    4.23  1.000  \n",
        "85     6.21  1.150  \n",
        "115    6.63  1.950  \n",
        "117    4.79  1.000  \n",
        "        ...    ...  \n",
        "\n",
        "[131 rows x 8 columns]\n"
       ]
      }
     ],
     "prompt_number": 30
    },
    {
     "cell_type": "code",
     "collapsed": false,
     "input": [
      "echofile3 = echofile.fillna(method='pad')\n",
      "#So I decided to just fill the empty slots with values that are in the next row, this way bias is avoided and all slots are filled\n",
      "#However, not sure how this may skew or ruin the classifier"
     ],
     "language": "python",
     "metadata": {},
     "outputs": [],
     "prompt_number": 31
    },
    {
     "cell_type": "code",
     "collapsed": false,
     "input": [
      "echofile3.head(3)"
     ],
     "language": "python",
     "metadata": {},
     "outputs": [
      {
       "html": [
        "<div style=\"max-height:1000px;max-width:1500px;overflow:auto;\">\n",
        "<table border=\"1\" class=\"dataframe\">\n",
        "  <thead>\n",
        "    <tr style=\"text-align: right;\">\n",
        "      <th></th>\n",
        "      <th>survivedmos</th>\n",
        "      <th>alive</th>\n",
        "      <th>HAage</th>\n",
        "      <th>PEffusion</th>\n",
        "      <th>fractional_shortening</th>\n",
        "      <th>epss</th>\n",
        "      <th>lvdd</th>\n",
        "      <th>wmi</th>\n",
        "    </tr>\n",
        "    <tr>\n",
        "      <th>RefId</th>\n",
        "      <th></th>\n",
        "      <th></th>\n",
        "      <th></th>\n",
        "      <th></th>\n",
        "      <th></th>\n",
        "      <th></th>\n",
        "      <th></th>\n",
        "      <th></th>\n",
        "    </tr>\n",
        "  </thead>\n",
        "  <tbody>\n",
        "    <tr>\n",
        "      <th>1</th>\n",
        "      <td> 11</td>\n",
        "      <td> 0</td>\n",
        "      <td> 71</td>\n",
        "      <td> 0</td>\n",
        "      <td> 0.26</td>\n",
        "      <td> 9</td>\n",
        "      <td> 4.60</td>\n",
        "      <td> 1.0</td>\n",
        "    </tr>\n",
        "    <tr>\n",
        "      <th>2</th>\n",
        "      <td> 19</td>\n",
        "      <td> 0</td>\n",
        "      <td> 72</td>\n",
        "      <td> 0</td>\n",
        "      <td> 0.38</td>\n",
        "      <td> 6</td>\n",
        "      <td> 4.10</td>\n",
        "      <td> 1.7</td>\n",
        "    </tr>\n",
        "    <tr>\n",
        "      <th>3</th>\n",
        "      <td> 16</td>\n",
        "      <td> 0</td>\n",
        "      <td> 55</td>\n",
        "      <td> 0</td>\n",
        "      <td> 0.26</td>\n",
        "      <td> 4</td>\n",
        "      <td> 3.42</td>\n",
        "      <td> 1.0</td>\n",
        "    </tr>\n",
        "  </tbody>\n",
        "</table>\n",
        "<p>3 rows \u00d7 8 columns</p>\n",
        "</div>"
       ],
       "metadata": {},
       "output_type": "pyout",
       "prompt_number": 32,
       "text": [
        "       survivedmos  alive  HAage  PEffusion  fractional_shortening  epss  \\\n",
        "RefId                                                                      \n",
        "1               11      0     71          0                   0.26     9   \n",
        "2               19      0     72          0                   0.38     6   \n",
        "3               16      0     55          0                   0.26     4   \n",
        "\n",
        "       lvdd  wmi  \n",
        "RefId             \n",
        "1      4.60  1.0  \n",
        "2      4.10  1.7  \n",
        "3      3.42  1.0  \n",
        "\n",
        "[3 rows x 8 columns]"
       ]
      }
     ],
     "prompt_number": 32
    },
    {
     "cell_type": "code",
     "collapsed": false,
     "input": [
      "echofile3.describe()"
     ],
     "language": "python",
     "metadata": {},
     "outputs": [
      {
       "html": [
        "<div style=\"max-height:1000px;max-width:1500px;overflow:auto;\">\n",
        "<table border=\"1\" class=\"dataframe\">\n",
        "  <thead>\n",
        "    <tr style=\"text-align: right;\">\n",
        "      <th></th>\n",
        "      <th>survivedmos</th>\n",
        "      <th>alive</th>\n",
        "      <th>HAage</th>\n",
        "      <th>PEffusion</th>\n",
        "      <th>fractional_shortening</th>\n",
        "      <th>epss</th>\n",
        "      <th>lvdd</th>\n",
        "      <th>wmi</th>\n",
        "    </tr>\n",
        "  </thead>\n",
        "  <tbody>\n",
        "    <tr>\n",
        "      <th>count</th>\n",
        "      <td> 131.000000</td>\n",
        "      <td> 131.000000</td>\n",
        "      <td> 131.000000</td>\n",
        "      <td> 131.000000</td>\n",
        "      <td> 131.000000</td>\n",
        "      <td> 131.000000</td>\n",
        "      <td> 131.000000</td>\n",
        "      <td> 131.000000</td>\n",
        "    </tr>\n",
        "    <tr>\n",
        "      <th>mean</th>\n",
        "      <td>  22.265496</td>\n",
        "      <td>   0.328244</td>\n",
        "      <td>  62.645260</td>\n",
        "      <td>   0.183206</td>\n",
        "      <td>   0.219351</td>\n",
        "      <td>  12.454031</td>\n",
        "      <td>   4.748565</td>\n",
        "      <td>   1.385038</td>\n",
        "    </tr>\n",
        "    <tr>\n",
        "      <th>std</th>\n",
        "      <td>  15.825402</td>\n",
        "      <td>   0.471377</td>\n",
        "      <td>   8.348071</td>\n",
        "      <td>   0.388320</td>\n",
        "      <td>   0.113944</td>\n",
        "      <td>   7.451187</td>\n",
        "      <td>   0.816029</td>\n",
        "      <td>   0.457260</td>\n",
        "    </tr>\n",
        "    <tr>\n",
        "      <th>min</th>\n",
        "      <td>   0.030000</td>\n",
        "      <td>   0.000000</td>\n",
        "      <td>  35.000000</td>\n",
        "      <td>   0.000000</td>\n",
        "      <td>   0.010000</td>\n",
        "      <td>   0.000000</td>\n",
        "      <td>   2.320000</td>\n",
        "      <td>   1.000000</td>\n",
        "    </tr>\n",
        "    <tr>\n",
        "      <th>25%</th>\n",
        "      <td>   8.250000</td>\n",
        "      <td>   0.000000</td>\n",
        "      <td>  57.000000</td>\n",
        "      <td>   0.000000</td>\n",
        "      <td>   0.150000</td>\n",
        "      <td>   7.050000</td>\n",
        "      <td>   4.170000</td>\n",
        "      <td>   1.000000</td>\n",
        "    </tr>\n",
        "    <tr>\n",
        "      <th>50%</th>\n",
        "      <td>  24.000000</td>\n",
        "      <td>   0.000000</td>\n",
        "      <td>  62.000000</td>\n",
        "      <td>   0.000000</td>\n",
        "      <td>   0.210000</td>\n",
        "      <td>  11.000000</td>\n",
        "      <td>   4.650000</td>\n",
        "      <td>   1.222000</td>\n",
        "    </tr>\n",
        "    <tr>\n",
        "      <th>75%</th>\n",
        "      <td>  33.000000</td>\n",
        "      <td>   1.000000</td>\n",
        "      <td>  67.500000</td>\n",
        "      <td>   0.000000</td>\n",
        "      <td>   0.276000</td>\n",
        "      <td>  16.250000</td>\n",
        "      <td>   5.305000</td>\n",
        "      <td>   1.535000</td>\n",
        "    </tr>\n",
        "    <tr>\n",
        "      <th>max</th>\n",
        "      <td>  57.000000</td>\n",
        "      <td>   1.000000</td>\n",
        "      <td>  86.000000</td>\n",
        "      <td>   1.000000</td>\n",
        "      <td>   0.610000</td>\n",
        "      <td>  40.000000</td>\n",
        "      <td>   6.780000</td>\n",
        "      <td>   3.000000</td>\n",
        "    </tr>\n",
        "  </tbody>\n",
        "</table>\n",
        "<p>8 rows \u00d7 8 columns</p>\n",
        "</div>"
       ],
       "metadata": {},
       "output_type": "pyout",
       "prompt_number": 33,
       "text": [
        "       survivedmos       alive       HAage   PEffusion  fractional_shortening  \\\n",
        "count   131.000000  131.000000  131.000000  131.000000             131.000000   \n",
        "mean     22.265496    0.328244   62.645260    0.183206               0.219351   \n",
        "std      15.825402    0.471377    8.348071    0.388320               0.113944   \n",
        "min       0.030000    0.000000   35.000000    0.000000               0.010000   \n",
        "25%       8.250000    0.000000   57.000000    0.000000               0.150000   \n",
        "50%      24.000000    0.000000   62.000000    0.000000               0.210000   \n",
        "75%      33.000000    1.000000   67.500000    0.000000               0.276000   \n",
        "max      57.000000    1.000000   86.000000    1.000000               0.610000   \n",
        "\n",
        "             epss        lvdd         wmi  \n",
        "count  131.000000  131.000000  131.000000  \n",
        "mean    12.454031    4.748565    1.385038  \n",
        "std      7.451187    0.816029    0.457260  \n",
        "min      0.000000    2.320000    1.000000  \n",
        "25%      7.050000    4.170000    1.000000  \n",
        "50%     11.000000    4.650000    1.222000  \n",
        "75%     16.250000    5.305000    1.535000  \n",
        "max     40.000000    6.780000    3.000000  \n",
        "\n",
        "[8 rows x 8 columns]"
       ]
      }
     ],
     "prompt_number": 33
    },
    {
     "cell_type": "code",
     "collapsed": false,
     "input": [
      "echofile3.info()\n",
      "#to make sure there are no more null values"
     ],
     "language": "python",
     "metadata": {},
     "outputs": [
      {
       "output_type": "stream",
       "stream": "stdout",
       "text": [
        "<class 'pandas.core.frame.DataFrame'>\n",
        "Int64Index: 131 entries, 1 to 131\n",
        "Data columns (total 8 columns):\n",
        "survivedmos              131 non-null float64\n",
        "alive                    131 non-null int64\n",
        "HAage                    131 non-null float64\n",
        "PEffusion                131 non-null int64\n",
        "fractional_shortening    131 non-null float64\n",
        "epss                     131 non-null float64\n",
        "lvdd                     131 non-null float64\n",
        "wmi                      131 non-null float64\n",
        "dtypes: float64(6), int64(2)"
       ]
      }
     ],
     "prompt_number": 34
    },
    {
     "cell_type": "code",
     "collapsed": false,
     "input": [
      "echofile3 = np.round(echofile3, 3)\n",
      "\n",
      "#to get rid of the long decimals"
     ],
     "language": "python",
     "metadata": {},
     "outputs": [],
     "prompt_number": 35
    },
    {
     "cell_type": "code",
     "collapsed": false,
     "input": [
      "#now the dataframe is something we can work with\n",
      "#Alive -1 is someone who is alive now vs 0 is dead "
     ],
     "language": "python",
     "metadata": {},
     "outputs": [],
     "prompt_number": 36
    },
    {
     "cell_type": "code",
     "collapsed": false,
     "input": [
      "print echofile3.describe().columns\n",
      "#wanted to see of refId was registered as a column or not."
     ],
     "language": "python",
     "metadata": {},
     "outputs": [
      {
       "output_type": "stream",
       "stream": "stdout",
       "text": [
        "Index([u'survivedmos', u'alive', u'HAage', u'PEffusion', u'fractional_shortening', u'epss', u'lvdd', u'wmi'], dtype='object')\n"
       ]
      }
     ],
     "prompt_number": 37
    },
    {
     "cell_type": "markdown",
     "metadata": {},
     "source": [
      "#3. Let's Explore the data, overall"
     ]
    },
    {
     "cell_type": "code",
     "collapsed": false,
     "input": [
      "plt.scatter(echofile3.HAage, echofile.alive)\n",
      "\n",
      "#this shows: some of those who were younger at time of heart attack, are currently dead."
     ],
     "language": "python",
     "metadata": {},
     "outputs": [
      {
       "metadata": {},
       "output_type": "pyout",
       "prompt_number": 38,
       "text": [
        "<matplotlib.collections.PathCollection at 0x1094cb490>"
       ]
      },
      {
       "metadata": {},
       "output_type": "display_data",
       "png": "[encoded data removed]",
       "text": [
        "<matplotlib.figure.Figure at 0x108b92c90>"
       ]
      }
     ],
     "prompt_number": 38
    },
    {
     "cell_type": "code",
     "collapsed": false,
     "input": [
      "plt.scatter(echofile3.survivedmos, echofile3.PEffusion)\n",
      "\n",
      "#this shows: \n",
      "#1. more people did NOT have effusion\n",
      "#2. those that did have effusion, more of them survived for a less amount of time"
     ],
     "language": "python",
     "metadata": {},
     "outputs": [
      {
       "metadata": {},
       "output_type": "pyout",
       "prompt_number": 39,
       "text": [
        "<matplotlib.collections.PathCollection at 0x1094ed250>"
       ]
      },
      {
       "metadata": {},
       "output_type": "display_data",
       "png": "[encoded data removed]",
       "text": [
        "<matplotlib.figure.Figure at 0x1094d5850>"
       ]
      }
     ],
     "prompt_number": 39
    },
    {
     "cell_type": "code",
     "collapsed": false,
     "input": [
      "plt.scatter(echofile3.survivedmos, echofile.alive)\n",
      "\n",
      "#This shows: more people are currently not alive. \n",
      "#Those that did survive and then died, died after 55 mos at max. \n",
      "#most of those that are currently alive in this pool, are recent survivors\n"
     ],
     "language": "python",
     "metadata": {},
     "outputs": [
      {
       "metadata": {},
       "output_type": "pyout",
       "prompt_number": 40,
       "text": [
        "<matplotlib.collections.PathCollection at 0x10952e750>"
       ]
      },
      {
       "metadata": {},
       "output_type": "display_data",
       "png": "[encoded data removed]",
       "text": [
        "<matplotlib.figure.Figure at 0x10942ef50>"
       ]
      }
     ],
     "prompt_number": 40
    },
    {
     "cell_type": "code",
     "collapsed": false,
     "input": [
      "plt.scatter(echofile3.survivedmos, echofile.PEffusion)"
     ],
     "language": "python",
     "metadata": {},
     "outputs": [
      {
       "metadata": {},
       "output_type": "pyout",
       "prompt_number": 41,
       "text": [
        "<matplotlib.collections.PathCollection at 0x109560c90>"
       ]
      },
      {
       "metadata": {},
       "output_type": "display_data",
       "png": "[encoded data removed]",
       "text": [
        "<matplotlib.figure.Figure at 0x10951b110>"
       ]
      }
     ],
     "prompt_number": 41
    },
    {
     "cell_type": "code",
     "collapsed": false,
     "input": [
      "plt.scatter(echofile3.survivedmos, echofile.HAage)"
     ],
     "language": "python",
     "metadata": {},
     "outputs": [
      {
       "metadata": {},
       "output_type": "pyout",
       "prompt_number": 42,
       "text": [
        "<matplotlib.collections.PathCollection at 0x1095931d0>"
       ]
      },
      {
       "metadata": {},
       "output_type": "display_data",
       "png": "[encoded data removed]",
       "text": [
        "<matplotlib.figure.Figure at 0x1094ede90>"
       ]
      }
     ],
     "prompt_number": 42
    },
    {
     "cell_type": "code",
     "collapsed": false,
     "input": [
      "echofile3['HAage'].hist()\n",
      "#Looks like most of the heart attack survivors are 65+"
     ],
     "language": "python",
     "metadata": {},
     "outputs": [
      {
       "metadata": {},
       "output_type": "pyout",
       "prompt_number": 43,
       "text": [
        "<matplotlib.axes.AxesSubplot at 0x109581f90>"
       ]
      },
      {
       "metadata": {},
       "output_type": "display_data",
       "png": "[encoded data removed]",
       "text": [
        "<matplotlib.figure.Figure at 0x10956cf50>"
       ]
      }
     ],
     "prompt_number": 43
    },
    {
     "cell_type": "code",
     "collapsed": false,
     "input": [
      "echofile3.groupby(['alive', 'PEffusion']).count()\n",
      "\n",
      "#This shows that if you did NOT have fluid, you lived.\n",
      "#next time will only use this predictor to see if it gives better results"
     ],
     "language": "python",
     "metadata": {},
     "outputs": [
      {
       "html": [
        "<div style=\"max-height:1000px;max-width:1500px;overflow:auto;\">\n",
        "<table border=\"1\" class=\"dataframe\">\n",
        "  <thead>\n",
        "    <tr style=\"text-align: right;\">\n",
        "      <th></th>\n",
        "      <th></th>\n",
        "      <th>survivedmos</th>\n",
        "      <th>alive</th>\n",
        "      <th>HAage</th>\n",
        "      <th>PEffusion</th>\n",
        "      <th>fractional_shortening</th>\n",
        "      <th>epss</th>\n",
        "      <th>lvdd</th>\n",
        "      <th>wmi</th>\n",
        "    </tr>\n",
        "    <tr>\n",
        "      <th>alive</th>\n",
        "      <th>PEffusion</th>\n",
        "      <th></th>\n",
        "      <th></th>\n",
        "      <th></th>\n",
        "      <th></th>\n",
        "      <th></th>\n",
        "      <th></th>\n",
        "      <th></th>\n",
        "      <th></th>\n",
        "    </tr>\n",
        "  </thead>\n",
        "  <tbody>\n",
        "    <tr>\n",
        "      <th rowspan=\"2\" valign=\"top\">0</th>\n",
        "      <th>0</th>\n",
        "      <td> 76</td>\n",
        "      <td> 76</td>\n",
        "      <td> 76</td>\n",
        "      <td> 76</td>\n",
        "      <td> 76</td>\n",
        "      <td> 76</td>\n",
        "      <td> 76</td>\n",
        "      <td> 76</td>\n",
        "    </tr>\n",
        "    <tr>\n",
        "      <th>1</th>\n",
        "      <td> 12</td>\n",
        "      <td> 12</td>\n",
        "      <td> 12</td>\n",
        "      <td> 12</td>\n",
        "      <td> 12</td>\n",
        "      <td> 12</td>\n",
        "      <td> 12</td>\n",
        "      <td> 12</td>\n",
        "    </tr>\n",
        "    <tr>\n",
        "      <th rowspan=\"2\" valign=\"top\">1</th>\n",
        "      <th>0</th>\n",
        "      <td> 31</td>\n",
        "      <td> 31</td>\n",
        "      <td> 31</td>\n",
        "      <td> 31</td>\n",
        "      <td> 31</td>\n",
        "      <td> 31</td>\n",
        "      <td> 31</td>\n",
        "      <td> 31</td>\n",
        "    </tr>\n",
        "    <tr>\n",
        "      <th>1</th>\n",
        "      <td> 12</td>\n",
        "      <td> 12</td>\n",
        "      <td> 12</td>\n",
        "      <td> 12</td>\n",
        "      <td> 12</td>\n",
        "      <td> 12</td>\n",
        "      <td> 12</td>\n",
        "      <td> 12</td>\n",
        "    </tr>\n",
        "  </tbody>\n",
        "</table>\n",
        "<p>4 rows \u00d7 8 columns</p>\n",
        "</div>"
       ],
       "metadata": {},
       "output_type": "pyout",
       "prompt_number": 44,
       "text": [
        "                 survivedmos  alive  HAage  PEffusion  fractional_shortening  \\\n",
        "alive PEffusion                                                                \n",
        "0     0                   76     76     76         76                     76   \n",
        "      1                   12     12     12         12                     12   \n",
        "1     0                   31     31     31         31                     31   \n",
        "      1                   12     12     12         12                     12   \n",
        "\n",
        "                 epss  lvdd  wmi  \n",
        "alive PEffusion                   \n",
        "0     0            76    76   76  \n",
        "      1            12    12   12  \n",
        "1     0            31    31   31  \n",
        "      1            12    12   12  \n",
        "\n",
        "[4 rows x 8 columns]"
       ]
      }
     ],
     "prompt_number": 44
    },
    {
     "cell_type": "code",
     "collapsed": false,
     "input": [],
     "language": "python",
     "metadata": {},
     "outputs": [],
     "prompt_number": 44
    },
    {
     "cell_type": "markdown",
     "metadata": {},
     "source": [
      "#4. Create Classifiers\n",
      "\n",
      "##Classifier Setup"
     ]
    },
    {
     "cell_type": "code",
     "collapsed": false,
     "input": [
      "from sklearn.naive_bayes import GaussianNB, BernoulliNB\n",
      "from sklearn.tree import DecisionTreeClassifier\n",
      "from sklearn.neighbors import KNeighborsClassifier\n",
      "from sklearn.linear_model import LogisticRegression\n",
      "\n",
      "from sklearn.cross_validation import train_test_split"
     ],
     "language": "python",
     "metadata": {},
     "outputs": [],
     "prompt_number": 45
    },
    {
     "cell_type": "code",
     "collapsed": false,
     "input": [
      "features = list(echofile3.describe().columns)\n",
      "features.remove('alive') #getting rid of the one we want to match to\n",
      "#features.remove('wmi', 'wms', 'epss')\n",
      "features"
     ],
     "language": "python",
     "metadata": {},
     "outputs": [
      {
       "metadata": {},
       "output_type": "pyout",
       "prompt_number": 46,
       "text": [
        "['survivedmos',\n",
        " 'HAage',\n",
        " 'PEffusion',\n",
        " 'fractional_shortening',\n",
        " 'epss',\n",
        " 'lvdd',\n",
        " 'wmi']"
       ]
      }
     ],
     "prompt_number": 46
    },
    {
     "cell_type": "code",
     "collapsed": false,
     "input": [
      "X = echofile3[features].values\n",
      "Y = echofile3.alive.values"
     ],
     "language": "python",
     "metadata": {},
     "outputs": [],
     "prompt_number": 47
    },
    {
     "cell_type": "code",
     "collapsed": false,
     "input": [
      "features\n",
      "\n",
      "#why is RefId gone?"
     ],
     "language": "python",
     "metadata": {},
     "outputs": [
      {
       "metadata": {},
       "output_type": "pyout",
       "prompt_number": 48,
       "text": [
        "['survivedmos',\n",
        " 'HAage',\n",
        " 'PEffusion',\n",
        " 'fractional_shortening',\n",
        " 'epss',\n",
        " 'lvdd',\n",
        " 'wmi']"
       ]
      }
     ],
     "prompt_number": 48
    },
    {
     "cell_type": "code",
     "collapsed": false,
     "input": [],
     "language": "python",
     "metadata": {},
     "outputs": [],
     "prompt_number": 48
    },
    {
     "cell_type": "markdown",
     "metadata": {},
     "source": [
      "##Now lets make the classifiers"
     ]
    },
    {
     "cell_type": "markdown",
     "metadata": {},
     "source": [
      "####Test size: 25%"
     ]
    },
    {
     "cell_type": "code",
     "collapsed": false,
     "input": [
      "X_train, X_test, Y_train, Y_test = train_test_split(X,Y,test_size=0.25)\n",
      "\n",
      "gnb = GaussianNB()\n",
      "bnb = BernoulliNB()\n",
      "lr = LogisticRegression()\n",
      "dt = DecisionTreeClassifier(criterion='entropy', max_depth=3, min_samples_leaf=5)\n",
      "knn = KNeighborsClassifier()\n",
      "\n",
      "#1. Train your classifier on the Training data set\n",
      "gnb.fit(X_train, Y_train)\n",
      "bnb.fit(X_train, Y_train)\n",
      "lr.fit(X_train, Y_train)\n",
      "dt.fit(X_train, Y_train)\n",
      "knn.fit(X_train, Y_train)\n",
      "\n",
      "#2. Score the classifier using the test data set\n",
      "gnb_score = gnb.score(X_test, Y_test)\n",
      "bnb_score = bnb.score(X_test, Y_test)\n",
      "lr_score = lr.score(X_test, Y_test)\n",
      "dt_score = dt.score(X_test, Y_test)\n",
      "knn_score = knn.score(X_test, Y_test)\n",
      "#clf (classification) = gnb, bnb, lr\n",
      "\n",
      "#3. Print the scores\n",
      "print \"Gaussian: %0.2f%%\" %(gnb_score * 100.0)\n",
      "print \"Bernoulli: %0.2f%%\" %(bnb_score * 100.0)\n",
      "print \"Linear Regression: %0.2f%%\" %(lr_score * 100.0)\n",
      "print \"Decision Tree: %0.2f%%\" %(dt_score * 100.0)\n",
      "print \"KNN: %0.2f%%\" %(gnb_score * 100.0)\n",
      "# the '%0.2f%%' is telling it to give me only 2 decimal points in the form of 0.01"
     ],
     "language": "python",
     "metadata": {},
     "outputs": [
      {
       "output_type": "stream",
       "stream": "stdout",
       "text": [
        "Gaussian: 93.94%\n",
        "Bernoulli: 66.67%\n",
        "Linear Regression: 87.88%\n",
        "Decision Tree: 93.94%\n",
        "KNN: 93.94%\n"
       ]
      }
     ],
     "prompt_number": 49
    },
    {
     "cell_type": "raw",
     "metadata": {},
     "source": [
      "A:\n",
      "Gaussian: 75.76%\n",
      "Bernoulli: 57.58%\n",
      "Linear Regression: 78.79%\n",
      "Decision Tree: 90.91%\n",
      "KNN: 75.76%\n",
      "\n",
      "B:\n",
      "\n",
      "Gaussian: 81.82%\n",
      "Bernoulli: 66.67%\n",
      "Linear Regression: 87.88%\n",
      "Decision Tree: 87.88%\n",
      "KNN: 81.82%\n",
      "\n",
      "C:\n",
      "Gaussian: 90.91%\n",
      "Bernoulli: 72.73%\n",
      "Linear Regression: 87.88%\n",
      "Decision Tree: 93.94%\n",
      "KNN: 90.91%"
     ]
    },
    {
     "cell_type": "markdown",
     "metadata": {},
     "source": [
      "####Test size: 30%"
     ]
    },
    {
     "cell_type": "code",
     "collapsed": false,
     "input": [
      "X_train, X_test, Y_train, Y_test = train_test_split(X,Y,test_size=0.3)\n",
      "\n",
      "gnb = GaussianNB()\n",
      "bnb = BernoulliNB()\n",
      "lr = LogisticRegression()\n",
      "dt = DecisionTreeClassifier(criterion='entropy', max_depth=3, min_samples_leaf=5)\n",
      "knn = KNeighborsClassifier()\n",
      "\n",
      "#1. Train your classifier on the Training data set\n",
      "gnb.fit(X_train, Y_train)\n",
      "bnb.fit(X_train, Y_train)\n",
      "lr.fit(X_train, Y_train)\n",
      "dt.fit(X_train, Y_train)\n",
      "knn.fit(X_train, Y_train)\n",
      "\n",
      "#2. Score the classifier using the test data set\n",
      "gnb_score = gnb.score(X_test, Y_test)\n",
      "bnb_score = bnb.score(X_test, Y_test)\n",
      "lr_score = lr.score(X_test, Y_test)\n",
      "dt_score = dt.score(X_test, Y_test)\n",
      "knn_score = knn.score(X_test, Y_test)\n",
      "#clf (classification) = gnb, bnb, lr\n",
      "\n",
      "#3. Print the scores\n",
      "print \"Gaussian: %0.2f%%\" %(gnb_score * 100.0)\n",
      "print \"Bernoulli: %0.2f%%\" %(bnb_score * 100.0)\n",
      "print \"Linear Regression: %0.2f%%\" %(lr_score * 100.0)\n",
      "print \"Decision Tree: %0.2f%%\" %(dt_score * 100.0)\n",
      "print \"KNN: %0.2f%%\" %(gnb_score * 100.0)\n",
      "# the '%0.2f%%' is telling it to give me only 2 decimal points in the form of 0.01"
     ],
     "language": "python",
     "metadata": {},
     "outputs": [
      {
       "output_type": "stream",
       "stream": "stdout",
       "text": [
        "Gaussian: 85.00%\n",
        "Bernoulli: 67.50%\n",
        "Linear Regression: 85.00%\n",
        "Decision Tree: 82.50%\n",
        "KNN: 85.00%\n"
       ]
      }
     ],
     "prompt_number": 50
    },
    {
     "cell_type": "raw",
     "metadata": {},
     "source": [
      "A:\n",
      "Gaussian: 82.50%\n",
      "Bernoulli: 70.00%\n",
      "Linear Regression: 82.50%\n",
      "Decision Tree: 95.00%\n",
      "KNN: 82.50%\n",
      "\n",
      "B:\n",
      "Gaussian: 87.50%\n",
      "Bernoulli: 72.50%\n",
      "Linear Regression: 92.50%\n",
      "Decision Tree: 92.50%\n",
      "KNN: 87.50%\n",
      "\n",
      "C:\n",
      "Gaussian: 90.00%\n",
      "Bernoulli: 60.00%\n",
      "Linear Regression: 82.50%\n",
      "Decision Tree: 90.00%\n",
      "KNN: 90.00%\n",
      "\n",
      "Clearly, these are not that stable??! "
     ]
    },
    {
     "cell_type": "markdown",
     "metadata": {},
     "source": [
      "####Test size: 45%"
     ]
    },
    {
     "cell_type": "code",
     "collapsed": false,
     "input": [
      "X_train, X_test, Y_train, Y_test = train_test_split(X,Y,test_size=0.45)\n",
      "\n",
      "gnb = GaussianNB()\n",
      "bnb = BernoulliNB()\n",
      "lr = LogisticRegression()\n",
      "dt = DecisionTreeClassifier(criterion='entropy', max_depth=3, min_samples_leaf=5)\n",
      "knn = KNeighborsClassifier()\n",
      "\n",
      "#1. Train your classifier on the Training data set\n",
      "gnb.fit(X_train, Y_train)\n",
      "bnb.fit(X_train, Y_train)\n",
      "lr.fit(X_train, Y_train)\n",
      "dt.fit(X_train, Y_train)\n",
      "knn.fit(X_train, Y_train)\n",
      "\n",
      "#2. Score the classifier using the test data set\n",
      "gnb_score = gnb.score(X_test, Y_test)\n",
      "bnb_score = bnb.score(X_test, Y_test)\n",
      "lr_score = lr.score(X_test, Y_test)\n",
      "dt_score = dt.score(X_test, Y_test)\n",
      "knn_score = knn.score(X_test, Y_test)\n",
      "#clf (classification) = gnb, bnb, lr\n",
      "\n",
      "#3. Print the scores\n",
      "print \"Gaussian: %0.2f%%\" %(gnb_score * 100.0)\n",
      "print \"Bernoulli: %0.2f%%\" %(bnb_score * 100.0)\n",
      "print \"Linear Regression: %0.2f%%\" %(lr_score * 100.0)\n",
      "print \"Decision Tree: %0.2f%%\" %(dt_score * 100.0)\n",
      "print \"KNN: %0.2f%%\" %(gnb_score * 100.0)\n",
      "# the '%0.2f%%' is telling it to give me only 2 decimal points in the form of 0.01"
     ],
     "language": "python",
     "metadata": {},
     "outputs": [
      {
       "output_type": "stream",
       "stream": "stdout",
       "text": [
        "Gaussian: 86.44%\n",
        "Bernoulli: 64.41%\n",
        "Linear Regression: 83.05%\n",
        "Decision Tree: 96.61%\n",
        "KNN: 86.44%\n"
       ]
      }
     ],
     "prompt_number": 51
    },
    {
     "cell_type": "raw",
     "metadata": {},
     "source": [
      "A: \n",
      "Gaussian: 81.36%\n",
      "Bernoulli: 64.41%\n",
      "Linear Regression: 84.75%\n",
      "Decision Tree: 89.83%\n",
      "KNN: 81.36%\n",
      "\n",
      "B:\n",
      "Gaussian: 84.75%\n",
      "Bernoulli: 67.80%\n",
      "Linear Regression: 83.05%\n",
      "Decision Tree: 91.53%\n",
      "KNN: 84.75%\n",
      "\n",
      "C:\n",
      "Gaussian: 86.44%\n",
      "Bernoulli: 64.41%\n",
      "Linear Regression: 88.14%\n",
      "Decision Tree: 93.22%\n",
      "KNN: 86.44%"
     ]
    },
    {
     "cell_type": "markdown",
     "metadata": {},
     "source": [
      "####Let's go forward with the 25% Test Size Classifiers because they gave the more consistent outcomes.\n"
     ]
    },
    {
     "cell_type": "code",
     "collapsed": false,
     "input": [
      "X_train, X_test, Y_train, Y_test = train_test_split(X,Y,test_size=0.25)\n",
      "\n",
      "gnb = GaussianNB()\n",
      "bnb = BernoulliNB()\n",
      "lr = LogisticRegression()\n",
      "dt = DecisionTreeClassifier(criterion='entropy', max_depth=3, min_samples_leaf=5)\n",
      "knn = KNeighborsClassifier()\n",
      "\n",
      "#1. Train your classifier on the Training data set\n",
      "gnb.fit(X_train, Y_train)\n",
      "bnb.fit(X_train, Y_train)\n",
      "lr.fit(X_train, Y_train)\n",
      "dt.fit(X_train, Y_train)\n",
      "knn.fit(X_train, Y_train)\n",
      "\n",
      "\n",
      "#2. Score the classifier using the test data set\n",
      "gnb_train_score = gnb.score(X_train, Y_train)\n",
      "bnb_train_score = bnb.score(X_train, Y_train)\n",
      "lr_train_score = lr.score(X_train, Y_train)\n",
      "dt_train_score = dt.score(X_train, Y_train)\n",
      "knn_train_score = knn.score(X_train, Y_train)\n",
      "#clf (classification) = gnb, bnb, lr\n",
      "\n",
      "#3. Print the scores\n",
      "print \"Training with Gaussian: %0.2f%%\" %(gnb_train_score * 100.0)\n",
      "print \"Training with Bernoulli: %0.2f%%\" %(bnb_train_score * 100.0)\n",
      "print \"Training with Linear Regression: %0.2f%%\" %(lr_train_score * 100.0)\n",
      "print \"Training with Decision Tree: %0.2f%%\" %(dt_train_score * 100.0)\n",
      "print \"Training with KNN: %0.2f%%\" %(knn_train_score * 100.0)\n",
      "\n",
      "\n",
      "print \"---\"*20\n",
      "\n",
      "\n",
      "#4. Score the classifier using the test data set\n",
      "gnb_test_score = gnb.score(X_test, Y_test)\n",
      "bnb_test_score = bnb.score(X_test, Y_test)\n",
      "lr_test_score = lr.score(X_test, Y_test)\n",
      "dt_test_score = dt.score(X_test, Y_test)\n",
      "knn_test_score = knn.score(X_test, Y_test)\n",
      "#clf (classification) = gnb, bnb, lr\n",
      "\n",
      "#5. Print the scores\n",
      "print \"Testing with Gaussian: %0.2f%%\" %(gnb_test_score * 100.0)\n",
      "print \"Testing with Bernoulli: %0.2f%%\" %(bnb_test_score * 100.0)\n",
      "print \"Testing with Linear Regression: %0.2f%%\" %(lr_test_score * 100.0)\n",
      "print \"Testing with Decision Tree: %0.2f%%\" %(dt_test_score * 100.0)\n",
      "print \"Testing with KNN: %0.2f%%\" %(knn_test_score * 100.0)\n",
      "# the '%0.2f%%' is telling it to give me only 2 decimal points in the form of 0.01"
     ],
     "language": "python",
     "metadata": {},
     "outputs": [
      {
       "output_type": "stream",
       "stream": "stdout",
       "text": [
        "Training with Gaussian: 85.71%\n",
        "Training with Bernoulli: 68.37%\n",
        "Training with Linear Regression: 87.76%\n",
        "Training with Decision Tree: 92.86%\n",
        "Training with KNN: 90.82%\n",
        "------------------------------------------------------------\n",
        "Testing with Gaussian: 75.76%\n",
        "Testing with Bernoulli: 66.67%\n",
        "Testing with Linear Regression: 81.82%\n",
        "Testing with Decision Tree: 90.91%\n",
        "Testing with KNN: 84.85%\n"
       ]
      }
     ],
     "prompt_number": 52
    },
    {
     "cell_type": "code",
     "collapsed": false,
     "input": [
      "Y_gnb_pred = gnb.predict(X_test)\n",
      "Y_bnb_pred = bnb.predict(X_test)\n",
      "Y_lr_pred = lr.predict(X_test)\n",
      "Y_dt_pred = dt.predict(X_test)\n",
      "Y_knn_pred = knn.predict(X_test)"
     ],
     "language": "python",
     "metadata": {},
     "outputs": [],
     "prompt_number": 53
    },
    {
     "cell_type": "markdown",
     "metadata": {},
     "source": [
      "#Conclusion\n",
      "* Looks like the classifiers that did the best are: Linear Regression, Gaussian and KNN. \n",
      "* I would like to redo this by only doing specific features.\n",
      "* I wonder how much affect happened when I replaced the NaN values. \n"
     ]
    },
    {
     "cell_type": "markdown",
     "metadata": {},
     "source": [
      "#5. Submission in to .csv"
     ]
    },
    {
     "cell_type": "code",
     "collapsed": false,
     "input": [
      "len(Y_test)\n",
      "n = len(Y_test)\n",
      "data_RefId = [i+1 for i in xrange(n)]\n",
      "\n",
      "#because there's no refID, need to create it for the submission sets"
     ],
     "language": "python",
     "metadata": {},
     "outputs": [],
     "prompt_number": 432
    },
    {
     "cell_type": "code",
     "collapsed": false,
     "input": [],
     "language": "python",
     "metadata": {},
     "outputs": [],
     "prompt_number": 432
    },
    {
     "cell_type": "code",
     "collapsed": false,
     "input": [
      "submissiongnb = pd.DataFrame({ 'RefId': data_RefId, 'GNB prediction' : Y_gnb_pred})\n",
      "submissiongnb.to_csv('submission_gnb.csv')\n",
      "\n",
      "submissionbnb = pd.DataFrame({ 'RefId': data_RefId, 'BNB prediction' : Y_bnb_pred})\n",
      "submissionbnb.to_csv('submission_bnb.csv')\n",
      "\n",
      "submissionlr = pd.DataFrame({ 'RefId': data_RefId, 'LR prediction' : Y_lr_pred})\n",
      "submissionlr.to_csv('submission_lr.csv')\n",
      "\n",
      "submissiondt = pd.DataFrame({ 'RefId': data_RefId, 'DT prediction' : Y_dt_pred})\n",
      "submissiondt.to_csv('submission_dt.csv')\n",
      "\n",
      "submissionknn = pd.DataFrame({ 'RefId': data_RefId, 'KNN prediction' : Y_knn_pred})\n",
      "submissionknn.to_csv('submission_knn.csv')\n",
      "\n",
      "submissionall = pd.DataFrame({ 'RefId': data_RefId, 'GNB prediction' : Y_gnb_pred, 'BNB prediction' : Y_bnb_pred, 'LR prediction' : Y_lr_pred, 'DT prediction' : Y_dt_pred, 'KNN prediction' : Y_knn_pred})\n",
      "submissionall.to_csv('submission_all.csv')"
     ],
     "language": "python",
     "metadata": {},
     "outputs": [],
     "prompt_number": 433
    },
    {
     "cell_type": "markdown",
     "metadata": {},
     "source": [
      "### This point downward- experimenting. Feel free to ignore for now."
     ]
    },
    {
     "cell_type": "code",
     "collapsed": false,
     "input": [
      "from sklearn.cross_validation import cross_val_score\n",
      "from sklearn import metrics\n",
      "from scipy.stats import sem\n"
     ],
     "language": "python",
     "metadata": {},
     "outputs": [],
     "prompt_number": 450
    },
    {
     "cell_type": "code",
     "collapsed": false,
     "input": [
      "predictions = [p[1] for p in dt.predict_proba(X_train)]\n",
      "fpr_p, tpr_p, thresholds_p = metrics.roc_curve(Y_train,predictions)\n",
      "\n",
      "fig = plt.figure()\n",
      "fig.set_figwidth(10)\n",
      "fig.suptitle('AUC for Decision Tree Classifier Predicting Heart Attack Survivors')\n",
      "\n",
      "ax1 = plt.subplot(1, 2, 1)\n",
      "ax1.set_xlabel('false positive rate')\n",
      "ax1.set_ylabel('true positive rate')\n",
      "ax1.plot(fpr_p, tpr_p)\n",
      "\n",
      "fpr, tpr, thresholds = metrics.roc_curve(Y_train,dt.predict(X_train))\n",
      "ax2 = plt.subplot(1, 2, 2)\n",
      "ax2.set_xlabel('false positive rate')\n",
      "ax2.set_ylabel('true positive rate')\n",
      "ax2.plot(fpr, tpr)\n",
      "\n",
      "\n",
      "print \"False-positive rate:\", fpr\n",
      "print \"True-positive rate: \", tpr\n",
      "print \"Thresholds:         \", thresholds\n",
      "\n",
      "print fig"
     ],
     "language": "python",
     "metadata": {},
     "outputs": [
      {
       "output_type": "stream",
       "stream": "stdout",
       "text": [
        "False-positive rate: [ 0.          0.07352941  1.        ]\n",
        "True-positive rate:  [ 0.          0.93333333  1.        ]\n",
        "Thresholds:          [ 2.  1.  0.]\n",
        "Figure(800x320)\n"
       ]
      },
      {
       "metadata": {},
       "output_type": "display_data",
       "png": "[encoded data removed]",
       "text": [
        "<matplotlib.figure.Figure at 0x10c91a3d0>"
       ]
      }
     ],
     "prompt_number": 451
    },
    {
     "cell_type": "code",
     "collapsed": false,
     "input": [],
     "language": "python",
     "metadata": {},
     "outputs": [],
     "prompt_number": 433
    },
    {
     "cell_type": "code",
     "collapsed": false,
     "input": [
      "#Just to see"
     ],
     "language": "python",
     "metadata": {},
     "outputs": [],
     "prompt_number": 433
    },
    {
     "cell_type": "code",
     "collapsed": false,
     "input": [
      "from sklearn.ensemble import RandomForestClassifier\n",
      "X_train, X_test, Y_train, Y_test = train_test_split(X,Y,test_size=0.25)\n",
      "\n",
      "randfor = RandomForestClassifier(n_estimators=10,random_state=33)\n",
      "randfor = randfor.fit(X_train,Y_train)\n",
      "randfor_score = randfor.score(X_test, Y_test)\n",
      "\n",
      "print \"Random Forrest Decision Tree: %0.2f%%\" %(dt_score * 100.0)\n",
      "\n",
      "\n"
     ],
     "language": "python",
     "metadata": {},
     "outputs": [
      {
       "output_type": "stream",
       "stream": "stdout",
       "text": [
        "Random Forrest Decision Tree: 91.53%\n"
       ]
      }
     ],
     "prompt_number": 449
    },
    {
     "cell_type": "code",
     "collapsed": false,
     "input": [],
     "language": "python",
     "metadata": {},
     "outputs": [],
     "prompt_number": 433
    },
    {
     "cell_type": "code",
     "collapsed": false,
     "input": [],
     "language": "python",
     "metadata": {},
     "outputs": [],
     "prompt_number": 433
    },
    {
     "cell_type": "code",
     "collapsed": false,
     "input": [
      "\n"
     ],
     "language": "python",
     "metadata": {},
     "outputs": [],
     "prompt_number": 433
    },
    {
     "cell_type": "code",
     "collapsed": false,
     "input": [],
     "language": "python",
     "metadata": {},
     "outputs": [],
     "prompt_number": 433
    }
   ],
   "metadata": {}
  }
 ]
}