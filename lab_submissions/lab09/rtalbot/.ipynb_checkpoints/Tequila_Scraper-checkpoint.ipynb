{
 "metadata": {
  "name": ""
 },
 "nbformat": 3,
 "nbformat_minor": 0,
 "worksheets": [
  {
   "cells": [
    {
     "cell_type": "code",
     "collapsed": false,
     "input": [
      "%pylab inline"
     ],
     "language": "python",
     "metadata": {},
     "outputs": [
      {
       "output_type": "stream",
       "stream": "stdout",
       "text": [
        "Populating the interactive namespace from numpy and matplotlib\n"
       ]
      }
     ],
     "prompt_number": 17
    },
    {
     "cell_type": "code",
     "collapsed": false,
     "input": [
      "import re\n",
      "import urllib2\n",
      "import numpy as np\n",
      "import pandas as pd\n",
      "from bs4 import BeautifulSoup\n",
      "import json\n",
      "import matplotlib.pyplot as plt"
     ],
     "language": "python",
     "metadata": {},
     "outputs": [],
     "prompt_number": 18
    },
    {
     "cell_type": "markdown",
     "metadata": {},
     "source": [
      "##Try collecting data using beautiful soup"
     ]
    },
    {
     "cell_type": "code",
     "collapsed": false,
     "input": [
      "tequila_url='http://www.tequila.net/nom-database.html'"
     ],
     "language": "python",
     "metadata": {},
     "outputs": [],
     "prompt_number": 14
    },
    {
     "cell_type": "code",
     "collapsed": false,
     "input": [
      "#soup = BeautifulSoup(urllib2.urlopen(tequila_url).read())\n",
      "#soup = BeautifulSoup(urllib2.urlopen('http://tequila.findthebest.com').read())\n"
     ],
     "language": "python",
     "metadata": {},
     "outputs": []
    },
    {
     "cell_type": "code",
     "collapsed": false,
     "input": [
      "#tequila_soup = BeautifulSoup(urllib2.urlopen('http://tequila.findthebest.com/l/628/Gran-Patron-Burdeos-Tequila').read())\n"
     ],
     "language": "python",
     "metadata": {},
     "outputs": [],
     "prompt_number": 10
    },
    {
     "cell_type": "code",
     "collapsed": false,
     "input": [
      "#brand = soup.find_all(\"div\", \"x-grid3-cell-inner x-grid3-col-0\")\n",
      "#distillery = soup.find_all(\"div\", \"x-grid3-cell-inner x-grid3-col-1\")\n",
      "#nom = soup.find_all(\"div\", \"x-grid3-cell-inner x-grid3-col-2\")\n"
     ],
     "language": "python",
     "metadata": {},
     "outputs": []
    },
    {
     "cell_type": "code",
     "collapsed": false,
     "input": [
      "#tequilla=json.load(urllib.urlopen(\"http://www.kimonolabs.com/api/e1f55b54?apikey=4a5c21fce3b528861fd2e31c05adb5c9\"))\n"
     ],
     "language": "python",
     "metadata": {},
     "outputs": [],
     "prompt_number": 17
    },
    {
     "cell_type": "code",
     "collapsed": false,
     "input": [
      "#tequilla_df=pd.read_json((urllib2.urlopen(\"http://www.kimonolabs.com/api/e1f55b54?apikey=4a5c21fce3b528861fd2e31c05adb5c9\")))\n",
      "#tequilla_df.head()"
     ],
     "language": "python",
     "metadata": {},
     "outputs": [],
     "prompt_number": 11
    },
    {
     "cell_type": "markdown",
     "metadata": {},
     "source": [
      "## Used Kimono instead to generate a csv"
     ]
    },
    {
     "cell_type": "code",
     "collapsed": false,
     "input": [
      "tequila=pd.read_csv('data/tequillaData.csv')\n",
      "tequila.head()"
     ],
     "language": "python",
     "metadata": {},
     "outputs": [
      {
       "html": [
        "<div style=\"max-height:1000px;max-width:1500px;overflow:auto;\">\n",
        "<table border=\"1\" class=\"dataframe\">\n",
        "  <thead>\n",
        "    <tr style=\"text-align: right;\">\n",
        "      <th></th>\n",
        "      <th>Brand</th>\n",
        "      <th>BrandLink</th>\n",
        "      <th>NOM</th>\n",
        "      <th>NOMLink</th>\n",
        "      <th>User Rating</th>\n",
        "      <th>Tag</th>\n",
        "    </tr>\n",
        "  </thead>\n",
        "  <tbody>\n",
        "    <tr>\n",
        "      <th>0</th>\n",
        "      <td>           1519 Tequila Anejo</td>\n",
        "      <td> http://www.tequila.net/tequila-reviews/anejos/...</td>\n",
        "      <td> 1541</td>\n",
        "      <td> http://www.tequila.net/advanced-tequila-search...</td>\n",
        "      <td> 87 (1)</td>\n",
        "      <td> Hot</td>\n",
        "    </tr>\n",
        "    <tr>\n",
        "      <th>1</th>\n",
        "      <td>          1519 Tequila Blanco</td>\n",
        "      <td> http://www.tequila.net/tequila-reviews/blancos...</td>\n",
        "      <td> 1541</td>\n",
        "      <td> http://www.tequila.net/advanced-tequila-search...</td>\n",
        "      <td> 85 (1)</td>\n",
        "      <td> Hot</td>\n",
        "    </tr>\n",
        "    <tr>\n",
        "      <th>2</th>\n",
        "      <td>        1519 Tequila Reposado</td>\n",
        "      <td> http://www.tequila.net/tequila-reviews/reposad...</td>\n",
        "      <td> 1541</td>\n",
        "      <td> http://www.tequila.net/advanced-tequila-search...</td>\n",
        "      <td> 85 (1)</td>\n",
        "      <td> Hot</td>\n",
        "    </tr>\n",
        "    <tr>\n",
        "      <th>3</th>\n",
        "      <td> 1800 Coleccion Tequila Anejo</td>\n",
        "      <td> http://www.tequila.net/tequila-reviews/extra-a...</td>\n",
        "      <td> 1104</td>\n",
        "      <td> http://www.tequila.net/advanced-tequila-search...</td>\n",
        "      <td>  0 (0)</td>\n",
        "      <td> Hot</td>\n",
        "    </tr>\n",
        "    <tr>\n",
        "      <th>4</th>\n",
        "      <td>   1800 Select Silver Tequila</td>\n",
        "      <td> http://www.tequila.net/tequila-reviews/blancos...</td>\n",
        "      <td> 1122</td>\n",
        "      <td> http://www.tequila.net/advanced-tequila-search...</td>\n",
        "      <td> 78 (3)</td>\n",
        "      <td> Hot</td>\n",
        "    </tr>\n",
        "  </tbody>\n",
        "</table>\n",
        "<p>5 rows \u00d7 6 columns</p>\n",
        "</div>"
       ],
       "metadata": {},
       "output_type": "pyout",
       "prompt_number": 12,
       "text": [
        "                          Brand  \\\n",
        "0            1519 Tequila Anejo   \n",
        "1           1519 Tequila Blanco   \n",
        "2         1519 Tequila Reposado   \n",
        "3  1800 Coleccion Tequila Anejo   \n",
        "4    1800 Select Silver Tequila   \n",
        "\n",
        "                                           BrandLink   NOM  \\\n",
        "0  http://www.tequila.net/tequila-reviews/anejos/...  1541   \n",
        "1  http://www.tequila.net/tequila-reviews/blancos...  1541   \n",
        "2  http://www.tequila.net/tequila-reviews/reposad...  1541   \n",
        "3  http://www.tequila.net/tequila-reviews/extra-a...  1104   \n",
        "4  http://www.tequila.net/tequila-reviews/blancos...  1122   \n",
        "\n",
        "                                             NOMLink User Rating  Tag  \n",
        "0  http://www.tequila.net/advanced-tequila-search...      87 (1)  Hot  \n",
        "1  http://www.tequila.net/advanced-tequila-search...      85 (1)  Hot  \n",
        "2  http://www.tequila.net/advanced-tequila-search...      85 (1)  Hot  \n",
        "3  http://www.tequila.net/advanced-tequila-search...       0 (0)  Hot  \n",
        "4  http://www.tequila.net/advanced-tequila-search...      78 (3)  Hot  \n",
        "\n",
        "[5 rows x 6 columns]"
       ]
      }
     ],
     "prompt_number": 12
    },
    {
     "cell_type": "markdown",
     "metadata": {},
     "source": [
      "NOM - Official Mexican Standard for Tequila (The NOM is a unique, government regulated distillery number)"
     ]
    },
    {
     "cell_type": "code",
     "collapsed": false,
     "input": [
      "tequila.columns.values.tolist()"
     ],
     "language": "python",
     "metadata": {},
     "outputs": [
      {
       "metadata": {},
       "output_type": "pyout",
       "prompt_number": 13,
       "text": [
        "['Brand', 'BrandLink', 'NOM', 'NOMLink', 'User Rating', 'Tag']"
       ]
      }
     ],
     "prompt_number": 13
    },
    {
     "cell_type": "code",
     "collapsed": false,
     "input": [
      "tequila_distillery=pd.read_csv('data/tequillaDistilleries.csv')\n",
      "tequila_distillery.head()"
     ],
     "language": "python",
     "metadata": {},
     "outputs": [
      {
       "html": [
        "<div style=\"max-height:1000px;max-width:1500px;overflow:auto;\">\n",
        "<table border=\"1\" class=\"dataframe\">\n",
        "  <thead>\n",
        "    <tr style=\"text-align: right;\">\n",
        "      <th></th>\n",
        "      <th>Distillery</th>\n",
        "      <th>DistilleryLink</th>\n",
        "    </tr>\n",
        "  </thead>\n",
        "  <tbody>\n",
        "    <tr>\n",
        "      <th>0</th>\n",
        "      <td>        Destileria Eugenesis, S.A. de C.V.</td>\n",
        "      <td> http://www.tequila.net/advanced-tequila-search...</td>\n",
        "    </tr>\n",
        "    <tr>\n",
        "      <th>1</th>\n",
        "      <td>        Destileria Eugenesis, S.A. de C.V.</td>\n",
        "      <td> http://www.tequila.net/advanced-tequila-search...</td>\n",
        "    </tr>\n",
        "    <tr>\n",
        "      <th>2</th>\n",
        "      <td>        Destileria Eugenesis, S.A. de C.V.</td>\n",
        "      <td> http://www.tequila.net/advanced-tequila-search...</td>\n",
        "    </tr>\n",
        "    <tr>\n",
        "      <th>3</th>\n",
        "      <td> Tequila Cuervo La Roje\\'f1a, S.A. DE C.V.</td>\n",
        "      <td> http://www.tequila.net/advanced-tequila-search...</td>\n",
        "    </tr>\n",
        "    <tr>\n",
        "      <th>4</th>\n",
        "      <td>                 Casa Cuervo, S.A. de C.V.</td>\n",
        "      <td> http://www.tequila.net/advanced-tequila-search...</td>\n",
        "    </tr>\n",
        "  </tbody>\n",
        "</table>\n",
        "<p>5 rows \u00d7 2 columns</p>\n",
        "</div>"
       ],
       "metadata": {},
       "output_type": "pyout",
       "prompt_number": 14,
       "text": [
        "                                  Distillery  \\\n",
        "0         Destileria Eugenesis, S.A. de C.V.   \n",
        "1         Destileria Eugenesis, S.A. de C.V.   \n",
        "2         Destileria Eugenesis, S.A. de C.V.   \n",
        "3  Tequila Cuervo La Roje\\'f1a, S.A. DE C.V.   \n",
        "4                  Casa Cuervo, S.A. de C.V.   \n",
        "\n",
        "                                      DistilleryLink  \n",
        "0  http://www.tequila.net/advanced-tequila-search...  \n",
        "1  http://www.tequila.net/advanced-tequila-search...  \n",
        "2  http://www.tequila.net/advanced-tequila-search...  \n",
        "3  http://www.tequila.net/advanced-tequila-search...  \n",
        "4  http://www.tequila.net/advanced-tequila-search...  \n",
        "\n",
        "[5 rows x 2 columns]"
       ]
      }
     ],
     "prompt_number": 14
    },
    {
     "cell_type": "markdown",
     "metadata": {},
     "source": [
      "## Start Cleaning Data"
     ]
    },
    {
     "cell_type": "raw",
     "metadata": {},
     "source": [
      "Combine data frame information\n",
      "Format the user rating\n",
      "Add NA for missing informaition\n",
      "Give the Tag column a score"
     ]
    },
    {
     "cell_type": "code",
     "collapsed": false,
     "input": [
      "tequila['Distillery']=tequila_distillery['Distillery']\n",
      "tequila.head()"
     ],
     "language": "python",
     "metadata": {},
     "outputs": [
      {
       "html": [
        "<div style=\"max-height:1000px;max-width:1500px;overflow:auto;\">\n",
        "<table border=\"1\" class=\"dataframe\">\n",
        "  <thead>\n",
        "    <tr style=\"text-align: right;\">\n",
        "      <th></th>\n",
        "      <th>Brand</th>\n",
        "      <th>BrandLink</th>\n",
        "      <th>NOM</th>\n",
        "      <th>NOMLink</th>\n",
        "      <th>User Rating</th>\n",
        "      <th>Tag</th>\n",
        "      <th>Distillery</th>\n",
        "    </tr>\n",
        "  </thead>\n",
        "  <tbody>\n",
        "    <tr>\n",
        "      <th>0</th>\n",
        "      <td>           1519 Tequila Anejo</td>\n",
        "      <td> http://www.tequila.net/tequila-reviews/anejos/...</td>\n",
        "      <td> 1541</td>\n",
        "      <td> http://www.tequila.net/advanced-tequila-search...</td>\n",
        "      <td> 87 (1)</td>\n",
        "      <td> Hot</td>\n",
        "      <td>        Destileria Eugenesis, S.A. de C.V.</td>\n",
        "    </tr>\n",
        "    <tr>\n",
        "      <th>1</th>\n",
        "      <td>          1519 Tequila Blanco</td>\n",
        "      <td> http://www.tequila.net/tequila-reviews/blancos...</td>\n",
        "      <td> 1541</td>\n",
        "      <td> http://www.tequila.net/advanced-tequila-search...</td>\n",
        "      <td> 85 (1)</td>\n",
        "      <td> Hot</td>\n",
        "      <td>        Destileria Eugenesis, S.A. de C.V.</td>\n",
        "    </tr>\n",
        "    <tr>\n",
        "      <th>2</th>\n",
        "      <td>        1519 Tequila Reposado</td>\n",
        "      <td> http://www.tequila.net/tequila-reviews/reposad...</td>\n",
        "      <td> 1541</td>\n",
        "      <td> http://www.tequila.net/advanced-tequila-search...</td>\n",
        "      <td> 85 (1)</td>\n",
        "      <td> Hot</td>\n",
        "      <td>        Destileria Eugenesis, S.A. de C.V.</td>\n",
        "    </tr>\n",
        "    <tr>\n",
        "      <th>3</th>\n",
        "      <td> 1800 Coleccion Tequila Anejo</td>\n",
        "      <td> http://www.tequila.net/tequila-reviews/extra-a...</td>\n",
        "      <td> 1104</td>\n",
        "      <td> http://www.tequila.net/advanced-tequila-search...</td>\n",
        "      <td>  0 (0)</td>\n",
        "      <td> Hot</td>\n",
        "      <td> Tequila Cuervo La Roje\\'f1a, S.A. DE C.V.</td>\n",
        "    </tr>\n",
        "    <tr>\n",
        "      <th>4</th>\n",
        "      <td>   1800 Select Silver Tequila</td>\n",
        "      <td> http://www.tequila.net/tequila-reviews/blancos...</td>\n",
        "      <td> 1122</td>\n",
        "      <td> http://www.tequila.net/advanced-tequila-search...</td>\n",
        "      <td> 78 (3)</td>\n",
        "      <td> Hot</td>\n",
        "      <td>                 Casa Cuervo, S.A. de C.V.</td>\n",
        "    </tr>\n",
        "  </tbody>\n",
        "</table>\n",
        "<p>5 rows \u00d7 7 columns</p>\n",
        "</div>"
       ],
       "metadata": {},
       "output_type": "pyout",
       "prompt_number": 34,
       "text": [
        "                          Brand  \\\n",
        "0            1519 Tequila Anejo   \n",
        "1           1519 Tequila Blanco   \n",
        "2         1519 Tequila Reposado   \n",
        "3  1800 Coleccion Tequila Anejo   \n",
        "4    1800 Select Silver Tequila   \n",
        "\n",
        "                                           BrandLink   NOM  \\\n",
        "0  http://www.tequila.net/tequila-reviews/anejos/...  1541   \n",
        "1  http://www.tequila.net/tequila-reviews/blancos...  1541   \n",
        "2  http://www.tequila.net/tequila-reviews/reposad...  1541   \n",
        "3  http://www.tequila.net/tequila-reviews/extra-a...  1104   \n",
        "4  http://www.tequila.net/tequila-reviews/blancos...  1122   \n",
        "\n",
        "                                             NOMLink User Rating  Tag  \\\n",
        "0  http://www.tequila.net/advanced-tequila-search...      87 (1)  Hot   \n",
        "1  http://www.tequila.net/advanced-tequila-search...      85 (1)  Hot   \n",
        "2  http://www.tequila.net/advanced-tequila-search...      85 (1)  Hot   \n",
        "3  http://www.tequila.net/advanced-tequila-search...       0 (0)  Hot   \n",
        "4  http://www.tequila.net/advanced-tequila-search...      78 (3)  Hot   \n",
        "\n",
        "                                  Distillery  \n",
        "0         Destileria Eugenesis, S.A. de C.V.  \n",
        "1         Destileria Eugenesis, S.A. de C.V.  \n",
        "2         Destileria Eugenesis, S.A. de C.V.  \n",
        "3  Tequila Cuervo La Roje\\'f1a, S.A. DE C.V.  \n",
        "4                  Casa Cuervo, S.A. de C.V.  \n",
        "\n",
        "[5 rows x 7 columns]"
       ]
      }
     ],
     "prompt_number": 34
    },
    {
     "cell_type": "code",
     "collapsed": false,
     "input": [
      "clean_rating = [r.split(' ')[0] for r in tequila['User Rating']]\n",
      "tequila['UserRating'] = clean_rating\n",
      "tequila.head()"
     ],
     "language": "python",
     "metadata": {},
     "outputs": [
      {
       "html": [
        "<div style=\"max-height:1000px;max-width:1500px;overflow:auto;\">\n",
        "<table border=\"1\" class=\"dataframe\">\n",
        "  <thead>\n",
        "    <tr style=\"text-align: right;\">\n",
        "      <th></th>\n",
        "      <th>Brand</th>\n",
        "      <th>BrandLink</th>\n",
        "      <th>NOM</th>\n",
        "      <th>NOMLink</th>\n",
        "      <th>User Rating</th>\n",
        "      <th>Tag</th>\n",
        "      <th>Distillery</th>\n",
        "      <th>UserRating</th>\n",
        "    </tr>\n",
        "  </thead>\n",
        "  <tbody>\n",
        "    <tr>\n",
        "      <th>0</th>\n",
        "      <td>           1519 Tequila Anejo</td>\n",
        "      <td> http://www.tequila.net/tequila-reviews/anejos/...</td>\n",
        "      <td> 1541</td>\n",
        "      <td> http://www.tequila.net/advanced-tequila-search...</td>\n",
        "      <td> 87 (1)</td>\n",
        "      <td> Hot</td>\n",
        "      <td>        Destileria Eugenesis, S.A. de C.V.</td>\n",
        "      <td> 87</td>\n",
        "    </tr>\n",
        "    <tr>\n",
        "      <th>1</th>\n",
        "      <td>          1519 Tequila Blanco</td>\n",
        "      <td> http://www.tequila.net/tequila-reviews/blancos...</td>\n",
        "      <td> 1541</td>\n",
        "      <td> http://www.tequila.net/advanced-tequila-search...</td>\n",
        "      <td> 85 (1)</td>\n",
        "      <td> Hot</td>\n",
        "      <td>        Destileria Eugenesis, S.A. de C.V.</td>\n",
        "      <td> 85</td>\n",
        "    </tr>\n",
        "    <tr>\n",
        "      <th>2</th>\n",
        "      <td>        1519 Tequila Reposado</td>\n",
        "      <td> http://www.tequila.net/tequila-reviews/reposad...</td>\n",
        "      <td> 1541</td>\n",
        "      <td> http://www.tequila.net/advanced-tequila-search...</td>\n",
        "      <td> 85 (1)</td>\n",
        "      <td> Hot</td>\n",
        "      <td>        Destileria Eugenesis, S.A. de C.V.</td>\n",
        "      <td> 85</td>\n",
        "    </tr>\n",
        "    <tr>\n",
        "      <th>3</th>\n",
        "      <td> 1800 Coleccion Tequila Anejo</td>\n",
        "      <td> http://www.tequila.net/tequila-reviews/extra-a...</td>\n",
        "      <td> 1104</td>\n",
        "      <td> http://www.tequila.net/advanced-tequila-search...</td>\n",
        "      <td>  0 (0)</td>\n",
        "      <td> Hot</td>\n",
        "      <td> Tequila Cuervo La Roje\\'f1a, S.A. DE C.V.</td>\n",
        "      <td>  0</td>\n",
        "    </tr>\n",
        "    <tr>\n",
        "      <th>4</th>\n",
        "      <td>   1800 Select Silver Tequila</td>\n",
        "      <td> http://www.tequila.net/tequila-reviews/blancos...</td>\n",
        "      <td> 1122</td>\n",
        "      <td> http://www.tequila.net/advanced-tequila-search...</td>\n",
        "      <td> 78 (3)</td>\n",
        "      <td> Hot</td>\n",
        "      <td>                 Casa Cuervo, S.A. de C.V.</td>\n",
        "      <td> 78</td>\n",
        "    </tr>\n",
        "  </tbody>\n",
        "</table>\n",
        "<p>5 rows \u00d7 8 columns</p>\n",
        "</div>"
       ],
       "metadata": {},
       "output_type": "pyout",
       "prompt_number": 39,
       "text": [
        "                          Brand  \\\n",
        "0            1519 Tequila Anejo   \n",
        "1           1519 Tequila Blanco   \n",
        "2         1519 Tequila Reposado   \n",
        "3  1800 Coleccion Tequila Anejo   \n",
        "4    1800 Select Silver Tequila   \n",
        "\n",
        "                                           BrandLink   NOM  \\\n",
        "0  http://www.tequila.net/tequila-reviews/anejos/...  1541   \n",
        "1  http://www.tequila.net/tequila-reviews/blancos...  1541   \n",
        "2  http://www.tequila.net/tequila-reviews/reposad...  1541   \n",
        "3  http://www.tequila.net/tequila-reviews/extra-a...  1104   \n",
        "4  http://www.tequila.net/tequila-reviews/blancos...  1122   \n",
        "\n",
        "                                             NOMLink User Rating  Tag  \\\n",
        "0  http://www.tequila.net/advanced-tequila-search...      87 (1)  Hot   \n",
        "1  http://www.tequila.net/advanced-tequila-search...      85 (1)  Hot   \n",
        "2  http://www.tequila.net/advanced-tequila-search...      85 (1)  Hot   \n",
        "3  http://www.tequila.net/advanced-tequila-search...       0 (0)  Hot   \n",
        "4  http://www.tequila.net/advanced-tequila-search...      78 (3)  Hot   \n",
        "\n",
        "                                  Distillery UserRating  \n",
        "0         Destileria Eugenesis, S.A. de C.V.         87  \n",
        "1         Destileria Eugenesis, S.A. de C.V.         85  \n",
        "2         Destileria Eugenesis, S.A. de C.V.         85  \n",
        "3  Tequila Cuervo La Roje\\'f1a, S.A. DE C.V.          0  \n",
        "4                  Casa Cuervo, S.A. de C.V.         78  \n",
        "\n",
        "[5 rows x 8 columns]"
       ]
      }
     ],
     "prompt_number": 39
    },
    {
     "cell_type": "code",
     "collapsed": false,
     "input": [],
     "language": "python",
     "metadata": {},
     "outputs": [],
     "prompt_number": 39
    }
   ],
   "metadata": {}
  }
 ]
}