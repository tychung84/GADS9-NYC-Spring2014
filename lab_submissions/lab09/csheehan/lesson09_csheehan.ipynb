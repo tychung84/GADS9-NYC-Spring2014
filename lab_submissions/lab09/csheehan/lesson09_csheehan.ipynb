{
 "metadata": {
  "name": "lesson09_csheehan"
 },
 "nbformat": 3,
 "nbformat_minor": 0,
 "worksheets": [
  {
   "cells": [
    {
     "cell_type": "markdown",
     "metadata": {},
     "source": "#Explaining Titanic Hypothesis with Decision Trees\n####From book \"Learning scikit-learn: machine learning in Python\""
    },
    {
     "cell_type": "code",
     "collapsed": false,
     "input": "%pylab inline",
     "language": "python",
     "metadata": {},
     "outputs": [
      {
       "output_type": "stream",
       "stream": "stdout",
       "text": "Populating the interactive namespace from numpy and matplotlib\n"
      }
     ],
     "prompt_number": 1
    },
    {
     "cell_type": "heading",
     "level": 3,
     "metadata": {},
     "source": "Preprocessing"
    },
    {
     "cell_type": "markdown",
     "metadata": {},
     "source": "First, we must load the dataset. We assume it is located in the data/titanic.csv file"
    },
    {
     "cell_type": "code",
     "collapsed": false,
     "input": "import numpy as np\nimport pandas as pd\n\nfrom matplotlib import pyplot as plt\nfrom sklearn.linear_model import LinearRegression\nfrom sklearn.feature_selection import f_regression\nfrom sklearn.metrics import mean_squared_error, mean_absolute_error",
     "language": "python",
     "metadata": {},
     "outputs": [],
     "prompt_number": 2
    },
    {
     "cell_type": "code",
     "collapsed": false,
     "input": "titanic = pd.read_csv('data/titanic.csv')",
     "language": "python",
     "metadata": {},
     "outputs": [],
     "prompt_number": 3
    },
    {
     "cell_type": "code",
     "collapsed": false,
     "input": "titanic.head()",
     "language": "python",
     "metadata": {},
     "outputs": [
      {
       "html": "<div style=\"max-height:1000px;max-width:1500px;overflow:auto;\">\n<table border=\"1\" class=\"dataframe\">\n  <thead>\n    <tr style=\"text-align: right;\">\n      <th></th>\n      <th>survived</th>\n      <th>pclass</th>\n      <th>name</th>\n      <th>sex</th>\n      <th>age</th>\n      <th>sibsp</th>\n      <th>parch</th>\n      <th>ticket</th>\n      <th>fare</th>\n      <th>cabin</th>\n      <th>embarked</th>\n    </tr>\n  </thead>\n  <tbody>\n    <tr>\n      <th>0</th>\n      <td> 0</td>\n      <td> 3</td>\n      <td>                           Braund, Mr. Owen Harris</td>\n      <td>   male</td>\n      <td> 22</td>\n      <td> 1</td>\n      <td> 0</td>\n      <td>        A/5 21171</td>\n      <td>  7.2500</td>\n      <td>  NaN</td>\n      <td> S</td>\n    </tr>\n    <tr>\n      <th>1</th>\n      <td> 1</td>\n      <td> 1</td>\n      <td> Cumings, Mrs. John Bradley (Florence Briggs Th...</td>\n      <td> female</td>\n      <td> 38</td>\n      <td> 1</td>\n      <td> 0</td>\n      <td>         PC 17599</td>\n      <td> 71.2833</td>\n      <td>  C85</td>\n      <td> C</td>\n    </tr>\n    <tr>\n      <th>2</th>\n      <td> 1</td>\n      <td> 3</td>\n      <td>                            Heikkinen, Miss. Laina</td>\n      <td> female</td>\n      <td> 26</td>\n      <td> 0</td>\n      <td> 0</td>\n      <td> STON/O2. 3101282</td>\n      <td>  7.9250</td>\n      <td>  NaN</td>\n      <td> S</td>\n    </tr>\n    <tr>\n      <th>3</th>\n      <td> 1</td>\n      <td> 1</td>\n      <td>      Futrelle, Mrs. Jacques Heath (Lily May Peel)</td>\n      <td> female</td>\n      <td> 35</td>\n      <td> 1</td>\n      <td> 0</td>\n      <td>           113803</td>\n      <td> 53.1000</td>\n      <td> C123</td>\n      <td> S</td>\n    </tr>\n    <tr>\n      <th>4</th>\n      <td> 0</td>\n      <td> 3</td>\n      <td>                          Allen, Mr. William Henry</td>\n      <td>   male</td>\n      <td> 35</td>\n      <td> 0</td>\n      <td> 0</td>\n      <td>           373450</td>\n      <td>  8.0500</td>\n      <td>  NaN</td>\n      <td> S</td>\n    </tr>\n  </tbody>\n</table>\n<p>5 rows \u00d7 11 columns</p>\n</div>",
       "metadata": {},
       "output_type": "pyout",
       "prompt_number": 4,
       "text": "   survived  pclass                                               name  \\\n0         0       3                            Braund, Mr. Owen Harris   \n1         1       1  Cumings, Mrs. John Bradley (Florence Briggs Th...   \n2         1       3                             Heikkinen, Miss. Laina   \n3         1       1       Futrelle, Mrs. Jacques Heath (Lily May Peel)   \n4         0       3                           Allen, Mr. William Henry   \n\n      sex  age  sibsp  parch            ticket     fare cabin embarked  \n0    male   22      1      0         A/5 21171   7.2500   NaN        S  \n1  female   38      1      0          PC 17599  71.2833   C85        C  \n2  female   26      0      0  STON/O2. 3101282   7.9250   NaN        S  \n3  female   35      1      0            113803  53.1000  C123        S  \n4    male   35      0      0            373450   8.0500   NaN        S  \n\n[5 rows x 11 columns]"
      }
     ],
     "prompt_number": 4
    },
    {
     "cell_type": "code",
     "collapsed": false,
     "input": "cats = titanic.columns[[0,1,3,4,8]]\ncats",
     "language": "python",
     "metadata": {},
     "outputs": [
      {
       "metadata": {},
       "output_type": "pyout",
       "prompt_number": 7,
       "text": "Index([u'survived', u'pclass', u'sex', u'age', u'fare'], dtype='object')"
      }
     ],
     "prompt_number": 7
    },
    {
     "cell_type": "code",
     "collapsed": false,
     "input": "records = titanic.ix[:,[0,1,3,4,8]]\nrecords.head()\n",
     "language": "python",
     "metadata": {},
     "outputs": [
      {
       "html": "<div style=\"max-height:1000px;max-width:1500px;overflow:auto;\">\n<table border=\"1\" class=\"dataframe\">\n  <thead>\n    <tr style=\"text-align: right;\">\n      <th></th>\n      <th>survived</th>\n      <th>pclass</th>\n      <th>sex</th>\n      <th>age</th>\n      <th>fare</th>\n    </tr>\n  </thead>\n  <tbody>\n    <tr>\n      <th>0</th>\n      <td> 0</td>\n      <td> 3</td>\n      <td>   male</td>\n      <td> 22</td>\n      <td>  7.2500</td>\n    </tr>\n    <tr>\n      <th>1</th>\n      <td> 1</td>\n      <td> 1</td>\n      <td> female</td>\n      <td> 38</td>\n      <td> 71.2833</td>\n    </tr>\n    <tr>\n      <th>2</th>\n      <td> 1</td>\n      <td> 3</td>\n      <td> female</td>\n      <td> 26</td>\n      <td>  7.9250</td>\n    </tr>\n    <tr>\n      <th>3</th>\n      <td> 1</td>\n      <td> 1</td>\n      <td> female</td>\n      <td> 35</td>\n      <td> 53.1000</td>\n    </tr>\n    <tr>\n      <th>4</th>\n      <td> 0</td>\n      <td> 3</td>\n      <td>   male</td>\n      <td> 35</td>\n      <td>  8.0500</td>\n    </tr>\n  </tbody>\n</table>\n<p>5 rows \u00d7 5 columns</p>\n</div>",
       "metadata": {},
       "output_type": "pyout",
       "prompt_number": 8,
       "text": "   survived  pclass     sex  age     fare\n0         0       3    male   22   7.2500\n1         1       1  female   38  71.2833\n2         1       3  female   26   7.9250\n3         1       1  female   35  53.1000\n4         0       3    male   35   8.0500\n\n[5 rows x 5 columns]"
      }
     ],
     "prompt_number": 8
    },
    {
     "cell_type": "markdown",
     "metadata": {},
     "source": "Keep only class (1st,2nd,3rd), age (float), and sex (masc, fem)"
    },
    {
     "cell_type": "code",
     "collapsed": false,
     "input": "records.info()     # note that there are empty ages",
     "language": "python",
     "metadata": {},
     "outputs": [
      {
       "output_type": "stream",
       "stream": "stdout",
       "text": "<class 'pandas.core.frame.DataFrame'>\nInt64Index: 891 entries, 0 to 890\nData columns (total 5 columns):\nsurvived    891 non-null int64\npclass      891 non-null int64\nsex         891 non-null object\nage         714 non-null float64\nfare        891 non-null float64\ndtypes: float64(2), int64(2), object(1)"
      }
     ],
     "prompt_number": 9
    },
    {
     "cell_type": "code",
     "collapsed": false,
     "input": "#add new column, sex_id coded as 1 = male, 0 = female\nrecords['sex'] = (records.sex == 'male')\n# I don't understand the error message, but it looks like sex was reclassified based on the next line.",
     "language": "python",
     "metadata": {},
     "outputs": [
      {
       "output_type": "stream",
       "stream": "stderr",
       "text": "-c:2: SettingWithCopyWarning: A value is trying to be set on a copy of a slice from a DataFrame.\nTry using .loc[row_index,col_indexer] = value instead\n"
      }
     ],
     "prompt_number": 10
    },
    {
     "cell_type": "code",
     "collapsed": true,
     "input": "records[records.age.isnull()]",
     "language": "python",
     "metadata": {},
     "outputs": [
      {
       "html": "<div style=\"max-height:1000px;max-width:1500px;overflow:auto;\">\n<table border=\"1\" class=\"dataframe\">\n  <thead>\n    <tr style=\"text-align: right;\">\n      <th></th>\n      <th>survived</th>\n      <th>pclass</th>\n      <th>sex</th>\n      <th>age</th>\n      <th>fare</th>\n      <th>first_class</th>\n      <th>second_class</th>\n      <th>third_class</th>\n    </tr>\n  </thead>\n  <tbody>\n    <tr>\n      <th>5  </th>\n      <td> 0</td>\n      <td> 3</td>\n      <td>  True</td>\n      <td>NaN</td>\n      <td>   8.4583</td>\n      <td> False</td>\n      <td> False</td>\n      <td>  True</td>\n    </tr>\n    <tr>\n      <th>17 </th>\n      <td> 1</td>\n      <td> 2</td>\n      <td>  True</td>\n      <td>NaN</td>\n      <td>  13.0000</td>\n      <td> False</td>\n      <td>  True</td>\n      <td> False</td>\n    </tr>\n    <tr>\n      <th>19 </th>\n      <td> 1</td>\n      <td> 3</td>\n      <td> False</td>\n      <td>NaN</td>\n      <td>   7.2250</td>\n      <td> False</td>\n      <td> False</td>\n      <td>  True</td>\n    </tr>\n    <tr>\n      <th>26 </th>\n      <td> 0</td>\n      <td> 3</td>\n      <td>  True</td>\n      <td>NaN</td>\n      <td>   7.2250</td>\n      <td> False</td>\n      <td> False</td>\n      <td>  True</td>\n    </tr>\n    <tr>\n      <th>28 </th>\n      <td> 1</td>\n      <td> 3</td>\n      <td> False</td>\n      <td>NaN</td>\n      <td>   7.8792</td>\n      <td> False</td>\n      <td> False</td>\n      <td>  True</td>\n    </tr>\n    <tr>\n      <th>29 </th>\n      <td> 0</td>\n      <td> 3</td>\n      <td>  True</td>\n      <td>NaN</td>\n      <td>   7.8958</td>\n      <td> False</td>\n      <td> False</td>\n      <td>  True</td>\n    </tr>\n    <tr>\n      <th>31 </th>\n      <td> 1</td>\n      <td> 1</td>\n      <td> False</td>\n      <td>NaN</td>\n      <td> 146.5208</td>\n      <td>  True</td>\n      <td> False</td>\n      <td> False</td>\n    </tr>\n    <tr>\n      <th>32 </th>\n      <td> 1</td>\n      <td> 3</td>\n      <td> False</td>\n      <td>NaN</td>\n      <td>   7.7500</td>\n      <td> False</td>\n      <td> False</td>\n      <td>  True</td>\n    </tr>\n    <tr>\n      <th>36 </th>\n      <td> 1</td>\n      <td> 3</td>\n      <td>  True</td>\n      <td>NaN</td>\n      <td>   7.2292</td>\n      <td> False</td>\n      <td> False</td>\n      <td>  True</td>\n    </tr>\n    <tr>\n      <th>42 </th>\n      <td> 0</td>\n      <td> 3</td>\n      <td>  True</td>\n      <td>NaN</td>\n      <td>   7.8958</td>\n      <td> False</td>\n      <td> False</td>\n      <td>  True</td>\n    </tr>\n    <tr>\n      <th>45 </th>\n      <td> 0</td>\n      <td> 3</td>\n      <td>  True</td>\n      <td>NaN</td>\n      <td>   8.0500</td>\n      <td> False</td>\n      <td> False</td>\n      <td>  True</td>\n    </tr>\n    <tr>\n      <th>46 </th>\n      <td> 0</td>\n      <td> 3</td>\n      <td>  True</td>\n      <td>NaN</td>\n      <td>  15.5000</td>\n      <td> False</td>\n      <td> False</td>\n      <td>  True</td>\n    </tr>\n    <tr>\n      <th>47 </th>\n      <td> 1</td>\n      <td> 3</td>\n      <td> False</td>\n      <td>NaN</td>\n      <td>   7.7500</td>\n      <td> False</td>\n      <td> False</td>\n      <td>  True</td>\n    </tr>\n    <tr>\n      <th>48 </th>\n      <td> 0</td>\n      <td> 3</td>\n      <td>  True</td>\n      <td>NaN</td>\n      <td>  21.6792</td>\n      <td> False</td>\n      <td> False</td>\n      <td>  True</td>\n    </tr>\n    <tr>\n      <th>55 </th>\n      <td> 1</td>\n      <td> 1</td>\n      <td>  True</td>\n      <td>NaN</td>\n      <td>  35.5000</td>\n      <td>  True</td>\n      <td> False</td>\n      <td> False</td>\n    </tr>\n    <tr>\n      <th>64 </th>\n      <td> 0</td>\n      <td> 1</td>\n      <td>  True</td>\n      <td>NaN</td>\n      <td>  27.7208</td>\n      <td>  True</td>\n      <td> False</td>\n      <td> False</td>\n    </tr>\n    <tr>\n      <th>65 </th>\n      <td> 1</td>\n      <td> 3</td>\n      <td>  True</td>\n      <td>NaN</td>\n      <td>  15.2458</td>\n      <td> False</td>\n      <td> False</td>\n      <td>  True</td>\n    </tr>\n    <tr>\n      <th>76 </th>\n      <td> 0</td>\n      <td> 3</td>\n      <td>  True</td>\n      <td>NaN</td>\n      <td>   7.8958</td>\n      <td> False</td>\n      <td> False</td>\n      <td>  True</td>\n    </tr>\n    <tr>\n      <th>77 </th>\n      <td> 0</td>\n      <td> 3</td>\n      <td>  True</td>\n      <td>NaN</td>\n      <td>   8.0500</td>\n      <td> False</td>\n      <td> False</td>\n      <td>  True</td>\n    </tr>\n    <tr>\n      <th>82 </th>\n      <td> 1</td>\n      <td> 3</td>\n      <td> False</td>\n      <td>NaN</td>\n      <td>   7.7875</td>\n      <td> False</td>\n      <td> False</td>\n      <td>  True</td>\n    </tr>\n    <tr>\n      <th>87 </th>\n      <td> 0</td>\n      <td> 3</td>\n      <td>  True</td>\n      <td>NaN</td>\n      <td>   8.0500</td>\n      <td> False</td>\n      <td> False</td>\n      <td>  True</td>\n    </tr>\n    <tr>\n      <th>95 </th>\n      <td> 0</td>\n      <td> 3</td>\n      <td>  True</td>\n      <td>NaN</td>\n      <td>   8.0500</td>\n      <td> False</td>\n      <td> False</td>\n      <td>  True</td>\n    </tr>\n    <tr>\n      <th>101</th>\n      <td> 0</td>\n      <td> 3</td>\n      <td>  True</td>\n      <td>NaN</td>\n      <td>   7.8958</td>\n      <td> False</td>\n      <td> False</td>\n      <td>  True</td>\n    </tr>\n    <tr>\n      <th>107</th>\n      <td> 1</td>\n      <td> 3</td>\n      <td>  True</td>\n      <td>NaN</td>\n      <td>   7.7750</td>\n      <td> False</td>\n      <td> False</td>\n      <td>  True</td>\n    </tr>\n    <tr>\n      <th>109</th>\n      <td> 1</td>\n      <td> 3</td>\n      <td> False</td>\n      <td>NaN</td>\n      <td>  24.1500</td>\n      <td> False</td>\n      <td> False</td>\n      <td>  True</td>\n    </tr>\n    <tr>\n      <th>121</th>\n      <td> 0</td>\n      <td> 3</td>\n      <td>  True</td>\n      <td>NaN</td>\n      <td>   8.0500</td>\n      <td> False</td>\n      <td> False</td>\n      <td>  True</td>\n    </tr>\n    <tr>\n      <th>126</th>\n      <td> 0</td>\n      <td> 3</td>\n      <td>  True</td>\n      <td>NaN</td>\n      <td>   7.7500</td>\n      <td> False</td>\n      <td> False</td>\n      <td>  True</td>\n    </tr>\n    <tr>\n      <th>128</th>\n      <td> 1</td>\n      <td> 3</td>\n      <td> False</td>\n      <td>NaN</td>\n      <td>  22.3583</td>\n      <td> False</td>\n      <td> False</td>\n      <td>  True</td>\n    </tr>\n    <tr>\n      <th>140</th>\n      <td> 0</td>\n      <td> 3</td>\n      <td> False</td>\n      <td>NaN</td>\n      <td>  15.2458</td>\n      <td> False</td>\n      <td> False</td>\n      <td>  True</td>\n    </tr>\n    <tr>\n      <th>154</th>\n      <td> 0</td>\n      <td> 3</td>\n      <td>  True</td>\n      <td>NaN</td>\n      <td>   7.3125</td>\n      <td> False</td>\n      <td> False</td>\n      <td>  True</td>\n    </tr>\n    <tr>\n      <th>158</th>\n      <td> 0</td>\n      <td> 3</td>\n      <td>  True</td>\n      <td>NaN</td>\n      <td>   8.6625</td>\n      <td> False</td>\n      <td> False</td>\n      <td>  True</td>\n    </tr>\n    <tr>\n      <th>159</th>\n      <td> 0</td>\n      <td> 3</td>\n      <td>  True</td>\n      <td>NaN</td>\n      <td>  69.5500</td>\n      <td> False</td>\n      <td> False</td>\n      <td>  True</td>\n    </tr>\n    <tr>\n      <th>166</th>\n      <td> 1</td>\n      <td> 1</td>\n      <td> False</td>\n      <td>NaN</td>\n      <td>  55.0000</td>\n      <td>  True</td>\n      <td> False</td>\n      <td> False</td>\n    </tr>\n    <tr>\n      <th>168</th>\n      <td> 0</td>\n      <td> 1</td>\n      <td>  True</td>\n      <td>NaN</td>\n      <td>  25.9250</td>\n      <td>  True</td>\n      <td> False</td>\n      <td> False</td>\n    </tr>\n    <tr>\n      <th>176</th>\n      <td> 0</td>\n      <td> 3</td>\n      <td>  True</td>\n      <td>NaN</td>\n      <td>  25.4667</td>\n      <td> False</td>\n      <td> False</td>\n      <td>  True</td>\n    </tr>\n    <tr>\n      <th>180</th>\n      <td> 0</td>\n      <td> 3</td>\n      <td> False</td>\n      <td>NaN</td>\n      <td>  69.5500</td>\n      <td> False</td>\n      <td> False</td>\n      <td>  True</td>\n    </tr>\n    <tr>\n      <th>181</th>\n      <td> 0</td>\n      <td> 2</td>\n      <td>  True</td>\n      <td>NaN</td>\n      <td>  15.0500</td>\n      <td> False</td>\n      <td>  True</td>\n      <td> False</td>\n    </tr>\n    <tr>\n      <th>185</th>\n      <td> 0</td>\n      <td> 1</td>\n      <td>  True</td>\n      <td>NaN</td>\n      <td>  50.0000</td>\n      <td>  True</td>\n      <td> False</td>\n      <td> False</td>\n    </tr>\n    <tr>\n      <th>186</th>\n      <td> 1</td>\n      <td> 3</td>\n      <td> False</td>\n      <td>NaN</td>\n      <td>  15.5000</td>\n      <td> False</td>\n      <td> False</td>\n      <td>  True</td>\n    </tr>\n    <tr>\n      <th>196</th>\n      <td> 0</td>\n      <td> 3</td>\n      <td>  True</td>\n      <td>NaN</td>\n      <td>   7.7500</td>\n      <td> False</td>\n      <td> False</td>\n      <td>  True</td>\n    </tr>\n    <tr>\n      <th>198</th>\n      <td> 1</td>\n      <td> 3</td>\n      <td> False</td>\n      <td>NaN</td>\n      <td>   7.7500</td>\n      <td> False</td>\n      <td> False</td>\n      <td>  True</td>\n    </tr>\n    <tr>\n      <th>201</th>\n      <td> 0</td>\n      <td> 3</td>\n      <td>  True</td>\n      <td>NaN</td>\n      <td>  69.5500</td>\n      <td> False</td>\n      <td> False</td>\n      <td>  True</td>\n    </tr>\n    <tr>\n      <th>214</th>\n      <td> 0</td>\n      <td> 3</td>\n      <td>  True</td>\n      <td>NaN</td>\n      <td>   7.7500</td>\n      <td> False</td>\n      <td> False</td>\n      <td>  True</td>\n    </tr>\n    <tr>\n      <th>223</th>\n      <td> 0</td>\n      <td> 3</td>\n      <td>  True</td>\n      <td>NaN</td>\n      <td>   7.8958</td>\n      <td> False</td>\n      <td> False</td>\n      <td>  True</td>\n    </tr>\n    <tr>\n      <th>229</th>\n      <td> 0</td>\n      <td> 3</td>\n      <td> False</td>\n      <td>NaN</td>\n      <td>  25.4667</td>\n      <td> False</td>\n      <td> False</td>\n      <td>  True</td>\n    </tr>\n    <tr>\n      <th>235</th>\n      <td> 0</td>\n      <td> 3</td>\n      <td> False</td>\n      <td>NaN</td>\n      <td>   7.5500</td>\n      <td> False</td>\n      <td> False</td>\n      <td>  True</td>\n    </tr>\n    <tr>\n      <th>240</th>\n      <td> 0</td>\n      <td> 3</td>\n      <td> False</td>\n      <td>NaN</td>\n      <td>  14.4542</td>\n      <td> False</td>\n      <td> False</td>\n      <td>  True</td>\n    </tr>\n    <tr>\n      <th>241</th>\n      <td> 1</td>\n      <td> 3</td>\n      <td> False</td>\n      <td>NaN</td>\n      <td>  15.5000</td>\n      <td> False</td>\n      <td> False</td>\n      <td>  True</td>\n    </tr>\n    <tr>\n      <th>250</th>\n      <td> 0</td>\n      <td> 3</td>\n      <td>  True</td>\n      <td>NaN</td>\n      <td>   7.2500</td>\n      <td> False</td>\n      <td> False</td>\n      <td>  True</td>\n    </tr>\n    <tr>\n      <th>256</th>\n      <td> 1</td>\n      <td> 1</td>\n      <td> False</td>\n      <td>NaN</td>\n      <td>  79.2000</td>\n      <td>  True</td>\n      <td> False</td>\n      <td> False</td>\n    </tr>\n    <tr>\n      <th>260</th>\n      <td> 0</td>\n      <td> 3</td>\n      <td>  True</td>\n      <td>NaN</td>\n      <td>   7.7500</td>\n      <td> False</td>\n      <td> False</td>\n      <td>  True</td>\n    </tr>\n    <tr>\n      <th>264</th>\n      <td> 0</td>\n      <td> 3</td>\n      <td> False</td>\n      <td>NaN</td>\n      <td>   7.7500</td>\n      <td> False</td>\n      <td> False</td>\n      <td>  True</td>\n    </tr>\n    <tr>\n      <th>270</th>\n      <td> 0</td>\n      <td> 1</td>\n      <td>  True</td>\n      <td>NaN</td>\n      <td>  31.0000</td>\n      <td>  True</td>\n      <td> False</td>\n      <td> False</td>\n    </tr>\n    <tr>\n      <th>274</th>\n      <td> 1</td>\n      <td> 3</td>\n      <td> False</td>\n      <td>NaN</td>\n      <td>   7.7500</td>\n      <td> False</td>\n      <td> False</td>\n      <td>  True</td>\n    </tr>\n    <tr>\n      <th>277</th>\n      <td> 0</td>\n      <td> 2</td>\n      <td>  True</td>\n      <td>NaN</td>\n      <td>   0.0000</td>\n      <td> False</td>\n      <td>  True</td>\n      <td> False</td>\n    </tr>\n    <tr>\n      <th>284</th>\n      <td> 0</td>\n      <td> 1</td>\n      <td>  True</td>\n      <td>NaN</td>\n      <td>  26.0000</td>\n      <td>  True</td>\n      <td> False</td>\n      <td> False</td>\n    </tr>\n    <tr>\n      <th>295</th>\n      <td> 0</td>\n      <td> 1</td>\n      <td>  True</td>\n      <td>NaN</td>\n      <td>  27.7208</td>\n      <td>  True</td>\n      <td> False</td>\n      <td> False</td>\n    </tr>\n    <tr>\n      <th>298</th>\n      <td> 1</td>\n      <td> 1</td>\n      <td>  True</td>\n      <td>NaN</td>\n      <td>  30.5000</td>\n      <td>  True</td>\n      <td> False</td>\n      <td> False</td>\n    </tr>\n    <tr>\n      <th>300</th>\n      <td> 1</td>\n      <td> 3</td>\n      <td> False</td>\n      <td>NaN</td>\n      <td>   7.7500</td>\n      <td> False</td>\n      <td> False</td>\n      <td>  True</td>\n    </tr>\n    <tr>\n      <th>301</th>\n      <td> 1</td>\n      <td> 3</td>\n      <td>  True</td>\n      <td>NaN</td>\n      <td>  23.2500</td>\n      <td> False</td>\n      <td> False</td>\n      <td>  True</td>\n    </tr>\n    <tr>\n      <th></th>\n      <td>...</td>\n      <td>...</td>\n      <td>...</td>\n      <td>...</td>\n      <td>...</td>\n      <td>...</td>\n      <td>...</td>\n      <td>...</td>\n    </tr>\n  </tbody>\n</table>\n<p>177 rows \u00d7 8 columns</p>\n</div>",
       "metadata": {},
       "output_type": "pyout",
       "prompt_number": 39,
       "text": "     survived  pclass    sex  age      fare first_class second_class  \\\n5           0       3   True  NaN    8.4583       False        False   \n17          1       2   True  NaN   13.0000       False         True   \n19          1       3  False  NaN    7.2250       False        False   \n26          0       3   True  NaN    7.2250       False        False   \n28          1       3  False  NaN    7.8792       False        False   \n29          0       3   True  NaN    7.8958       False        False   \n31          1       1  False  NaN  146.5208        True        False   \n32          1       3  False  NaN    7.7500       False        False   \n36          1       3   True  NaN    7.2292       False        False   \n42          0       3   True  NaN    7.8958       False        False   \n45          0       3   True  NaN    8.0500       False        False   \n46          0       3   True  NaN   15.5000       False        False   \n47          1       3  False  NaN    7.7500       False        False   \n48          0       3   True  NaN   21.6792       False        False   \n55          1       1   True  NaN   35.5000        True        False   \n64          0       1   True  NaN   27.7208        True        False   \n65          1       3   True  NaN   15.2458       False        False   \n76          0       3   True  NaN    7.8958       False        False   \n77          0       3   True  NaN    8.0500       False        False   \n82          1       3  False  NaN    7.7875       False        False   \n87          0       3   True  NaN    8.0500       False        False   \n95          0       3   True  NaN    8.0500       False        False   \n101         0       3   True  NaN    7.8958       False        False   \n107         1       3   True  NaN    7.7750       False        False   \n109         1       3  False  NaN   24.1500       False        False   \n121         0       3   True  NaN    8.0500       False        False   \n126         0       3   True  NaN    7.7500       False        False   \n128         1       3  False  NaN   22.3583       False        False   \n140         0       3  False  NaN   15.2458       False        False   \n154         0       3   True  NaN    7.3125       False        False   \n158         0       3   True  NaN    8.6625       False        False   \n159         0       3   True  NaN   69.5500       False        False   \n166         1       1  False  NaN   55.0000        True        False   \n168         0       1   True  NaN   25.9250        True        False   \n176         0       3   True  NaN   25.4667       False        False   \n180         0       3  False  NaN   69.5500       False        False   \n181         0       2   True  NaN   15.0500       False         True   \n185         0       1   True  NaN   50.0000        True        False   \n186         1       3  False  NaN   15.5000       False        False   \n196         0       3   True  NaN    7.7500       False        False   \n198         1       3  False  NaN    7.7500       False        False   \n201         0       3   True  NaN   69.5500       False        False   \n214         0       3   True  NaN    7.7500       False        False   \n223         0       3   True  NaN    7.8958       False        False   \n229         0       3  False  NaN   25.4667       False        False   \n235         0       3  False  NaN    7.5500       False        False   \n240         0       3  False  NaN   14.4542       False        False   \n241         1       3  False  NaN   15.5000       False        False   \n250         0       3   True  NaN    7.2500       False        False   \n256         1       1  False  NaN   79.2000        True        False   \n260         0       3   True  NaN    7.7500       False        False   \n264         0       3  False  NaN    7.7500       False        False   \n270         0       1   True  NaN   31.0000        True        False   \n274         1       3  False  NaN    7.7500       False        False   \n277         0       2   True  NaN    0.0000       False         True   \n284         0       1   True  NaN   26.0000        True        False   \n295         0       1   True  NaN   27.7208        True        False   \n298         1       1   True  NaN   30.5000        True        False   \n300         1       3  False  NaN    7.7500       False        False   \n301         1       3   True  NaN   23.2500       False        False   \n          ...     ...    ...  ...       ...         ...          ...   \n\n    third_class  \n5          True  \n17        False  \n19         True  \n26         True  \n28         True  \n29         True  \n31        False  \n32         True  \n36         True  \n42         True  \n45         True  \n46         True  \n47         True  \n48         True  \n55        False  \n64        False  \n65         True  \n76         True  \n77         True  \n82         True  \n87         True  \n95         True  \n101        True  \n107        True  \n109        True  \n121        True  \n126        True  \n128        True  \n140        True  \n154        True  \n158        True  \n159        True  \n166       False  \n168       False  \n176        True  \n180        True  \n181       False  \n185       False  \n186        True  \n196        True  \n198        True  \n201        True  \n214        True  \n223        True  \n229        True  \n235        True  \n240        True  \n241        True  \n250        True  \n256       False  \n260        True  \n264        True  \n270       False  \n274        True  \n277       False  \n284       False  \n295       False  \n298       False  \n300        True  \n301        True  \n            ...  \n\n[177 rows x 8 columns]"
      }
     ],
     "prompt_number": 39
    },
    {
     "cell_type": "code",
     "collapsed": false,
     "input": "#can't figure out how to search for NaN in the dataset, so this...\nrecords[(records.age > 0) == False].count()",
     "language": "python",
     "metadata": {},
     "outputs": [
      {
       "metadata": {},
       "output_type": "pyout",
       "prompt_number": 13,
       "text": "survived    177\npclass      177\nsex         177\nage           0\nfare        177\ndtype: int64"
      }
     ],
     "prompt_number": 13
    },
    {
     "cell_type": "code",
     "collapsed": false,
     "input": "records.head()",
     "language": "python",
     "metadata": {},
     "outputs": [
      {
       "html": "<div style=\"max-height:1000px;max-width:1500px;overflow:auto;\">\n<table border=\"1\" class=\"dataframe\">\n  <thead>\n    <tr style=\"text-align: right;\">\n      <th></th>\n      <th>survived</th>\n      <th>pclass</th>\n      <th>sex</th>\n      <th>age</th>\n      <th>fare</th>\n    </tr>\n  </thead>\n  <tbody>\n    <tr>\n      <th>0</th>\n      <td> 0</td>\n      <td> 3</td>\n      <td>  True</td>\n      <td> 22</td>\n      <td>  7.2500</td>\n    </tr>\n    <tr>\n      <th>1</th>\n      <td> 1</td>\n      <td> 1</td>\n      <td> False</td>\n      <td> 38</td>\n      <td> 71.2833</td>\n    </tr>\n    <tr>\n      <th>2</th>\n      <td> 1</td>\n      <td> 3</td>\n      <td> False</td>\n      <td> 26</td>\n      <td>  7.9250</td>\n    </tr>\n    <tr>\n      <th>3</th>\n      <td> 1</td>\n      <td> 1</td>\n      <td> False</td>\n      <td> 35</td>\n      <td> 53.1000</td>\n    </tr>\n    <tr>\n      <th>4</th>\n      <td> 0</td>\n      <td> 3</td>\n      <td>  True</td>\n      <td> 35</td>\n      <td>  8.0500</td>\n    </tr>\n  </tbody>\n</table>\n<p>5 rows \u00d7 5 columns</p>\n</div>",
       "metadata": {},
       "output_type": "pyout",
       "prompt_number": 11,
       "text": "   survived  pclass    sex  age     fare\n0         0       3   True   22   7.2500\n1         1       1  False   38  71.2833\n2         1       3  False   26   7.9250\n3         1       1  False   35  53.1000\n4         0       3   True   35   8.0500\n\n[5 rows x 5 columns]"
      }
     ],
     "prompt_number": 11
    },
    {
     "cell_type": "markdown",
     "metadata": {},
     "source": "Solve missing values ('NA') for the 'age' feature. Solution: use the mean value."
    },
    {
     "cell_type": "code",
     "collapsed": true,
     "input": "records['first_class'] = (records.pclass == 1)\nrecords['second_class'] = (records.pclass == 2)\nrecords['third_class'] = (records.pclass == 3)",
     "language": "python",
     "metadata": {},
     "outputs": [],
     "prompt_number": 14
    },
    {
     "cell_type": "code",
     "collapsed": false,
     "input": "records.head()",
     "language": "python",
     "metadata": {},
     "outputs": [
      {
       "html": "<div style=\"max-height:1000px;max-width:1500px;overflow:auto;\">\n<table border=\"1\" class=\"dataframe\">\n  <thead>\n    <tr style=\"text-align: right;\">\n      <th></th>\n      <th>survived</th>\n      <th>pclass</th>\n      <th>sex</th>\n      <th>age</th>\n      <th>fare</th>\n      <th>first_class</th>\n      <th>second_class</th>\n      <th>third_class</th>\n    </tr>\n  </thead>\n  <tbody>\n    <tr>\n      <th>0</th>\n      <td> 0</td>\n      <td> 3</td>\n      <td>  True</td>\n      <td> 22</td>\n      <td>  7.2500</td>\n      <td> False</td>\n      <td> False</td>\n      <td>  True</td>\n    </tr>\n    <tr>\n      <th>1</th>\n      <td> 1</td>\n      <td> 1</td>\n      <td> False</td>\n      <td> 38</td>\n      <td> 71.2833</td>\n      <td>  True</td>\n      <td> False</td>\n      <td> False</td>\n    </tr>\n    <tr>\n      <th>2</th>\n      <td> 1</td>\n      <td> 3</td>\n      <td> False</td>\n      <td> 26</td>\n      <td>  7.9250</td>\n      <td> False</td>\n      <td> False</td>\n      <td>  True</td>\n    </tr>\n    <tr>\n      <th>3</th>\n      <td> 1</td>\n      <td> 1</td>\n      <td> False</td>\n      <td> 35</td>\n      <td> 53.1000</td>\n      <td>  True</td>\n      <td> False</td>\n      <td> False</td>\n    </tr>\n    <tr>\n      <th>4</th>\n      <td> 0</td>\n      <td> 3</td>\n      <td>  True</td>\n      <td> 35</td>\n      <td>  8.0500</td>\n      <td> False</td>\n      <td> False</td>\n      <td>  True</td>\n    </tr>\n  </tbody>\n</table>\n<p>5 rows \u00d7 8 columns</p>\n</div>",
       "metadata": {},
       "output_type": "pyout",
       "prompt_number": 15,
       "text": "   survived  pclass    sex  age     fare first_class second_class third_class\n0         0       3   True   22   7.2500       False        False        True\n1         1       1  False   38  71.2833        True        False       False\n2         1       3  False   26   7.9250       False        False        True\n3         1       1  False   35  53.1000        True        False       False\n4         0       3   True   35   8.0500       False        False        True\n\n[5 rows x 8 columns]"
      }
     ],
     "prompt_number": 15
    },
    {
     "cell_type": "heading",
     "level": 3,
     "metadata": {},
     "source": "Set Up Regression to fill in blank ages with predicted values based on pclass, sex, and fare"
    },
    {
     "cell_type": "raw",
     "metadata": {},
     "source": "Check which of pclass, sex and fare are significant in predicting age..."
    },
    {
     "cell_type": "code",
     "collapsed": true,
     "input": "#Set training group as those records with age data\nr_train = records[records.age > 0]\nr_test = records[(records.age > 0) == False]\nr_test",
     "language": "python",
     "metadata": {},
     "outputs": [
      {
       "html": "<div style=\"max-height:1000px;max-width:1500px;overflow:auto;\">\n<table border=\"1\" class=\"dataframe\">\n  <thead>\n    <tr style=\"text-align: right;\">\n      <th></th>\n      <th>survived</th>\n      <th>pclass</th>\n      <th>sex</th>\n      <th>age</th>\n      <th>fare</th>\n      <th>first_class</th>\n      <th>second_class</th>\n      <th>third_class</th>\n    </tr>\n  </thead>\n  <tbody>\n    <tr>\n      <th>5  </th>\n      <td> 0</td>\n      <td> 3</td>\n      <td>  True</td>\n      <td>NaN</td>\n      <td>   8.4583</td>\n      <td> False</td>\n      <td> False</td>\n      <td>  True</td>\n    </tr>\n    <tr>\n      <th>17 </th>\n      <td> 1</td>\n      <td> 2</td>\n      <td>  True</td>\n      <td>NaN</td>\n      <td>  13.0000</td>\n      <td> False</td>\n      <td>  True</td>\n      <td> False</td>\n    </tr>\n    <tr>\n      <th>19 </th>\n      <td> 1</td>\n      <td> 3</td>\n      <td> False</td>\n      <td>NaN</td>\n      <td>   7.2250</td>\n      <td> False</td>\n      <td> False</td>\n      <td>  True</td>\n    </tr>\n    <tr>\n      <th>26 </th>\n      <td> 0</td>\n      <td> 3</td>\n      <td>  True</td>\n      <td>NaN</td>\n      <td>   7.2250</td>\n      <td> False</td>\n      <td> False</td>\n      <td>  True</td>\n    </tr>\n    <tr>\n      <th>28 </th>\n      <td> 1</td>\n      <td> 3</td>\n      <td> False</td>\n      <td>NaN</td>\n      <td>   7.8792</td>\n      <td> False</td>\n      <td> False</td>\n      <td>  True</td>\n    </tr>\n    <tr>\n      <th>29 </th>\n      <td> 0</td>\n      <td> 3</td>\n      <td>  True</td>\n      <td>NaN</td>\n      <td>   7.8958</td>\n      <td> False</td>\n      <td> False</td>\n      <td>  True</td>\n    </tr>\n    <tr>\n      <th>31 </th>\n      <td> 1</td>\n      <td> 1</td>\n      <td> False</td>\n      <td>NaN</td>\n      <td> 146.5208</td>\n      <td>  True</td>\n      <td> False</td>\n      <td> False</td>\n    </tr>\n    <tr>\n      <th>32 </th>\n      <td> 1</td>\n      <td> 3</td>\n      <td> False</td>\n      <td>NaN</td>\n      <td>   7.7500</td>\n      <td> False</td>\n      <td> False</td>\n      <td>  True</td>\n    </tr>\n    <tr>\n      <th>36 </th>\n      <td> 1</td>\n      <td> 3</td>\n      <td>  True</td>\n      <td>NaN</td>\n      <td>   7.2292</td>\n      <td> False</td>\n      <td> False</td>\n      <td>  True</td>\n    </tr>\n    <tr>\n      <th>42 </th>\n      <td> 0</td>\n      <td> 3</td>\n      <td>  True</td>\n      <td>NaN</td>\n      <td>   7.8958</td>\n      <td> False</td>\n      <td> False</td>\n      <td>  True</td>\n    </tr>\n    <tr>\n      <th>45 </th>\n      <td> 0</td>\n      <td> 3</td>\n      <td>  True</td>\n      <td>NaN</td>\n      <td>   8.0500</td>\n      <td> False</td>\n      <td> False</td>\n      <td>  True</td>\n    </tr>\n    <tr>\n      <th>46 </th>\n      <td> 0</td>\n      <td> 3</td>\n      <td>  True</td>\n      <td>NaN</td>\n      <td>  15.5000</td>\n      <td> False</td>\n      <td> False</td>\n      <td>  True</td>\n    </tr>\n    <tr>\n      <th>47 </th>\n      <td> 1</td>\n      <td> 3</td>\n      <td> False</td>\n      <td>NaN</td>\n      <td>   7.7500</td>\n      <td> False</td>\n      <td> False</td>\n      <td>  True</td>\n    </tr>\n    <tr>\n      <th>48 </th>\n      <td> 0</td>\n      <td> 3</td>\n      <td>  True</td>\n      <td>NaN</td>\n      <td>  21.6792</td>\n      <td> False</td>\n      <td> False</td>\n      <td>  True</td>\n    </tr>\n    <tr>\n      <th>55 </th>\n      <td> 1</td>\n      <td> 1</td>\n      <td>  True</td>\n      <td>NaN</td>\n      <td>  35.5000</td>\n      <td>  True</td>\n      <td> False</td>\n      <td> False</td>\n    </tr>\n    <tr>\n      <th>64 </th>\n      <td> 0</td>\n      <td> 1</td>\n      <td>  True</td>\n      <td>NaN</td>\n      <td>  27.7208</td>\n      <td>  True</td>\n      <td> False</td>\n      <td> False</td>\n    </tr>\n    <tr>\n      <th>65 </th>\n      <td> 1</td>\n      <td> 3</td>\n      <td>  True</td>\n      <td>NaN</td>\n      <td>  15.2458</td>\n      <td> False</td>\n      <td> False</td>\n      <td>  True</td>\n    </tr>\n    <tr>\n      <th>76 </th>\n      <td> 0</td>\n      <td> 3</td>\n      <td>  True</td>\n      <td>NaN</td>\n      <td>   7.8958</td>\n      <td> False</td>\n      <td> False</td>\n      <td>  True</td>\n    </tr>\n    <tr>\n      <th>77 </th>\n      <td> 0</td>\n      <td> 3</td>\n      <td>  True</td>\n      <td>NaN</td>\n      <td>   8.0500</td>\n      <td> False</td>\n      <td> False</td>\n      <td>  True</td>\n    </tr>\n    <tr>\n      <th>82 </th>\n      <td> 1</td>\n      <td> 3</td>\n      <td> False</td>\n      <td>NaN</td>\n      <td>   7.7875</td>\n      <td> False</td>\n      <td> False</td>\n      <td>  True</td>\n    </tr>\n    <tr>\n      <th>87 </th>\n      <td> 0</td>\n      <td> 3</td>\n      <td>  True</td>\n      <td>NaN</td>\n      <td>   8.0500</td>\n      <td> False</td>\n      <td> False</td>\n      <td>  True</td>\n    </tr>\n    <tr>\n      <th>95 </th>\n      <td> 0</td>\n      <td> 3</td>\n      <td>  True</td>\n      <td>NaN</td>\n      <td>   8.0500</td>\n      <td> False</td>\n      <td> False</td>\n      <td>  True</td>\n    </tr>\n    <tr>\n      <th>101</th>\n      <td> 0</td>\n      <td> 3</td>\n      <td>  True</td>\n      <td>NaN</td>\n      <td>   7.8958</td>\n      <td> False</td>\n      <td> False</td>\n      <td>  True</td>\n    </tr>\n    <tr>\n      <th>107</th>\n      <td> 1</td>\n      <td> 3</td>\n      <td>  True</td>\n      <td>NaN</td>\n      <td>   7.7750</td>\n      <td> False</td>\n      <td> False</td>\n      <td>  True</td>\n    </tr>\n    <tr>\n      <th>109</th>\n      <td> 1</td>\n      <td> 3</td>\n      <td> False</td>\n      <td>NaN</td>\n      <td>  24.1500</td>\n      <td> False</td>\n      <td> False</td>\n      <td>  True</td>\n    </tr>\n    <tr>\n      <th>121</th>\n      <td> 0</td>\n      <td> 3</td>\n      <td>  True</td>\n      <td>NaN</td>\n      <td>   8.0500</td>\n      <td> False</td>\n      <td> False</td>\n      <td>  True</td>\n    </tr>\n    <tr>\n      <th>126</th>\n      <td> 0</td>\n      <td> 3</td>\n      <td>  True</td>\n      <td>NaN</td>\n      <td>   7.7500</td>\n      <td> False</td>\n      <td> False</td>\n      <td>  True</td>\n    </tr>\n    <tr>\n      <th>128</th>\n      <td> 1</td>\n      <td> 3</td>\n      <td> False</td>\n      <td>NaN</td>\n      <td>  22.3583</td>\n      <td> False</td>\n      <td> False</td>\n      <td>  True</td>\n    </tr>\n    <tr>\n      <th>140</th>\n      <td> 0</td>\n      <td> 3</td>\n      <td> False</td>\n      <td>NaN</td>\n      <td>  15.2458</td>\n      <td> False</td>\n      <td> False</td>\n      <td>  True</td>\n    </tr>\n    <tr>\n      <th>154</th>\n      <td> 0</td>\n      <td> 3</td>\n      <td>  True</td>\n      <td>NaN</td>\n      <td>   7.3125</td>\n      <td> False</td>\n      <td> False</td>\n      <td>  True</td>\n    </tr>\n    <tr>\n      <th>158</th>\n      <td> 0</td>\n      <td> 3</td>\n      <td>  True</td>\n      <td>NaN</td>\n      <td>   8.6625</td>\n      <td> False</td>\n      <td> False</td>\n      <td>  True</td>\n    </tr>\n    <tr>\n      <th>159</th>\n      <td> 0</td>\n      <td> 3</td>\n      <td>  True</td>\n      <td>NaN</td>\n      <td>  69.5500</td>\n      <td> False</td>\n      <td> False</td>\n      <td>  True</td>\n    </tr>\n    <tr>\n      <th>166</th>\n      <td> 1</td>\n      <td> 1</td>\n      <td> False</td>\n      <td>NaN</td>\n      <td>  55.0000</td>\n      <td>  True</td>\n      <td> False</td>\n      <td> False</td>\n    </tr>\n    <tr>\n      <th>168</th>\n      <td> 0</td>\n      <td> 1</td>\n      <td>  True</td>\n      <td>NaN</td>\n      <td>  25.9250</td>\n      <td>  True</td>\n      <td> False</td>\n      <td> False</td>\n    </tr>\n    <tr>\n      <th>176</th>\n      <td> 0</td>\n      <td> 3</td>\n      <td>  True</td>\n      <td>NaN</td>\n      <td>  25.4667</td>\n      <td> False</td>\n      <td> False</td>\n      <td>  True</td>\n    </tr>\n    <tr>\n      <th>180</th>\n      <td> 0</td>\n      <td> 3</td>\n      <td> False</td>\n      <td>NaN</td>\n      <td>  69.5500</td>\n      <td> False</td>\n      <td> False</td>\n      <td>  True</td>\n    </tr>\n    <tr>\n      <th>181</th>\n      <td> 0</td>\n      <td> 2</td>\n      <td>  True</td>\n      <td>NaN</td>\n      <td>  15.0500</td>\n      <td> False</td>\n      <td>  True</td>\n      <td> False</td>\n    </tr>\n    <tr>\n      <th>185</th>\n      <td> 0</td>\n      <td> 1</td>\n      <td>  True</td>\n      <td>NaN</td>\n      <td>  50.0000</td>\n      <td>  True</td>\n      <td> False</td>\n      <td> False</td>\n    </tr>\n    <tr>\n      <th>186</th>\n      <td> 1</td>\n      <td> 3</td>\n      <td> False</td>\n      <td>NaN</td>\n      <td>  15.5000</td>\n      <td> False</td>\n      <td> False</td>\n      <td>  True</td>\n    </tr>\n    <tr>\n      <th>196</th>\n      <td> 0</td>\n      <td> 3</td>\n      <td>  True</td>\n      <td>NaN</td>\n      <td>   7.7500</td>\n      <td> False</td>\n      <td> False</td>\n      <td>  True</td>\n    </tr>\n    <tr>\n      <th>198</th>\n      <td> 1</td>\n      <td> 3</td>\n      <td> False</td>\n      <td>NaN</td>\n      <td>   7.7500</td>\n      <td> False</td>\n      <td> False</td>\n      <td>  True</td>\n    </tr>\n    <tr>\n      <th>201</th>\n      <td> 0</td>\n      <td> 3</td>\n      <td>  True</td>\n      <td>NaN</td>\n      <td>  69.5500</td>\n      <td> False</td>\n      <td> False</td>\n      <td>  True</td>\n    </tr>\n    <tr>\n      <th>214</th>\n      <td> 0</td>\n      <td> 3</td>\n      <td>  True</td>\n      <td>NaN</td>\n      <td>   7.7500</td>\n      <td> False</td>\n      <td> False</td>\n      <td>  True</td>\n    </tr>\n    <tr>\n      <th>223</th>\n      <td> 0</td>\n      <td> 3</td>\n      <td>  True</td>\n      <td>NaN</td>\n      <td>   7.8958</td>\n      <td> False</td>\n      <td> False</td>\n      <td>  True</td>\n    </tr>\n    <tr>\n      <th>229</th>\n      <td> 0</td>\n      <td> 3</td>\n      <td> False</td>\n      <td>NaN</td>\n      <td>  25.4667</td>\n      <td> False</td>\n      <td> False</td>\n      <td>  True</td>\n    </tr>\n    <tr>\n      <th>235</th>\n      <td> 0</td>\n      <td> 3</td>\n      <td> False</td>\n      <td>NaN</td>\n      <td>   7.5500</td>\n      <td> False</td>\n      <td> False</td>\n      <td>  True</td>\n    </tr>\n    <tr>\n      <th>240</th>\n      <td> 0</td>\n      <td> 3</td>\n      <td> False</td>\n      <td>NaN</td>\n      <td>  14.4542</td>\n      <td> False</td>\n      <td> False</td>\n      <td>  True</td>\n    </tr>\n    <tr>\n      <th>241</th>\n      <td> 1</td>\n      <td> 3</td>\n      <td> False</td>\n      <td>NaN</td>\n      <td>  15.5000</td>\n      <td> False</td>\n      <td> False</td>\n      <td>  True</td>\n    </tr>\n    <tr>\n      <th>250</th>\n      <td> 0</td>\n      <td> 3</td>\n      <td>  True</td>\n      <td>NaN</td>\n      <td>   7.2500</td>\n      <td> False</td>\n      <td> False</td>\n      <td>  True</td>\n    </tr>\n    <tr>\n      <th>256</th>\n      <td> 1</td>\n      <td> 1</td>\n      <td> False</td>\n      <td>NaN</td>\n      <td>  79.2000</td>\n      <td>  True</td>\n      <td> False</td>\n      <td> False</td>\n    </tr>\n    <tr>\n      <th>260</th>\n      <td> 0</td>\n      <td> 3</td>\n      <td>  True</td>\n      <td>NaN</td>\n      <td>   7.7500</td>\n      <td> False</td>\n      <td> False</td>\n      <td>  True</td>\n    </tr>\n    <tr>\n      <th>264</th>\n      <td> 0</td>\n      <td> 3</td>\n      <td> False</td>\n      <td>NaN</td>\n      <td>   7.7500</td>\n      <td> False</td>\n      <td> False</td>\n      <td>  True</td>\n    </tr>\n    <tr>\n      <th>270</th>\n      <td> 0</td>\n      <td> 1</td>\n      <td>  True</td>\n      <td>NaN</td>\n      <td>  31.0000</td>\n      <td>  True</td>\n      <td> False</td>\n      <td> False</td>\n    </tr>\n    <tr>\n      <th>274</th>\n      <td> 1</td>\n      <td> 3</td>\n      <td> False</td>\n      <td>NaN</td>\n      <td>   7.7500</td>\n      <td> False</td>\n      <td> False</td>\n      <td>  True</td>\n    </tr>\n    <tr>\n      <th>277</th>\n      <td> 0</td>\n      <td> 2</td>\n      <td>  True</td>\n      <td>NaN</td>\n      <td>   0.0000</td>\n      <td> False</td>\n      <td>  True</td>\n      <td> False</td>\n    </tr>\n    <tr>\n      <th>284</th>\n      <td> 0</td>\n      <td> 1</td>\n      <td>  True</td>\n      <td>NaN</td>\n      <td>  26.0000</td>\n      <td>  True</td>\n      <td> False</td>\n      <td> False</td>\n    </tr>\n    <tr>\n      <th>295</th>\n      <td> 0</td>\n      <td> 1</td>\n      <td>  True</td>\n      <td>NaN</td>\n      <td>  27.7208</td>\n      <td>  True</td>\n      <td> False</td>\n      <td> False</td>\n    </tr>\n    <tr>\n      <th>298</th>\n      <td> 1</td>\n      <td> 1</td>\n      <td>  True</td>\n      <td>NaN</td>\n      <td>  30.5000</td>\n      <td>  True</td>\n      <td> False</td>\n      <td> False</td>\n    </tr>\n    <tr>\n      <th>300</th>\n      <td> 1</td>\n      <td> 3</td>\n      <td> False</td>\n      <td>NaN</td>\n      <td>   7.7500</td>\n      <td> False</td>\n      <td> False</td>\n      <td>  True</td>\n    </tr>\n    <tr>\n      <th>301</th>\n      <td> 1</td>\n      <td> 3</td>\n      <td>  True</td>\n      <td>NaN</td>\n      <td>  23.2500</td>\n      <td> False</td>\n      <td> False</td>\n      <td>  True</td>\n    </tr>\n    <tr>\n      <th></th>\n      <td>...</td>\n      <td>...</td>\n      <td>...</td>\n      <td>...</td>\n      <td>...</td>\n      <td>...</td>\n      <td>...</td>\n      <td>...</td>\n    </tr>\n  </tbody>\n</table>\n<p>177 rows \u00d7 8 columns</p>\n</div>",
       "metadata": {},
       "output_type": "pyout",
       "prompt_number": 16,
       "text": "     survived  pclass    sex  age      fare first_class second_class  \\\n5           0       3   True  NaN    8.4583       False        False   \n17          1       2   True  NaN   13.0000       False         True   \n19          1       3  False  NaN    7.2250       False        False   \n26          0       3   True  NaN    7.2250       False        False   \n28          1       3  False  NaN    7.8792       False        False   \n29          0       3   True  NaN    7.8958       False        False   \n31          1       1  False  NaN  146.5208        True        False   \n32          1       3  False  NaN    7.7500       False        False   \n36          1       3   True  NaN    7.2292       False        False   \n42          0       3   True  NaN    7.8958       False        False   \n45          0       3   True  NaN    8.0500       False        False   \n46          0       3   True  NaN   15.5000       False        False   \n47          1       3  False  NaN    7.7500       False        False   \n48          0       3   True  NaN   21.6792       False        False   \n55          1       1   True  NaN   35.5000        True        False   \n64          0       1   True  NaN   27.7208        True        False   \n65          1       3   True  NaN   15.2458       False        False   \n76          0       3   True  NaN    7.8958       False        False   \n77          0       3   True  NaN    8.0500       False        False   \n82          1       3  False  NaN    7.7875       False        False   \n87          0       3   True  NaN    8.0500       False        False   \n95          0       3   True  NaN    8.0500       False        False   \n101         0       3   True  NaN    7.8958       False        False   \n107         1       3   True  NaN    7.7750       False        False   \n109         1       3  False  NaN   24.1500       False        False   \n121         0       3   True  NaN    8.0500       False        False   \n126         0       3   True  NaN    7.7500       False        False   \n128         1       3  False  NaN   22.3583       False        False   \n140         0       3  False  NaN   15.2458       False        False   \n154         0       3   True  NaN    7.3125       False        False   \n158         0       3   True  NaN    8.6625       False        False   \n159         0       3   True  NaN   69.5500       False        False   \n166         1       1  False  NaN   55.0000        True        False   \n168         0       1   True  NaN   25.9250        True        False   \n176         0       3   True  NaN   25.4667       False        False   \n180         0       3  False  NaN   69.5500       False        False   \n181         0       2   True  NaN   15.0500       False         True   \n185         0       1   True  NaN   50.0000        True        False   \n186         1       3  False  NaN   15.5000       False        False   \n196         0       3   True  NaN    7.7500       False        False   \n198         1       3  False  NaN    7.7500       False        False   \n201         0       3   True  NaN   69.5500       False        False   \n214         0       3   True  NaN    7.7500       False        False   \n223         0       3   True  NaN    7.8958       False        False   \n229         0       3  False  NaN   25.4667       False        False   \n235         0       3  False  NaN    7.5500       False        False   \n240         0       3  False  NaN   14.4542       False        False   \n241         1       3  False  NaN   15.5000       False        False   \n250         0       3   True  NaN    7.2500       False        False   \n256         1       1  False  NaN   79.2000        True        False   \n260         0       3   True  NaN    7.7500       False        False   \n264         0       3  False  NaN    7.7500       False        False   \n270         0       1   True  NaN   31.0000        True        False   \n274         1       3  False  NaN    7.7500       False        False   \n277         0       2   True  NaN    0.0000       False         True   \n284         0       1   True  NaN   26.0000        True        False   \n295         0       1   True  NaN   27.7208        True        False   \n298         1       1   True  NaN   30.5000        True        False   \n300         1       3  False  NaN    7.7500       False        False   \n301         1       3   True  NaN   23.2500       False        False   \n          ...     ...    ...  ...       ...         ...          ...   \n\n    third_class  \n5          True  \n17        False  \n19         True  \n26         True  \n28         True  \n29         True  \n31        False  \n32         True  \n36         True  \n42         True  \n45         True  \n46         True  \n47         True  \n48         True  \n55        False  \n64        False  \n65         True  \n76         True  \n77         True  \n82         True  \n87         True  \n95         True  \n101        True  \n107        True  \n109        True  \n121        True  \n126        True  \n128        True  \n140        True  \n154        True  \n158        True  \n159        True  \n166       False  \n168       False  \n176        True  \n180        True  \n181       False  \n185       False  \n186        True  \n196        True  \n198        True  \n201        True  \n214        True  \n223        True  \n229        True  \n235        True  \n240        True  \n241        True  \n250        True  \n256       False  \n260        True  \n264        True  \n270       False  \n274        True  \n277       False  \n284       False  \n295       False  \n298       False  \n300        True  \n301        True  \n            ...  \n\n[177 rows x 8 columns]"
      }
     ],
     "prompt_number": 16
    },
    {
     "cell_type": "code",
     "collapsed": false,
     "input": "class1_age_f, class1_age_p = f_regression(r_train[['first_class']].values, r_train['age'].values)\nclass2_age_f, class2_age_p = f_regression(r_train[['second_class']].values, r_train['age'].values)\nclass3_age_f, class3_age_p = f_regression(r_train[['third_class']].values, r_train['age'].values)\nsex_age_f, sex_age_p = f_regression(r_train[['sex']].values, r_train['age'].values)\nfare_age_f, fare_age_p = f_regression(r_train[['fare']].values, r_train['age'].values)\n\nall5_age_f, all5_age_p= f_regression(r_train[['first_class', 'second_class', 'third_class','sex','fare']].values, r_train['age'].values)\n\nprint 'F-class1: ',class1_age_f\nprint 'P-class1: ',class1_age_p\nprint 'F-class2: ',class2_age_f\nprint 'P-class2: ',class2_age_p\nprint 'F-class3: ',class3_age_f\nprint 'P-class3: ',class3_age_p\n\nprint 'F-sex: ',sex_age_f\nprint 'P-sex: ',sex_age_p\nprint 'F-fare: ',fare_age_f\nprint 'P-fare: ',fare_age_p\n\nprint 'F-all5: ',all5_age_f\nprint 'P-all5: ',all5_age_p\n\n# p-score of second class is irrelevant. so do not include in regression to fill in age gaps",
     "language": "python",
     "metadata": {},
     "outputs": [
      {
       "output_type": "stream",
       "stream": "stdout",
       "text": "F-class1:  [ 98.7121836]\nP-class1:  [  7.15889847e-22]\nF-class2:  [ 0.03443289]\nP-class2:  [ 0.85284187]\nF-class3:  [ 76.93138007]\nP-class3:  [  1.29559378e-17]\nF-sex:  [ 6.2460324]\nP-sex:  [ 0.0126713]\nF-fare:  [ 6.63211876]\nP-fare:  [ 0.01021628]\nF-all5:  [  9.87121836e+01   3.44328942e-02   7.69313801e+01   6.24603240e+00\n   6.63211876e+00]\nP-all5:  [  7.15889847e-22   8.52841868e-01   1.29559378e-17   1.26712968e-02\n   1.02162775e-02]\n"
      }
     ],
     "prompt_number": 18
    },
    {
     "cell_type": "code",
     "collapsed": false,
     "input": "fit_for_age = LinearRegression()\nfit_for_age.fit(r_train[['first_class', 'third_class','sex','fare']].values, r_train['age'].values)\nprint  fit_for_age.intercept_, fit_for_age.coef_\nprint \"R^2: \", fit_for_age.score(r_train[['first_class', 'third_class','sex','fare']].values, r_train['age'].values)",
     "language": "python",
     "metadata": {},
     "outputs": [
      {
       "output_type": "stream",
       "stream": "stdout",
       "text": "28.5578840903 [ 11.50684948  -5.67727363   4.01807797  -0.04562392]\nR^2:  0.17892948676\n"
      }
     ],
     "prompt_number": 20
    },
    {
     "cell_type": "code",
     "collapsed": false,
     "input": "# Make predictions on test set\npredict_age = fit_for_age.predict(r_test[['first_class', 'third_class','sex','fare']].values)\npredict_age[:10]",
     "language": "python",
     "metadata": {},
     "outputs": [
      {
       "metadata": {},
       "output_type": "pyout",
       "prompt_number": 43,
       "text": "array([26.51278762201188, 31.98285109372928, 22.550977630677405,\n       26.56905560343693, 22.521130461741812, 26.53845107741737,\n       33.379880208132796, 22.527025072298947, 26.568863982969905,\n       26.53845107741737], dtype=object)"
      }
     ],
     "prompt_number": 43
    },
    {
     "cell_type": "code",
     "collapsed": true,
     "input": "print len(records[records.age.isnull()].age)\nprint len(predict_age)",
     "language": "python",
     "metadata": {},
     "outputs": [
      {
       "output_type": "stream",
       "stream": "stdout",
       "text": "177\n177\n"
      }
     ],
     "prompt_number": 44
    },
    {
     "cell_type": "code",
     "collapsed": false,
     "input": "#records[records.age.isnull()].age = predict_age\nrecords.loc[:,'age'][(records.age  > 0) == False] = predict_age",
     "language": "python",
     "metadata": {},
     "outputs": [
      {
       "output_type": "stream",
       "stream": "stderr",
       "text": "/home/chris/anaconda/lib/python2.7/site-packages/pandas/core/series.py:635: SettingWithCopyWarning: A value is trying to be set on a copy of a slice from a DataFrame\n  self.where(~key, value, inplace=True)\n"
      }
     ],
     "prompt_number": 57
    },
    {
     "cell_type": "code",
     "collapsed": false,
     "input": "records.loc[:,'age'] = records['age'].astype(int)\n",
     "language": "python",
     "metadata": {},
     "outputs": [
      {
       "output_type": "stream",
       "stream": "stderr",
       "text": "/home/chris/anaconda/lib/python2.7/site-packages/pandas/core/indexing.py:346: SettingWithCopyWarning: A value is trying to be set on a copy of a slice from a DataFrame.\nTry using .loc[row_index,col_indexer] = value instead\n  self.obj[item] = s\n"
      }
     ],
     "prompt_number": 59
    },
    {
     "cell_type": "code",
     "collapsed": false,
     "input": "records.head()",
     "language": "python",
     "metadata": {},
     "outputs": [
      {
       "html": "<div style=\"max-height:1000px;max-width:1500px;overflow:auto;\">\n<table border=\"1\" class=\"dataframe\">\n  <thead>\n    <tr style=\"text-align: right;\">\n      <th></th>\n      <th>survived</th>\n      <th>pclass</th>\n      <th>sex</th>\n      <th>age</th>\n      <th>fare</th>\n      <th>first_class</th>\n      <th>second_class</th>\n      <th>third_class</th>\n    </tr>\n  </thead>\n  <tbody>\n    <tr>\n      <th>0</th>\n      <td> 0</td>\n      <td> 3</td>\n      <td>  True</td>\n      <td> 22</td>\n      <td>  7.2500</td>\n      <td> False</td>\n      <td> False</td>\n      <td>  True</td>\n    </tr>\n    <tr>\n      <th>1</th>\n      <td> 1</td>\n      <td> 1</td>\n      <td> False</td>\n      <td> 38</td>\n      <td> 71.2833</td>\n      <td>  True</td>\n      <td> False</td>\n      <td> False</td>\n    </tr>\n    <tr>\n      <th>2</th>\n      <td> 1</td>\n      <td> 3</td>\n      <td> False</td>\n      <td> 26</td>\n      <td>  7.9250</td>\n      <td> False</td>\n      <td> False</td>\n      <td>  True</td>\n    </tr>\n    <tr>\n      <th>3</th>\n      <td> 1</td>\n      <td> 1</td>\n      <td> False</td>\n      <td> 35</td>\n      <td> 53.1000</td>\n      <td>  True</td>\n      <td> False</td>\n      <td> False</td>\n    </tr>\n    <tr>\n      <th>4</th>\n      <td> 0</td>\n      <td> 3</td>\n      <td>  True</td>\n      <td> 35</td>\n      <td>  8.0500</td>\n      <td> False</td>\n      <td> False</td>\n      <td>  True</td>\n    </tr>\n  </tbody>\n</table>\n<p>5 rows \u00d7 8 columns</p>\n</div>",
       "metadata": {},
       "output_type": "pyout",
       "prompt_number": 62,
       "text": "   survived  pclass    sex  age     fare first_class second_class third_class\n0         0       3   True   22   7.2500       False        False        True\n1         1       1  False   38  71.2833        True        False       False\n2         1       3  False   26   7.9250       False        False        True\n3         1       1  False   35  53.1000        True        False       False\n4         0       3   True   35   8.0500       False        False        True\n\n[5 rows x 8 columns]"
      }
     ],
     "prompt_number": 62
    },
    {
     "cell_type": "code",
     "collapsed": false,
     "input": "fit_for_surv = LinearRegression()\nfit_for_surv.fit(records[['first_class','second_class','third_class', 'age', 'sex', 'fare']].values, records['survived'].values)\nprint  fit_for_surv.intercept_, fit_for_surv.coef_\nprint \"R^2: \", fit_for_surv.score(records[['first_class','second_class','third_class', 'age', 'sex', 'fare']].values, records['survived'].values)",
     "language": "python",
     "metadata": {},
     "outputs": [
      {
       "output_type": "stream",
       "stream": "stdout",
       "text": "0.919887356155 [  1.92904143e-01   2.76855416e-03  -1.95672697e-01  -5.41957331e-03\n  -4.91178946e-01   2.83994300e-05]\nR^2:  0.385516764425\n"
      }
     ],
     "prompt_number": 66
    },
    {
     "cell_type": "code",
     "collapsed": false,
     "input": "records.head()",
     "language": "python",
     "metadata": {},
     "outputs": [
      {
       "html": "<div style=\"max-height:1000px;max-width:1500px;overflow:auto;\">\n<table border=\"1\" class=\"dataframe\">\n  <thead>\n    <tr style=\"text-align: right;\">\n      <th></th>\n      <th>survived</th>\n      <th>pclass</th>\n      <th>sex</th>\n      <th>age</th>\n      <th>fare</th>\n      <th>sex_id</th>\n      <th>first_class</th>\n      <th>second_class</th>\n      <th>third_class</th>\n    </tr>\n  </thead>\n  <tbody>\n    <tr>\n      <th>0</th>\n      <td> 0</td>\n      <td> 3</td>\n      <td>   male</td>\n      <td> 22</td>\n      <td>  7.2500</td>\n      <td>  True</td>\n      <td> False</td>\n      <td> False</td>\n      <td>  True</td>\n    </tr>\n    <tr>\n      <th>1</th>\n      <td> 1</td>\n      <td> 1</td>\n      <td> female</td>\n      <td> 38</td>\n      <td> 71.2833</td>\n      <td> False</td>\n      <td>  True</td>\n      <td> False</td>\n      <td> False</td>\n    </tr>\n    <tr>\n      <th>2</th>\n      <td> 1</td>\n      <td> 3</td>\n      <td> female</td>\n      <td> 26</td>\n      <td>  7.9250</td>\n      <td> False</td>\n      <td> False</td>\n      <td> False</td>\n      <td>  True</td>\n    </tr>\n    <tr>\n      <th>3</th>\n      <td> 1</td>\n      <td> 1</td>\n      <td> female</td>\n      <td> 35</td>\n      <td> 53.1000</td>\n      <td> False</td>\n      <td>  True</td>\n      <td> False</td>\n      <td> False</td>\n    </tr>\n    <tr>\n      <th>4</th>\n      <td> 0</td>\n      <td> 3</td>\n      <td>   male</td>\n      <td> 35</td>\n      <td>  8.0500</td>\n      <td>  True</td>\n      <td> False</td>\n      <td> False</td>\n      <td>  True</td>\n    </tr>\n  </tbody>\n</table>\n<p>5 rows \u00d7 9 columns</p>\n</div>",
       "metadata": {},
       "output_type": "pyout",
       "prompt_number": 57,
       "text": "   survived  pclass     sex  age     fare sex_id first_class second_class  \\\n0         0       3    male   22   7.2500   True       False        False   \n1         1       1  female   38  71.2833  False        True        False   \n2         1       3  female   26   7.9250  False       False        False   \n3         1       1  female   35  53.1000  False        True        False   \n4         0       3    male   35   8.0500   True       False        False   \n\n  third_class  \n0        True  \n1       False  \n2        True  \n3       False  \n4        True  \n\n[5 rows x 9 columns]"
      }
     ],
     "prompt_number": 57
    },
    {
     "cell_type": "markdown",
     "metadata": {},
     "source": "Separate training and test sets"
    },
    {
     "cell_type": "code",
     "collapsed": false,
     "input": "rec_X = records[['sex', 'age','fare','sex','first_class', 'second_class','third_class']]\nrec_Y = records['survived']",
     "language": "python",
     "metadata": {},
     "outputs": [],
     "prompt_number": 68
    },
    {
     "cell_type": "code",
     "collapsed": false,
     "input": "from sklearn.cross_validation import train_test_split",
     "language": "python",
     "metadata": {},
     "outputs": [],
     "prompt_number": 71
    },
    {
     "cell_type": "code",
     "collapsed": false,
     "input": "X_train, X_test, y_train, y_test = train_test_split(rec_X, rec_Y, test_size=0.25)",
     "language": "python",
     "metadata": {},
     "outputs": [],
     "prompt_number": 72
    },
    {
     "cell_type": "code",
     "collapsed": false,
     "input": "len(X_train), len(y_train), len(X_test), len(y_test)",
     "language": "python",
     "metadata": {},
     "outputs": [
      {
       "metadata": {},
       "output_type": "pyout",
       "prompt_number": 76,
       "text": "(668, 668, 223, 223)"
      }
     ],
     "prompt_number": 76
    },
    {
     "cell_type": "heading",
     "level": 3,
     "metadata": {},
     "source": "Decision Trees"
    },
    {
     "cell_type": "markdown",
     "metadata": {},
     "source": "Fit a decision tree with the data."
    },
    {
     "cell_type": "code",
     "collapsed": false,
     "input": "from sklearn import tree\nclf = tree.DecisionTreeClassifier(criterion='gini', max_depth=3,min_samples_leaf=5)\nclf = clf.fit(X_train,y_train)",
     "language": "python",
     "metadata": {},
     "outputs": [],
     "prompt_number": 77
    },
    {
     "cell_type": "markdown",
     "metadata": {},
     "source": "Measure Accuracy, precision, recall, f1 in the training set"
    },
    {
     "cell_type": "code",
     "collapsed": false,
     "input": "from sklearn import metrics\ndef measure_performance(X,y,clf, show_accuracy=True, show_classification_report=True, show_confusion_matrix=True):\n    y_pred=clf.predict(X)   \n    if show_accuracy:\n        print \"Accuracy:{0:.3f}\".format(metrics.accuracy_score(y,y_pred)),\"\\n\"\n\n    if show_classification_report:\n        print \"Classification report\"\n        print metrics.classification_report(y,y_pred),\"\\n\"\n        \n    if show_confusion_matrix:\n        print \"Confusion matrix\"\n        print metrics.confusion_matrix(y,y_pred),\"\\n\"\n        \nmeasure_performance(X_train,y_train,clf, show_classification_report=False, show_confusion_matrix=False)",
     "language": "python",
     "metadata": {},
     "outputs": [
      {
       "output_type": "stream",
       "stream": "stdout",
       "text": "Accuracy:0.819 \n\n"
      }
     ],
     "prompt_number": 78
    },
    {
     "cell_type": "markdown",
     "metadata": {},
     "source": "Perform leave-one-out cross validation to better measure performance, reducing variance"
    },
    {
     "cell_type": "code",
     "collapsed": false,
     "input": "from sklearn.cross_validation import cross_val_score, LeaveOneOut\nfrom sklearn import metrics\nfrom scipy.stats import sem\n\ndef loo_cv(X_train,y_train,clf):\n    # Perform Leave-One-Out cross validation\n    # We are preforming 1313 classifications!\n    loo = LeaveOneOut(X_train[:].shape[0])\n    scores=np.zeros(X_train[:].shape[0])\n    for train_index,test_index in loo:\n        X_train_cv, X_test_cv= X_train[train_index], X_train[test_index]\n        y_train_cv, y_test_cv= y_train[train_index], y_train[test_index]\n        clf = clf.fit(X_train_cv,y_train_cv)\n        y_pred=clf.predict(X_test_cv)\n        scores[test_index]=metrics.accuracy_score(y_test_cv.astype(int), y_pred.astype(int))\n    print (\"Mean score: {0:.3f} (+/-{1:.3f})\").format(np.mean(scores), sem(scores))\n\n",
     "language": "python",
     "metadata": {},
     "outputs": [],
     "prompt_number": 79
    },
    {
     "cell_type": "code",
     "collapsed": false,
     "input": "loo_cv(X_train, y_train,clf)\n",
     "language": "python",
     "metadata": {},
     "outputs": [
      {
       "output_type": "stream",
       "stream": "stdout",
       "text": "Mean score: 0.810 (+/-0.015)\n"
      }
     ],
     "prompt_number": 80
    },
    {
     "cell_type": "markdown",
     "metadata": {},
     "source": "Try to improve performance using Random Forests"
    },
    {
     "cell_type": "code",
     "collapsed": false,
     "input": "from sklearn.ensemble import RandomForestClassifier\nclf = RandomForestClassifier(n_estimators=10,random_state=33)\nclf = clf.fit(X_train,y_train)\nloo_cv(X_train,y_train,clf)",
     "language": "python",
     "metadata": {},
     "outputs": [
      {
       "output_type": "stream",
       "stream": "stdout",
       "text": "Mean score: 0.796 (+/-0.016)\n"
      }
     ],
     "prompt_number": 81
    },
    {
     "cell_type": "markdown",
     "metadata": {},
     "source": "To evaluate performance on future data, evaluate on the training set and test on the evaluation set"
    },
    {
     "cell_type": "code",
     "collapsed": false,
     "input": "clf_dt=tree.DecisionTreeClassifier(criterion='gini', max_depth=3,min_samples_leaf=5)\nclf_dt.fit(X_train,y_train)\nmeasure_performance(X_test,y_test,clf_dt)\n\n",
     "language": "python",
     "metadata": {},
     "outputs": [
      {
       "output_type": "stream",
       "stream": "stdout",
       "text": "Accuracy:0.825 \n\nClassification report\n             precision    recall  f1-score   support\n\n          0       0.84      0.88      0.86       135\n          1       0.80      0.74      0.77        88\n\navg / total       0.82      0.83      0.82       223\n\n\nConfusion matrix\n[[119  16]\n [ 23  65]] \n\n"
      }
     ],
     "prompt_number": 89
    },
    {
     "cell_type": "heading",
     "level": 3,
     "metadata": {},
     "source": "A New Measure: the ROC and Area Under a Curve (AUC)"
    },
    {
     "cell_type": "markdown",
     "metadata": {},
     "source": "One way we can score a binary classification is by plotting the reciever operating characteristic and determining the value of the area under curve (AUC). Like above, our goal is to see an AUC as close to 1 as possible."
    },
    {
     "cell_type": "code",
     "collapsed": false,
     "input": "# Syntax for roc_curve is roc_curve(actual, prediction, [pos_label if it's not 1])\npredictions = [p[1] for p in clf_dt.predict_proba(X_train)]\nfpr_p, tpr_p, thresholds_p = metrics.roc_curve(y_train,predictions)\n\nfig = plt.figure()\nfig.set_figwidth(10)\nfig.suptitle('AUC for Decision Tree Classifier Predicting Titanic Survivors')\n\nax1 = plt.subplot(1, 2, 1)\nax1.set_xlabel('false positive rate')\nax1.set_ylabel('true positive rate')\nax1.plot(fpr_p, tpr_p)\n\nfpr, tpr, thresholds = metrics.roc_curve(y_train,clf_dt.predict(X_train))\nax2 = plt.subplot(1, 2, 2)\nax2.set_xlabel('false positive rate')\nax2.set_ylabel('true positive rate')\nax2.plot(fpr, tpr)\n\n\nprint \"False-positive rate:\", fpr\nprint \"True-positive rate: \", tpr\nprint \"Thresholds:         \", thresholds\n\nprint fig",
     "language": "python",
     "metadata": {},
     "outputs": [
      {
       "output_type": "stream",
       "stream": "stdout",
       "text": "False-positive rate: [ 0.          0.13012048  1.        ]\nTrue-positive rate:  [ 0.         0.6916996  1.       ]\nThresholds:          [ 2.  1.  0.]\nFigure(800x320)\n"
      },
      {
       "metadata": {},
       "output_type": "display_data",
       "png": "[encoded data removed]",
       "text": "<matplotlib.figure.Figure at 0x4acba90>"
      }
     ],
     "prompt_number": 29
    },
    {
     "cell_type": "markdown",
     "metadata": {},
     "source": "**Reading this**\n\nWhen we consider a positive (1) instance matching a postive (1) test, then that's considered a *true positive*; otherwise, it is considered a *false negative*. If the instance is a negative and it is classified as negative, we consider that a *true negative*; otherwise, a *false positive*. \n\nThe True Positive Rate (tpr) is calculated using true positives / all positives, while the False Positive Rate (fpr) is calculated using false negatives / all negatives.\n\nWe can find *sensitivity* as (True Negatives) / (False Positives + True Negatives).\n\nThe goal for an AUC curve is to be as close to point(0, 1) as possible, which means 0 false positive, and all true positives. \n\n"
    },
    {
     "cell_type": "heading",
     "level": 3,
     "metadata": {},
     "source": "Assignment"
    },
    {
     "cell_type": "markdown",
     "metadata": {},
     "source": "Continue plugging away at the titanic data set to see if you can come up with a **better** predictor than what we built above using either DT, RF, or naive bayes!\n\nYou will want to spend **MOST** of your time continuing to manipulate the data set, creating new features, and understanding the relationship between these features and how they contribute to predicting the \"survived\" data.\n\nPlease work with a partner and pair program."
    },
    {
     "cell_type": "heading",
     "level": 3,
     "metadata": {},
     "source": "Cinco De Mayo"
    },
    {
     "cell_type": "markdown",
     "metadata": {},
     "source": "All extra credit to anyone who wants to build a scraper and analyze tequila data:\n\nhttp://tequila.findthebest.com/\n\nhttp://www.tequila.net/nom-database.html"
    }
   ],
   "metadata": {}
  }
 ]
}