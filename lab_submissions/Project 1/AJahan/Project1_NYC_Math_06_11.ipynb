{
 "metadata": {
  "name": ""
 },
 "nbformat": 3,
 "nbformat_minor": 0,
 "worksheets": [
  {
   "cells": [
    {
     "cell_type": "markdown",
     "metadata": {},
     "source": [
      "#Data Science Project 1: NYC Dept. of Education Data on NYS Math Exam results\n",
      "\n",
      "Data source: https://nycopendata.socrata.com/data?cat=education  \n",
      "Data description:  \n",
      "NYS Math Exam Results for NYC between Grades 3-8 from 2006-2011.  \n",
      "Proficieny Level 1, 2- Below level for that grade  \n",
      "Proficiency Level 3- appropriate for that grade  \n",
      "Proficiency Level 4- above the alevel apprpriate for that grade  \n",
      "\n"
     ]
    },
    {
     "cell_type": "markdown",
     "metadata": {},
     "source": [
      "###What am I exploring?  \n",
      "- Exam Proficiency levels across all of NYC  \n",
      "- Exam Proficiency levels within boroughs  \n",
      "- Exam Proficiency levels across all of NYC by gender  \n",
      "- Exam Proficiency levels in NYC changes from 2006-2011  \n",
      "\n",
      "**------------------------------------------------------------------------------------------------**\n"
     ]
    },
    {
     "cell_type": "markdown",
     "metadata": {},
     "source": [
      "##1. Acquiring Data"
     ]
    },
    {
     "cell_type": "code",
     "collapsed": false,
     "input": [
      "%matplotlib inline\n",
      "import matplotlib.pyplot as plt\n",
      "import pandas as pd \n",
      "import numpy as np"
     ],
     "language": "python",
     "metadata": {},
     "outputs": [],
     "prompt_number": 1
    },
    {
     "cell_type": "markdown",
     "metadata": {},
     "source": [
      "Manual data fixing done before reading it here:  \n",
      "Removed columns with percentage (This I know)  \n",
      "Added columns 1&2 together to create a new one (I don't know how to do in Python\"  "
     ]
    },
    {
     "cell_type": "code",
     "collapsed": false,
     "input": [
      "BoroMath = pd.read_csv(\"MathTest_Boro2.csv\")\n",
      "#saved locally in the same folder"
     ],
     "language": "python",
     "metadata": {},
     "outputs": [],
     "prompt_number": 2
    },
    {
     "cell_type": "markdown",
     "metadata": {},
     "source": [
      "**------------------------------------------------------------------------------------------------**\n",
      "\n",
      "##2.Cleaning Data "
     ]
    },
    {
     "cell_type": "code",
     "collapsed": false,
     "input": [
      "BoroMath = BoroMath.rename(columns={'Level1&2': 'BelowAverage', 'Level3':'Average', 'Level4':'AboveAverage'})\n",
      "#renamed the header for ease \n",
      "\n",
      "BoroMath.head(3)"
     ],
     "language": "python",
     "metadata": {},
     "outputs": [
      {
       "html": [
        "<div style=\"max-height:1000px;max-width:1500px;overflow:auto;\">\n",
        "<table border=\"1\" class=\"dataframe\">\n",
        "  <thead>\n",
        "    <tr style=\"text-align: right;\">\n",
        "      <th></th>\n",
        "      <th>Borough</th>\n",
        "      <th>Grade</th>\n",
        "      <th>Year</th>\n",
        "      <th>Category</th>\n",
        "      <th>Number Tested</th>\n",
        "      <th>Mean Scale Score</th>\n",
        "      <th>BelowAverage</th>\n",
        "      <th>Average</th>\n",
        "      <th>AboveAverage</th>\n",
        "      <th>Level3&amp;4</th>\n",
        "    </tr>\n",
        "  </thead>\n",
        "  <tbody>\n",
        "    <tr>\n",
        "      <th>0</th>\n",
        "      <td> BRONX</td>\n",
        "      <td> 3</td>\n",
        "      <td> 2006</td>\n",
        "      <td> Female</td>\n",
        "      <td> 7984</td>\n",
        "      <td> 664</td>\n",
        "      <td> 2546</td>\n",
        "      <td> 4232</td>\n",
        "      <td> 1206</td>\n",
        "      <td> 5438</td>\n",
        "    </tr>\n",
        "    <tr>\n",
        "      <th>1</th>\n",
        "      <td> BRONX</td>\n",
        "      <td> 3</td>\n",
        "      <td> 2006</td>\n",
        "      <td>   Male</td>\n",
        "      <td> 8461</td>\n",
        "      <td> 663</td>\n",
        "      <td> 2773</td>\n",
        "      <td> 4386</td>\n",
        "      <td> 1302</td>\n",
        "      <td> 5688</td>\n",
        "    </tr>\n",
        "    <tr>\n",
        "      <th>2</th>\n",
        "      <td> BRONX</td>\n",
        "      <td> 3</td>\n",
        "      <td> 2007</td>\n",
        "      <td> Female</td>\n",
        "      <td> 7803</td>\n",
        "      <td> 675</td>\n",
        "      <td> 1780</td>\n",
        "      <td> 4410</td>\n",
        "      <td> 1613</td>\n",
        "      <td> 6023</td>\n",
        "    </tr>\n",
        "  </tbody>\n",
        "</table>\n",
        "<p>3 rows \u00d7 10 columns</p>\n",
        "</div>"
       ],
       "metadata": {},
       "output_type": "pyout",
       "prompt_number": 3,
       "text": [
        "  Borough Grade  Year Category  Number Tested  Mean Scale Score  BelowAverage  \\\n",
        "0   BRONX     3  2006   Female           7984               664          2546   \n",
        "1   BRONX     3  2006     Male           8461               663          2773   \n",
        "2   BRONX     3  2007   Female           7803               675          1780   \n",
        "\n",
        "   Average  AboveAverage  Level3&4  \n",
        "0     4232          1206      5438  \n",
        "1     4386          1302      5688  \n",
        "2     4410          1613      6023  \n",
        "\n",
        "[3 rows x 10 columns]"
       ]
      }
     ],
     "prompt_number": 3
    },
    {
     "cell_type": "code",
     "collapsed": false,
     "input": [
      "BoroMath2 = BoroMath.drop(['Level3&4'], inplace=True,axis=1)\n",
      "#Got rid of the Level3&4 here for practice, could've deleted in file like the others. "
     ],
     "language": "python",
     "metadata": {},
     "outputs": [],
     "prompt_number": 4
    },
    {
     "cell_type": "markdown",
     "metadata": {},
     "source": [
      "###Creating sorted groups:     \n",
      "\n",
      "_GroupedMath_ stores all entries for that borough (grades 3-8, all grades)  \n",
      "_AllMath_ stores all entries for a particular borough for \"All Grades\"  \n",
      "_AllStudents_ stores all the entries for \"All Students\" for all of the boroughs\n",
      "\n",
      "_Q: what form does this become? List? _   \n",
      "_Q: When would I care?_  \n",
      "_Q: Can I do math operations with this form?_   "
     ]
    },
    {
     "cell_type": "code",
     "collapsed": false,
     "input": [
      "GroupedBronxMath = BoroMath[BoroMath['Borough']=='BRONX']\n",
      "#This con\n",
      "AllBronxMath = GroupedBronxMath[GroupedBronxMath['Grade']=='All Grades']\n",
      "#AllBronxMath is all grades for a borough\n",
      "\n",
      "GroupedBrooklynMath = BoroMath[BoroMath['Borough']=='BROOKLYN']\n",
      "AllBrooklynMath = GroupedBrooklynMath[GroupedBrooklynMath['Grade']=='All Grades']\n",
      "\n",
      "GroupedManhattanMath = BoroMath[BoroMath['Borough']=='MANHATTAN']\n",
      "AllManhattanMath = GroupedManhattanMath[GroupedManhattanMath['Grade']=='All Grades']\n",
      "\n",
      "GroupedQueensMath = BoroMath[BoroMath['Borough']=='QUEENS']\n",
      "AllQueensMath = GroupedQueensMath[GroupedQueensMath['Grade']=='All Grades']\n",
      "\n",
      "GroupedSIMath = BoroMath[BoroMath['Borough']=='STATEN ISLAND']\n",
      "AllSIMath = GroupedSIMath[GroupedSIMath['Grade']=='All Grades']\n",
      "\n",
      "AllStudents = BoroMath[BoroMath['Grade']=='All Grades']\n",
      "\n",
      "#There's 12 per borough\n",
      "#6 per gender\n",
      "#2 per year"
     ],
     "language": "python",
     "metadata": {},
     "outputs": [],
     "prompt_number": 5
    },
    {
     "cell_type": "markdown",
     "metadata": {},
     "source": [
      "### All Students   \n"
     ]
    },
    {
     "cell_type": "code",
     "collapsed": false,
     "input": [
      "AllStudents.head(12)"
     ],
     "language": "python",
     "metadata": {},
     "outputs": [
      {
       "html": [
        "<div style=\"max-height:1000px;max-width:1500px;overflow:auto;\">\n",
        "<table border=\"1\" class=\"dataframe\">\n",
        "  <thead>\n",
        "    <tr style=\"text-align: right;\">\n",
        "      <th></th>\n",
        "      <th>Borough</th>\n",
        "      <th>Grade</th>\n",
        "      <th>Year</th>\n",
        "      <th>Category</th>\n",
        "      <th>Number Tested</th>\n",
        "      <th>Mean Scale Score</th>\n",
        "      <th>BelowAverage</th>\n",
        "      <th>Average</th>\n",
        "      <th>AboveAverage</th>\n",
        "    </tr>\n",
        "  </thead>\n",
        "  <tbody>\n",
        "    <tr>\n",
        "      <th>72</th>\n",
        "      <td> BRONX</td>\n",
        "      <td> All Grades</td>\n",
        "      <td> 2006</td>\n",
        "      <td> Female</td>\n",
        "      <td> 48244</td>\n",
        "      <td> 644</td>\n",
        "      <td> 26437</td>\n",
        "      <td> 18403</td>\n",
        "      <td> 3404</td>\n",
        "    </tr>\n",
        "    <tr>\n",
        "      <th>73</th>\n",
        "      <td> BRONX</td>\n",
        "      <td> All Grades</td>\n",
        "      <td> 2006</td>\n",
        "      <td>   Male</td>\n",
        "      <td> 49616</td>\n",
        "      <td> 642</td>\n",
        "      <td> 27282</td>\n",
        "      <td> 18682</td>\n",
        "      <td> 3652</td>\n",
        "    </tr>\n",
        "    <tr>\n",
        "      <th>74</th>\n",
        "      <td> BRONX</td>\n",
        "      <td> All Grades</td>\n",
        "      <td> 2007</td>\n",
        "      <td> Female</td>\n",
        "      <td> 47011</td>\n",
        "      <td> 654</td>\n",
        "      <td> 21301</td>\n",
        "      <td> 21034</td>\n",
        "      <td> 4676</td>\n",
        "    </tr>\n",
        "    <tr>\n",
        "      <th>75</th>\n",
        "      <td> BRONX</td>\n",
        "      <td> All Grades</td>\n",
        "      <td> 2007</td>\n",
        "      <td>   Male</td>\n",
        "      <td> 50061</td>\n",
        "      <td> 651</td>\n",
        "      <td> 23866</td>\n",
        "      <td> 21195</td>\n",
        "      <td> 5000</td>\n",
        "    </tr>\n",
        "    <tr>\n",
        "      <th>76</th>\n",
        "      <td> BRONX</td>\n",
        "      <td> All Grades</td>\n",
        "      <td> 2008</td>\n",
        "      <td> Female</td>\n",
        "      <td> 45661</td>\n",
        "      <td> 662</td>\n",
        "      <td> 15303</td>\n",
        "      <td> 25117</td>\n",
        "      <td> 5241</td>\n",
        "    </tr>\n",
        "    <tr>\n",
        "      <th>77</th>\n",
        "      <td> BRONX</td>\n",
        "      <td> All Grades</td>\n",
        "      <td> 2008</td>\n",
        "      <td>   Male</td>\n",
        "      <td> 48700</td>\n",
        "      <td> 659</td>\n",
        "      <td> 18005</td>\n",
        "      <td> 25219</td>\n",
        "      <td> 5476</td>\n",
        "    </tr>\n",
        "    <tr>\n",
        "      <th>78</th>\n",
        "      <td> BRONX</td>\n",
        "      <td> All Grades</td>\n",
        "      <td> 2009</td>\n",
        "      <td> Female</td>\n",
        "      <td> 45423</td>\n",
        "      <td> 671</td>\n",
        "      <td> 10599</td>\n",
        "      <td> 27585</td>\n",
        "      <td> 7239</td>\n",
        "    </tr>\n",
        "    <tr>\n",
        "      <th>79</th>\n",
        "      <td> BRONX</td>\n",
        "      <td> All Grades</td>\n",
        "      <td> 2009</td>\n",
        "      <td>   Male</td>\n",
        "      <td> 48521</td>\n",
        "      <td> 668</td>\n",
        "      <td> 13256</td>\n",
        "      <td> 27851</td>\n",
        "      <td> 7414</td>\n",
        "    </tr>\n",
        "    <tr>\n",
        "      <th>80</th>\n",
        "      <td> BRONX</td>\n",
        "      <td> All Grades</td>\n",
        "      <td> 2010</td>\n",
        "      <td> Female</td>\n",
        "      <td> 45466</td>\n",
        "      <td> 670</td>\n",
        "      <td> 26240</td>\n",
        "      <td> 13502</td>\n",
        "      <td> 5724</td>\n",
        "    </tr>\n",
        "    <tr>\n",
        "      <th>81</th>\n",
        "      <td> BRONX</td>\n",
        "      <td> All Grades</td>\n",
        "      <td> 2010</td>\n",
        "      <td>   Male</td>\n",
        "      <td> 48687</td>\n",
        "      <td> 668</td>\n",
        "      <td> 28920</td>\n",
        "      <td> 13910</td>\n",
        "      <td> 5857</td>\n",
        "    </tr>\n",
        "    <tr>\n",
        "      <th>82</th>\n",
        "      <td> BRONX</td>\n",
        "      <td> All Grades</td>\n",
        "      <td> 2011</td>\n",
        "      <td> Female</td>\n",
        "      <td> 45598</td>\n",
        "      <td> 672</td>\n",
        "      <td> 24794</td>\n",
        "      <td> 16042</td>\n",
        "      <td> 4762</td>\n",
        "    </tr>\n",
        "    <tr>\n",
        "      <th>83</th>\n",
        "      <td> BRONX</td>\n",
        "      <td> All Grades</td>\n",
        "      <td> 2011</td>\n",
        "      <td>   Male</td>\n",
        "      <td> 48423</td>\n",
        "      <td> 669</td>\n",
        "      <td> 27535</td>\n",
        "      <td> 15843</td>\n",
        "      <td> 5045</td>\n",
        "    </tr>\n",
        "  </tbody>\n",
        "</table>\n",
        "<p>12 rows \u00d7 9 columns</p>\n",
        "</div>"
       ],
       "metadata": {},
       "output_type": "pyout",
       "prompt_number": 6,
       "text": [
        "   Borough       Grade  Year Category  Number Tested  Mean Scale Score  \\\n",
        "72   BRONX  All Grades  2006   Female          48244               644   \n",
        "73   BRONX  All Grades  2006     Male          49616               642   \n",
        "74   BRONX  All Grades  2007   Female          47011               654   \n",
        "75   BRONX  All Grades  2007     Male          50061               651   \n",
        "76   BRONX  All Grades  2008   Female          45661               662   \n",
        "77   BRONX  All Grades  2008     Male          48700               659   \n",
        "78   BRONX  All Grades  2009   Female          45423               671   \n",
        "79   BRONX  All Grades  2009     Male          48521               668   \n",
        "80   BRONX  All Grades  2010   Female          45466               670   \n",
        "81   BRONX  All Grades  2010     Male          48687               668   \n",
        "82   BRONX  All Grades  2011   Female          45598               672   \n",
        "83   BRONX  All Grades  2011     Male          48423               669   \n",
        "\n",
        "    BelowAverage  Average  AboveAverage  \n",
        "72         26437    18403          3404  \n",
        "73         27282    18682          3652  \n",
        "74         21301    21034          4676  \n",
        "75         23866    21195          5000  \n",
        "76         15303    25117          5241  \n",
        "77         18005    25219          5476  \n",
        "78         10599    27585          7239  \n",
        "79         13256    27851          7414  \n",
        "80         26240    13502          5724  \n",
        "81         28920    13910          5857  \n",
        "82         24794    16042          4762  \n",
        "83         27535    15843          5045  \n",
        "\n",
        "[12 rows x 9 columns]"
       ]
      }
     ],
     "prompt_number": 6
    },
    {
     "cell_type": "code",
     "collapsed": false,
     "input": [
      "AllStudents.describe()"
     ],
     "language": "python",
     "metadata": {},
     "outputs": [
      {
       "html": [
        "<div style=\"max-height:1000px;max-width:1500px;overflow:auto;\">\n",
        "<table border=\"1\" class=\"dataframe\">\n",
        "  <thead>\n",
        "    <tr style=\"text-align: right;\">\n",
        "      <th></th>\n",
        "      <th>Year</th>\n",
        "      <th>Number Tested</th>\n",
        "      <th>Mean Scale Score</th>\n",
        "      <th>BelowAverage</th>\n",
        "      <th>Average</th>\n",
        "      <th>AboveAverage</th>\n",
        "    </tr>\n",
        "  </thead>\n",
        "  <tbody>\n",
        "    <tr>\n",
        "      <th>count</th>\n",
        "      <td>   60.000000</td>\n",
        "      <td>    60.000000</td>\n",
        "      <td>  60.000000</td>\n",
        "      <td>    60.000000</td>\n",
        "      <td>    60.000000</td>\n",
        "      <td>    60.000000</td>\n",
        "    </tr>\n",
        "    <tr>\n",
        "      <th>mean</th>\n",
        "      <td> 2008.500000</td>\n",
        "      <td> 42922.066667</td>\n",
        "      <td> 672.683333</td>\n",
        "      <td> 15044.266667</td>\n",
        "      <td> 18976.133333</td>\n",
        "      <td>  8901.666667</td>\n",
        "    </tr>\n",
        "    <tr>\n",
        "      <th>std</th>\n",
        "      <td>    1.722237</td>\n",
        "      <td> 20169.577332</td>\n",
        "      <td>  11.342872</td>\n",
        "      <td>  9136.840989</td>\n",
        "      <td>  9767.739463</td>\n",
        "      <td>  5341.662627</td>\n",
        "    </tr>\n",
        "    <tr>\n",
        "      <th>min</th>\n",
        "      <td> 2006.000000</td>\n",
        "      <td> 12431.000000</td>\n",
        "      <td> 642.000000</td>\n",
        "      <td>  1639.000000</td>\n",
        "      <td>  4452.000000</td>\n",
        "      <td>  2493.000000</td>\n",
        "    </tr>\n",
        "    <tr>\n",
        "      <th>25%</th>\n",
        "      <td> 2007.000000</td>\n",
        "      <td> 26797.000000</td>\n",
        "      <td> 665.750000</td>\n",
        "      <td>  6785.250000</td>\n",
        "      <td>  9237.000000</td>\n",
        "      <td>  4414.000000</td>\n",
        "    </tr>\n",
        "    <tr>\n",
        "      <th>50%</th>\n",
        "      <td> 2008.500000</td>\n",
        "      <td> 48333.500000</td>\n",
        "      <td> 673.500000</td>\n",
        "      <td> 13360.000000</td>\n",
        "      <td> 19191.500000</td>\n",
        "      <td>  6629.000000</td>\n",
        "    </tr>\n",
        "    <tr>\n",
        "      <th>75%</th>\n",
        "      <td> 2010.000000</td>\n",
        "      <td> 60109.250000</td>\n",
        "      <td> 682.000000</td>\n",
        "      <td> 22884.500000</td>\n",
        "      <td> 27596.750000</td>\n",
        "      <td> 13857.250000</td>\n",
        "    </tr>\n",
        "    <tr>\n",
        "      <th>max</th>\n",
        "      <td> 2011.000000</td>\n",
        "      <td> 70730.000000</td>\n",
        "      <td> 688.000000</td>\n",
        "      <td> 32470.000000</td>\n",
        "      <td> 36905.000000</td>\n",
        "      <td> 19667.000000</td>\n",
        "    </tr>\n",
        "  </tbody>\n",
        "</table>\n",
        "<p>8 rows \u00d7 6 columns</p>\n",
        "</div>"
       ],
       "metadata": {},
       "output_type": "pyout",
       "prompt_number": 7,
       "text": [
        "              Year  Number Tested  Mean Scale Score  BelowAverage  \\\n",
        "count    60.000000      60.000000         60.000000     60.000000   \n",
        "mean   2008.500000   42922.066667        672.683333  15044.266667   \n",
        "std       1.722237   20169.577332         11.342872   9136.840989   \n",
        "min    2006.000000   12431.000000        642.000000   1639.000000   \n",
        "25%    2007.000000   26797.000000        665.750000   6785.250000   \n",
        "50%    2008.500000   48333.500000        673.500000  13360.000000   \n",
        "75%    2010.000000   60109.250000        682.000000  22884.500000   \n",
        "max    2011.000000   70730.000000        688.000000  32470.000000   \n",
        "\n",
        "            Average  AboveAverage  \n",
        "count     60.000000     60.000000  \n",
        "mean   18976.133333   8901.666667  \n",
        "std     9767.739463   5341.662627  \n",
        "min     4452.000000   2493.000000  \n",
        "25%     9237.000000   4414.000000  \n",
        "50%    19191.500000   6629.000000  \n",
        "75%    27596.750000  13857.250000  \n",
        "max    36905.000000  19667.000000  \n",
        "\n",
        "[8 rows x 6 columns]"
       ]
      }
     ],
     "prompt_number": 7
    },
    {
     "cell_type": "markdown",
     "metadata": {},
     "source": [
      "_This doesn't tell much because of the data type_"
     ]
    },
    {
     "cell_type": "code",
     "collapsed": false,
     "input": [
      "AllStudentsYr = AllStudents.groupby(['Year','Category']).sum()\n",
      "\n",
      "AllStudentsYr"
     ],
     "language": "python",
     "metadata": {},
     "outputs": [
      {
       "html": [
        "<div style=\"max-height:1000px;max-width:1500px;overflow:auto;\">\n",
        "<table border=\"1\" class=\"dataframe\">\n",
        "  <thead>\n",
        "    <tr style=\"text-align: right;\">\n",
        "      <th></th>\n",
        "      <th></th>\n",
        "      <th>Number Tested</th>\n",
        "      <th>Mean Scale Score</th>\n",
        "      <th>BelowAverage</th>\n",
        "      <th>Average</th>\n",
        "      <th>AboveAverage</th>\n",
        "    </tr>\n",
        "    <tr>\n",
        "      <th>Year</th>\n",
        "      <th>Category</th>\n",
        "      <th></th>\n",
        "      <th></th>\n",
        "      <th></th>\n",
        "      <th></th>\n",
        "      <th></th>\n",
        "    </tr>\n",
        "  </thead>\n",
        "  <tbody>\n",
        "    <tr>\n",
        "      <th rowspan=\"2\" valign=\"top\">2006</th>\n",
        "      <th>Female</th>\n",
        "      <td> 216807</td>\n",
        "      <td> 3289</td>\n",
        "      <td>  90995</td>\n",
        "      <td>  93221</td>\n",
        "      <td> 32591</td>\n",
        "    </tr>\n",
        "    <tr>\n",
        "      <th>Male</th>\n",
        "      <td> 223781</td>\n",
        "      <td> 3282</td>\n",
        "      <td>  96436</td>\n",
        "      <td>  93633</td>\n",
        "      <td> 33712</td>\n",
        "    </tr>\n",
        "    <tr>\n",
        "      <th rowspan=\"2\" valign=\"top\">2007</th>\n",
        "      <th>Female</th>\n",
        "      <td> 211962</td>\n",
        "      <td> 3335</td>\n",
        "      <td>  71104</td>\n",
        "      <td>  99512</td>\n",
        "      <td> 41346</td>\n",
        "    </tr>\n",
        "    <tr>\n",
        "      <th>Male</th>\n",
        "      <td> 222919</td>\n",
        "      <td> 3322</td>\n",
        "      <td>  80398</td>\n",
        "      <td> 100880</td>\n",
        "      <td> 41641</td>\n",
        "    </tr>\n",
        "    <tr>\n",
        "      <th rowspan=\"2\" valign=\"top\">2008</th>\n",
        "      <th>Female</th>\n",
        "      <td> 206949</td>\n",
        "      <td> 3370</td>\n",
        "      <td>  49665</td>\n",
        "      <td> 111877</td>\n",
        "      <td> 45407</td>\n",
        "    </tr>\n",
        "    <tr>\n",
        "      <th>Male</th>\n",
        "      <td> 217858</td>\n",
        "      <td> 3357</td>\n",
        "      <td>  59549</td>\n",
        "      <td> 112195</td>\n",
        "      <td> 46114</td>\n",
        "    </tr>\n",
        "    <tr>\n",
        "      <th rowspan=\"2\" valign=\"top\">2009</th>\n",
        "      <th>Female</th>\n",
        "      <td> 206320</td>\n",
        "      <td> 3408</td>\n",
        "      <td>  34282</td>\n",
        "      <td> 116928</td>\n",
        "      <td> 55110</td>\n",
        "    </tr>\n",
        "    <tr>\n",
        "      <th>Male</th>\n",
        "      <td> 217072</td>\n",
        "      <td> 3394</td>\n",
        "      <td>  42827</td>\n",
        "      <td> 119581</td>\n",
        "      <td> 54664</td>\n",
        "    </tr>\n",
        "    <tr>\n",
        "      <th rowspan=\"2\" valign=\"top\">2010</th>\n",
        "      <th>Female</th>\n",
        "      <td> 207155</td>\n",
        "      <td> 3404</td>\n",
        "      <td>  92805</td>\n",
        "      <td>  66925</td>\n",
        "      <td> 47425</td>\n",
        "    </tr>\n",
        "    <tr>\n",
        "      <th>Male</th>\n",
        "      <td> 218583</td>\n",
        "      <td> 3393</td>\n",
        "      <td> 103001</td>\n",
        "      <td>  68683</td>\n",
        "      <td> 46899</td>\n",
        "    </tr>\n",
        "    <tr>\n",
        "      <th rowspan=\"2\" valign=\"top\">2011</th>\n",
        "      <th>Female</th>\n",
        "      <td> 207503</td>\n",
        "      <td> 3409</td>\n",
        "      <td>  85770</td>\n",
        "      <td>  77753</td>\n",
        "      <td> 43980</td>\n",
        "    </tr>\n",
        "    <tr>\n",
        "      <th>Male</th>\n",
        "      <td> 218415</td>\n",
        "      <td> 3398</td>\n",
        "      <td>  95824</td>\n",
        "      <td>  77380</td>\n",
        "      <td> 45211</td>\n",
        "    </tr>\n",
        "  </tbody>\n",
        "</table>\n",
        "<p>12 rows \u00d7 5 columns</p>\n",
        "</div>"
       ],
       "metadata": {},
       "output_type": "pyout",
       "prompt_number": 8,
       "text": [
        "               Number Tested  Mean Scale Score  BelowAverage  Average  \\\n",
        "Year Category                                                           \n",
        "2006 Female           216807              3289         90995    93221   \n",
        "     Male             223781              3282         96436    93633   \n",
        "2007 Female           211962              3335         71104    99512   \n",
        "     Male             222919              3322         80398   100880   \n",
        "2008 Female           206949              3370         49665   111877   \n",
        "     Male             217858              3357         59549   112195   \n",
        "2009 Female           206320              3408         34282   116928   \n",
        "     Male             217072              3394         42827   119581   \n",
        "2010 Female           207155              3404         92805    66925   \n",
        "     Male             218583              3393        103001    68683   \n",
        "2011 Female           207503              3409         85770    77753   \n",
        "     Male             218415              3398         95824    77380   \n",
        "\n",
        "               AboveAverage  \n",
        "Year Category                \n",
        "2006 Female           32591  \n",
        "     Male             33712  \n",
        "2007 Female           41346  \n",
        "     Male             41641  \n",
        "2008 Female           45407  \n",
        "     Male             46114  \n",
        "2009 Female           55110  \n",
        "     Male             54664  \n",
        "2010 Female           47425  \n",
        "     Male             46899  \n",
        "2011 Female           43980  \n",
        "     Male             45211  \n",
        "\n",
        "[12 rows x 5 columns]"
       ]
      }
     ],
     "prompt_number": 8
    },
    {
     "cell_type": "markdown",
     "metadata": {},
     "source": [
      "###All FEMALE Students"
     ]
    },
    {
     "cell_type": "code",
     "collapsed": false,
     "input": [
      "Allgirls = AllStudents[AllStudents['Category']=='Female']\n",
      "Allgirls.groupby(['Year']).sum()"
     ],
     "language": "python",
     "metadata": {},
     "outputs": [
      {
       "html": [
        "<div style=\"max-height:1000px;max-width:1500px;overflow:auto;\">\n",
        "<table border=\"1\" class=\"dataframe\">\n",
        "  <thead>\n",
        "    <tr style=\"text-align: right;\">\n",
        "      <th></th>\n",
        "      <th>Number Tested</th>\n",
        "      <th>Mean Scale Score</th>\n",
        "      <th>BelowAverage</th>\n",
        "      <th>Average</th>\n",
        "      <th>AboveAverage</th>\n",
        "    </tr>\n",
        "    <tr>\n",
        "      <th>Year</th>\n",
        "      <th></th>\n",
        "      <th></th>\n",
        "      <th></th>\n",
        "      <th></th>\n",
        "      <th></th>\n",
        "    </tr>\n",
        "  </thead>\n",
        "  <tbody>\n",
        "    <tr>\n",
        "      <th>2006</th>\n",
        "      <td> 216807</td>\n",
        "      <td> 3289</td>\n",
        "      <td> 90995</td>\n",
        "      <td>  93221</td>\n",
        "      <td> 32591</td>\n",
        "    </tr>\n",
        "    <tr>\n",
        "      <th>2007</th>\n",
        "      <td> 211962</td>\n",
        "      <td> 3335</td>\n",
        "      <td> 71104</td>\n",
        "      <td>  99512</td>\n",
        "      <td> 41346</td>\n",
        "    </tr>\n",
        "    <tr>\n",
        "      <th>2008</th>\n",
        "      <td> 206949</td>\n",
        "      <td> 3370</td>\n",
        "      <td> 49665</td>\n",
        "      <td> 111877</td>\n",
        "      <td> 45407</td>\n",
        "    </tr>\n",
        "    <tr>\n",
        "      <th>2009</th>\n",
        "      <td> 206320</td>\n",
        "      <td> 3408</td>\n",
        "      <td> 34282</td>\n",
        "      <td> 116928</td>\n",
        "      <td> 55110</td>\n",
        "    </tr>\n",
        "    <tr>\n",
        "      <th>2010</th>\n",
        "      <td> 207155</td>\n",
        "      <td> 3404</td>\n",
        "      <td> 92805</td>\n",
        "      <td>  66925</td>\n",
        "      <td> 47425</td>\n",
        "    </tr>\n",
        "    <tr>\n",
        "      <th>2011</th>\n",
        "      <td> 207503</td>\n",
        "      <td> 3409</td>\n",
        "      <td> 85770</td>\n",
        "      <td>  77753</td>\n",
        "      <td> 43980</td>\n",
        "    </tr>\n",
        "  </tbody>\n",
        "</table>\n",
        "<p>6 rows \u00d7 5 columns</p>\n",
        "</div>"
       ],
       "metadata": {},
       "output_type": "pyout",
       "prompt_number": 9,
       "text": [
        "      Number Tested  Mean Scale Score  BelowAverage  Average  AboveAverage\n",
        "Year                                                                      \n",
        "2006         216807              3289         90995    93221         32591\n",
        "2007         211962              3335         71104    99512         41346\n",
        "2008         206949              3370         49665   111877         45407\n",
        "2009         206320              3408         34282   116928         55110\n",
        "2010         207155              3404         92805    66925         47425\n",
        "2011         207503              3409         85770    77753         43980\n",
        "\n",
        "[6 rows x 5 columns]"
       ]
      }
     ],
     "prompt_number": 9
    },
    {
     "cell_type": "markdown",
     "metadata": {},
     "source": [
      "###All MALE Students"
     ]
    },
    {
     "cell_type": "code",
     "collapsed": false,
     "input": [
      "Allboys = AllStudents[AllStudents['Category']=='Male']\n",
      "Allboys.groupby(['Year']).sum()"
     ],
     "language": "python",
     "metadata": {},
     "outputs": [
      {
       "html": [
        "<div style=\"max-height:1000px;max-width:1500px;overflow:auto;\">\n",
        "<table border=\"1\" class=\"dataframe\">\n",
        "  <thead>\n",
        "    <tr style=\"text-align: right;\">\n",
        "      <th></th>\n",
        "      <th>Number Tested</th>\n",
        "      <th>Mean Scale Score</th>\n",
        "      <th>BelowAverage</th>\n",
        "      <th>Average</th>\n",
        "      <th>AboveAverage</th>\n",
        "    </tr>\n",
        "    <tr>\n",
        "      <th>Year</th>\n",
        "      <th></th>\n",
        "      <th></th>\n",
        "      <th></th>\n",
        "      <th></th>\n",
        "      <th></th>\n",
        "    </tr>\n",
        "  </thead>\n",
        "  <tbody>\n",
        "    <tr>\n",
        "      <th>2006</th>\n",
        "      <td> 223781</td>\n",
        "      <td> 3282</td>\n",
        "      <td>  96436</td>\n",
        "      <td>  93633</td>\n",
        "      <td> 33712</td>\n",
        "    </tr>\n",
        "    <tr>\n",
        "      <th>2007</th>\n",
        "      <td> 222919</td>\n",
        "      <td> 3322</td>\n",
        "      <td>  80398</td>\n",
        "      <td> 100880</td>\n",
        "      <td> 41641</td>\n",
        "    </tr>\n",
        "    <tr>\n",
        "      <th>2008</th>\n",
        "      <td> 217858</td>\n",
        "      <td> 3357</td>\n",
        "      <td>  59549</td>\n",
        "      <td> 112195</td>\n",
        "      <td> 46114</td>\n",
        "    </tr>\n",
        "    <tr>\n",
        "      <th>2009</th>\n",
        "      <td> 217072</td>\n",
        "      <td> 3394</td>\n",
        "      <td>  42827</td>\n",
        "      <td> 119581</td>\n",
        "      <td> 54664</td>\n",
        "    </tr>\n",
        "    <tr>\n",
        "      <th>2010</th>\n",
        "      <td> 218583</td>\n",
        "      <td> 3393</td>\n",
        "      <td> 103001</td>\n",
        "      <td>  68683</td>\n",
        "      <td> 46899</td>\n",
        "    </tr>\n",
        "    <tr>\n",
        "      <th>2011</th>\n",
        "      <td> 218415</td>\n",
        "      <td> 3398</td>\n",
        "      <td>  95824</td>\n",
        "      <td>  77380</td>\n",
        "      <td> 45211</td>\n",
        "    </tr>\n",
        "  </tbody>\n",
        "</table>\n",
        "<p>6 rows \u00d7 5 columns</p>\n",
        "</div>"
       ],
       "metadata": {},
       "output_type": "pyout",
       "prompt_number": 10,
       "text": [
        "      Number Tested  Mean Scale Score  BelowAverage  Average  AboveAverage\n",
        "Year                                                                      \n",
        "2006         223781              3282         96436    93633         33712\n",
        "2007         222919              3322         80398   100880         41641\n",
        "2008         217858              3357         59549   112195         46114\n",
        "2009         217072              3394         42827   119581         54664\n",
        "2010         218583              3393        103001    68683         46899\n",
        "2011         218415              3398         95824    77380         45211\n",
        "\n",
        "[6 rows x 5 columns]"
       ]
      }
     ],
     "prompt_number": 10
    },
    {
     "cell_type": "markdown",
     "metadata": {},
     "source": [
      "###Looking at Boroughs"
     ]
    },
    {
     "cell_type": "code",
     "collapsed": false,
     "input": [
      "AllBronxMath.sum()"
     ],
     "language": "python",
     "metadata": {},
     "outputs": [
      {
       "metadata": {},
       "output_type": "pyout",
       "prompt_number": 11,
       "text": [
        "Borough             BRONXBRONXBRONXBRONXBRONXBRONXBRONXBRONXBRONXB...\n",
        "Grade               All GradesAll GradesAll GradesAll GradesAll Gr...\n",
        "Year                                                            24102\n",
        "Category            FemaleMaleFemaleMaleFemaleMaleFemaleMaleFemale...\n",
        "Number Tested                                                  571411\n",
        "Mean Scale Score                                                 7930\n",
        "BelowAverage                                                   263538\n",
        "Average                                                        244383\n",
        "AboveAverage                                                    63490\n",
        "dtype: object"
       ]
      }
     ],
     "prompt_number": 11
    },
    {
     "cell_type": "markdown",
     "metadata": {},
     "source": [
      "###Data sets sorted for 2011 and Boroughs"
     ]
    },
    {
     "cell_type": "code",
     "collapsed": false,
     "input": [
      "Bx_below = AllBronxMath[AllBronxMath['Year']==2011].sum().BelowAverage\n",
      "Bx_avg = AllBronxMath[AllBronxMath['Year']==2011].sum().Average\n",
      "Bx_above = AllBronxMath[AllBronxMath['Year']==2011].sum().AboveAverage\n",
      "\n",
      "M_below = AllManhattanMath[AllManhattanMath['Year']==2011].sum().BelowAverage\n",
      "M_avg = AllManhattanMath[AllManhattanMath['Year']==2011].sum().Average\n",
      "M_above = AllManhattanMath[AllManhattanMath['Year']==2011].sum().AboveAverage\n",
      "\n",
      "Bk_below = AllBrooklynMath[AllBrooklynMath['Year']==2011].sum().BelowAverage\n",
      "Bk_avg = AllBrooklynMath[AllBrooklynMath['Year']==2011].sum().Average\n",
      "Bk_above = AllBrooklynMath[AllBrooklynMath['Year']==2011].sum().AboveAverage\n",
      "\n",
      "Q_below = AllQueensMath[AllQueensMath['Year']==2011].sum().BelowAverage\n",
      "Q_avg = AllQueensMath[AllQueensMath['Year']==2011].sum().Average\n",
      "Q_above = AllQueensMath[AllQueensMath['Year']==2011].sum().AboveAverage\n",
      "\n",
      "SI_below = AllSIMath[AllSIMath['Year']==2011].sum().BelowAverage\n",
      "SI_avg = AllSIMath[AllSIMath['Year']==2011].sum().Average\n",
      "SI_above = AllSIMath[AllSIMath['Year']==2011].sum().AboveAverage"
     ],
     "language": "python",
     "metadata": {},
     "outputs": [],
     "prompt_number": 12
    },
    {
     "cell_type": "code",
     "collapsed": false,
     "input": [
      "NYC_Below = [int(Bx_below), int(M_below), int(Bk_below), int(Q_below), int(SI_below)]\n",
      "NYC_Avg = [int(Bx_avg), int(M_avg), int(Bk_avg), int(Q_avg), int(SI_avg)]\n",
      "NYC_Above = [int(Bx_above), int(M_above), int(Bk_above), int(Q_above), int(SI_above)]\n",
      "\n",
      "NYC_Bxtot= [float(Bx_below) + float(Bx_avg) + float(Bx_above)]\n",
      "NYC_Mtot= [int(M_below) + int(M_avg) + int(M_above)]\n",
      "NYC_Bktot= [int(Bk_below) + int(Bk_avg) + int(Bk_above)]\n",
      "NYC_Qtot= [int(Q_below) + int(Q_avg) + int(Q_above)]\n",
      "NYC_SItot= [int(SI_below) + int(SI_avg) + int(SI_above)]"
     ],
     "language": "python",
     "metadata": {},
     "outputs": [],
     "prompt_number": 13
    },
    {
     "cell_type": "markdown",
     "metadata": {},
     "source": [
      "**____________________________________________________________________________________________________________________________**\n",
      "**____________________________________________________________________________________________________________________________**"
     ]
    },
    {
     "cell_type": "markdown",
     "metadata": {},
     "source": [
      "**____________________________________________________________________________________________________________________________**\n",
      "\n",
      "##Proficiency Level Changes over Time (2006-2011)"
     ]
    },
    {
     "cell_type": "code",
     "collapsed": false,
     "input": [
      "#Scores... proficiency Level...\n",
      "\n",
      "plt.figure(figsize=(10,5))\n",
      "plt.scatter(AllStudents.Year, AllStudents.BelowAverage, lw=10, alpha=.5, color='m')\n",
      "plt.scatter(AllStudents.Year, AllStudents.Average, lw=10, alpha=.5, color='c')\n",
      "plt.scatter(AllStudents.Year, AllStudents.AboveAverage, lw=10, alpha=.5, color='g')\n",
      "plt.xlabel(\"Year\")\n",
      "\n",
      "#plt.set_xticklabels(('2006', '2007', '2008', '2009', '2010', '2011') )\n",
      "#Tried this from above plot, didn't work\n",
      "\n",
      "plt.ylabel(\"Students at Proficiency\")\n",
      "plt.title(\"Proficiency Over Time\",fontsize='15')\n",
      "\n",
      "plt.legend(('Below Average', 'Average', 'Above Average'), bbox_to_anchor = (1.3, 1))\n"
     ],
     "language": "python",
     "metadata": {},
     "outputs": [
      {
       "metadata": {},
       "output_type": "pyout",
       "prompt_number": 14,
       "text": [
        "<matplotlib.legend.Legend at 0x10729f7d0>"
       ]
      },
      {
       "metadata": {},
       "output_type": "display_data",
       "png": "[encoded data removed]",
       "text": [
        "<matplotlib.figure.Figure at 0x10723d390>"
       ]
      }
     ],
     "prompt_number": 14
    },
    {
     "cell_type": "markdown",
     "metadata": {},
     "source": [
      "_Q: Why did I have to rename the column from two words to one word in order to sum it? Ex: It was Below Average, now it's BelowAverage_\n"
     ]
    },
    {
     "cell_type": "markdown",
     "metadata": {},
     "source": [
      "**____________________________________________________________________________________________________________________________**\n",
      "\n",
      "##Female vs Male G3-8 Students at AVERAGE Math proficiency (2006-2011)"
     ]
    },
    {
     "cell_type": "code",
     "collapsed": false,
     "input": [
      "N = 6\n",
      "BoysLevel3 = Allboys.groupby(['Year']).sum().Average\n",
      "GirlsLevel3 = Allgirls.groupby(['Year']).sum().Average\n",
      "\n",
      "ind = np.arange(N)\n",
      "width = 0.35\n",
      "\n",
      "fig, ax = plt.subplots()\n",
      "rectsl = ax.bar(ind, BoysLevel3, width, color='b')\n",
      "rects2 = ax.bar(ind+width, GirlsLevel3, width, color='y')\n",
      "\n",
      "\n",
      "\n",
      "# add some\n",
      "ax.set_ylabel('Number of Students')\n",
      "ax.set_title('Number of Students at Average Proficiency in Math')\n",
      "ax.set_xticks(ind+width)\n",
      "ax.set_xticklabels( ('2006', '2007', '2008', '2009', '2010', '2011') )\n",
      "\n",
      "ax.legend( ('rects1'[0], rects2[0]), ('Boys', 'Girls') )\n",
      "\n",
      "ax.legend(('Boys', 'Girls'), loc='upper right')"
     ],
     "language": "python",
     "metadata": {},
     "outputs": [
      {
       "output_type": "stream",
       "stream": "stderr",
       "text": [
        "/Users/aribajahan/anaconda/lib/python2.7/site-packages/matplotlib/legend.py:613: UserWarning: Legend does not support r\n",
        "Use proxy artist instead.\n",
        "\n",
        "http://matplotlib.sourceforge.net/users/legend_guide.html#using-proxy-artist\n",
        "\n",
        "  (str(orig_handle),))\n"
       ]
      },
      {
       "metadata": {},
       "output_type": "pyout",
       "prompt_number": 15,
       "text": [
        "<matplotlib.legend.Legend at 0x10783f1d0>"
       ]
      },
      {
       "metadata": {},
       "output_type": "display_data",
       "png": "[encoded data removed]",
       "text": [
        "<matplotlib.figure.Figure at 0x1072ae390>"
       ]
      }
     ],
     "prompt_number": 15
    },
    {
     "cell_type": "markdown",
     "metadata": {},
     "source": [
      "**____________________________________________________________________________________________________________________________**\n",
      "##Female vs Male G3-8 Students at BELOW AVERAGE proficiency (2006-2011)"
     ]
    },
    {
     "cell_type": "code",
     "collapsed": false,
     "input": [
      "N = 6\n",
      "BoysLevel12 = Allboys.groupby(['Year']).sum().BelowAverage\n",
      "GirlsLevel12 = Allgirls.groupby(['Year']).sum().BelowAverage\n",
      "\n",
      "ind = np.arange(N)\n",
      "width = 0.35\n",
      "\n",
      "fig, ax = plt.subplots()\n",
      "rectsl = ax.bar(ind, BoysLevel12, width, color='b')\n",
      "rects2 = ax.bar(ind+width, GirlsLevel12, width, color='y')\n",
      "\n",
      "\n",
      "\n",
      "# add some\n",
      "ax.set_ylabel('Number of Students')\n",
      "ax.set_title('Number of Students at Below Average Proficiency in Math')\n",
      "ax.set_xticks(ind+width)\n",
      "ax.set_xticklabels( ('2006', '2007', '2008', '2009', '2010', '2011') )\n",
      "\n",
      "ax.legend( ('rects1'[0], rects2[0]), ('Boys', 'Girls'))\n",
      "\n",
      "ax.legend(('Boys', 'Girls'), bbox_to_anchor = (1.3, 1) )"
     ],
     "language": "python",
     "metadata": {},
     "outputs": [
      {
       "metadata": {},
       "output_type": "pyout",
       "prompt_number": 16,
       "text": [
        "<matplotlib.legend.Legend at 0x107a0db90>"
       ]
      },
      {
       "metadata": {},
       "output_type": "display_data",
       "png": "[encoded data removed]",
       "text": [
        "<matplotlib.figure.Figure at 0x1072b4d10>"
       ]
      }
     ],
     "prompt_number": 16
    },
    {
     "cell_type": "markdown",
     "metadata": {},
     "source": [
      "**____________________________________________________________________________________________________________________________**\n",
      "##Female vs Male G3-8 Students at ABOVE AVERAGE proficiency (2006-2011)##"
     ]
    },
    {
     "cell_type": "code",
     "collapsed": false,
     "input": [
      "N = 6\n",
      "BoysLevel4 = Allboys.groupby(['Year']).sum().AboveAverage\n",
      "GirlsLevel4 = Allgirls.groupby(['Year']).sum().AboveAverage\n",
      "\n",
      "ind = np.arange(N)\n",
      "width = 0.35\n",
      "\n",
      "fig, ax = plt.subplots()\n",
      "rectsl = ax.bar(ind, BoysLevel4, width, color='b')\n",
      "rects2 = ax.bar(ind+width, GirlsLevel4, width, color='y')\n",
      "\n",
      "\n",
      "#Labels of Axes\n",
      "ax.set_ylabel('Number of Students')\n",
      "ax.set_title('Number of Students at Above Average Proficiency in Math')\n",
      "ax.set_xticks(ind+width)\n",
      "ax.set_xticklabels( ('2006', '2007', '2008', '2009', '2010', '2011') )\n",
      "\n",
      "ax.legend( ('rects1'[0], rects2[0]), ('Boys', 'Girls') )\n",
      "\n",
      "ax.legend(('Boys', 'Girls'), loc='upper right')"
     ],
     "language": "python",
     "metadata": {},
     "outputs": [
      {
       "metadata": {},
       "output_type": "pyout",
       "prompt_number": 17,
       "text": [
        "<matplotlib.legend.Legend at 0x107a53e50>"
       ]
      },
      {
       "metadata": {},
       "output_type": "display_data",
       "png": "[encoded data removed]",
       "text": [
        "<matplotlib.figure.Figure at 0x1072384d0>"
       ]
      }
     ],
     "prompt_number": 17
    },
    {
     "cell_type": "markdown",
     "metadata": {},
     "source": [
      "_Q: But how do I fix the years... can I modify the tick names??_"
     ]
    },
    {
     "cell_type": "markdown",
     "metadata": {},
     "source": [
      "**____________________________________________________________________________________________________________________________**\n",
      "##2011 Math Proficiency in NYC (G3-8)"
     ]
    },
    {
     "cell_type": "code",
     "collapsed": false,
     "input": [
      "PIE1 = [181594, 155133, 89191] \n",
      "# NYC_Avg, NYC_Above]\n",
      "labelsP = ('Below Average', 'Average', 'Above Average')\n",
      "plt.subplot(aspect=True)\n",
      "plt.pie(PIE1, labels=labelsP, colors = ('y', 'm', 'b'),autopct='%i%%')\n",
      "plt.title(\"NYC Math Proficiency Level Grade 3-8, 2011\")"
     ],
     "language": "python",
     "metadata": {},
     "outputs": [
      {
       "metadata": {},
       "output_type": "pyout",
       "prompt_number": 18,
       "text": [
        "<matplotlib.text.Text at 0x107a711d0>"
       ]
      },
      {
       "metadata": {},
       "output_type": "display_data",
       "png": "[encoded data removed]",
       "text": [
        "<matplotlib.figure.Figure at 0x107232310>"
       ]
      }
     ],
     "prompt_number": 18
    },
    {
     "cell_type": "markdown",
     "metadata": {},
     "source": [
      "_Q: How do I do percentage?!?!_  \n",
      "_I need to do: Bx_below/NYC_Bxtot *100_"
     ]
    },
    {
     "cell_type": "markdown",
     "metadata": {},
     "source": [
      "**____________________________________________________________________________________________________________________________**\n",
      "##2011 Math Proficiency Breakdown by Boroughs (G3-8)"
     ]
    },
    {
     "cell_type": "code",
     "collapsed": false,
     "input": [
      "#NYC_Below = [Bx_below, M_below, Bk_below, Q_below, SI_below]\n",
      "#NYC_Avg = [Bx_avg, M_avg, Bk_avg, Q_avg, SI_avg]\n",
      "#NYC_Above = [Bx_above, M_above, Bk_above, Q_above, SI_above]\n",
      "\n",
      "N = 5\n",
      "\n",
      "ind = np.arange(N)\n",
      "#width = 0.35\n",
      "\n",
      "margin = 0.8\n",
      "width = (1.-2.*margin)/N\n",
      "fig, ax = plt.subplots(figsize=(10,5))\n",
      "\n",
      "\n",
      "rects1 = ax.bar(ind+width+width, NYC_Below, width, color='y')\n",
      "rects2 = ax.bar(ind+width, NYC_Avg, width, color='m')\n",
      "rects3 = ax.bar(ind, NYC_Above, width, color='b')\n",
      "\n",
      "\n",
      "ax.set_ylabel('Students')\n",
      "ax.set_title(('Students Proficiency Levels by Borough 2011'), fontsize = 15)\n",
      "ax.set_xticks(ind+width)\n",
      "ax.set_xticklabels(('Bronx', 'Manhattan', 'Brooklyn', 'Queens', 'Staten sland'))\n",
      "\n",
      "\n",
      "ax.legend( (rects1[0], rects2[0], rects3[0]), ('Below Average', 'Average', 'Above Average') )\n",
      "\n",
      "ax.legend(('Below Average', 'Average', 'Above Average'), fontsize=10, loc='upper right')\n",
      "\n"
     ],
     "language": "python",
     "metadata": {},
     "outputs": [
      {
       "metadata": {},
       "output_type": "pyout",
       "prompt_number": 19,
       "text": [
        "<matplotlib.legend.Legend at 0x107d1ce90>"
       ]
      },
      {
       "metadata": {},
       "output_type": "display_data",
       "png": "[encoded data removed]",
       "text": [
        "<matplotlib.figure.Figure at 0x107d08a50>"
       ]
      }
     ],
     "prompt_number": 19
    },
    {
     "cell_type": "markdown",
     "metadata": {},
     "source": [
      "**____________________________________________________________________________________________________________________________**\n",
      "##2011 Math Proficiency in NYC (G3-8)   \n",
      "_(Stacked View)_"
     ]
    },
    {
     "cell_type": "code",
     "collapsed": false,
     "input": [
      "#NYC_Below = [Bx_below, M_below, Bk_below, Q_below, SI_below]\n",
      "#NYC_Avg = [Bx_avg, M_avg, Bk_avg, Q_avg, SI_avg]\n",
      "#NYC_Above = [Bx_above, M_above, Bk_above, Q_above, SI_above]\n",
      "\n",
      "N = 5\n",
      "\n",
      "Boro_Below= (55.7, 40.13, 43.5, 34.5, 34.7)\n",
      "Std1= (1,1,1,1,1)\n",
      "\n",
      "Boro_Avg= (34.0, 34.7, 36, 38.6, 41.0)\n",
      "Std2= (1,1,1,1,1)\n",
      "\n",
      "Boro_Above= (10.3, 25.2, 20.6, 26.9, 24.0)\n",
      "Std3= (1,1,1,1,1)\n",
      "\n",
      "ind = np.arange(N)\n",
      "width = 0.35\n",
      "\n",
      "margin = 0.8\n",
      "#width = (1.-2.*margin)/N\n",
      "#fig, ax = plt.subplots(figsize=(10,5))\n",
      "\n",
      "\n",
      "p1 = plt.bar(ind,Boro_Below, width, color='y')\n",
      "p2 = plt.bar(ind,Boro_Avg, width, color='m', bottom=Boro_Below)\n",
      "p3 = plt.bar(ind,Boro_Above, width, color='b', bottom=[Boro_Below[j] + Boro_Avg[j] for j in range(len(Boro_Below))])\n",
      "\n",
      "\n",
      "plt.ylabel('Students %')\n",
      "plt.title(('Students Proficiency Levels by Borough 2011'), fontsize = 15)\n",
      "plt.xticks(ind+width/2., ('Bronx', 'Manhattan', 'Brooklyn', 'Queens', 'Staten sland') )\n",
      "#plt.yticks(np.arange(0,81,10))\n",
      "\n",
      "plt.legend((p1[0], p2[0], p3[0]),('Below Average', 'Average', 'Above Average'),fontsize=10, bbox_to_anchor = (1.4, 1))\n",
      "\n",
      "plt.show()"
     ],
     "language": "python",
     "metadata": {},
     "outputs": [
      {
       "metadata": {},
       "output_type": "display_data",
       "png": "[encoded data removed]",
       "text": [
        "<matplotlib.figure.Figure at 0x107d98e10>"
       ]
      }
     ],
     "prompt_number": 20
    },
    {
     "cell_type": "code",
     "collapsed": false,
     "input": [],
     "language": "python",
     "metadata": {},
     "outputs": []
    }
   ],
   "metadata": {}
  }
 ]
}