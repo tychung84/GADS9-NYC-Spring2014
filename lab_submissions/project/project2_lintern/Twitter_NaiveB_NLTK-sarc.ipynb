{
 "metadata": {
  "name": ""
 },
 "nbformat": 3,
 "nbformat_minor": 0,
 "worksheets": [
  {
   "cells": [
    {
     "cell_type": "code",
     "collapsed": false,
     "input": [
      "%pylab inline"
     ],
     "language": "python",
     "metadata": {},
     "outputs": [
      {
       "output_type": "stream",
       "stream": "stdout",
       "text": [
        "Populating the interactive namespace from numpy and matplotlib\n"
       ]
      }
     ],
     "prompt_number": 1
    },
    {
     "cell_type": "code",
     "collapsed": false,
     "input": [
      "%matplotlib inline\n",
      "\n",
      "import json\n",
      "\n",
      "import requests\n",
      "import sklearn\n",
      "import pandas as pd\n",
      "import numpy as np\n",
      "import matplotlib.pyplot as plt\n",
      "\n",
      "import nltk.classify.util\n",
      "from nltk.classify import NaiveBayesClassifier\n",
      "from nltk import tokenize\n",
      "\n",
      "pd.set_option('display.width', 5000)\n",
      "pd.set_option('display.max_columns', 2)\n",
      "pd.set_option('display.max_rows', 400) "
     ],
     "language": "python",
     "metadata": {},
     "outputs": [],
     "prompt_number": 2
    },
    {
     "cell_type": "code",
     "collapsed": false,
     "input": [
      "data=pd.read_csv('test_2.csv')"
     ],
     "language": "python",
     "metadata": {},
     "outputs": [],
     "prompt_number": 3
    },
    {
     "cell_type": "code",
     "collapsed": false,
     "input": [
      "def bag_of_words(words):\n",
      "    return dict([(word, True) for word in words])"
     ],
     "language": "python",
     "metadata": {},
     "outputs": [],
     "prompt_number": 4
    },
    {
     "cell_type": "code",
     "collapsed": false,
     "input": [
      "\n",
      "\n",
      "label_1=\"Positive\"\n",
      "\n",
      "train_text_1=\"Putin was like a rock star in #Sevastopol #Crimea \\\n",
      "quite beautiful russian crimea graphic \\ US wants to use its leverage to punish #Putin!  what leverage? \\\n",
      "Election in #Ukraine is a step in the right direction &amp; Russia will support it as we did \\\n",
      "Anyone who has travelled Southern Crimea in summer will appreciate the beauty.\"\n",
      "\n",
      "label_2 =\"Sarcastic\"\n",
      "train_text_2=str(\"What a tool Ukraine says Putins victory lap through Crimea today is a blatant disrespect \\\n",
      "We won't give you Crimea but we will give you 7 points at Eurovision LOL \\\n",
      "They should send Dave to Crimea Russia and the Ukraine will be drinking beer and playing bocci ball in a week \\\n",
      "Remember. If you represent truth, justice and the will of the people, you need a balaclava to hide your face\")\n",
      "\n"
     ],
     "language": "python",
     "metadata": {},
     "outputs": [],
     "prompt_number": 25
    },
    {
     "cell_type": "code",
     "collapsed": false,
     "input": [
      "#train_words_0=str(train_words_0)\n",
      "train_words_1=tokenize.word_tokenize(train_text_1)\n",
      "\n",
      "train_words_2=tokenize.word_tokenize(train_text_2)\n"
     ],
     "language": "python",
     "metadata": {},
     "outputs": [],
     "prompt_number": 27
    },
    {
     "cell_type": "code",
     "collapsed": false,
     "input": [
      "#Bag of Words creates our Bernouli Vector\n",
      "\n",
      "\n",
      "\n",
      "#Bag of words creates our Bernouli Word Vector:\n",
      "train_positive= [(bag_of_words(train_words_1),label_1)]\n",
      "train_sarcastic= [(bag_of_words(train_words_2),label_2)]\n"
     ],
     "language": "python",
     "metadata": {},
     "outputs": [],
     "prompt_number": 28
    },
    {
     "cell_type": "code",
     "collapsed": false,
     "input": [
      "test_set=data.Tweet[(data.Mood == 1)]\n",
      "\n",
      "#test_words=tokenize.word_tokenize(str(test_set))\n",
      "\n",
      "train_feature=train_positive+ train_sarcastic\n",
      "\n"
     ],
     "language": "python",
     "metadata": {},
     "outputs": [],
     "prompt_number": 56
    },
    {
     "cell_type": "code",
     "collapsed": false,
     "input": [],
     "language": "python",
     "metadata": {},
     "outputs": [],
     "prompt_number": 30
    },
    {
     "cell_type": "code",
     "collapsed": false,
     "input": [
      "# Train Classifier\n",
      "\n",
      "classifier=NaiveBayesClassifier.train(train_feature)\n"
     ],
     "language": "python",
     "metadata": {},
     "outputs": [],
     "prompt_number": 33
    },
    {
     "cell_type": "code",
     "collapsed": false,
     "input": [
      "def posOrsarc(words):\n",
      "    print classifier.classify(bag_of_words(tokenize.word_tokenize(words)))"
     ],
     "language": "python",
     "metadata": {},
     "outputs": [],
     "prompt_number": 34
    },
    {
     "cell_type": "code",
     "collapsed": false,
     "input": [
      "#Based on this, Our 'Positve' Data is actually 'Sarcastic' 65% of the time\n",
      "\n",
      "for word in test_set:\n",
      "    test =posOrsarc(word)\n",
      "    \n",
      "\n"
     ],
     "language": "python",
     "metadata": {},
     "outputs": [
      {
       "output_type": "stream",
       "stream": "stdout",
       "text": [
        "Sarcastic\n",
        "Positive\n",
        "Sarcastic\n",
        "Positive\n",
        "Positive\n",
        "Positive\n",
        "Positive\n",
        "Positive\n",
        "Positive\n",
        "Positive\n",
        "Sarcastic\n",
        "Sarcastic\n",
        "Sarcastic\n",
        "Sarcastic\n",
        "Sarcastic\n",
        "Sarcastic\n",
        "Sarcastic\n",
        "Sarcastic\n",
        "Sarcastic\n",
        "Sarcastic\n",
        "Sarcastic\n",
        "Sarcastic\n"
       ]
      },
      {
       "output_type": "stream",
       "stream": "stdout",
       "text": [
        "Sarcastic\n",
        "Sarcastic\n",
        "Sarcastic\n",
        "Sarcastic\n",
        "Sarcastic\n",
        "Positive\n",
        "Sarcastic\n",
        "Sarcastic\n",
        "Positive\n",
        "Sarcastic\n",
        "Sarcastic\n",
        "Positive\n",
        "Positive\n",
        "Sarcastic\n",
        "Sarcastic\n",
        "Sarcastic\n",
        "Sarcastic\n",
        "Sarcastic\n",
        "Sarcastic\n",
        "Positive\n",
        "Sarcastic\n",
        "Positive\n",
        "Positive\n",
        "Positive"
       ]
      },
      {
       "output_type": "stream",
       "stream": "stdout",
       "text": [
        "\n",
        "Positive\n",
        "Positive\n",
        "Positive\n",
        "Sarcastic\n",
        "Positive\n",
        "Positive\n",
        "Sarcastic\n",
        "Positive\n",
        "Sarcastic\n",
        "Sarcastic\n",
        "Sarcastic\n",
        "Positive\n",
        "Sarcastic\n",
        "Positive\n",
        "Sarcastic\n",
        "Sarcastic\n",
        "Positive"
       ]
      },
      {
       "output_type": "stream",
       "stream": "stdout",
       "text": [
        "\n",
        "Sarcastic\n",
        "Sarcastic\n",
        "Sarcastic\n",
        "Sarcastic\n",
        "Sarcastic\n",
        "Sarcastic\n",
        "Sarcastic\n",
        "Sarcastic\n",
        "Sarcastic\n",
        "Sarcastic\n",
        "Sarcastic\n",
        "Sarcastic\n",
        "Sarcastic\n",
        "Sarcastic\n",
        "Sarcastic"
       ]
      },
      {
       "output_type": "stream",
       "stream": "stdout",
       "text": [
        "\n",
        "Positive\n",
        "Sarcastic\n",
        "Positive\n",
        "Positive\n",
        "Sarcastic\n",
        "Sarcastic\n",
        "Sarcastic\n",
        "Sarcastic\n",
        "Sarcastic\n",
        "Sarcastic\n",
        "Sarcastic\n",
        "Sarcastic\n",
        "Positive\n",
        "Sarcastic"
       ]
      },
      {
       "output_type": "stream",
       "stream": "stdout",
       "text": [
        "\n",
        "Sarcastic\n",
        "Sarcastic\n",
        "Sarcastic\n",
        "Positive\n",
        "Positive\n",
        "Sarcastic\n",
        "Sarcastic\n",
        "Sarcastic\n",
        "Sarcastic\n",
        "Positive\n",
        "Positive\n",
        "Positive\n",
        "Positive\n",
        "Sarcastic\n",
        "Sarcastic\n",
        "Sarcastic\n",
        "Sarcastic\n",
        "Positive\n",
        "Sarcastic\n",
        "Positive\n",
        "Sarcastic"
       ]
      },
      {
       "output_type": "stream",
       "stream": "stdout",
       "text": [
        "\n",
        "Positive\n",
        "Sarcastic\n",
        "Sarcastic\n",
        "Sarcastic\n",
        "Sarcastic\n",
        "Sarcastic\n",
        "Positive\n",
        "Sarcastic\n",
        "Sarcastic\n",
        "Sarcastic\n",
        "Sarcastic\n",
        "Sarcastic\n",
        "Sarcastic\n",
        "Sarcastic\n",
        "Positive\n",
        "Sarcastic"
       ]
      },
      {
       "output_type": "stream",
       "stream": "stdout",
       "text": [
        "\n",
        "Positive\n",
        "Positive\n",
        "Sarcastic\n",
        "Sarcastic\n",
        "Sarcastic\n",
        "Positive\n",
        "Positive\n",
        "Sarcastic\n",
        "Positive\n",
        "Sarcastic\n",
        "Positive\n",
        "Sarcastic"
       ]
      },
      {
       "output_type": "stream",
       "stream": "stdout",
       "text": [
        "\n",
        "Positive\n",
        "Sarcastic\n",
        "Sarcastic\n",
        "Sarcastic\n",
        "Positive\n",
        "Positive\n",
        "Sarcastic\n",
        "Sarcastic\n",
        "Sarcastic\n",
        "Positive\n",
        "Sarcastic\n",
        "Sarcastic\n",
        "Sarcastic\n",
        "Positive\n",
        "Positive\n",
        "Positive\n",
        "Positive\n",
        "Positive"
       ]
      },
      {
       "output_type": "stream",
       "stream": "stdout",
       "text": [
        "\n",
        "Sarcastic\n",
        "Sarcastic\n",
        "Sarcastic\n",
        "Sarcastic\n",
        "Sarcastic\n",
        "Sarcastic\n",
        "Sarcastic\n",
        "Positive\n",
        "Positive\n",
        "Positive\n",
        "Positive\n",
        "Positive\n",
        "Positive\n",
        "Positive\n",
        "Sarcastic\n",
        "Sarcastic\n",
        "Sarcastic\n",
        "Positive\n",
        "Sarcastic\n",
        "Sarcastic\n",
        "Sarcastic\n",
        "Sarcastic\n",
        "Sarcastic"
       ]
      },
      {
       "output_type": "stream",
       "stream": "stdout",
       "text": [
        "\n",
        "Sarcastic\n",
        "Sarcastic\n",
        "Sarcastic\n",
        "Sarcastic\n",
        "Sarcastic\n",
        "Sarcastic\n",
        "Sarcastic\n",
        "Positive\n",
        "Sarcastic\n",
        "Sarcastic\n",
        "Positive\n",
        "Sarcastic\n",
        "Sarcastic\n",
        "Sarcastic\n",
        "Sarcastic\n",
        "Sarcastic\n",
        "Sarcastic\n",
        "Positive\n",
        "Positive"
       ]
      },
      {
       "output_type": "stream",
       "stream": "stdout",
       "text": [
        "\n",
        "Sarcastic\n",
        "Sarcastic\n",
        "Positive\n",
        "Sarcastic\n",
        "Positive\n",
        "Positive\n",
        "Positive\n",
        "Sarcastic\n",
        "Sarcastic\n",
        "Sarcastic\n",
        "Positive\n",
        "Sarcastic\n",
        "Sarcastic\n",
        "Sarcastic\n",
        "Sarcastic\n",
        "Positive\n",
        "Positive\n",
        "Positive\n",
        "Sarcastic\n",
        "Positive\n",
        "Sarcastic"
       ]
      },
      {
       "output_type": "stream",
       "stream": "stdout",
       "text": [
        "\n",
        "Sarcastic\n",
        "Sarcastic\n",
        "Positive\n",
        "Sarcastic\n",
        "Positive\n",
        "Positive\n",
        "Positive\n",
        "Positive\n",
        "Positive\n",
        "Sarcastic\n",
        "Sarcastic\n",
        "Sarcastic\n",
        "Sarcastic\n",
        "Positive\n",
        "Sarcastic\n",
        "Sarcastic\n",
        "Positive"
       ]
      },
      {
       "output_type": "stream",
       "stream": "stdout",
       "text": [
        "\n",
        "Positive\n",
        "Positive\n",
        "Positive\n",
        "Sarcastic\n",
        "Positive\n",
        "Sarcastic\n",
        "Sarcastic\n",
        "Positive\n",
        "Sarcastic\n",
        "Positive\n",
        "Sarcastic\n",
        "Sarcastic\n",
        "Positive\n",
        "Sarcastic\n",
        "Sarcastic\n",
        "Sarcastic\n",
        "Positive\n",
        "Sarcastic\n",
        "Sarcastic\n",
        "Sarcastic"
       ]
      },
      {
       "output_type": "stream",
       "stream": "stdout",
       "text": [
        "\n",
        "Sarcastic\n",
        "Sarcastic\n",
        "Sarcastic\n",
        "Sarcastic\n",
        "Sarcastic\n",
        "Sarcastic\n",
        "Sarcastic\n",
        "Sarcastic\n",
        "Sarcastic\n",
        "Sarcastic\n",
        "Sarcastic\n",
        "Sarcastic\n",
        "Positive\n",
        "Positive\n",
        "Sarcastic\n",
        "Sarcastic\n",
        "Sarcastic\n",
        "Sarcastic\n",
        "Sarcastic\n",
        "Positive\n",
        "Sarcastic"
       ]
      },
      {
       "output_type": "stream",
       "stream": "stdout",
       "text": [
        "\n",
        "Sarcastic\n",
        "Sarcastic\n",
        "Positive\n",
        "Sarcastic\n",
        "Positive\n",
        "Positive\n",
        "Sarcastic\n",
        "Sarcastic\n",
        "Positive\n",
        "Sarcastic\n",
        "Positive"
       ]
      },
      {
       "output_type": "stream",
       "stream": "stdout",
       "text": [
        "\n",
        "Sarcastic\n",
        "Sarcastic\n",
        "Sarcastic\n",
        "Sarcastic\n",
        "Sarcastic\n",
        "Sarcastic\n",
        "Sarcastic\n",
        "Sarcastic\n",
        "Sarcastic\n",
        "Sarcastic\n",
        "Positive\n",
        "Sarcastic\n",
        "Positive"
       ]
      },
      {
       "output_type": "stream",
       "stream": "stdout",
       "text": [
        "\n",
        "Positive\n",
        "Positive\n",
        "Positive\n",
        "Positive\n",
        "Sarcastic\n",
        "Sarcastic\n",
        "Sarcastic\n",
        "Sarcastic\n",
        "Sarcastic\n",
        "Sarcastic\n",
        "Sarcastic\n",
        "Sarcastic\n",
        "Sarcastic\n",
        "Sarcastic\n",
        "Sarcastic\n",
        "Sarcastic\n",
        "Positive\n",
        "Sarcastic\n",
        "Sarcastic\n",
        "Sarcastic"
       ]
      },
      {
       "output_type": "stream",
       "stream": "stdout",
       "text": [
        "\n",
        "Sarcastic\n",
        "Sarcastic\n",
        "Positive\n",
        "Positive\n",
        "Positive\n",
        "Sarcastic\n",
        "Sarcastic\n",
        "Sarcastic\n",
        "Sarcastic\n",
        "Sarcastic\n",
        "Sarcastic\n",
        "Sarcastic\n",
        "Sarcastic\n",
        "Sarcastic\n",
        "Sarcastic\n",
        "Sarcastic\n",
        "Sarcastic\n",
        "Sarcastic"
       ]
      },
      {
       "output_type": "stream",
       "stream": "stdout",
       "text": [
        "\n",
        "Sarcastic\n",
        "Positive\n",
        "Sarcastic\n",
        "Sarcastic\n",
        "Positive\n",
        "Positive\n",
        "Positive\n",
        "Positive\n",
        "Sarcastic\n",
        "Positive\n",
        "Sarcastic\n",
        "Positive"
       ]
      },
      {
       "output_type": "stream",
       "stream": "stdout",
       "text": [
        "\n",
        "Positive\n",
        "Sarcastic\n",
        "Positive\n",
        "Positive\n",
        "Positive\n",
        "Positive\n",
        "Sarcastic\n",
        "Positive\n",
        "Sarcastic\n",
        "Sarcastic\n",
        "Positive\n",
        "Positive\n",
        "Positive\n",
        "Positive"
       ]
      },
      {
       "output_type": "stream",
       "stream": "stdout",
       "text": [
        "\n",
        "Sarcastic\n",
        "Sarcastic\n",
        "Sarcastic\n",
        "Positive\n",
        "Sarcastic\n",
        "Positive\n",
        "Positive\n",
        "Sarcastic\n",
        "Sarcastic\n",
        "Sarcastic\n",
        "Sarcastic\n",
        "Sarcastic\n",
        "Sarcastic\n",
        "Positive\n",
        "Sarcastic"
       ]
      },
      {
       "output_type": "stream",
       "stream": "stdout",
       "text": [
        "\n",
        "Sarcastic\n",
        "Positive\n",
        "Positive\n",
        "Positive\n",
        "Positive\n",
        "Positive\n",
        "Positive\n",
        "Positive\n",
        "Positive\n",
        "Sarcastic\n",
        "Sarcastic\n",
        "Positive\n",
        "Sarcastic"
       ]
      },
      {
       "output_type": "stream",
       "stream": "stdout",
       "text": [
        "\n",
        "Positive\n",
        "Positive\n",
        "Sarcastic\n",
        "Sarcastic\n",
        "Sarcastic\n",
        "Sarcastic\n",
        "Sarcastic\n",
        "Sarcastic\n",
        "Sarcastic\n",
        "Sarcastic\n",
        "Sarcastic\n",
        "Sarcastic\n",
        "Sarcastic"
       ]
      },
      {
       "output_type": "stream",
       "stream": "stdout",
       "text": [
        "\n",
        "Sarcastic\n",
        "Sarcastic\n",
        "Sarcastic\n",
        "Positive\n",
        "Positive\n",
        "Sarcastic\n",
        "Positive\n",
        "Positive\n",
        "Positive\n",
        "Positive\n",
        "Sarcastic\n",
        "Positive\n",
        "Sarcastic\n",
        "Sarcastic\n"
       ]
      }
     ],
     "prompt_number": 84
    },
    {
     "cell_type": "code",
     "collapsed": false,
     "input": [
      "df=pd.DataFrame\n",
      "\n",
      "selected= df(logical_and(test_set=='Positive'),test_set=='Sarcastic',test_set=='None')"
     ],
     "language": "python",
     "metadata": {},
     "outputs": [
      {
       "ename": "ValueError",
       "evalue": "invalid number of arguments",
       "output_type": "pyerr",
       "traceback": [
        "\u001b[1;31m---------------------------------------------------------------------------\u001b[0m\n\u001b[1;31mValueError\u001b[0m                                Traceback (most recent call last)",
        "\u001b[1;32m<ipython-input-73-33575cdd5aff>\u001b[0m in \u001b[0;36m<module>\u001b[1;34m()\u001b[0m\n\u001b[0;32m      1\u001b[0m \u001b[0mdf\u001b[0m\u001b[1;33m=\u001b[0m\u001b[0mpd\u001b[0m\u001b[1;33m.\u001b[0m\u001b[0mDataFrame\u001b[0m\u001b[1;33m\u001b[0m\u001b[0m\n\u001b[0;32m      2\u001b[0m \u001b[1;33m\u001b[0m\u001b[0m\n\u001b[1;32m----> 3\u001b[1;33m \u001b[0mselected\u001b[0m\u001b[1;33m=\u001b[0m \u001b[0mdf\u001b[0m\u001b[1;33m(\u001b[0m\u001b[0mlogical_and\u001b[0m\u001b[1;33m(\u001b[0m\u001b[0mtest_set\u001b[0m\u001b[1;33m==\u001b[0m\u001b[1;34m'Positive'\u001b[0m\u001b[1;33m)\u001b[0m\u001b[1;33m,\u001b[0m\u001b[0mtest_set\u001b[0m\u001b[1;33m==\u001b[0m\u001b[1;34m'Sarcastic'\u001b[0m\u001b[1;33m,\u001b[0m\u001b[0mtest_set\u001b[0m\u001b[1;33m==\u001b[0m\u001b[1;34m'None'\u001b[0m\u001b[1;33m)\u001b[0m\u001b[1;33m\u001b[0m\u001b[0m\n\u001b[0m",
        "\u001b[1;31mValueError\u001b[0m: invalid number of arguments"
       ]
      }
     ],
     "prompt_number": 73
    }
   ],
   "metadata": {}
  }
 ]
}