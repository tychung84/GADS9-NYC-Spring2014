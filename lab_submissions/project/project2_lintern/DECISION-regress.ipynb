{
 "metadata": {
  "name": ""
 },
 "nbformat": 3,
 "nbformat_minor": 0,
 "worksheets": [
  {
   "cells": [
    {
     "cell_type": "heading",
     "level": 1,
     "metadata": {},
     "source": [
      "Developing  a Logistic Classifier for Tweet Emotion and Distance from Crimea"
     ]
    },
    {
     "cell_type": "code",
     "collapsed": false,
     "input": [
      "%pylab inline"
     ],
     "language": "python",
     "metadata": {},
     "outputs": [
      {
       "output_type": "stream",
       "stream": "stdout",
       "text": [
        "Populating the interactive namespace from numpy and matplotlib\n"
       ]
      },
      {
       "output_type": "stream",
       "stream": "stderr",
       "text": [
        "WARNING: pylab import has clobbered these variables: ['dist', 'e']\n",
        "`%pylab --no-import-all` prevents importing * from pylab and numpy\n"
       ]
      }
     ],
     "prompt_number": 96
    },
    {
     "cell_type": "code",
     "collapsed": false,
     "input": [
      "%matplotlib inline\n",
      "\n",
      "import json\n",
      "\n",
      "import requests\n",
      "import sklearn\n",
      "import pandas as pd\n",
      "import numpy as np\n",
      "import matplotlib\n",
      "from matplotlib import pyplot as plt\n",
      "\n",
      "pd.set_option('display.width', 5000)\n",
      "pd.set_option('display.max_columns', 3)\n",
      "pd.set_option('display.max_rows', 400)   \n"
     ],
     "language": "python",
     "metadata": {},
     "outputs": [],
     "prompt_number": 251
    },
    {
     "cell_type": "code",
     "collapsed": false,
     "input": [
      "data=pd.read_csv('test_2.csv')\n",
      "data.head()"
     ],
     "language": "python",
     "metadata": {},
     "outputs": [
      {
       "html": [
        "<div style=\"max-height:1000px;max-width:1500px;overflow:auto;\">\n",
        "<table border=\"1\" class=\"dataframe\">\n",
        "  <thead>\n",
        "    <tr style=\"text-align: right;\">\n",
        "      <th></th>\n",
        "      <th>Tweet</th>\n",
        "      <th>City</th>\n",
        "      <th></th>\n",
        "    </tr>\n",
        "  </thead>\n",
        "  <tbody>\n",
        "    <tr>\n",
        "      <th>0</th>\n",
        "      <td> RT @sebroche: What a tool..Ukraine says Putin'...</td>\n",
        "      <td> Abu Dhabi</td>\n",
        "      <td>...</td>\n",
        "    </tr>\n",
        "    <tr>\n",
        "      <th>1</th>\n",
        "      <td> Putin was like a rock star in #Sevastopol #Cri...</td>\n",
        "      <td> Abu Dhabi</td>\n",
        "      <td>...</td>\n",
        "    </tr>\n",
        "    <tr>\n",
        "      <th>2</th>\n",
        "      <td> rt @guardian: vladimir putin tells crimea's ta...</td>\n",
        "      <td> Abu Dhabi</td>\n",
        "      <td>...</td>\n",
        "    </tr>\n",
        "    <tr>\n",
        "      <th>3</th>\n",
        "      <td> rt @narcissenars: un: human rights violations ...</td>\n",
        "      <td> Abu Dhabi</td>\n",
        "      <td>...</td>\n",
        "    </tr>\n",
        "    <tr>\n",
        "      <th>4</th>\n",
        "      <td> rt @narcissenars: un: human rights violations ...</td>\n",
        "      <td> Abu Dhabi</td>\n",
        "      <td>...</td>\n",
        "    </tr>\n",
        "  </tbody>\n",
        "</table>\n",
        "<p>5 rows \u00d7 9 columns</p>\n",
        "</div>"
       ],
       "metadata": {},
       "output_type": "pyout",
       "prompt_number": 159,
       "text": [
        "                                               Tweet       City    \n",
        "0  RT @sebroche: What a tool..Ukraine says Putin'...  Abu Dhabi ...\n",
        "1  Putin was like a rock star in #Sevastopol #Cri...  Abu Dhabi ...\n",
        "2  rt @guardian: vladimir putin tells crimea's ta...  Abu Dhabi ...\n",
        "3  rt @narcissenars: un: human rights violations ...  Abu Dhabi ...\n",
        "4  rt @narcissenars: un: human rights violations ...  Abu Dhabi ...\n",
        "\n",
        "[5 rows x 9 columns]"
       ]
      }
     ],
     "prompt_number": 159
    },
    {
     "cell_type": "code",
     "collapsed": false,
     "input": [
      "# WE WANT TO ANSWER THE QUESTION, ARE POS/ NEG FEELING A FUNCTION OF DISTANCE? (TO CRIMEA?)\n",
      "# 1st Assign a number for each City\n",
      "\n",
      "from sklearn.preprocessing import LabelEncoder\n",
      "enc=LabelEncoder()\n",
      "label_encoder=enc.fit(data.City)\n",
      "#print \"Categorical classes for Cities:\", label_encoder.classes_\n",
      "integer_classes=label_encoder.transform(label_encoder.classes_)\n",
      "print \"Integer Classes for cities:\", integer_classes\n",
      "\n",
      "t=label_encoder.transform(data.City)\n",
      "data.City_Num=t\n",
      "data.City_Num"
     ],
     "language": "python",
     "metadata": {},
     "outputs": [
      {
       "output_type": "stream",
       "stream": "stdout",
       "text": [
        "Integer Classes for cities: [ 0  1  2  3  4  5  6  7  8  9 10 11 12 13 14 15 16 17 18 19 20 21 22 23 24\n",
        " 25 26 27 28 29 30 31 32 33 34 35 36 37 38 39 40 41 42 43 44 45 46 47 48 49\n",
        " 50 51 52 53 54 55 56 57 58 59 60 61 62 63 64 65 66 67 68 69 70 71 72 73 74\n",
        " 75 76 77 78 79 80 81 82 83 84 85 86 87 88 89 90]\n"
       ]
      },
      {
       "metadata": {},
       "output_type": "pyout",
       "prompt_number": 46,
       "text": [
        "0     0\n",
        "1     0\n",
        "2     0\n",
        "3     0\n",
        "4     0\n",
        "5     0\n",
        "6     0\n",
        "7     0\n",
        "8     1\n",
        "9     1\n",
        "10    4\n",
        "11    4\n",
        "12    4\n",
        "13    4\n",
        "14    4\n",
        "...\n",
        "1723    86\n",
        "1724    86\n",
        "1725    87\n",
        "1726    87\n",
        "1727    87\n",
        "1728    88\n",
        "1729    88\n",
        "1730    88\n",
        "1731    88\n",
        "1732    88\n",
        "1733    88\n",
        "1734    88\n",
        "1735    89\n",
        "1736    89\n",
        "1737    90\n",
        "Name: City_Num, Length: 1738, dtype: int64"
       ]
      }
     ],
     "prompt_number": 46
    },
    {
     "cell_type": "code",
     "collapsed": false,
     "input": [
      "#Using Distance Formula & Longitude and Latitude - Determine the distance from Crimea -- \n",
      "#Crimea Lat, Long: 45, 34\n",
      "\n",
      "length = len(data.Lat)\n",
      "i=0\n",
      "\n",
      "\n",
      "dist_list=set()\n",
      "while i < length:\n",
      "    del_y= abs(data.Lat[i:i+1] - 45.)\n",
      "    del_x= abs(data.Long[i:i+1] - 34.)\n",
      "    dist=np.sqrt((del_y)**2 + (del_x)**2)\n",
      "    dist=float(dist)\n",
      "    data.Distance[i:i+1]=dist\n",
      "    i=i+1\n",
      "    \n",
      "data.Distance"
     ],
     "language": "python",
     "metadata": {},
     "outputs": [
      {
       "metadata": {},
       "output_type": "pyout",
       "prompt_number": 176,
       "text": [
        "0      28.920754\n",
        "1      28.920754\n",
        "2      28.920754\n",
        "3      28.920754\n",
        "4      28.920754\n",
        "5      28.920754\n",
        "6      28.920754\n",
        "7      28.920754\n",
        "8     131.625112\n",
        "9     131.625112\n",
        "10    184.612161\n",
        "11    184.612161\n",
        "12    184.612161\n",
        "13    184.612161\n",
        "14    184.612161\n",
        "...\n",
        "1723    17.888544\n",
        "1724    17.888544\n",
        "1725    13.029965\n",
        "1726    13.029965\n",
        "1727    13.029965\n",
        "1728    14.851939\n",
        "1729    14.851939\n",
        "1730    14.851939\n",
        "1731    14.851939\n",
        "1732    14.851939\n",
        "1733    14.851939\n",
        "1734    14.851939\n",
        "1735    97.227737\n",
        "1736    97.227737\n",
        "1737    18.018216\n",
        "Name: Distance, Length: 1738, dtype: float64"
       ]
      }
     ],
     "prompt_number": 176
    },
    {
     "cell_type": "code",
     "collapsed": false,
     "input": [
      "# Find the mean \"Emotive Length\" For Each City\n",
      "from pandas import DataFrame\n",
      "\n",
      "emotion=data.Emotive_Length.groupby(data.City).mean()\n",
      "dist=data.Distance.groupby(data.City).mean()\n",
      "\n",
      "\n",
      "dist=dist.tolist()\n",
      "emotion=emotion.tolist()\n",
      "emotion\n"
     ],
     "language": "python",
     "metadata": {},
     "outputs": [
      {
       "metadata": {},
       "output_type": "pyout",
       "prompt_number": 353,
       "text": [
        "[-0.125,\n",
        " -1.5,\n",
        " -3.0,\n",
        " -0.84242424242424241,\n",
        " -0.47499999999999998,\n",
        " -0.73134328358208955,\n",
        " -0.46666666666666667,\n",
        " 0.5,\n",
        " -2.0,\n",
        " -1.0,\n",
        " -1.368421052631579,\n",
        " 0.0,\n",
        " -2.0,\n",
        " -1.4666666666666666,\n",
        " 0.16666666666666666,\n",
        " -0.33333333333333331,\n",
        " -2.2941176470588234,\n",
        " -3.0,\n",
        " -0.125,\n",
        " -0.75,\n",
        " 0.0,\n",
        " -1.2105263157894737,\n",
        " -0.48571428571428571,\n",
        " -0.75,\n",
        " -1.0,\n",
        " -0.42857142857142855,\n",
        " -2.3333333333333335,\n",
        " -0.5714285714285714,\n",
        " -1.0,\n",
        " -1.0588235294117647,\n",
        " -0.125,\n",
        " -1.0,\n",
        " -0.53846153846153844,\n",
        " -1.0,\n",
        " -1.0,\n",
        " 0.20000000000000001,\n",
        " 0.0,\n",
        " -0.80821917808219179,\n",
        " 0.40000000000000002,\n",
        " -0.46153846153846156,\n",
        " -0.5714285714285714,\n",
        " 1.0,\n",
        " -1.6666666666666667,\n",
        " -1.0,\n",
        " -2.0,\n",
        " 1.0,\n",
        " -1.0,\n",
        " -1.75,\n",
        " -1.3043478260869565,\n",
        " -2.0,\n",
        " -1.0,\n",
        " -0.66666666666666663,\n",
        " 1.0,\n",
        " -0.79153094462540718,\n",
        " -0.36734693877551022,\n",
        " -1.5,\n",
        " -0.59999999999999998,\n",
        " -1.6470588235294117,\n",
        " -0.33333333333333331,\n",
        " -2.0,\n",
        " -2.2692307692307692,\n",
        " -0.52631578947368418,\n",
        " 1.0,\n",
        " -1.6666666666666667,\n",
        " -1.0,\n",
        " 0.0,\n",
        " -1.5345911949685536,\n",
        " -1.1499999999999999,\n",
        " -1.4864864864864864,\n",
        " -4.0,\n",
        " -2.6666666666666665,\n",
        " -0.83870967741935487,\n",
        " -1.3333333333333333,\n",
        " -1.0,\n",
        " -1.375,\n",
        " -1.076086956521739,\n",
        " -1.5,\n",
        " 1.0,\n",
        " 0.25,\n",
        " 1.0,\n",
        " -1.4736842105263157,\n",
        " -0.88888888888888884,\n",
        " -1.5,\n",
        " -0.40000000000000002,\n",
        " 0.0,\n",
        " -1.2,\n",
        " -1.4545454545454546,\n",
        " -2.6666666666666665,\n",
        " -0.2857142857142857,\n",
        " 0.0,\n",
        " -1.0]"
       ]
      }
     ],
     "prompt_number": 353
    },
    {
     "cell_type": "code",
     "collapsed": false,
     "input": [
      "#plot the longitude and latitude scatter - have added jitter to plot\n",
      "\n",
      "np.random(10)\n",
      "\n",
      "plt.scatter(data.Long,data.Lat)"
     ],
     "language": "python",
     "metadata": {},
     "outputs": [
      {
       "ename": "TypeError",
       "evalue": "'module' object is not callable",
       "output_type": "pyerr",
       "traceback": [
        "\u001b[1;31m---------------------------------------------------------------------------\u001b[0m\n\u001b[1;31mTypeError\u001b[0m                                 Traceback (most recent call last)",
        "\u001b[1;32m<ipython-input-348-1283cd140e86>\u001b[0m in \u001b[0;36m<module>\u001b[1;34m()\u001b[0m\n\u001b[0;32m      1\u001b[0m \u001b[1;31m#plot the longitude and latitude scatter - have added jitter to plot\u001b[0m\u001b[1;33m\u001b[0m\u001b[1;33m\u001b[0m\u001b[0m\n\u001b[0;32m      2\u001b[0m \u001b[1;33m\u001b[0m\u001b[0m\n\u001b[1;32m----> 3\u001b[1;33m \u001b[0mnp\u001b[0m\u001b[1;33m.\u001b[0m\u001b[0mrandom\u001b[0m\u001b[1;33m(\u001b[0m\u001b[1;36m10\u001b[0m\u001b[1;33m)\u001b[0m\u001b[1;33m\u001b[0m\u001b[0m\n\u001b[0m\u001b[0;32m      4\u001b[0m \u001b[1;33m\u001b[0m\u001b[0m\n\u001b[0;32m      5\u001b[0m \u001b[0mplt\u001b[0m\u001b[1;33m.\u001b[0m\u001b[0mscatter\u001b[0m\u001b[1;33m(\u001b[0m\u001b[0mdata\u001b[0m\u001b[1;33m.\u001b[0m\u001b[0mLong\u001b[0m\u001b[1;33m,\u001b[0m\u001b[0mdata\u001b[0m\u001b[1;33m.\u001b[0m\u001b[0mLat\u001b[0m\u001b[1;33m)\u001b[0m\u001b[1;33m\u001b[0m\u001b[0m\n",
        "\u001b[1;31mTypeError\u001b[0m: 'module' object is not callable"
       ]
      }
     ],
     "prompt_number": 348
    },
    {
     "cell_type": "code",
     "collapsed": false,
     "input": [
      "#from matplotlib import basemap\n",
      "\n",
      " #Scatter Plot of Emotive Length vs. Distance (from Crimea)\n",
      "\n",
      "plt.scatter(dist,emotion)\n"
     ],
     "language": "python",
     "metadata": {},
     "outputs": [
      {
       "ename": "ImportError",
       "evalue": "cannot import name basemap",
       "output_type": "pyerr",
       "traceback": [
        "\u001b[1;31m---------------------------------------------------------------------------\u001b[0m\n\u001b[1;31mImportError\u001b[0m                               Traceback (most recent call last)",
        "\u001b[1;32m<ipython-input-343-25598e463ade>\u001b[0m in \u001b[0;36m<module>\u001b[1;34m()\u001b[0m\n\u001b[1;32m----> 1\u001b[1;33m \u001b[1;32mfrom\u001b[0m \u001b[0mmatplotlib\u001b[0m \u001b[1;32mimport\u001b[0m \u001b[0mbasemap\u001b[0m\u001b[1;33m\u001b[0m\u001b[0m\n\u001b[0m\u001b[0;32m      2\u001b[0m \u001b[1;33m\u001b[0m\u001b[0m\n\u001b[0;32m      3\u001b[0m  \u001b[1;31m#Scatter Plot of Emotive Length vs. Distance (from Crimea)\u001b[0m\u001b[1;33m\u001b[0m\u001b[1;33m\u001b[0m\u001b[0m\n\u001b[0;32m      4\u001b[0m \u001b[1;33m\u001b[0m\u001b[0m\n\u001b[0;32m      5\u001b[0m \u001b[0mplt\u001b[0m\u001b[1;33m.\u001b[0m\u001b[0mscatter\u001b[0m\u001b[1;33m(\u001b[0m\u001b[0mdist\u001b[0m\u001b[1;33m,\u001b[0m\u001b[0memotion\u001b[0m\u001b[1;33m)\u001b[0m\u001b[1;33m\u001b[0m\u001b[0m\n",
        "\u001b[1;31mImportError\u001b[0m: cannot import name basemap"
       ]
      }
     ],
     "prompt_number": 343
    },
    {
     "cell_type": "code",
     "collapsed": false,
     "input": [
      "#It looks like it might be better to look at variance of emotion as a function of distance\n"
     ],
     "language": "python",
     "metadata": {},
     "outputs": [],
     "prompt_number": 222
    },
    {
     "cell_type": "code",
     "collapsed": false,
     "input": [
      "plt.scatter(dist,emotion_var)\n",
      "\n",
      "#Not really.. "
     ],
     "language": "python",
     "metadata": {},
     "outputs": [
      {
       "metadata": {},
       "output_type": "pyout",
       "prompt_number": 207,
       "text": [
        "<matplotlib.collections.PathCollection at 0x16517278>"
       ]
      },
      {
       "metadata": {},
       "output_type": "display_data",
       "png": "[encoded data removed]",
       "text": [
        "<matplotlib.figure.Figure at 0x15f1c160>"
       ]
      }
     ],
     "prompt_number": 207
    },
    {
     "cell_type": "code",
     "collapsed": false,
     "input": [
      "#Let's look at count of tweets vs. distance from Crimea\n",
      "\n",
      "count=data.Tweet.groupby(data.City).count()\n",
      "count=count.tolist()\n",
      "\n",
      "plt.scatter(np.log(dist),np.log(count))\n",
      "\n",
      "# I dont see a strong correlation here.  The relationship looks random\n",
      "# want to write count, emotion, to new csv file\n"
     ],
     "language": "python",
     "metadata": {},
     "outputs": [
      {
       "metadata": {},
       "output_type": "pyout",
       "prompt_number": 356,
       "text": [
        "<matplotlib.collections.PathCollection at 0x185e3278>"
       ]
      },
      {
       "metadata": {},
       "output_type": "display_data",
       "png": "[encoded data removed]",
       "text": [
        "<matplotlib.figure.Figure at 0x179c14a8>"
       ]
      }
     ],
     "prompt_number": 356
    },
    {
     "cell_type": "code",
     "collapsed": false,
     "input": [
      "#I will now build a classifier using logistic Regression \n",
      "\n",
      "import sklearn\n",
      "import json\n",
      "import requests\n",
      "\n",
      "from sklearn.cross_validation import train_test_split\n",
      "from sklearn.naive_bayes import MultinomialNB\n",
      "from sklearn import linear_model"
     ],
     "language": "python",
     "metadata": {},
     "outputs": [],
     "prompt_number": 295
    },
    {
     "cell_type": "code",
     "collapsed": false,
     "input": [
      "df=pd.read_csv('new_data.csv')"
     ],
     "language": "python",
     "metadata": {},
     "outputs": [],
     "prompt_number": 377
    },
    {
     "cell_type": "code",
     "collapsed": false,
     "input": [
      "X=df[['Distance','Count']]\n",
      "Y=df[['Emotion']]\n",
      "\n",
      "\n",
      "\n",
      "X_train, X_test, Y_train, Y_test = train_test_split(X,Y,test_size=0.25)\n",
      "\n",
      "\n",
      "logreg_fitter = linear_model.LogisticRegression()\n",
      "\n",
      "# Next we fit the classifer on Test Data:\n",
      "\n",
      "logclf=logreg_fitter.fit(X_train, Y_train)\n",
      "logclf\n"
     ],
     "language": "python",
     "metadata": {},
     "outputs": [
      {
       "output_type": "stream",
       "stream": "stderr",
       "text": [
        "C:\\Users\\Julia\\Anaconda\\lib\\site-packages\\sklearn\\preprocessing\\label.py:99: DataConversionWarning: A column-vector y was passed when a 1d array was expected. Please change the shape of y to (n_samples, ), for example using ravel().\n",
        "  y = column_or_1d(y, warn=True)\n"
       ]
      },
      {
       "metadata": {},
       "output_type": "pyout",
       "prompt_number": 389,
       "text": [
        "LogisticRegression(C=1.0, class_weight=None, dual=False, fit_intercept=True,\n",
        "          intercept_scaling=1, penalty='l2', random_state=None, tol=0.0001)"
       ]
      }
     ],
     "prompt_number": 389
    },
    {
     "cell_type": "code",
     "collapsed": false,
     "input": [
      "# Coefficeints for each category:\n",
      "\n",
      "logclf.coef_\n",
      "\n",
      "logclf.score(X_test,Y_test)\n"
     ],
     "language": "python",
     "metadata": {},
     "outputs": [
      {
       "ename": "ValueError",
       "evalue": "continuous is not supported",
       "output_type": "pyerr",
       "traceback": [
        "\u001b[1;31m---------------------------------------------------------------------------\u001b[0m\n\u001b[1;31mValueError\u001b[0m                                Traceback (most recent call last)",
        "\u001b[1;32m<ipython-input-393-703bdbf4549c>\u001b[0m in \u001b[0;36m<module>\u001b[1;34m()\u001b[0m\n\u001b[0;32m      3\u001b[0m \u001b[0mlogclf\u001b[0m\u001b[1;33m.\u001b[0m\u001b[0mcoef_\u001b[0m\u001b[1;33m\u001b[0m\u001b[0m\n\u001b[0;32m      4\u001b[0m \u001b[1;33m\u001b[0m\u001b[0m\n\u001b[1;32m----> 5\u001b[1;33m \u001b[0mlogclf\u001b[0m\u001b[1;33m.\u001b[0m\u001b[0mscore\u001b[0m\u001b[1;33m(\u001b[0m\u001b[0mX_test\u001b[0m\u001b[1;33m,\u001b[0m\u001b[0mY_test\u001b[0m\u001b[1;33m)\u001b[0m\u001b[1;33m\u001b[0m\u001b[0m\n\u001b[0m",
        "\u001b[1;32mC:\\Users\\Julia\\Anaconda\\lib\\site-packages\\sklearn\\base.pyc\u001b[0m in \u001b[0;36mscore\u001b[1;34m(self, X, y)\u001b[0m\n\u001b[0;32m    292\u001b[0m         \"\"\"\n\u001b[0;32m    293\u001b[0m         \u001b[1;32mfrom\u001b[0m \u001b[1;33m.\u001b[0m\u001b[0mmetrics\u001b[0m \u001b[1;32mimport\u001b[0m \u001b[0maccuracy_score\u001b[0m\u001b[1;33m\u001b[0m\u001b[0m\n\u001b[1;32m--> 294\u001b[1;33m         \u001b[1;32mreturn\u001b[0m \u001b[0maccuracy_score\u001b[0m\u001b[1;33m(\u001b[0m\u001b[0my\u001b[0m\u001b[1;33m,\u001b[0m \u001b[0mself\u001b[0m\u001b[1;33m.\u001b[0m\u001b[0mpredict\u001b[0m\u001b[1;33m(\u001b[0m\u001b[0mX\u001b[0m\u001b[1;33m)\u001b[0m\u001b[1;33m)\u001b[0m\u001b[1;33m\u001b[0m\u001b[0m\n\u001b[0m\u001b[0;32m    295\u001b[0m \u001b[1;33m\u001b[0m\u001b[0m\n\u001b[0;32m    296\u001b[0m \u001b[1;33m\u001b[0m\u001b[0m\n",
        "\u001b[1;32mC:\\Users\\Julia\\Anaconda\\lib\\site-packages\\sklearn\\metrics\\metrics.pyc\u001b[0m in \u001b[0;36maccuracy_score\u001b[1;34m(y_true, y_pred, normalize)\u001b[0m\n\u001b[0;32m   1062\u001b[0m \u001b[1;33m\u001b[0m\u001b[0m\n\u001b[0;32m   1063\u001b[0m     \u001b[1;31m# Compute accuracy for each possible representation\u001b[0m\u001b[1;33m\u001b[0m\u001b[1;33m\u001b[0m\u001b[0m\n\u001b[1;32m-> 1064\u001b[1;33m     \u001b[0my_type\u001b[0m\u001b[1;33m,\u001b[0m \u001b[0my_true\u001b[0m\u001b[1;33m,\u001b[0m \u001b[0my_pred\u001b[0m \u001b[1;33m=\u001b[0m \u001b[0m_check_clf_targets\u001b[0m\u001b[1;33m(\u001b[0m\u001b[0my_true\u001b[0m\u001b[1;33m,\u001b[0m \u001b[0my_pred\u001b[0m\u001b[1;33m)\u001b[0m\u001b[1;33m\u001b[0m\u001b[0m\n\u001b[0m\u001b[0;32m   1065\u001b[0m     \u001b[1;32mif\u001b[0m \u001b[0my_type\u001b[0m \u001b[1;33m==\u001b[0m \u001b[1;34m'multilabel-indicator'\u001b[0m\u001b[1;33m:\u001b[0m\u001b[1;33m\u001b[0m\u001b[0m\n\u001b[0;32m   1066\u001b[0m         \u001b[0mscore\u001b[0m \u001b[1;33m=\u001b[0m \u001b[1;33m(\u001b[0m\u001b[0my_pred\u001b[0m \u001b[1;33m!=\u001b[0m \u001b[0my_true\u001b[0m\u001b[1;33m)\u001b[0m\u001b[1;33m.\u001b[0m\u001b[0msum\u001b[0m\u001b[1;33m(\u001b[0m\u001b[0maxis\u001b[0m\u001b[1;33m=\u001b[0m\u001b[1;36m1\u001b[0m\u001b[1;33m)\u001b[0m \u001b[1;33m==\u001b[0m \u001b[1;36m0\u001b[0m\u001b[1;33m\u001b[0m\u001b[0m\n",
        "\u001b[1;32mC:\\Users\\Julia\\Anaconda\\lib\\site-packages\\sklearn\\metrics\\metrics.pyc\u001b[0m in \u001b[0;36m_check_clf_targets\u001b[1;34m(y_true, y_pred)\u001b[0m\n\u001b[0;32m    121\u001b[0m     if (y_type not in [\"binary\", \"multiclass\", \"multilabel-indicator\",\n\u001b[0;32m    122\u001b[0m                        \"multilabel-sequences\"]):\n\u001b[1;32m--> 123\u001b[1;33m         \u001b[1;32mraise\u001b[0m \u001b[0mValueError\u001b[0m\u001b[1;33m(\u001b[0m\u001b[1;34m\"{0} is not supported\"\u001b[0m\u001b[1;33m.\u001b[0m\u001b[0mformat\u001b[0m\u001b[1;33m(\u001b[0m\u001b[0my_type\u001b[0m\u001b[1;33m)\u001b[0m\u001b[1;33m)\u001b[0m\u001b[1;33m\u001b[0m\u001b[0m\n\u001b[0m\u001b[0;32m    124\u001b[0m \u001b[1;33m\u001b[0m\u001b[0m\n\u001b[0;32m    125\u001b[0m     \u001b[1;32mif\u001b[0m \u001b[0my_type\u001b[0m \u001b[1;32min\u001b[0m \u001b[1;33m[\u001b[0m\u001b[1;34m\"binary\"\u001b[0m\u001b[1;33m,\u001b[0m \u001b[1;34m\"multiclass\"\u001b[0m\u001b[1;33m]\u001b[0m\u001b[1;33m:\u001b[0m\u001b[1;33m\u001b[0m\u001b[0m\n",
        "\u001b[1;31mValueError\u001b[0m: continuous is not supported"
       ]
      }
     ],
     "prompt_number": 393
    }
   ],
   "metadata": {}
  }
 ]
}