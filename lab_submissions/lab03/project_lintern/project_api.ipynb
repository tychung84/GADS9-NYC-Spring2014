{
 "metadata": {
  "name": ""
 },
 "nbformat": 3,
 "nbformat_minor": 0,
 "worksheets": [
  {
   "cells": [
    {
     "cell_type": "code",
     "collapsed": false,
     "input": [
      "from tweepy import Stream\n",
      "from tweepy import OAuthHandler\n",
      "from tweepy.streaming import StreamListener\n",
      "import time\n",
      "\n",
      "\n",
      "ckey = 'GBhQelptBzpt9kUPZkguYFw5P'\n",
      "csecret= 'hXvsxLsSk7cJUBL0iDjBQuxJTm2zI2aKGXGdW4IYrx8IqSUNOw'\n",
      "atoken = '233536396-K8MVmphIFS29rNV4fVLIlDxaDrfIPnNyIB2ddP68'\n",
      "asecret = 'a49vxwUFVmxGYeVqjC9m0M1UmYYaGLje3An7bJFgl2vwM'\n",
      "\n",
      "class listen(StreamListener):\n",
      "    def on_data(self,data):\n",
      "        try:\n",
      "            loc = data.split(',\"location\":\"')[1].split('\",\"url')[0]\n",
      "            tweet = data.split(',\"text\":\"')[1].split('\",\"source')[0]\n",
      "            tweettime = str(time.time())+'::'\n",
      "            timezone = data.split(',\"time_zone\":\"')[1].split('\",\"geo_enabled')[0]\n",
      "            print tweet\n",
      "            print loc\n",
      "            print tweettime\n",
      "            print timezone \n",
      "            saveFile = open(\"julia.txt\",\"w\",\"utf-8\")\n",
      "            saveFile= write(data)\n",
      "            saveFile = write('\\n')\n",
      "            saveFile.close()\n",
      "            return True\n",
      "        except BaseException, e:\n",
      "            print 'failed', str(e)\n",
      "            time.sleep(5)\n",
      "    \n",
      "    def on_error(self, status):\n",
      "        print status\n",
      "        \n",
      "auth = OAuthHandler(ckey, csecret)\n",
      "auth.set_access_token(atoken, asecret)\n",
      "twitterStream = Stream(auth, listen())\n",
      "data=twitterStream.filter(track=[\"crimea\"])"
     ],
     "language": "python",
     "metadata": {},
     "outputs": [
      {
       "output_type": "stream",
       "stream": "stdout",
       "text": [
        "RT @GovernmentRF: This year's historic event: #Crimea and Sevastopol, which have always been a spiritual and cultural part of Russia, have \\u2026\n",
        "Yellow Jacket until 2017 adsum\n",
        "1398179983.4::\n",
        "Jakarta\n",
        "failed an integer is required\n",
        "Putin firma decreto para \\\"reparar justicia\\\" con minor\\u00edas de Crimea http:\\/\\/t.co\\/Hldl5LhzW2"
       ]
      },
      {
       "output_type": "stream",
       "stream": "stdout",
       "text": [
        "\n",
        "Ciudad de los sue\\u00f1os robados. \n",
        "1398179988.4::\n",
        "Mexico City\n",
        "failed an integer is required\n",
        "RT @SamuelCoates: #Crimea's transition to Russia is going swell... http:\\/\\/t.co\\/Tnxz7pJg3u"
       ]
      },
      {
       "output_type": "stream",
       "stream": "stdout",
       "text": [
        "\n",
        "\n",
        "1398179993.4::\n",
        "Atlantic Time (Canada)\n",
        "failed an integer is required\n",
        "\\u2605: Vladimir Putin propone convertir Crimea en Las Vegas ruso: Pero los casinos est\\u00e1n abiertos a los... http:\\/\\/t.co\\/iKDl9XtEHm #ReviewSearch"
       ]
      },
      {
       "output_type": "stream",
       "stream": "stdout",
       "text": [
        "\n",
        "\\u30cd\\u30c3\\u30c8\\u4e0a on the Web\n",
        "1398180012.21::\n",
        "Tokyo\n",
        "failed an integer is required\n",
        "RT @lpolgreen: Under Russia, Life in Crimea Grows Chaotic. Switching countries ain't so easy: amazing story in today's NYT.  http:\\/\\/t.co\\/Lq\\u2026"
       ]
      },
      {
       "output_type": "stream",
       "stream": "stdout",
       "text": [
        "\n",
        "Netherlands\n",
        "1398180038.79::\n",
        "Amsterdam\n",
        "failed an integer is required\n",
        "RT @steven_pifer: Crimean Tatar leader Dzhemilev banned from Crimea for 5 years. Not likely to give Tatars confidence about life under #Rus\\u2026"
       ]
      },
      {
       "output_type": "stream",
       "stream": "stdout",
       "text": [
        "\n",
        "\n",
        "1398180043.79::\n",
        "Eastern Time (US & Canada)\n",
        "failed an integer is required\n",
        "For Tolstoy, from Crimea to War and Peace http:\\/\\/t.co\\/EMjyrHI6P0 #cnn"
       ]
      },
      {
       "output_type": "stream",
       "stream": "stdout",
       "text": [
        "\n",
        "\n",
        "1398180048.79::\n",
        "Eastern Time (US & Canada)\n",
        "failed an integer is required\n",
        "Vladimir Putin Wants To Make The Territory He Took From Ukraine Into Russia's Version Of Vegas http:\\/\\/t.co\\/ROYzZJuvrd v\\u00eda @bi_politics"
       ]
      },
      {
       "output_type": "stream",
       "stream": "stdout",
       "text": [
        "\n",
        "\n",
        "1398180053.79::\n",
        "Athens\n",
        "failed an integer is required\n",
        "Under Russia, Life in Crimea Grows Chaotic. Travails well known here from our own annexation and occupation in 1940 http:\\/\\/t.co\\/7t8MSaziKG"
       ]
      },
      {
       "output_type": "stream",
       "stream": "stdout",
       "text": [
        "\n",
        "Estonia\n",
        "1398180058.79::\n",
        "Tallinn\n",
        "failed an integer is required\n",
        "RT @LarsGyllenhaal: This is VERY REMARKABLE, the official \\\"Return of Crimea\\\" medal states 20th Feb as start date of #Crimea operation: http\\u2026"
       ]
      },
      {
       "output_type": "stream",
       "stream": "stdout",
       "text": [
        "\n",
        "G\\u00f6teborg\n",
        "1398180063.79::\n",
        "Athens\n",
        "failed an integer is required\n",
        "RT @EuromaidanPR: #Moscow decided not to postpone for #Crimea ppl deadline to refuse from #Russian citizenship @EuroMaydan http:\\/\\/t.co\\/fQi9\\u2026"
       ]
      },
      {
       "output_type": "stream",
       "stream": "stdout",
       "text": [
        "\n",
        "\n",
        "1398180068.8::\n",
        "Kyiv\n",
        "failed an integer is required\n",
        "#Russia #Crimea #UE #Ukraine Read all about it :http:\\/\\/t.co\\/PLDbev3piT"
       ]
      },
      {
       "output_type": "stream",
       "stream": "stdout",
       "text": [
        "\n",
        "Cagliari\n",
        "1398180073.8::\n",
        "Athens\n",
        "failed an integer is required\n",
        "While blocking the their leader from returning to Crimea, Putin rehabilitates Crimean Tatars. Convenient. http:\\/\\/t.co\\/A6HuDjL3g4"
       ]
      },
      {
       "output_type": "stream",
       "stream": "stdout",
       "text": [
        "\n",
        "New York, NY\n",
        "1398180078.8::\n",
        "Eastern Time (US & Canada)\n",
        "failed an integer is required\n",
        "@dividejkt - Crimea St.   Hell yeah!! \\\\m\\/"
       ]
      },
      {
       "output_type": "stream",
       "stream": "stdout",
       "text": [
        "\n",
        "Guess ?\n",
        "1398180083.8::\n",
        "Bangkok\n",
        "failed an integer is required\n",
        "RT @samuelrachlin: To honor annexation of Crimea Chelyabinsk workshop will issue a coin with #Putin, and Crimea on the reverse. http:\\/\\/t.co\\u2026"
       ]
      },
      {
       "output_type": "stream",
       "stream": "stdout",
       "text": [
        "\n",
        "Copenhagen\n",
        "1398180088.8::\n",
        "Amsterdam\n",
        "failed an integer is required\n",
        "Awaiting Russian Ambassador to Canada Georgiy Mamedov. Empire Club of Canada event:\\\"Russia, Ukraine and Crimea --The Russian Perspective\\\""
       ]
      }
     ],
     "prompt_number": "*"
    },
    {
     "cell_type": "code",
     "collapsed": false,
     "input": [
      "\n",
      "1398174765.8::\n"
     ],
     "language": "python",
     "metadata": {},
     "outputs": []
    }
   ],
   "metadata": {}
  }
 ]
}