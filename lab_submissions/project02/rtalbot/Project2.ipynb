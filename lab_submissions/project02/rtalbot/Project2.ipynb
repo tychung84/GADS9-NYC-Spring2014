{
 "metadata": {
  "name": ""
 },
 "nbformat": 3,
 "nbformat_minor": 0,
 "worksheets": [
  {
   "cells": [
    {
     "cell_type": "markdown",
     "metadata": {},
     "source": [
      "#Project 2 - Classifier\n",
      "    - Predict the tip amount for a given zip code\n",
      "    - Predict the alcohol order amount based off of zip code"
     ]
    },
    {
     "cell_type": "code",
     "collapsed": false,
     "input": [
      "%pylab inline"
     ],
     "language": "python",
     "metadata": {},
     "outputs": [
      {
       "output_type": "stream",
       "stream": "stdout",
       "text": [
        "Populating the interactive namespace from numpy and matplotlib\n"
       ]
      }
     ],
     "prompt_number": 1
    },
    {
     "cell_type": "code",
     "collapsed": false,
     "input": [
      "import pandas as pd\n",
      "import numpy as np\n",
      "import matplotlib.pylab as plt\n",
      "import re"
     ],
     "language": "python",
     "metadata": {},
     "outputs": [],
     "prompt_number": 2
    },
    {
     "cell_type": "code",
     "collapsed": false,
     "input": [
      "from sklearn import metrics, neighbors, linear_model, tree\n",
      "from sklearn.naive_bayes import MultinomialNB\n",
      "from sklearn.cross_validation import train_test_split\n",
      "from sklearn.neighbors import KNeighborsClassifier"
     ],
     "language": "python",
     "metadata": {},
     "outputs": [],
     "prompt_number": 235
    },
    {
     "cell_type": "code",
     "collapsed": false,
     "input": [
      "from borough import findBorough as borough"
     ],
     "language": "python",
     "metadata": {},
     "outputs": [],
     "prompt_number": 67
    },
    {
     "cell_type": "markdown",
     "metadata": {},
     "source": [
      "##Acquire Data - data is being loaded from acquried csv files\n",
      "    - Alcohol ordering information\n",
      "    - Procduct information which was ordered"
     ]
    },
    {
     "cell_type": "code",
     "collapsed": false,
     "input": [
      "alcohol_orders = pd.read_csv('data/Minibar Orders.csv')\n",
      "product_sales = pd.read_csv('data/Minibar Product Sales.csv')"
     ],
     "language": "python",
     "metadata": {},
     "outputs": [],
     "prompt_number": 135
    },
    {
     "cell_type": "markdown",
     "metadata": {},
     "source": [
      "##Clean/Explore Data"
     ]
    },
    {
     "cell_type": "code",
     "collapsed": false,
     "input": [
      "#display data overview\n",
      "list(alcohol_orders.columns.values)"
     ],
     "language": "python",
     "metadata": {},
     "outputs": [
      {
       "metadata": {},
       "output_type": "pyout",
       "prompt_number": 136,
       "text": [
        "['OrderNumber',\n",
        " 'Date',\n",
        " 'Time',\n",
        " 'Name',\n",
        " 'SubTotal',\n",
        " 'Tip',\n",
        " 'Total',\n",
        " 'Zip',\n",
        " 'Store',\n",
        " 'RepeatOrderNumber',\n",
        " 'Status',\n",
        " 'WineAmount',\n",
        " 'LiquorAmount',\n",
        " 'PromoCodeDiscount',\n",
        " 'Gift',\n",
        " 'NumOfItems',\n",
        " 'DeliveryEstimate',\n",
        " 'DeliveryMethod']"
       ]
      }
     ],
     "prompt_number": 136
    },
    {
     "cell_type": "code",
     "collapsed": false,
     "input": [
      "len(alcohol_orders.Zip.unique())"
     ],
     "language": "python",
     "metadata": {},
     "outputs": [
      {
       "metadata": {},
       "output_type": "pyout",
       "prompt_number": 137,
       "text": [
        "77"
       ]
      }
     ],
     "prompt_number": 137
    },
    {
     "cell_type": "code",
     "collapsed": false,
     "input": [
      "alcohol_orders.Zip.unique()"
     ],
     "language": "python",
     "metadata": {},
     "outputs": [
      {
       "metadata": {},
       "output_type": "pyout",
       "prompt_number": 138,
       "text": [
        "array([11201, 10019, 11217, 11206, 10002, 10010, 10016, 10022, 10282,\n",
        "       10011, 10012, 10154, 10038, 10013, 11238, 11211, 10023, 11231,\n",
        "       10025, 10128, 11226, 10017, 10009, 11222, 10004, 10005, 10001,\n",
        "       10031, 10003, 10014, 10006, 10036, 11216, 11215, 10171, 10021,\n",
        "       11205, 10028, 11104, 11103, 10024, 11225, 11209, 10065, 11233,\n",
        "       11221, 11218, 10075, 10018, 10151, 11237, 11249, 11230, 10027,\n",
        "       10152, 10032, 11213, 10007, 10280, 11223, 10033, 10029, 11204,\n",
        "       11101, 11232, 10069, 11102, 11220, 98765, 10040, 11228, 10037,\n",
        "       11210, 10026, 11109, 11214, 10044])"
       ]
      }
     ],
     "prompt_number": 138
    },
    {
     "cell_type": "code",
     "collapsed": false,
     "input": [
      "print len(alcohol_orders)"
     ],
     "language": "python",
     "metadata": {},
     "outputs": [
      {
       "output_type": "stream",
       "stream": "stdout",
       "text": [
        "2702\n"
       ]
      }
     ],
     "prompt_number": 139
    },
    {
     "cell_type": "code",
     "collapsed": false,
     "input": [
      "alcohol_orders.head()"
     ],
     "language": "python",
     "metadata": {},
     "outputs": [
      {
       "html": [
        "<div style=\"max-height:1000px;max-width:1500px;overflow:auto;\">\n",
        "<table border=\"1\" class=\"dataframe\">\n",
        "  <thead>\n",
        "    <tr style=\"text-align: right;\">\n",
        "      <th></th>\n",
        "      <th>OrderNumber</th>\n",
        "      <th>Date</th>\n",
        "      <th>Time</th>\n",
        "      <th>Name</th>\n",
        "      <th>SubTotal</th>\n",
        "      <th>Tip</th>\n",
        "      <th>Total</th>\n",
        "      <th>Zip</th>\n",
        "      <th>Store</th>\n",
        "      <th>RepeatOrderNumber</th>\n",
        "      <th>Status</th>\n",
        "      <th>WineAmount</th>\n",
        "      <th>LiquorAmount</th>\n",
        "      <th>PromoCodeDiscount</th>\n",
        "      <th>Gift</th>\n",
        "      <th>NumOfItems</th>\n",
        "      <th>DeliveryEstimate</th>\n",
        "      <th>DeliveryMethod</th>\n",
        "    </tr>\n",
        "  </thead>\n",
        "  <tbody>\n",
        "    <tr>\n",
        "      <th>0</th>\n",
        "      <td> 1396213693</td>\n",
        "      <td> 3/30/14</td>\n",
        "      <td> 17:09</td>\n",
        "      <td> ACha</td>\n",
        "      <td> 35.82</td>\n",
        "      <td> 4</td>\n",
        "      <td> 38.00</td>\n",
        "      <td> 11201</td>\n",
        "      <td>           Atlantic Cellars</td>\n",
        "      <td> 1</td>\n",
        "      <td> TRANSFERRED</td>\n",
        "      <td> 35.82</td>\n",
        "      <td>  0</td>\n",
        "      <td> 5</td>\n",
        "      <td> No</td>\n",
        "      <td> 3</td>\n",
        "      <td> 30-60 minutes</td>\n",
        "      <td> As soon as possible</td>\n",
        "    </tr>\n",
        "    <tr>\n",
        "      <th>1</th>\n",
        "      <td> 1396999830</td>\n",
        "      <td>  4/8/14</td>\n",
        "      <td> 19:31</td>\n",
        "      <td> AGat</td>\n",
        "      <td> 31.97</td>\n",
        "      <td> 3</td>\n",
        "      <td> 37.81</td>\n",
        "      <td> 10019</td>\n",
        "      <td> 55th Street Wine &amp; Spirits</td>\n",
        "      <td> 1</td>\n",
        "      <td> TRANSFERRED</td>\n",
        "      <td> 31.97</td>\n",
        "      <td>  0</td>\n",
        "      <td> 0</td>\n",
        "      <td> No</td>\n",
        "      <td> 3</td>\n",
        "      <td>  0-30 minutes</td>\n",
        "      <td> As soon as possible</td>\n",
        "    </tr>\n",
        "    <tr>\n",
        "      <th>2</th>\n",
        "      <td> 1394327720</td>\n",
        "      <td>  3/8/14</td>\n",
        "      <td> 20:15</td>\n",
        "      <td> AGol</td>\n",
        "      <td> 38.94</td>\n",
        "      <td> 3</td>\n",
        "      <td> 45.40</td>\n",
        "      <td> 11217</td>\n",
        "      <td>           Atlantic Cellars</td>\n",
        "      <td> 1</td>\n",
        "      <td> TRANSFERRED</td>\n",
        "      <td> 11.94</td>\n",
        "      <td> 27</td>\n",
        "      <td> 0</td>\n",
        "      <td> No</td>\n",
        "      <td> 2</td>\n",
        "      <td> 30-60 minutes</td>\n",
        "      <td>                 NaN</td>\n",
        "    </tr>\n",
        "    <tr>\n",
        "      <th>3</th>\n",
        "      <td> 1396129371</td>\n",
        "      <td> 3/29/14</td>\n",
        "      <td> 17:42</td>\n",
        "      <td> AGol</td>\n",
        "      <td> 38.94</td>\n",
        "      <td> 3</td>\n",
        "      <td> 45.40</td>\n",
        "      <td> 11217</td>\n",
        "      <td>           Atlantic Cellars</td>\n",
        "      <td> 2</td>\n",
        "      <td> TRANSFERRED</td>\n",
        "      <td> 11.94</td>\n",
        "      <td> 27</td>\n",
        "      <td> 0</td>\n",
        "      <td> No</td>\n",
        "      <td> 2</td>\n",
        "      <td> 30-60 minutes</td>\n",
        "      <td> As soon as possible</td>\n",
        "    </tr>\n",
        "    <tr>\n",
        "      <th>4</th>\n",
        "      <td> 1397425417</td>\n",
        "      <td> 4/13/14</td>\n",
        "      <td> 17:43</td>\n",
        "      <td> AGol</td>\n",
        "      <td> 49.88</td>\n",
        "      <td> 4</td>\n",
        "      <td> 58.31</td>\n",
        "      <td> 11217</td>\n",
        "      <td>           Atlantic Cellars</td>\n",
        "      <td> 3</td>\n",
        "      <td> TRANSFERRED</td>\n",
        "      <td> 23.88</td>\n",
        "      <td> 26</td>\n",
        "      <td> 0</td>\n",
        "      <td> No</td>\n",
        "      <td> 3</td>\n",
        "      <td> 30-60 minutes</td>\n",
        "      <td> As soon as possible</td>\n",
        "    </tr>\n",
        "  </tbody>\n",
        "</table>\n",
        "<p>5 rows \u00d7 18 columns</p>\n",
        "</div>"
       ],
       "metadata": {},
       "output_type": "pyout",
       "prompt_number": 140,
       "text": [
        "   OrderNumber     Date   Time  Name  SubTotal  Tip  Total    Zip  \\\n",
        "0   1396213693  3/30/14  17:09  ACha     35.82    4  38.00  11201   \n",
        "1   1396999830   4/8/14  19:31  AGat     31.97    3  37.81  10019   \n",
        "2   1394327720   3/8/14  20:15  AGol     38.94    3  45.40  11217   \n",
        "3   1396129371  3/29/14  17:42  AGol     38.94    3  45.40  11217   \n",
        "4   1397425417  4/13/14  17:43  AGol     49.88    4  58.31  11217   \n",
        "\n",
        "                        Store  RepeatOrderNumber       Status  WineAmount  \\\n",
        "0            Atlantic Cellars                  1  TRANSFERRED       35.82   \n",
        "1  55th Street Wine & Spirits                  1  TRANSFERRED       31.97   \n",
        "2            Atlantic Cellars                  1  TRANSFERRED       11.94   \n",
        "3            Atlantic Cellars                  2  TRANSFERRED       11.94   \n",
        "4            Atlantic Cellars                  3  TRANSFERRED       23.88   \n",
        "\n",
        "   LiquorAmount  PromoCodeDiscount Gift  NumOfItems DeliveryEstimate  \\\n",
        "0             0                  5   No           3    30-60 minutes   \n",
        "1             0                  0   No           3     0-30 minutes   \n",
        "2            27                  0   No           2    30-60 minutes   \n",
        "3            27                  0   No           2    30-60 minutes   \n",
        "4            26                  0   No           3    30-60 minutes   \n",
        "\n",
        "        DeliveryMethod  \n",
        "0  As soon as possible  \n",
        "1  As soon as possible  \n",
        "2                  NaN  \n",
        "3  As soon as possible  \n",
        "4  As soon as possible  \n",
        "\n",
        "[5 rows x 18 columns]"
       ]
      }
     ],
     "prompt_number": 140
    },
    {
     "cell_type": "code",
     "collapsed": false,
     "input": [
      "alcohol_orders.describe()"
     ],
     "language": "python",
     "metadata": {},
     "outputs": [
      {
       "html": [
        "<div style=\"max-height:1000px;max-width:1500px;overflow:auto;\">\n",
        "<table border=\"1\" class=\"dataframe\">\n",
        "  <thead>\n",
        "    <tr style=\"text-align: right;\">\n",
        "      <th></th>\n",
        "      <th>OrderNumber</th>\n",
        "      <th>SubTotal</th>\n",
        "      <th>Tip</th>\n",
        "      <th>Total</th>\n",
        "      <th>Zip</th>\n",
        "      <th>RepeatOrderNumber</th>\n",
        "      <th>WineAmount</th>\n",
        "      <th>LiquorAmount</th>\n",
        "      <th>PromoCodeDiscount</th>\n",
        "      <th>NumOfItems</th>\n",
        "    </tr>\n",
        "  </thead>\n",
        "  <tbody>\n",
        "    <tr>\n",
        "      <th>count</th>\n",
        "      <td> 2.702000e+03</td>\n",
        "      <td> 2702.000000</td>\n",
        "      <td> 2702.000000</td>\n",
        "      <td> 2702.000000</td>\n",
        "      <td>  2702.000000</td>\n",
        "      <td> 2702.000000</td>\n",
        "      <td> 2702.000000</td>\n",
        "      <td> 2702.000000</td>\n",
        "      <td> 2702.000000</td>\n",
        "      <td> 2702.000000</td>\n",
        "    </tr>\n",
        "    <tr>\n",
        "      <th>mean</th>\n",
        "      <td> 1.395529e+09</td>\n",
        "      <td>   51.767635</td>\n",
        "      <td>    4.710222</td>\n",
        "      <td>   60.028153</td>\n",
        "      <td> 10465.902665</td>\n",
        "      <td>    2.626573</td>\n",
        "      <td>   31.473494</td>\n",
        "      <td>   20.125896</td>\n",
        "      <td>    1.044493</td>\n",
        "      <td>    2.554774</td>\n",
        "    </tr>\n",
        "    <tr>\n",
        "      <th>std</th>\n",
        "      <td> 2.182822e+06</td>\n",
        "      <td>   42.163579</td>\n",
        "      <td>    3.551959</td>\n",
        "      <td>   48.969358</td>\n",
        "      <td>  1791.762055</td>\n",
        "      <td>    3.345479</td>\n",
        "      <td>   36.614106</td>\n",
        "      <td>   35.250769</td>\n",
        "      <td>    3.427984</td>\n",
        "      <td>    2.108444</td>\n",
        "    </tr>\n",
        "    <tr>\n",
        "      <th>min</th>\n",
        "      <td> 1.391279e+09</td>\n",
        "      <td>   25.000000</td>\n",
        "      <td>    0.000000</td>\n",
        "      <td>    0.000000</td>\n",
        "      <td> 10001.000000</td>\n",
        "      <td>    1.000000</td>\n",
        "      <td>    0.000000</td>\n",
        "      <td>    0.000000</td>\n",
        "      <td>    0.000000</td>\n",
        "      <td>    1.000000</td>\n",
        "    </tr>\n",
        "    <tr>\n",
        "      <th>25%</th>\n",
        "      <td> 1.393705e+09</td>\n",
        "      <td>   29.970000</td>\n",
        "      <td>    3.000000</td>\n",
        "      <td>   34.550000</td>\n",
        "      <td> 10012.000000</td>\n",
        "      <td>    1.000000</td>\n",
        "      <td>    0.000000</td>\n",
        "      <td>    0.000000</td>\n",
        "      <td>    0.000000</td>\n",
        "      <td>    2.000000</td>\n",
        "    </tr>\n",
        "    <tr>\n",
        "      <th>50%</th>\n",
        "      <td> 1.395706e+09</td>\n",
        "      <td>   36.980000</td>\n",
        "      <td>    3.000000</td>\n",
        "      <td>   43.250000</td>\n",
        "      <td> 10024.000000</td>\n",
        "      <td>    1.000000</td>\n",
        "      <td>   27.990000</td>\n",
        "      <td>    0.000000</td>\n",
        "      <td>    0.000000</td>\n",
        "      <td>    2.000000</td>\n",
        "    </tr>\n",
        "    <tr>\n",
        "      <th>75%</th>\n",
        "      <td> 1.397416e+09</td>\n",
        "      <td>   55.000000</td>\n",
        "      <td>    5.000000</td>\n",
        "      <td>   64.442500</td>\n",
        "      <td> 11211.000000</td>\n",
        "      <td>    3.000000</td>\n",
        "      <td>   38.660000</td>\n",
        "      <td>   33.735000</td>\n",
        "      <td>    0.000000</td>\n",
        "      <td>    3.000000</td>\n",
        "    </tr>\n",
        "    <tr>\n",
        "      <th>max</th>\n",
        "      <td> 1.398908e+09</td>\n",
        "      <td>  647.400000</td>\n",
        "      <td>   40.000000</td>\n",
        "      <td>  704.860000</td>\n",
        "      <td> 98765.000000</td>\n",
        "      <td>   36.000000</td>\n",
        "      <td>  647.400000</td>\n",
        "      <td>  378.950000</td>\n",
        "      <td>   50.000000</td>\n",
        "      <td>   60.000000</td>\n",
        "    </tr>\n",
        "  </tbody>\n",
        "</table>\n",
        "<p>8 rows \u00d7 10 columns</p>\n",
        "</div>"
       ],
       "metadata": {},
       "output_type": "pyout",
       "prompt_number": 141,
       "text": [
        "        OrderNumber     SubTotal          Tip        Total           Zip  \\\n",
        "count  2.702000e+03  2702.000000  2702.000000  2702.000000   2702.000000   \n",
        "mean   1.395529e+09    51.767635     4.710222    60.028153  10465.902665   \n",
        "std    2.182822e+06    42.163579     3.551959    48.969358   1791.762055   \n",
        "min    1.391279e+09    25.000000     0.000000     0.000000  10001.000000   \n",
        "25%    1.393705e+09    29.970000     3.000000    34.550000  10012.000000   \n",
        "50%    1.395706e+09    36.980000     3.000000    43.250000  10024.000000   \n",
        "75%    1.397416e+09    55.000000     5.000000    64.442500  11211.000000   \n",
        "max    1.398908e+09   647.400000    40.000000   704.860000  98765.000000   \n",
        "\n",
        "       RepeatOrderNumber   WineAmount  LiquorAmount  PromoCodeDiscount  \\\n",
        "count        2702.000000  2702.000000   2702.000000        2702.000000   \n",
        "mean            2.626573    31.473494     20.125896           1.044493   \n",
        "std             3.345479    36.614106     35.250769           3.427984   \n",
        "min             1.000000     0.000000      0.000000           0.000000   \n",
        "25%             1.000000     0.000000      0.000000           0.000000   \n",
        "50%             1.000000    27.990000      0.000000           0.000000   \n",
        "75%             3.000000    38.660000     33.735000           0.000000   \n",
        "max            36.000000   647.400000    378.950000          50.000000   \n",
        "\n",
        "        NumOfItems  \n",
        "count  2702.000000  \n",
        "mean      2.554774  \n",
        "std       2.108444  \n",
        "min       1.000000  \n",
        "25%       2.000000  \n",
        "50%       2.000000  \n",
        "75%       3.000000  \n",
        "max      60.000000  \n",
        "\n",
        "[8 rows x 10 columns]"
       ]
      }
     ],
     "prompt_number": 141
    },
    {
     "cell_type": "code",
     "collapsed": false,
     "input": [
      "tax = 0.089\n",
      "alcohol_orders['Tax'] = alcohol_orders.SubTotal * tax"
     ],
     "language": "python",
     "metadata": {},
     "outputs": [],
     "prompt_number": 142
    },
    {
     "cell_type": "code",
     "collapsed": false,
     "input": [
      "#There is an odd zip code 98765 which isn't a valid zip code, remove this\n",
      "\n",
      "i = 0\n",
      "for n in alcohol_orders.Zip:  \n",
      "    if n == 98765:\n",
      "        print n, 'row %d' % i\n",
      "    i = i + 1"
     ],
     "language": "python",
     "metadata": {},
     "outputs": [
      {
       "output_type": "stream",
       "stream": "stdout",
       "text": [
        "98765 row 1676\n"
       ]
      }
     ],
     "prompt_number": 14
    },
    {
     "cell_type": "code",
     "collapsed": false,
     "input": [
      "print alcohol_orders.Zip[alcohol_orders.Zip == 98765]"
     ],
     "language": "python",
     "metadata": {},
     "outputs": [
      {
       "output_type": "stream",
       "stream": "stdout",
       "text": [
        "1676    98765\n",
        "Name: Zip, dtype: int64\n"
       ]
      }
     ],
     "prompt_number": 15
    },
    {
     "cell_type": "code",
     "collapsed": false,
     "input": [
      "print alcohol_orders.iloc[1676]"
     ],
     "language": "python",
     "metadata": {},
     "outputs": [
      {
       "output_type": "stream",
       "stream": "stdout",
       "text": [
        "OrderNumber               1392931047\n",
        "Date                         2/20/14\n",
        "Time                           16:18\n",
        "Name                             NaN\n",
        "SubTotal                       77.94\n",
        "Tip                               10\n",
        "Total                          94.86\n",
        "Zip                            98765\n",
        "Store                111 Lex Liquors\n",
        "RepeatOrderNumber                  1\n",
        "Status                   TRANSFERRED\n",
        "WineAmount                     77.94\n",
        "LiquorAmount                       0\n",
        "PromoCodeDiscount                  0\n",
        "Gift                              No\n",
        "NumOfItems                         6\n",
        "DeliveryEstimate        0-30 minutes\n",
        "DeliveryMethod                   NaN\n",
        "Tax                          6.93666\n",
        "Name: 1676, dtype: object\n"
       ]
      }
     ],
     "prompt_number": 16
    },
    {
     "cell_type": "code",
     "collapsed": false,
     "input": [
      "alcohol_orders = alcohol_orders[alcohol_orders.Zip != 98765]\n",
      "print len(alcohol_orders)"
     ],
     "language": "python",
     "metadata": {},
     "outputs": [
      {
       "output_type": "stream",
       "stream": "stdout",
       "text": [
        "2701\n"
       ]
      }
     ],
     "prompt_number": 17
    },
    {
     "cell_type": "code",
     "collapsed": false,
     "input": [
      "alcohol_orders.head()"
     ],
     "language": "python",
     "metadata": {},
     "outputs": [
      {
       "html": [
        "<div style=\"max-height:1000px;max-width:1500px;overflow:auto;\">\n",
        "<table border=\"1\" class=\"dataframe\">\n",
        "  <thead>\n",
        "    <tr style=\"text-align: right;\">\n",
        "      <th></th>\n",
        "      <th>OrderNumber</th>\n",
        "      <th>Date</th>\n",
        "      <th>Time</th>\n",
        "      <th>Name</th>\n",
        "      <th>SubTotal</th>\n",
        "      <th>Tip</th>\n",
        "      <th>Total</th>\n",
        "      <th>Zip</th>\n",
        "      <th>Store</th>\n",
        "      <th>RepeatOrderNumber</th>\n",
        "      <th>Status</th>\n",
        "      <th>WineAmount</th>\n",
        "      <th>LiquorAmount</th>\n",
        "      <th>PromoCodeDiscount</th>\n",
        "      <th>Gift</th>\n",
        "      <th>NumOfItems</th>\n",
        "      <th>DeliveryEstimate</th>\n",
        "      <th>DeliveryMethod</th>\n",
        "      <th>Tax</th>\n",
        "    </tr>\n",
        "  </thead>\n",
        "  <tbody>\n",
        "    <tr>\n",
        "      <th>0</th>\n",
        "      <td> 1396213693</td>\n",
        "      <td> 3/30/14</td>\n",
        "      <td> 17:09</td>\n",
        "      <td> ACha</td>\n",
        "      <td> 35.82</td>\n",
        "      <td> 4</td>\n",
        "      <td> 38.00</td>\n",
        "      <td> 11201</td>\n",
        "      <td>           Atlantic Cellars</td>\n",
        "      <td> 1</td>\n",
        "      <td> TRANSFERRED</td>\n",
        "      <td> 35.82</td>\n",
        "      <td>  0</td>\n",
        "      <td> 5</td>\n",
        "      <td> No</td>\n",
        "      <td> 3</td>\n",
        "      <td> 30-60 minutes</td>\n",
        "      <td> As soon as possible</td>\n",
        "      <td> 3.18798</td>\n",
        "    </tr>\n",
        "    <tr>\n",
        "      <th>1</th>\n",
        "      <td> 1396999830</td>\n",
        "      <td>  4/8/14</td>\n",
        "      <td> 19:31</td>\n",
        "      <td> AGat</td>\n",
        "      <td> 31.97</td>\n",
        "      <td> 3</td>\n",
        "      <td> 37.81</td>\n",
        "      <td> 10019</td>\n",
        "      <td> 55th Street Wine &amp; Spirits</td>\n",
        "      <td> 1</td>\n",
        "      <td> TRANSFERRED</td>\n",
        "      <td> 31.97</td>\n",
        "      <td>  0</td>\n",
        "      <td> 0</td>\n",
        "      <td> No</td>\n",
        "      <td> 3</td>\n",
        "      <td>  0-30 minutes</td>\n",
        "      <td> As soon as possible</td>\n",
        "      <td> 2.84533</td>\n",
        "    </tr>\n",
        "    <tr>\n",
        "      <th>2</th>\n",
        "      <td> 1394327720</td>\n",
        "      <td>  3/8/14</td>\n",
        "      <td> 20:15</td>\n",
        "      <td> AGol</td>\n",
        "      <td> 38.94</td>\n",
        "      <td> 3</td>\n",
        "      <td> 45.40</td>\n",
        "      <td> 11217</td>\n",
        "      <td>           Atlantic Cellars</td>\n",
        "      <td> 1</td>\n",
        "      <td> TRANSFERRED</td>\n",
        "      <td> 11.94</td>\n",
        "      <td> 27</td>\n",
        "      <td> 0</td>\n",
        "      <td> No</td>\n",
        "      <td> 2</td>\n",
        "      <td> 30-60 minutes</td>\n",
        "      <td>                 NaN</td>\n",
        "      <td> 3.46566</td>\n",
        "    </tr>\n",
        "    <tr>\n",
        "      <th>3</th>\n",
        "      <td> 1396129371</td>\n",
        "      <td> 3/29/14</td>\n",
        "      <td> 17:42</td>\n",
        "      <td> AGol</td>\n",
        "      <td> 38.94</td>\n",
        "      <td> 3</td>\n",
        "      <td> 45.40</td>\n",
        "      <td> 11217</td>\n",
        "      <td>           Atlantic Cellars</td>\n",
        "      <td> 2</td>\n",
        "      <td> TRANSFERRED</td>\n",
        "      <td> 11.94</td>\n",
        "      <td> 27</td>\n",
        "      <td> 0</td>\n",
        "      <td> No</td>\n",
        "      <td> 2</td>\n",
        "      <td> 30-60 minutes</td>\n",
        "      <td> As soon as possible</td>\n",
        "      <td> 3.46566</td>\n",
        "    </tr>\n",
        "    <tr>\n",
        "      <th>4</th>\n",
        "      <td> 1397425417</td>\n",
        "      <td> 4/13/14</td>\n",
        "      <td> 17:43</td>\n",
        "      <td> AGol</td>\n",
        "      <td> 49.88</td>\n",
        "      <td> 4</td>\n",
        "      <td> 58.31</td>\n",
        "      <td> 11217</td>\n",
        "      <td>           Atlantic Cellars</td>\n",
        "      <td> 3</td>\n",
        "      <td> TRANSFERRED</td>\n",
        "      <td> 23.88</td>\n",
        "      <td> 26</td>\n",
        "      <td> 0</td>\n",
        "      <td> No</td>\n",
        "      <td> 3</td>\n",
        "      <td> 30-60 minutes</td>\n",
        "      <td> As soon as possible</td>\n",
        "      <td> 4.43932</td>\n",
        "    </tr>\n",
        "  </tbody>\n",
        "</table>\n",
        "<p>5 rows \u00d7 19 columns</p>\n",
        "</div>"
       ],
       "metadata": {},
       "output_type": "pyout",
       "prompt_number": 143,
       "text": [
        "   OrderNumber     Date   Time  Name  SubTotal  Tip  Total    Zip  \\\n",
        "0   1396213693  3/30/14  17:09  ACha     35.82    4  38.00  11201   \n",
        "1   1396999830   4/8/14  19:31  AGat     31.97    3  37.81  10019   \n",
        "2   1394327720   3/8/14  20:15  AGol     38.94    3  45.40  11217   \n",
        "3   1396129371  3/29/14  17:42  AGol     38.94    3  45.40  11217   \n",
        "4   1397425417  4/13/14  17:43  AGol     49.88    4  58.31  11217   \n",
        "\n",
        "                        Store  RepeatOrderNumber       Status  WineAmount  \\\n",
        "0            Atlantic Cellars                  1  TRANSFERRED       35.82   \n",
        "1  55th Street Wine & Spirits                  1  TRANSFERRED       31.97   \n",
        "2            Atlantic Cellars                  1  TRANSFERRED       11.94   \n",
        "3            Atlantic Cellars                  2  TRANSFERRED       11.94   \n",
        "4            Atlantic Cellars                  3  TRANSFERRED       23.88   \n",
        "\n",
        "   LiquorAmount  PromoCodeDiscount Gift  NumOfItems DeliveryEstimate  \\\n",
        "0             0                  5   No           3    30-60 minutes   \n",
        "1             0                  0   No           3     0-30 minutes   \n",
        "2            27                  0   No           2    30-60 minutes   \n",
        "3            27                  0   No           2    30-60 minutes   \n",
        "4            26                  0   No           3    30-60 minutes   \n",
        "\n",
        "        DeliveryMethod      Tax  \n",
        "0  As soon as possible  3.18798  \n",
        "1  As soon as possible  2.84533  \n",
        "2                  NaN  3.46566  \n",
        "3  As soon as possible  3.46566  \n",
        "4  As soon as possible  4.43932  \n",
        "\n",
        "[5 rows x 19 columns]"
       ]
      }
     ],
     "prompt_number": 143
    },
    {
     "cell_type": "code",
     "collapsed": false,
     "input": [
      "plt.scatter(alcohol_orders.Zip, alcohol_orders.WineAmount)"
     ],
     "language": "python",
     "metadata": {},
     "outputs": [
      {
       "metadata": {},
       "output_type": "pyout",
       "prompt_number": 144,
       "text": [
        "<matplotlib.collections.PathCollection at 0x102c6df90>"
       ]
      },
      {
       "metadata": {},
       "output_type": "display_data",
       "png": "[encoded data removed]",
       "text": [
        "<matplotlib.figure.Figure at 0x10ca07e90>"
       ]
      }
     ],
     "prompt_number": 144
    },
    {
     "cell_type": "code",
     "collapsed": false,
     "input": [
      "alcohol_orders.Total.hist(bins=50)"
     ],
     "language": "python",
     "metadata": {},
     "outputs": [
      {
       "metadata": {},
       "output_type": "pyout",
       "prompt_number": 145,
       "text": [
        "<matplotlib.axes.AxesSubplot at 0x10ca9b110>"
       ]
      },
      {
       "metadata": {},
       "output_type": "display_data",
       "png": "[encoded data removed]",
       "text": [
        "<matplotlib.figure.Figure at 0x108b5a110>"
       ]
      }
     ],
     "prompt_number": 145
    },
    {
     "cell_type": "code",
     "collapsed": false,
     "input": [
      "alcohol_orders.Tip.hist(bins=25)"
     ],
     "language": "python",
     "metadata": {},
     "outputs": [
      {
       "metadata": {},
       "output_type": "pyout",
       "prompt_number": 146,
       "text": [
        "<matplotlib.axes.AxesSubplot at 0x10ce60910>"
       ]
      },
      {
       "metadata": {},
       "output_type": "display_data",
       "png": "[encoded data removed]",
       "text": [
        "<matplotlib.figure.Figure at 0x10b55c9d0>"
       ]
      }
     ],
     "prompt_number": 146
    },
    {
     "cell_type": "code",
     "collapsed": false,
     "input": [
      "alcohol_orders.PromoCodeDiscount.hist(bins=10)"
     ],
     "language": "python",
     "metadata": {},
     "outputs": [
      {
       "metadata": {},
       "output_type": "pyout",
       "prompt_number": 147,
       "text": [
        "<matplotlib.axes.AxesSubplot at 0x102ca3810>"
       ]
      },
      {
       "metadata": {},
       "output_type": "display_data",
       "png": "[encoded data removed]",
       "text": [
        "<matplotlib.figure.Figure at 0x10b59d2d0>"
       ]
      }
     ],
     "prompt_number": 147
    },
    {
     "cell_type": "code",
     "collapsed": false,
     "input": [
      "alcohol_orders.WineAmount.hist(bins=50)"
     ],
     "language": "python",
     "metadata": {},
     "outputs": [
      {
       "metadata": {},
       "output_type": "pyout",
       "prompt_number": 148,
       "text": [
        "<matplotlib.axes.AxesSubplot at 0x10cecbc90>"
       ]
      },
      {
       "metadata": {},
       "output_type": "display_data",
       "png": "[encoded data removed]",
       "text": [
        "<matplotlib.figure.Figure at 0x102cbb990>"
       ]
      }
     ],
     "prompt_number": 148
    },
    {
     "cell_type": "code",
     "collapsed": false,
     "input": [
      "zip_code=alcohol_orders.Zip.unique()"
     ],
     "language": "python",
     "metadata": {},
     "outputs": [],
     "prompt_number": 149
    },
    {
     "cell_type": "code",
     "collapsed": false,
     "input": [
      "#list(sort(zip_code))"
     ],
     "language": "python",
     "metadata": {},
     "outputs": [],
     "prompt_number": 70
    },
    {
     "cell_type": "code",
     "collapsed": false,
     "input": [
      "product_sales.Type.unique()"
     ],
     "language": "python",
     "metadata": {},
     "outputs": [
      {
       "metadata": {},
       "output_type": "pyout",
       "prompt_number": 150,
       "text": [
        "array(['other liquors', 'vodka', 'whiskey', 'sake', 'scotch', 'brandy',\n",
        "       'rum', 'red', 'white', 'sparkling', 'tequila', 'bourbon', 'rose',\n",
        "       'liqueur', 'gin', 'vermouth', 'dessert', 'fortified', nan, 'malbec'], dtype=object)"
       ]
      }
     ],
     "prompt_number": 150
    },
    {
     "cell_type": "markdown",
     "metadata": {},
     "source": [
      "Categorize alcohol types\n",
      "1 - Vodka\n",
      "2 - Gin\n",
      "3 - Vermouth\n",
      "4 - Brandy\n",
      "5 - Rum\n",
      "6 - Tequila\n",
      "7 - Whiskey\n",
      "8 - Scotch\n",
      "9 - Bourbon\n",
      "10 - Sake\n",
      "11 - Red wine\n",
      "12 - white wine\n",
      "13 - sparkling wine\n",
      "14 - Rose wine\n",
      "15 - Desert wine\n",
      "16 - Fortified wine\n",
      "17 - liqueur\n",
      "18 - Other\n",
      "\n",
      "Malbec should be a red wine, set NaN to Other"
     ]
    },
    {
     "cell_type": "markdown",
     "metadata": {},
     "source": [
      "Remove the unit for volume and convert all to ml"
     ]
    },
    {
     "cell_type": "code",
     "collapsed": false,
     "input": [
      "alcohol_orders.dtypes"
     ],
     "language": "python",
     "metadata": {},
     "outputs": [
      {
       "metadata": {},
       "output_type": "pyout",
       "prompt_number": 151,
       "text": [
        "OrderNumber            int64\n",
        "Date                  object\n",
        "Time                  object\n",
        "Name                  object\n",
        "SubTotal             float64\n",
        "Tip                  float64\n",
        "Total                float64\n",
        "Zip                    int64\n",
        "Store                 object\n",
        "RepeatOrderNumber      int64\n",
        "Status                object\n",
        "WineAmount           float64\n",
        "LiquorAmount         float64\n",
        "PromoCodeDiscount    float64\n",
        "Gift                  object\n",
        "NumOfItems             int64\n",
        "DeliveryEstimate      object\n",
        "DeliveryMethod        object\n",
        "Tax                  float64\n",
        "dtype: object"
       ]
      }
     ],
     "prompt_number": 151
    },
    {
     "cell_type": "code",
     "collapsed": false,
     "input": [
      "product_sales.dtypes"
     ],
     "language": "python",
     "metadata": {},
     "outputs": [
      {
       "metadata": {},
       "output_type": "pyout",
       "prompt_number": 28,
       "text": [
        "Item Name        object\n",
        "Category         object\n",
        "Type             object\n",
        "Varietal         object\n",
        "Brand            object\n",
        "Volume           object\n",
        "OrderDate        object\n",
        "OrderNumber       int64\n",
        "CustomerName     object\n",
        "ZipCode           int64\n",
        "Price           float64\n",
        "Supplier         object\n",
        "Gift               bool\n",
        "dtype: object"
       ]
      }
     ],
     "prompt_number": 28
    },
    {
     "cell_type": "code",
     "collapsed": false,
     "input": [
      "i = 0\n",
      "for n in product_sales.Volume:\n",
      "    i = i + 1\n",
      "    if n == nan:\n",
      "        print n, 'row %d' % i"
     ],
     "language": "python",
     "metadata": {},
     "outputs": [],
     "prompt_number": 152
    },
    {
     "cell_type": "code",
     "collapsed": false,
     "input": [
      "print list(product_sales.Volume.unique())\n",
      "print len(product_sales.Volume)"
     ],
     "language": "python",
     "metadata": {},
     "outputs": [
      {
       "output_type": "stream",
       "stream": "stdout",
       "text": [
        "['750ML', '375ML', '1.0L', '200ML', '300ML', '720ML', '500ML', '3.0L', '1.5L', '1.75L', '187ML', nan, '50ML', '1OZ', '1.50L', '550ML', '4.2OZ', '8OZ', '1L', '750 ML', '.750L', '750ml']\n",
        "6903\n"
       ]
      }
     ],
     "prompt_number": 153
    },
    {
     "cell_type": "code",
     "collapsed": false,
     "input": [
      "def ConvertVolume(vol_to_convert):\n",
      "    vol_multiplier = 1.0\n",
      "    vol_value = float(re.split('ml|ML|l|L|oz|OZ', vol_to_convert)[0])\n",
      "    vol_unit = re.split('\\d', vol_to_convert)\n",
      "    length = len(vol_unit)\n",
      "\n",
      "    if vol_unit[length-1].strip() == 'ml' or vol_unit[length-1].strip() == 'ML':\n",
      "        vol_multiplier = 1.0   \n",
      "    if vol_unit[length-1].strip() == 'l' or vol_unit[length-1].strip() == 'L':\n",
      "        vol_multiplier = 1000.0\n",
      "    if vol_unit[length-1].strip() == 'oz' or vol_unit[length-1].strip() == 'OZ':\n",
      "        vol_multiplier = 29.5735\n",
      "    if vol_to_convert == 'nan' or vol_to_convert == 'NaN' or vol_to_convert == 'NAN':\n",
      "        return 1.0\n",
      "\n",
      "    vol_out = vol_value * vol_multiplier\n",
      "    return vol_out"
     ],
     "language": "python",
     "metadata": {},
     "outputs": [],
     "prompt_number": 154
    },
    {
     "cell_type": "code",
     "collapsed": false,
     "input": [
      "ConvertVolume('8 l')"
     ],
     "language": "python",
     "metadata": {},
     "outputs": [
      {
       "metadata": {},
       "output_type": "pyout",
       "prompt_number": 155,
       "text": [
        "8000.0"
       ]
      }
     ],
     "prompt_number": 155
    },
    {
     "cell_type": "code",
     "collapsed": false,
     "input": [
      "converted_volume = []\n",
      "\n",
      "for n in product_sales.Volume:\n",
      "    converted_volume.append(ConvertVolume(str(n)))\n",
      "    \n",
      "product_sales['Volume_ml'] = converted_volume"
     ],
     "language": "python",
     "metadata": {},
     "outputs": [],
     "prompt_number": 156
    },
    {
     "cell_type": "code",
     "collapsed": false,
     "input": [
      "Hour = []\n",
      "\n",
      "for n in alcohol_orders.Time:\n",
      "    Hour.append(float(re.split(':', str(n))[0]))\n",
      "    \n",
      "alcohol_orders['Hour'] = Hour\n",
      "#type(alcohol_orders.Hour)"
     ],
     "language": "python",
     "metadata": {},
     "outputs": [
      {
       "metadata": {},
       "output_type": "pyout",
       "prompt_number": 225,
       "text": [
        "list"
       ]
      }
     ],
     "prompt_number": 225
    },
    {
     "cell_type": "code",
     "collapsed": false,
     "input": [
      "re.split(':', str(alcohol_orders.Time[0]))[0]"
     ],
     "language": "python",
     "metadata": {},
     "outputs": [
      {
       "metadata": {},
       "output_type": "pyout",
       "prompt_number": 221,
       "text": [
        "'17'"
       ]
      }
     ],
     "prompt_number": 221
    },
    {
     "cell_type": "code",
     "collapsed": false,
     "input": [
      "# order preference (0-wine, 1-liquor)\n",
      "order_preference = []\n",
      "length = len(alcohol_orders.WineAmount)\n",
      "\n",
      "for n in range(0, length):\n",
      "    if alcohol_orders.WineAmount[n] > alcohol_orders.LiquorAmount[n]:\n",
      "        order_preference.append(0)\n",
      "    else: \n",
      "        order_preference.append(1)\n",
      "\n",
      "alcohol_orders['order_preference'] = order_preference"
     ],
     "language": "python",
     "metadata": {},
     "outputs": [],
     "prompt_number": 161
    },
    {
     "cell_type": "code",
     "collapsed": false,
     "input": [
      "Borough = []\n",
      "length = len(alcohol_orders.Zip)\n",
      "\n",
      "for n in range(0, length):      \n",
      "    Borough.append(borough(alcohol_orders.Zip[n]))\n",
      "    \n",
      "alcohol_orders['Borough'] = Borough"
     ],
     "language": "python",
     "metadata": {},
     "outputs": [],
     "prompt_number": 173
    },
    {
     "cell_type": "code",
     "collapsed": false,
     "input": [
      "alcohol_orders.head()"
     ],
     "language": "python",
     "metadata": {},
     "outputs": [
      {
       "html": [
        "<div style=\"max-height:1000px;max-width:1500px;overflow:auto;\">\n",
        "<table border=\"1\" class=\"dataframe\">\n",
        "  <thead>\n",
        "    <tr style=\"text-align: right;\">\n",
        "      <th></th>\n",
        "      <th>OrderNumber</th>\n",
        "      <th>Date</th>\n",
        "      <th>Time</th>\n",
        "      <th>Name</th>\n",
        "      <th>SubTotal</th>\n",
        "      <th>Tip</th>\n",
        "      <th>Total</th>\n",
        "      <th>Zip</th>\n",
        "      <th>Store</th>\n",
        "      <th>RepeatOrderNumber</th>\n",
        "      <th>Status</th>\n",
        "      <th>WineAmount</th>\n",
        "      <th>LiquorAmount</th>\n",
        "      <th>PromoCodeDiscount</th>\n",
        "      <th>Gift</th>\n",
        "      <th>NumOfItems</th>\n",
        "      <th>DeliveryEstimate</th>\n",
        "      <th>DeliveryMethod</th>\n",
        "      <th>Tax</th>\n",
        "      <th>Hour</th>\n",
        "      <th></th>\n",
        "    </tr>\n",
        "  </thead>\n",
        "  <tbody>\n",
        "    <tr>\n",
        "      <th>0</th>\n",
        "      <td> 1396213693</td>\n",
        "      <td> 3/30/14</td>\n",
        "      <td> 17:09</td>\n",
        "      <td> ACha</td>\n",
        "      <td> 35.82</td>\n",
        "      <td> 4</td>\n",
        "      <td> 38.00</td>\n",
        "      <td> 11201</td>\n",
        "      <td>           Atlantic Cellars</td>\n",
        "      <td> 1</td>\n",
        "      <td> TRANSFERRED</td>\n",
        "      <td> 35.82</td>\n",
        "      <td>  0</td>\n",
        "      <td> 5</td>\n",
        "      <td> No</td>\n",
        "      <td> 3</td>\n",
        "      <td> 30-60 minutes</td>\n",
        "      <td> As soon as possible</td>\n",
        "      <td> 3.18798</td>\n",
        "      <td> 17</td>\n",
        "      <td>...</td>\n",
        "    </tr>\n",
        "    <tr>\n",
        "      <th>1</th>\n",
        "      <td> 1396999830</td>\n",
        "      <td>  4/8/14</td>\n",
        "      <td> 19:31</td>\n",
        "      <td> AGat</td>\n",
        "      <td> 31.97</td>\n",
        "      <td> 3</td>\n",
        "      <td> 37.81</td>\n",
        "      <td> 10019</td>\n",
        "      <td> 55th Street Wine &amp; Spirits</td>\n",
        "      <td> 1</td>\n",
        "      <td> TRANSFERRED</td>\n",
        "      <td> 31.97</td>\n",
        "      <td>  0</td>\n",
        "      <td> 0</td>\n",
        "      <td> No</td>\n",
        "      <td> 3</td>\n",
        "      <td>  0-30 minutes</td>\n",
        "      <td> As soon as possible</td>\n",
        "      <td> 2.84533</td>\n",
        "      <td> 19</td>\n",
        "      <td>...</td>\n",
        "    </tr>\n",
        "    <tr>\n",
        "      <th>2</th>\n",
        "      <td> 1394327720</td>\n",
        "      <td>  3/8/14</td>\n",
        "      <td> 20:15</td>\n",
        "      <td> AGol</td>\n",
        "      <td> 38.94</td>\n",
        "      <td> 3</td>\n",
        "      <td> 45.40</td>\n",
        "      <td> 11217</td>\n",
        "      <td>           Atlantic Cellars</td>\n",
        "      <td> 1</td>\n",
        "      <td> TRANSFERRED</td>\n",
        "      <td> 11.94</td>\n",
        "      <td> 27</td>\n",
        "      <td> 0</td>\n",
        "      <td> No</td>\n",
        "      <td> 2</td>\n",
        "      <td> 30-60 minutes</td>\n",
        "      <td>                 NaN</td>\n",
        "      <td> 3.46566</td>\n",
        "      <td> 20</td>\n",
        "      <td>...</td>\n",
        "    </tr>\n",
        "    <tr>\n",
        "      <th>3</th>\n",
        "      <td> 1396129371</td>\n",
        "      <td> 3/29/14</td>\n",
        "      <td> 17:42</td>\n",
        "      <td> AGol</td>\n",
        "      <td> 38.94</td>\n",
        "      <td> 3</td>\n",
        "      <td> 45.40</td>\n",
        "      <td> 11217</td>\n",
        "      <td>           Atlantic Cellars</td>\n",
        "      <td> 2</td>\n",
        "      <td> TRANSFERRED</td>\n",
        "      <td> 11.94</td>\n",
        "      <td> 27</td>\n",
        "      <td> 0</td>\n",
        "      <td> No</td>\n",
        "      <td> 2</td>\n",
        "      <td> 30-60 minutes</td>\n",
        "      <td> As soon as possible</td>\n",
        "      <td> 3.46566</td>\n",
        "      <td> 17</td>\n",
        "      <td>...</td>\n",
        "    </tr>\n",
        "    <tr>\n",
        "      <th>4</th>\n",
        "      <td> 1397425417</td>\n",
        "      <td> 4/13/14</td>\n",
        "      <td> 17:43</td>\n",
        "      <td> AGol</td>\n",
        "      <td> 49.88</td>\n",
        "      <td> 4</td>\n",
        "      <td> 58.31</td>\n",
        "      <td> 11217</td>\n",
        "      <td>           Atlantic Cellars</td>\n",
        "      <td> 3</td>\n",
        "      <td> TRANSFERRED</td>\n",
        "      <td> 23.88</td>\n",
        "      <td> 26</td>\n",
        "      <td> 0</td>\n",
        "      <td> No</td>\n",
        "      <td> 3</td>\n",
        "      <td> 30-60 minutes</td>\n",
        "      <td> As soon as possible</td>\n",
        "      <td> 4.43932</td>\n",
        "      <td> 17</td>\n",
        "      <td>...</td>\n",
        "    </tr>\n",
        "  </tbody>\n",
        "</table>\n",
        "<p>5 rows \u00d7 22 columns</p>\n",
        "</div>"
       ],
       "metadata": {},
       "output_type": "pyout",
       "prompt_number": 174,
       "text": [
        "   OrderNumber     Date   Time  Name  SubTotal  Tip  Total    Zip  \\\n",
        "0   1396213693  3/30/14  17:09  ACha     35.82    4  38.00  11201   \n",
        "1   1396999830   4/8/14  19:31  AGat     31.97    3  37.81  10019   \n",
        "2   1394327720   3/8/14  20:15  AGol     38.94    3  45.40  11217   \n",
        "3   1396129371  3/29/14  17:42  AGol     38.94    3  45.40  11217   \n",
        "4   1397425417  4/13/14  17:43  AGol     49.88    4  58.31  11217   \n",
        "\n",
        "                        Store  RepeatOrderNumber       Status  WineAmount  \\\n",
        "0            Atlantic Cellars                  1  TRANSFERRED       35.82   \n",
        "1  55th Street Wine & Spirits                  1  TRANSFERRED       31.97   \n",
        "2            Atlantic Cellars                  1  TRANSFERRED       11.94   \n",
        "3            Atlantic Cellars                  2  TRANSFERRED       11.94   \n",
        "4            Atlantic Cellars                  3  TRANSFERRED       23.88   \n",
        "\n",
        "   LiquorAmount  PromoCodeDiscount Gift  NumOfItems DeliveryEstimate  \\\n",
        "0             0                  5   No           3    30-60 minutes   \n",
        "1             0                  0   No           3     0-30 minutes   \n",
        "2            27                  0   No           2    30-60 minutes   \n",
        "3            27                  0   No           2    30-60 minutes   \n",
        "4            26                  0   No           3    30-60 minutes   \n",
        "\n",
        "        DeliveryMethod      Tax Hour      \n",
        "0  As soon as possible  3.18798   17 ...  \n",
        "1  As soon as possible  2.84533   19 ...  \n",
        "2                  NaN  3.46566   20 ...  \n",
        "3  As soon as possible  3.46566   17 ...  \n",
        "4  As soon as possible  4.43932   17 ...  \n",
        "\n",
        "[5 rows x 22 columns]"
       ]
      }
     ],
     "prompt_number": 174
    },
    {
     "cell_type": "code",
     "collapsed": false,
     "input": [
      "print alcohol_orders.Borough[1677]"
     ],
     "language": "python",
     "metadata": {},
     "outputs": [
      {
       "output_type": "stream",
       "stream": "stdout",
       "text": [
        "Brooklyn\n"
       ]
      }
     ],
     "prompt_number": 175
    },
    {
     "cell_type": "code",
     "collapsed": false,
     "input": [
      "alcohol_orders.Borough.unique()"
     ],
     "language": "python",
     "metadata": {},
     "outputs": [
      {
       "metadata": {},
       "output_type": "pyout",
       "prompt_number": 251,
       "text": [
        "array(['Brooklyn', 'Manhattan', 'Not Found', 'Queens'], dtype=object)"
       ]
      }
     ],
     "prompt_number": 251
    },
    {
     "cell_type": "markdown",
     "metadata": {},
     "source": [
      "Categorize the Borough's into the following:\n",
      "0 - Brooklyn\n",
      "1 - Manhattan\n",
      "2 - Queens\n",
      "3 - Bronx\n",
      "4 - Staten Island\n",
      "5 - Not Found"
     ]
    },
    {
     "cell_type": "code",
     "collapsed": false,
     "input": [
      "borough_cat = []\n",
      "boroughs = ['Brooklyn', 'Manhattan', 'Queens', 'Bronx', 'Staten Island', 'Not Found']\n",
      "\n",
      "for n in alcohol_orders.Borough:\n",
      "    if n in boroughs:\n",
      "        borough_cat.append(boroughs.index(n))\n",
      "    else:\n",
      "        borough_cat.append(5)\n",
      "    \n",
      "alcohol_orders['Borough_Category'] = borough_cat"
     ],
     "language": "python",
     "metadata": {},
     "outputs": [],
     "prompt_number": 252
    },
    {
     "cell_type": "code",
     "collapsed": false,
     "input": [
      "alcohol_orders['Borough_Category'].head()"
     ],
     "language": "python",
     "metadata": {},
     "outputs": [
      {
       "metadata": {},
       "output_type": "pyout",
       "prompt_number": 259,
       "text": [
        "0    0\n",
        "1    1\n",
        "2    0\n",
        "3    0\n",
        "4    0\n",
        "Name: Borough_Category, dtype: int64"
       ]
      }
     ],
     "prompt_number": 259
    },
    {
     "cell_type": "code",
     "collapsed": false,
     "input": [
      "Zip = pd.get_dummies(alcohol_orders.Zip)"
     ],
     "language": "python",
     "metadata": {},
     "outputs": [],
     "prompt_number": 164
    },
    {
     "cell_type": "code",
     "collapsed": false,
     "input": [
      "Zip.head()"
     ],
     "language": "python",
     "metadata": {},
     "outputs": [
      {
       "html": [
        "<div style=\"max-height:1000px;max-width:1500px;overflow:auto;\">\n",
        "<table border=\"1\" class=\"dataframe\">\n",
        "  <thead>\n",
        "    <tr style=\"text-align: right;\">\n",
        "      <th></th>\n",
        "      <th>10001</th>\n",
        "      <th>10002</th>\n",
        "      <th>10003</th>\n",
        "      <th>10004</th>\n",
        "      <th>10005</th>\n",
        "      <th>10006</th>\n",
        "      <th>10007</th>\n",
        "      <th>10009</th>\n",
        "      <th>10010</th>\n",
        "      <th>10011</th>\n",
        "      <th>10012</th>\n",
        "      <th>10013</th>\n",
        "      <th>10014</th>\n",
        "      <th>10016</th>\n",
        "      <th>10017</th>\n",
        "      <th>10018</th>\n",
        "      <th>10019</th>\n",
        "      <th>10021</th>\n",
        "      <th>10022</th>\n",
        "      <th>10023</th>\n",
        "      <th></th>\n",
        "    </tr>\n",
        "  </thead>\n",
        "  <tbody>\n",
        "    <tr>\n",
        "      <th>0</th>\n",
        "      <td> 0</td>\n",
        "      <td> 0</td>\n",
        "      <td> 0</td>\n",
        "      <td> 0</td>\n",
        "      <td> 0</td>\n",
        "      <td> 0</td>\n",
        "      <td> 0</td>\n",
        "      <td> 0</td>\n",
        "      <td> 0</td>\n",
        "      <td> 0</td>\n",
        "      <td> 0</td>\n",
        "      <td> 0</td>\n",
        "      <td> 0</td>\n",
        "      <td> 0</td>\n",
        "      <td> 0</td>\n",
        "      <td> 0</td>\n",
        "      <td> 0</td>\n",
        "      <td> 0</td>\n",
        "      <td> 0</td>\n",
        "      <td> 0</td>\n",
        "      <td>...</td>\n",
        "    </tr>\n",
        "    <tr>\n",
        "      <th>1</th>\n",
        "      <td> 0</td>\n",
        "      <td> 0</td>\n",
        "      <td> 0</td>\n",
        "      <td> 0</td>\n",
        "      <td> 0</td>\n",
        "      <td> 0</td>\n",
        "      <td> 0</td>\n",
        "      <td> 0</td>\n",
        "      <td> 0</td>\n",
        "      <td> 0</td>\n",
        "      <td> 0</td>\n",
        "      <td> 0</td>\n",
        "      <td> 0</td>\n",
        "      <td> 0</td>\n",
        "      <td> 0</td>\n",
        "      <td> 0</td>\n",
        "      <td> 1</td>\n",
        "      <td> 0</td>\n",
        "      <td> 0</td>\n",
        "      <td> 0</td>\n",
        "      <td>...</td>\n",
        "    </tr>\n",
        "    <tr>\n",
        "      <th>2</th>\n",
        "      <td> 0</td>\n",
        "      <td> 0</td>\n",
        "      <td> 0</td>\n",
        "      <td> 0</td>\n",
        "      <td> 0</td>\n",
        "      <td> 0</td>\n",
        "      <td> 0</td>\n",
        "      <td> 0</td>\n",
        "      <td> 0</td>\n",
        "      <td> 0</td>\n",
        "      <td> 0</td>\n",
        "      <td> 0</td>\n",
        "      <td> 0</td>\n",
        "      <td> 0</td>\n",
        "      <td> 0</td>\n",
        "      <td> 0</td>\n",
        "      <td> 0</td>\n",
        "      <td> 0</td>\n",
        "      <td> 0</td>\n",
        "      <td> 0</td>\n",
        "      <td>...</td>\n",
        "    </tr>\n",
        "    <tr>\n",
        "      <th>3</th>\n",
        "      <td> 0</td>\n",
        "      <td> 0</td>\n",
        "      <td> 0</td>\n",
        "      <td> 0</td>\n",
        "      <td> 0</td>\n",
        "      <td> 0</td>\n",
        "      <td> 0</td>\n",
        "      <td> 0</td>\n",
        "      <td> 0</td>\n",
        "      <td> 0</td>\n",
        "      <td> 0</td>\n",
        "      <td> 0</td>\n",
        "      <td> 0</td>\n",
        "      <td> 0</td>\n",
        "      <td> 0</td>\n",
        "      <td> 0</td>\n",
        "      <td> 0</td>\n",
        "      <td> 0</td>\n",
        "      <td> 0</td>\n",
        "      <td> 0</td>\n",
        "      <td>...</td>\n",
        "    </tr>\n",
        "    <tr>\n",
        "      <th>4</th>\n",
        "      <td> 0</td>\n",
        "      <td> 0</td>\n",
        "      <td> 0</td>\n",
        "      <td> 0</td>\n",
        "      <td> 0</td>\n",
        "      <td> 0</td>\n",
        "      <td> 0</td>\n",
        "      <td> 0</td>\n",
        "      <td> 0</td>\n",
        "      <td> 0</td>\n",
        "      <td> 0</td>\n",
        "      <td> 0</td>\n",
        "      <td> 0</td>\n",
        "      <td> 0</td>\n",
        "      <td> 0</td>\n",
        "      <td> 0</td>\n",
        "      <td> 0</td>\n",
        "      <td> 0</td>\n",
        "      <td> 0</td>\n",
        "      <td> 0</td>\n",
        "      <td>...</td>\n",
        "    </tr>\n",
        "  </tbody>\n",
        "</table>\n",
        "<p>5 rows \u00d7 77 columns</p>\n",
        "</div>"
       ],
       "metadata": {},
       "output_type": "pyout",
       "prompt_number": 165,
       "text": [
        "   10001  10002  10003  10004  10005  10006  10007  10009  10010  10011  \\\n",
        "0      0      0      0      0      0      0      0      0      0      0   \n",
        "1      0      0      0      0      0      0      0      0      0      0   \n",
        "2      0      0      0      0      0      0      0      0      0      0   \n",
        "3      0      0      0      0      0      0      0      0      0      0   \n",
        "4      0      0      0      0      0      0      0      0      0      0   \n",
        "\n",
        "   10012  10013  10014  10016  10017  10018  10019  10021  10022  10023      \n",
        "0      0      0      0      0      0      0      0      0      0      0 ...  \n",
        "1      0      0      0      0      0      0      1      0      0      0 ...  \n",
        "2      0      0      0      0      0      0      0      0      0      0 ...  \n",
        "3      0      0      0      0      0      0      0      0      0      0 ...  \n",
        "4      0      0      0      0      0      0      0      0      0      0 ...  \n",
        "\n",
        "[5 rows x 77 columns]"
       ]
      }
     ],
     "prompt_number": 165
    },
    {
     "cell_type": "markdown",
     "metadata": {},
     "source": [
      "##Classify"
     ]
    },
    {
     "cell_type": "code",
     "collapsed": false,
     "input": [
      "xtest_clf = alcohol_orders[['SubTotal', 'Tip', 'Hour', 'Borough_Category']]"
     ],
     "language": "python",
     "metadata": {},
     "outputs": [],
     "prompt_number": 253
    },
    {
     "cell_type": "code",
     "collapsed": false,
     "input": [
      "xtrain, xtest, ytrain, ytest = train_test_split(xtest_clf, alcohol_orders.order_preference)"
     ],
     "language": "python",
     "metadata": {},
     "outputs": [],
     "prompt_number": 254
    },
    {
     "cell_type": "markdown",
     "metadata": {},
     "source": [
      "Naive Bayes"
     ]
    },
    {
     "cell_type": "code",
     "collapsed": false,
     "input": [
      "nb_clf = MultinomialNB().fit(xtrain, ytrain)\n",
      "nb_clf.score(xtest, ytest)"
     ],
     "language": "python",
     "metadata": {},
     "outputs": [
      {
       "metadata": {},
       "output_type": "pyout",
       "prompt_number": 267,
       "text": [
        "0.6375739644970414"
       ]
      }
     ],
     "prompt_number": 267
    },
    {
     "cell_type": "code",
     "collapsed": false,
     "input": [
      "nb_pred = nb_clf.predict(xtest)\n",
      "metrics.accuracy_score(ytest, nb_pred)"
     ],
     "language": "python",
     "metadata": {},
     "outputs": [
      {
       "metadata": {},
       "output_type": "pyout",
       "prompt_number": 272,
       "text": [
        "0.6375739644970414"
       ]
      }
     ],
     "prompt_number": 272
    },
    {
     "cell_type": "markdown",
     "metadata": {},
     "source": [
      "Logistic"
     ]
    },
    {
     "cell_type": "code",
     "collapsed": false,
     "input": [
      "log_clf=linear_model.LogisticRegression().fit(xtrain, ytrain)\n",
      "log_clf.score(xtest,ytest)"
     ],
     "language": "python",
     "metadata": {},
     "outputs": [
      {
       "metadata": {},
       "output_type": "pyout",
       "prompt_number": 256,
       "text": [
        "0.65532544378698221"
       ]
      }
     ],
     "prompt_number": 256
    },
    {
     "cell_type": "markdown",
     "metadata": {},
     "source": [
      "Decision Tree"
     ]
    },
    {
     "cell_type": "code",
     "collapsed": false,
     "input": [
      "dt_fitter = tree.DecisionTreeClassifier(criterion='gini', max_depth=10,min_samples_leaf=5)\n",
      "dt_clf = dt_fitter.fit(xtrain,ytrain)\n",
      "dt_clf.score(xtest,ytest)"
     ],
     "language": "python",
     "metadata": {},
     "outputs": [
      {
       "metadata": {},
       "output_type": "pyout",
       "prompt_number": 262,
       "text": [
        "0.71597633136094674"
       ]
      }
     ],
     "prompt_number": 262
    },
    {
     "cell_type": "markdown",
     "metadata": {},
     "source": [
      "Nearest Neighbour"
     ]
    },
    {
     "cell_type": "code",
     "collapsed": false,
     "input": [
      "KNN_clf = KNeighborsClassifier().fit(xtrain, ytrain)\n",
      "KNN_clf.score(xtest,ytest)"
     ],
     "language": "python",
     "metadata": {},
     "outputs": [
      {
       "metadata": {},
       "output_type": "pyout",
       "prompt_number": 258,
       "text": [
        "0.65236686390532539"
       ]
      }
     ],
     "prompt_number": 258
    }
   ],
   "metadata": {}
  }
 ]
}