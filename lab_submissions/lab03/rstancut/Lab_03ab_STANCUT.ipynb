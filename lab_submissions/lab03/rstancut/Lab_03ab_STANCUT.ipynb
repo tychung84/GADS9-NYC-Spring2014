{
 "metadata": {
  "name": "",
  "signature": "sha256:b53697f23dee16daa645cea956e5554f78869b0536719f6e675c4c550a395941"
 },
 "nbformat": 3,
 "nbformat_minor": 0,
 "worksheets": [
  {
   "cells": [
    {
     "cell_type": "markdown",
     "metadata": {},
     "source": [
      "#Exercise 3a:  Practical Pandas"
     ]
    },
    {
     "cell_type": "markdown",
     "metadata": {},
     "source": [
      "_This is a quiz given in Roger Peng [Coursera](https://www.coursera.org) class [Computing for Data Analysis](https://www.coursera.org/course/compdata).  _\n",
      "\n",
      "_Sourced from [Research Computing MeetUp's](https://github.com/ResearchComputing/Meetup-Fall-2013) Python course._\n"
     ]
    },
    {
     "cell_type": "code",
     "collapsed": false,
     "input": [
      "import pandas as pd\n",
      "from pandas import DataFrame\n",
      "import os\n",
      "import numpy as np\n",
      "\n",
      "os.chdir('C:/Users/rstancut/AppData/Local/Continuum/Anaconda/_work/lesson03_numpyandpandas/')\n",
      "print os.getcwd()\n",
      "\n",
      "data = pd.read_csv(os.path.join('data', 'ozone.csv'))"
     ],
     "language": "python",
     "metadata": {},
     "outputs": [
      {
       "output_type": "stream",
       "stream": "stdout",
       "text": [
        "C:\\Users\\rstancut\\AppData\\Local\\Continuum\\Anaconda\\_work\\lesson03_numpyandpandas\n"
       ]
      }
     ],
     "prompt_number": 9
    },
    {
     "cell_type": "code",
     "collapsed": false,
     "input": [
      "print data.head()"
     ],
     "language": "python",
     "metadata": {},
     "outputs": [
      {
       "output_type": "stream",
       "stream": "stdout",
       "text": [
        "   Ozone  Solar.R  Wind  Temp  Month  Day\n",
        "0     41      190   7.4    67      5    1\n",
        "1     36      118   8.0    72      5    2\n",
        "2     12      149  12.6    74      5    3\n",
        "3     18      313  11.5    62      5    4\n",
        "4    NaN      NaN  14.3    56      5    5\n",
        "\n",
        "[5 rows x 6 columns]\n"
       ]
      }
     ],
     "prompt_number": 10
    },
    {
     "cell_type": "markdown",
     "metadata": {},
     "source": [
      "Print the column names of the dataset to the screen, one column name per line.  "
     ]
    },
    {
     "cell_type": "code",
     "collapsed": false,
     "input": [
      "# done\n",
      "for x in data.columns:\n",
      "    print x"
     ],
     "language": "python",
     "metadata": {},
     "outputs": [
      {
       "output_type": "stream",
       "stream": "stdout",
       "text": [
        "Ozone\n",
        "Solar.R\n",
        "Wind\n",
        "Temp\n",
        "Month\n",
        "Day\n"
       ]
      }
     ],
     "prompt_number": 11
    },
    {
     "cell_type": "markdown",
     "metadata": {},
     "source": [
      "Extract the first 2 rows of the data frame and print them to the console. What does the output\n",
      "look like?"
     ]
    },
    {
     "cell_type": "code",
     "collapsed": false,
     "input": [
      "# done\n",
      "data[:2] "
     ],
     "language": "python",
     "metadata": {},
     "outputs": [
      {
       "html": [
        "<div style=\"max-height:1000px;max-width:1500px;overflow:auto;\">\n",
        "<table border=\"1\" class=\"dataframe\">\n",
        "  <thead>\n",
        "    <tr style=\"text-align: right;\">\n",
        "      <th></th>\n",
        "      <th>Ozone</th>\n",
        "      <th>Solar.R</th>\n",
        "      <th>Wind</th>\n",
        "      <th>Temp</th>\n",
        "      <th>Month</th>\n",
        "      <th>Day</th>\n",
        "    </tr>\n",
        "  </thead>\n",
        "  <tbody>\n",
        "    <tr>\n",
        "      <th>0</th>\n",
        "      <td> 41</td>\n",
        "      <td> 190</td>\n",
        "      <td> 7.4</td>\n",
        "      <td> 67</td>\n",
        "      <td> 5</td>\n",
        "      <td> 1</td>\n",
        "    </tr>\n",
        "    <tr>\n",
        "      <th>1</th>\n",
        "      <td> 36</td>\n",
        "      <td> 118</td>\n",
        "      <td> 8.0</td>\n",
        "      <td> 72</td>\n",
        "      <td> 5</td>\n",
        "      <td> 2</td>\n",
        "    </tr>\n",
        "  </tbody>\n",
        "</table>\n",
        "<p>2 rows \u00d7 6 columns</p>\n",
        "</div>"
       ],
       "metadata": {},
       "output_type": "pyout",
       "prompt_number": 12,
       "text": [
        "   Ozone  Solar.R  Wind  Temp  Month  Day\n",
        "0     41      190   7.4    67      5    1\n",
        "1     36      118   8.0    72      5    2\n",
        "\n",
        "[2 rows x 6 columns]"
       ]
      }
     ],
     "prompt_number": 12
    },
    {
     "cell_type": "markdown",
     "metadata": {},
     "source": [
      "How many observations (i.e. rows) are in this data frame?"
     ]
    },
    {
     "cell_type": "code",
     "collapsed": false,
     "input": [
      "# done\n",
      "# data.to_csv? returns: [153 rows x 6 columns]"
     ],
     "language": "python",
     "metadata": {},
     "outputs": [],
     "prompt_number": 53
    },
    {
     "cell_type": "markdown",
     "metadata": {},
     "source": [
      "Extract the last 2 rows of the data frame and print them to the console. What does the output\n",
      "look like?"
     ]
    },
    {
     "cell_type": "code",
     "collapsed": false,
     "input": [
      "# done\n",
      "data.tail(2)"
     ],
     "language": "python",
     "metadata": {},
     "outputs": [
      {
       "html": [
        "<div style=\"max-height:1000px;max-width:1500px;overflow:auto;\">\n",
        "<table border=\"1\" class=\"dataframe\">\n",
        "  <thead>\n",
        "    <tr style=\"text-align: right;\">\n",
        "      <th></th>\n",
        "      <th>Ozone</th>\n",
        "      <th>Solar.R</th>\n",
        "      <th>Wind</th>\n",
        "      <th>Temp</th>\n",
        "      <th>Month</th>\n",
        "      <th>Day</th>\n",
        "    </tr>\n",
        "  </thead>\n",
        "  <tbody>\n",
        "    <tr>\n",
        "      <th>151</th>\n",
        "      <td> 18</td>\n",
        "      <td> 131</td>\n",
        "      <td>  8.0</td>\n",
        "      <td> 76</td>\n",
        "      <td> 9</td>\n",
        "      <td> 29</td>\n",
        "    </tr>\n",
        "    <tr>\n",
        "      <th>152</th>\n",
        "      <td> 20</td>\n",
        "      <td> 223</td>\n",
        "      <td> 11.5</td>\n",
        "      <td> 68</td>\n",
        "      <td> 9</td>\n",
        "      <td> 30</td>\n",
        "    </tr>\n",
        "  </tbody>\n",
        "</table>\n",
        "<p>2 rows \u00d7 6 columns</p>\n",
        "</div>"
       ],
       "metadata": {},
       "output_type": "pyout",
       "prompt_number": 14,
       "text": [
        "     Ozone  Solar.R  Wind  Temp  Month  Day\n",
        "151     18      131   8.0    76      9   29\n",
        "152     20      223  11.5    68      9   30\n",
        "\n",
        "[2 rows x 6 columns]"
       ]
      }
     ],
     "prompt_number": 14
    },
    {
     "cell_type": "markdown",
     "metadata": {},
     "source": [
      "What is the value of Ozone in the 47th row?"
     ]
    },
    {
     "cell_type": "code",
     "collapsed": false,
     "input": [
      "# done; rows start at '0' so this should be correct\n",
      "# Method 1: data['Ozone'][46:47] \n",
      "# Method 2:\n",
      "data.loc[46:46]"
     ],
     "language": "python",
     "metadata": {},
     "outputs": [
      {
       "html": [
        "<div style=\"max-height:1000px;max-width:1500px;overflow:auto;\">\n",
        "<table border=\"1\" class=\"dataframe\">\n",
        "  <thead>\n",
        "    <tr style=\"text-align: right;\">\n",
        "      <th></th>\n",
        "      <th>Ozone</th>\n",
        "      <th>Solar.R</th>\n",
        "      <th>Wind</th>\n",
        "      <th>Temp</th>\n",
        "      <th>Month</th>\n",
        "      <th>Day</th>\n",
        "    </tr>\n",
        "  </thead>\n",
        "  <tbody>\n",
        "    <tr>\n",
        "      <th>46</th>\n",
        "      <td> 21</td>\n",
        "      <td> 191</td>\n",
        "      <td> 14.9</td>\n",
        "      <td> 77</td>\n",
        "      <td> 6</td>\n",
        "      <td> 16</td>\n",
        "    </tr>\n",
        "  </tbody>\n",
        "</table>\n",
        "<p>1 rows \u00d7 6 columns</p>\n",
        "</div>"
       ],
       "metadata": {},
       "output_type": "pyout",
       "prompt_number": 52,
       "text": [
        "    Ozone  Solar.R  Wind  Temp  Month  Day\n",
        "46     21      191  14.9    77      6   16\n",
        "\n",
        "[1 rows x 6 columns]"
       ]
      }
     ],
     "prompt_number": 52
    },
    {
     "cell_type": "markdown",
     "metadata": {},
     "source": [
      "How many missing values are in the Ozone column of this data frame?"
     ]
    },
    {
     "cell_type": "code",
     "collapsed": false,
     "input": [
      "# done; Ozone has 116 non-null, so 37 missing values\n",
      "data.info()"
     ],
     "language": "python",
     "metadata": {},
     "outputs": [
      {
       "output_type": "stream",
       "stream": "stdout",
       "text": [
        "<class 'pandas.core.frame.DataFrame'>\n",
        "Int64Index: 153 entries, 0 to 152\n",
        "Data columns (total 6 columns):\n",
        "Ozone      116 non-null float64\n",
        "Solar.R    146 non-null float64\n",
        "Wind       153 non-null float64\n",
        "Temp       153 non-null int64\n",
        "Month      153 non-null int64\n",
        "Day        153 non-null int64\n",
        "dtypes: float64(3), int64(3)"
       ]
      }
     ],
     "prompt_number": 13
    },
    {
     "cell_type": "markdown",
     "metadata": {},
     "source": [
      "What is the mean of the Ozone column in this dataset? Exclude missing values (coded as NA)\n",
      "from this calculation."
     ]
    },
    {
     "cell_type": "code",
     "collapsed": false,
     "input": [
      "# done; mean of Ozone = 42.129310\n",
      "data.describe()"
     ],
     "language": "python",
     "metadata": {},
     "outputs": [
      {
       "html": [
        "<div style=\"max-height:1000px;max-width:1500px;overflow:auto;\">\n",
        "<table border=\"1\" class=\"dataframe\">\n",
        "  <thead>\n",
        "    <tr style=\"text-align: right;\">\n",
        "      <th></th>\n",
        "      <th>Ozone</th>\n",
        "      <th>Solar.R</th>\n",
        "      <th>Wind</th>\n",
        "      <th>Temp</th>\n",
        "      <th>Month</th>\n",
        "      <th>Day</th>\n",
        "    </tr>\n",
        "  </thead>\n",
        "  <tbody>\n",
        "    <tr>\n",
        "      <th>count</th>\n",
        "      <td> 116.000000</td>\n",
        "      <td> 146.000000</td>\n",
        "      <td> 153.000000</td>\n",
        "      <td> 153.000000</td>\n",
        "      <td> 153.000000</td>\n",
        "      <td> 153.000000</td>\n",
        "    </tr>\n",
        "    <tr>\n",
        "      <th>mean</th>\n",
        "      <td>  42.129310</td>\n",
        "      <td> 185.931507</td>\n",
        "      <td>   9.957516</td>\n",
        "      <td>  77.882353</td>\n",
        "      <td>   6.993464</td>\n",
        "      <td>  15.803922</td>\n",
        "    </tr>\n",
        "    <tr>\n",
        "      <th>std</th>\n",
        "      <td>  32.987885</td>\n",
        "      <td>  90.058422</td>\n",
        "      <td>   3.523001</td>\n",
        "      <td>   9.465270</td>\n",
        "      <td>   1.416522</td>\n",
        "      <td>   8.864520</td>\n",
        "    </tr>\n",
        "    <tr>\n",
        "      <th>min</th>\n",
        "      <td>   1.000000</td>\n",
        "      <td>   7.000000</td>\n",
        "      <td>   1.700000</td>\n",
        "      <td>  56.000000</td>\n",
        "      <td>   5.000000</td>\n",
        "      <td>   1.000000</td>\n",
        "    </tr>\n",
        "    <tr>\n",
        "      <th>25%</th>\n",
        "      <td>  18.000000</td>\n",
        "      <td> 115.750000</td>\n",
        "      <td>   7.400000</td>\n",
        "      <td>  72.000000</td>\n",
        "      <td>   6.000000</td>\n",
        "      <td>   8.000000</td>\n",
        "    </tr>\n",
        "    <tr>\n",
        "      <th>50%</th>\n",
        "      <td>  31.500000</td>\n",
        "      <td> 205.000000</td>\n",
        "      <td>   9.700000</td>\n",
        "      <td>  79.000000</td>\n",
        "      <td>   7.000000</td>\n",
        "      <td>  16.000000</td>\n",
        "    </tr>\n",
        "    <tr>\n",
        "      <th>75%</th>\n",
        "      <td>  63.250000</td>\n",
        "      <td> 258.750000</td>\n",
        "      <td>  11.500000</td>\n",
        "      <td>  85.000000</td>\n",
        "      <td>   8.000000</td>\n",
        "      <td>  23.000000</td>\n",
        "    </tr>\n",
        "    <tr>\n",
        "      <th>max</th>\n",
        "      <td> 168.000000</td>\n",
        "      <td> 334.000000</td>\n",
        "      <td>  20.700000</td>\n",
        "      <td>  97.000000</td>\n",
        "      <td>   9.000000</td>\n",
        "      <td>  31.000000</td>\n",
        "    </tr>\n",
        "  </tbody>\n",
        "</table>\n",
        "<p>8 rows \u00d7 6 columns</p>\n",
        "</div>"
       ],
       "metadata": {},
       "output_type": "pyout",
       "prompt_number": 14,
       "text": [
        "            Ozone     Solar.R        Wind        Temp       Month         Day\n",
        "count  116.000000  146.000000  153.000000  153.000000  153.000000  153.000000\n",
        "mean    42.129310  185.931507    9.957516   77.882353    6.993464   15.803922\n",
        "std     32.987885   90.058422    3.523001    9.465270    1.416522    8.864520\n",
        "min      1.000000    7.000000    1.700000   56.000000    5.000000    1.000000\n",
        "25%     18.000000  115.750000    7.400000   72.000000    6.000000    8.000000\n",
        "50%     31.500000  205.000000    9.700000   79.000000    7.000000   16.000000\n",
        "75%     63.250000  258.750000   11.500000   85.000000    8.000000   23.000000\n",
        "max    168.000000  334.000000   20.700000   97.000000    9.000000   31.000000\n",
        "\n",
        "[8 rows x 6 columns]"
       ]
      }
     ],
     "prompt_number": 14
    },
    {
     "cell_type": "markdown",
     "metadata": {},
     "source": [
      "Extract the subset of rows of the data frame where Ozone values are above 31 and Temp values\n",
      "are above 90. What is the mean of Solar.R in this subset?"
     ]
    },
    {
     "cell_type": "code",
     "collapsed": false,
     "input": [
      "# not quite there\n",
      "# x = data[data.Ozone > 31]\n",
      "# x.mean()\n",
      "\n",
      "# had to look to solutions doc:\n",
      "print data[(data.Ozone > 31) & (data.Temp > 90)].head()\n"
     ],
     "language": "python",
     "metadata": {},
     "outputs": [
      {
       "output_type": "stream",
       "stream": "stdout",
       "text": [
        "     Ozone  Solar.R  Wind  Temp  Month  Day\n",
        "68      97      267   6.3    92      7    8\n",
        "69      97      272   5.7    92      7    9\n",
        "119     76      203   9.7    97      8   28\n",
        "120    118      225   2.3    94      8   29\n",
        "121     84      237   6.3    96      8   30\n",
        "\n",
        "[5 rows x 6 columns]\n"
       ]
      }
     ],
     "prompt_number": 30
    },
    {
     "cell_type": "code",
     "collapsed": false,
     "input": [
      "# had to look to solutions doc:\n",
      "print data[(data.Ozone > 31) & (data.Temp > 90)]['Solar.R'].mean()"
     ],
     "language": "python",
     "metadata": {},
     "outputs": [
      {
       "output_type": "stream",
       "stream": "stdout",
       "text": [
        "212.8\n"
       ]
      }
     ],
     "prompt_number": 31
    },
    {
     "cell_type": "markdown",
     "metadata": {},
     "source": [
      "What is the mean of \"Temp\" when \"Month\" is equal to 6?"
     ]
    },
    {
     "cell_type": "code",
     "collapsed": false,
     "input": [
      "# done; mean of \"Temp\" when \"Month\" == 6 is: 79.1\n",
      "y = data[data.Month == 6]\n",
      "y.mean()"
     ],
     "language": "python",
     "metadata": {},
     "outputs": [
      {
       "metadata": {},
       "output_type": "pyout",
       "prompt_number": 16,
       "text": [
        "Ozone       29.444444\n",
        "Solar.R    190.166667\n",
        "Wind        10.266667\n",
        "Temp        79.100000\n",
        "Month        6.000000\n",
        "Day         15.500000\n",
        "dtype: float64"
       ]
      }
     ],
     "prompt_number": 16
    },
    {
     "cell_type": "markdown",
     "metadata": {},
     "source": [
      "What was the maximum ozone value in the month of May (i.e. Month = 5)?"
     ]
    },
    {
     "cell_type": "code",
     "collapsed": false,
     "input": [
      "# done; max Ozone for month of May: 115.0\n",
      "z = data[data.Month == 5]\n",
      "z.max()"
     ],
     "language": "python",
     "metadata": {},
     "outputs": [
      {
       "metadata": {},
       "output_type": "pyout",
       "prompt_number": 17,
       "text": [
        "Ozone      115.0\n",
        "Solar.R    334.0\n",
        "Wind        20.1\n",
        "Temp        81.0\n",
        "Month        5.0\n",
        "Day         31.0\n",
        "dtype: float64"
       ]
      }
     ],
     "prompt_number": 17
    },
    {
     "cell_type": "code",
     "collapsed": false,
     "input": [],
     "language": "python",
     "metadata": {},
     "outputs": []
    },
    {
     "cell_type": "markdown",
     "metadata": {},
     "source": [
      "#Exercise 3b: Functions with Pandas"
     ]
    },
    {
     "cell_type": "markdown",
     "metadata": {},
     "source": [
      "Kaggle has a nice challenge based on titanic passenger data:\n",
      "\n",
      "\"One of the reasons that the shipwreck led to such loss of life was that there were not enough lifeboats for the passengers and crew.  Although there was some element of luck involved in surviving the sinking, some groups of people were more likely to survive than others, such as women, children, and the upper-class.\"\n",
      "\n",
      "We'll use the 892 line training set from [Kaggle](http://www.kaggle.com/c/titanic-gettingStarted/data), located in the data directory of this lesson.\n",
      "    \n",
      "    "
     ]
    },
    {
     "cell_type": "code",
     "collapsed": false,
     "input": [
      "import os\n",
      "import pandas as pd\n",
      "import numpy as np\n",
      "\n",
      "os.chdir(\"C:/Users/rstancut/AppData/Local/Continuum/Anaconda/_work/lesson03_numpyandpandas\")\n",
      "print os.getcwd()"
     ],
     "language": "python",
     "metadata": {},
     "outputs": [
      {
       "output_type": "stream",
       "stream": "stdout",
       "text": [
        "C:\\Users\\rstancut\\AppData\\Local\\Continuum\\Anaconda\\_work\\lesson03_numpyandpandas\n"
       ]
      }
     ],
     "prompt_number": 19
    },
    {
     "cell_type": "code",
     "collapsed": false,
     "input": [
      "a=pd.read_csv('./data/titanic.csv')\n",
      "# a[:10]\n",
      "a.info()"
     ],
     "language": "python",
     "metadata": {},
     "outputs": [
      {
       "output_type": "stream",
       "stream": "stdout",
       "text": [
        "<class 'pandas.core.frame.DataFrame'>\n",
        "Int64Index: 891 entries, 0 to 890\n",
        "Data columns (total 11 columns):\n",
        "survived    891 non-null int64\n",
        "pclass      891 non-null int64\n",
        "name        891 non-null object\n",
        "sex         891 non-null object\n",
        "age         714 non-null float64\n",
        "sibsp       891 non-null int64\n",
        "parch       891 non-null int64\n",
        "ticket      891 non-null object\n",
        "fare        891 non-null float64\n",
        "cabin       204 non-null object\n",
        "embarked    889 non-null object\n",
        "dtypes: float64(2), int64(4), object(5)"
       ]
      }
     ],
     "prompt_number": 21
    },
    {
     "cell_type": "markdown",
     "metadata": {},
     "source": [
      "### Read the data\n",
      "\n",
      "- Read with `pandas.read_csv`\n",
      "- Verify that you get `891` lines"
     ]
    },
    {
     "cell_type": "markdown",
     "metadata": {},
     "source": [
      "### What percent of the people survied?\n",
      "\n",
      "- Yes, they survived: `d.survived == 1`"
     ]
    },
    {
     "cell_type": "code",
     "collapsed": false,
     "input": [
      "# 342 / 891 = 0.38383838\n",
      "a[a.survived == 1].count()"
     ],
     "language": "python",
     "metadata": {},
     "outputs": [
      {
       "metadata": {},
       "output_type": "pyout",
       "prompt_number": 28,
       "text": [
        "survived    342\n",
        "pclass      342\n",
        "name        342\n",
        "sex         342\n",
        "age         290\n",
        "sibsp       342\n",
        "parch       342\n",
        "ticket      342\n",
        "fare        342\n",
        "cabin       136\n",
        "embarked    340\n",
        "dtype: int64"
       ]
      }
     ],
     "prompt_number": 28
    },
    {
     "cell_type": "markdown",
     "metadata": {},
     "source": [
      "### Function\n",
      "\n",
      "Write a function that returns a dictionary of the number of `survived`, `not survived`, and `unknown`.  Here is the example function call:\n",
      "```python\n",
      "print titanic_function(data)\n",
      "\n",
      "{'survived': 342, 'not survived': 549}\n",
      "\n",
      "```\n"
     ]
    },
    {
     "cell_type": "code",
     "collapsed": false,
     "input": [
      "# had to look to solutions doc:\n",
      "def titanic_function(data):\n",
      "    cnts = data.groupby('survived')['survived'].count()\n",
      "    return {'survived': cnts[1], 'not survived': cnts[0]}"
     ],
     "language": "python",
     "metadata": {},
     "outputs": [],
     "prompt_number": 32
    },
    {
     "cell_type": "code",
     "collapsed": false,
     "input": [
      "# had to look to solutions doc:\n",
      "print titanic_function(a)"
     ],
     "language": "python",
     "metadata": {},
     "outputs": [
      {
       "output_type": "stream",
       "stream": "stdout",
       "text": [
        "{'survived': 342, 'not survived': 549}\n"
       ]
      }
     ],
     "prompt_number": 34
    },
    {
     "cell_type": "markdown",
     "metadata": {},
     "source": [
      "###What percent of males survived? Females?"
     ]
    },
    {
     "cell_type": "code",
     "collapsed": false,
     "input": [
      "# had to look to solutions doc:\n",
      "print a.groupby(['sex', 'survived'])['survived'].count()"
     ],
     "language": "python",
     "metadata": {},
     "outputs": [
      {
       "output_type": "stream",
       "stream": "stdout",
       "text": [
        "sex     survived\n",
        "female  0            81\n",
        "        1           233\n",
        "male    0           468\n",
        "        1           109\n",
        "dtype: int64\n"
       ]
      }
     ],
     "prompt_number": 35
    },
    {
     "cell_type": "markdown",
     "metadata": {},
     "source": [
      "# Next Steps\n",
      "\n",
      "**Recommended Resources**\n",
      "\n",
      "Name | Description\n",
      "--- | ---\n",
      "[Official Pandas Tutorials](http://pandas.pydata.org/pandas-docs/stable/tutorials.html) | Wes & Company's selection of tutorials and lectures\n",
      "[Julia Evans Pandas Cookbook](https://github.com/jvns/pandas-cookbook) | Great resource with eamples from weather, bikes and 311 calls\n",
      "[Learn Pandas Tutorials](https://bitbucket.org/hrojas/learn-pandas) | A great series of Pandas tutorials from Dave Rojas\n",
      "[Research Computing Python Data PYNBs](https://github.com/ResearchComputing/Meetup-Fall-2013/tree/master/python) | A super awesome set of python notebooks from a meetup-based course exclusively devoted to pandas"
     ]
    }
   ],
   "metadata": {}
  }
 ]
}