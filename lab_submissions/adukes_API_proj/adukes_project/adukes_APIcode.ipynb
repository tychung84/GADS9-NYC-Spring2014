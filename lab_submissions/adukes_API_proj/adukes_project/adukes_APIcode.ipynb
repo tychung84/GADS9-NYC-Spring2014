{
 "metadata": {
  "name": ""
 },
 "nbformat": 3,
 "nbformat_minor": 0,
 "worksheets": [
  {
   "cells": [
    {
     "cell_type": "code",
     "collapsed": false,
     "input": [
      "import json\n",
      "import urllib2\n",
      "\n",
      "\n"
     ],
     "language": "python",
     "metadata": {},
     "outputs": [],
     "prompt_number": 5
    },
    {
     "cell_type": "code",
     "collapsed": false,
     "input": [
      "class NYTimesScraper():\n",
      "    def __init__(self, apikey):\n",
      "        # Creates a new NYTimesScraper Object using the apikey that was included.\n",
      "        self.key = '697c0737d298259499c8eda26276a29d:6:67760088'\n",
      "        self.url = 'http://api.nytimes.com/svc/search/v2/articlesearch.json?'\n",
      "    def _build_params(self, params):\n",
      "        if not params:\n",
      "            raise Exception('no search parameters!')\n",
      "        else:\n",
      "            return '&'.join([k + '=' + v for k,v in params.iteritems()])\n",
      "    def search(self, params={}):\n",
      "        url = self.url + self._build_params(params)\n",
      "        url = url + '&api-key=%s' % self.key\n",
      "        req = urllib2.Request(url)\n",
      "        data = urllib2.urlopen(req).read()\n",
      "        return json.loads(data)\n",
      "\n"
     ],
     "language": "python",
     "metadata": {},
     "outputs": [],
     "prompt_number": 6
    },
    {
     "cell_type": "code",
     "collapsed": false,
     "input": [
      "nytimes = NYTimesScraper(apikey='')\n",
      "articles = api.search({'q':'twerk', 'begin_date': '20130101'})\n",
      "\n",
      "for article in articles['response']['docs']:\n",
      "    print '\"' + '\",\"'.join([article['byline']['person'][0]['lastname'],\n",
      "        article['pub_date'],\n",
      "        article['section_name'],\n",
      "        article['subsection_name'],\n",
      "        article['word_count'],\n",
      "        article['web_url']]) + '\"'\n",
      "\n",
      "filename = 'nytimesdata.csv'\n",
      "writer = open(filename, 'w')\n",
      "\n",
      "# Fill in the column names here as one string\n",
      "#update:writer.write('')\n",
      "#update:for article in articles['response']['docs']:"
     ],
     "language": "python",
     "metadata": {},
     "outputs": [
      {
       "ename": "NameError",
       "evalue": "name 'api' is not defined",
       "output_type": "pyerr",
       "traceback": [
        "\u001b[1;31m---------------------------------------------------------------------------\u001b[0m\n\u001b[1;31mNameError\u001b[0m                                 Traceback (most recent call last)",
        "\u001b[1;32m<ipython-input-7-50b19f2fefb1>\u001b[0m in \u001b[0;36m<module>\u001b[1;34m()\u001b[0m\n\u001b[0;32m      1\u001b[0m \u001b[0mnytimes\u001b[0m \u001b[1;33m=\u001b[0m \u001b[0mNYTimesScraper\u001b[0m\u001b[1;33m(\u001b[0m\u001b[0mapikey\u001b[0m\u001b[1;33m=\u001b[0m\u001b[1;34m''\u001b[0m\u001b[1;33m)\u001b[0m\u001b[1;33m\u001b[0m\u001b[0m\n\u001b[1;32m----> 2\u001b[1;33m \u001b[0marticles\u001b[0m \u001b[1;33m=\u001b[0m \u001b[0mapi\u001b[0m\u001b[1;33m.\u001b[0m\u001b[0msearch\u001b[0m\u001b[1;33m(\u001b[0m\u001b[1;33m{\u001b[0m\u001b[1;34m'q'\u001b[0m\u001b[1;33m:\u001b[0m\u001b[1;34m'twerk'\u001b[0m\u001b[1;33m,\u001b[0m \u001b[1;34m'begin_date'\u001b[0m\u001b[1;33m:\u001b[0m \u001b[1;34m'20130101'\u001b[0m\u001b[1;33m}\u001b[0m\u001b[1;33m)\u001b[0m\u001b[1;33m\u001b[0m\u001b[0m\n\u001b[0m\u001b[0;32m      3\u001b[0m \u001b[1;33m\u001b[0m\u001b[0m\n\u001b[0;32m      4\u001b[0m \u001b[1;32mfor\u001b[0m \u001b[0marticle\u001b[0m \u001b[1;32min\u001b[0m \u001b[0marticles\u001b[0m\u001b[1;33m[\u001b[0m\u001b[1;34m'response'\u001b[0m\u001b[1;33m]\u001b[0m\u001b[1;33m[\u001b[0m\u001b[1;34m'docs'\u001b[0m\u001b[1;33m]\u001b[0m\u001b[1;33m:\u001b[0m\u001b[1;33m\u001b[0m\u001b[0m\n\u001b[0;32m      5\u001b[0m     print '\"' + '\",\"'.join([article['byline']['person'][0]['lastname'],\n",
        "\u001b[1;31mNameError\u001b[0m: name 'api' is not defined"
       ]
      }
     ],
     "prompt_number": 7
    },
    {
     "cell_type": "code",
     "collapsed": false,
     "input": [
      "#import and initialize the API with your developer key:\n",
      "\n",
      "#from nytimesarticle import articleAPI\n",
      "import articleAPI from nytimesarticle \n",
      "api = articleAPI('697c0737d298259499c8eda26276a29d:6:67760088')\n",
      "    "
     ],
     "language": "python",
     "metadata": {},
     "outputs": [
      {
       "ename": "SyntaxError",
       "evalue": "invalid syntax (<ipython-input-10-cce3ece1d8b9>, line 4)",
       "output_type": "pyerr",
       "traceback": [
        "\u001b[1;36m  File \u001b[1;32m\"<ipython-input-10-cce3ece1d8b9>\"\u001b[1;36m, line \u001b[1;32m4\u001b[0m\n\u001b[1;33m    import articleAPI from nytimesarticle\u001b[0m\n\u001b[1;37m                         ^\u001b[0m\n\u001b[1;31mSyntaxError\u001b[0m\u001b[1;31m:\u001b[0m invalid syntax\n"
       ]
      }
     ],
     "prompt_number": 10
    },
    {
     "cell_type": "code",
     "collapsed": false,
     "input": [
      "easy_install nytimesarticle\n",
      "from nytimesarticle import articleAPI"
     ],
     "language": "python",
     "metadata": {},
     "outputs": [
      {
       "ename": "SyntaxError",
       "evalue": "invalid syntax (<ipython-input-13-1e92bd622463>, line 1)",
       "output_type": "pyerr",
       "traceback": [
        "\u001b[1;36m  File \u001b[1;32m\"<ipython-input-13-1e92bd622463>\"\u001b[1;36m, line \u001b[1;32m1\u001b[0m\n\u001b[1;33m    easy_install nytimesarticle\u001b[0m\n\u001b[1;37m                              ^\u001b[0m\n\u001b[1;31mSyntaxError\u001b[0m\u001b[1;31m:\u001b[0m invalid syntax\n"
       ]
      }
     ],
     "prompt_number": 13
    },
    {
     "cell_type": "code",
     "collapsed": false,
     "input": [],
     "language": "python",
     "metadata": {},
     "outputs": []
    }
   ],
   "metadata": {}
  }
 ]
}