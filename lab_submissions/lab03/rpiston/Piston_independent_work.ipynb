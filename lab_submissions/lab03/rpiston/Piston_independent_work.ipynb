{
 "metadata": {
  "name": "Untitled2"
 },
 "nbformat": 3,
 "nbformat_minor": 0,
 "worksheets": [
  {
   "cells": [
    {
     "cell_type": "code",
     "collapsed": false,
     "input": "import pandas as pd\nimport numpy as np\nimport os\n\niris = pd.read_csv(os.path.join('data', 'iris.csv'))",
     "language": "python",
     "metadata": {},
     "outputs": [],
     "prompt_number": 16
    },
    {
     "cell_type": "code",
     "collapsed": false,
     "input": "grouped = iris.groupby('Name') #problem 1\nprint len(grouped)\nprint len(np.unique(iris.Name)) #alternative way",
     "language": "python",
     "metadata": {},
     "outputs": [
      {
       "output_type": "stream",
       "stream": "stdout",
       "text": "3\n3\n"
      }
     ],
     "prompt_number": 50
    },
    {
     "cell_type": "code",
     "collapsed": false,
     "input": "print iris.groupby('Name').size() #problem 2",
     "language": "python",
     "metadata": {},
     "outputs": [
      {
       "output_type": "stream",
       "stream": "stdout",
       "text": "Name\nIris-setosa        50\nIris-versicolor    50\nIris-virginica     50\ndtype: int64\n"
      }
     ],
     "prompt_number": 65
    },
    {
     "cell_type": "code",
     "collapsed": false,
     "input": "print \"mean: %.3f\" % (iris.SepalLength.mean())  #problem 3\nprint \"median: %.3f\" % (iris.SepalLength.median())\nprint \"min: %.3f\" % (iris.SepalLength.min())\nprint \"max: %.3f\" % (iris.SepalLength.max())",
     "language": "python",
     "metadata": {},
     "outputs": [
      {
       "output_type": "stream",
       "stream": "stdout",
       "text": "mean: 5.843\nmedian: 5.800\nmin: 4.300\nmax: 7.900\n"
      }
     ],
     "prompt_number": 56
    },
    {
     "cell_type": "code",
     "collapsed": false,
     "input": "print \"mean: %.3f\" % (iris.SepalWidth.mean())\nprint \"median: %.3f\" % (iris.SepalWidth.median())\nprint \"min: %.3f\" % (iris.SepalWidth.min())\nprint \"max: %.3f\" % (iris.SepalWidth.max())",
     "language": "python",
     "metadata": {},
     "outputs": [
      {
       "output_type": "stream",
       "stream": "stdout",
       "text": "mean: 3.054\nmedian: 3.000\nmin: 2.000\nmax: 4.400\n"
      }
     ],
     "prompt_number": 57
    },
    {
     "cell_type": "code",
     "collapsed": false,
     "input": "print \"mean: %.3f\" % (iris.PetalLength.mean())\nprint \"median: %.3f\" % (iris.PetalLength.median())\nprint \"min: %.3f\" % (iris.PetalLength.min())\nprint \"max: %.3f\" % (iris.PetalLength.max())",
     "language": "python",
     "metadata": {},
     "outputs": [
      {
       "output_type": "stream",
       "stream": "stdout",
       "text": "mean: 3.759\nmedian: 4.350\nmin: 1.000\nmax: 6.900\n"
      }
     ],
     "prompt_number": 58
    },
    {
     "cell_type": "code",
     "collapsed": false,
     "input": "print \"mean: %.3f\" % (iris.PetalWidth.mean())\nprint \"median: %.3f\" % (iris.PetalWidth.median())\nprint \"min: %.3f\" % (iris.PetalWidth.min())\nprint \"max: %.3f\" % (iris.PetalWidth.max())",
     "language": "python",
     "metadata": {},
     "outputs": [
      {
       "output_type": "stream",
       "stream": "stdout",
       "text": "mean: 1.199\nmedian: 1.300\nmin: 0.100\nmax: 2.500\n"
      }
     ],
     "prompt_number": 59
    },
    {
     "cell_type": "code",
     "collapsed": false,
     "input": "print iris.groupby('Name').describe() #problem 4",
     "language": "python",
     "metadata": {},
     "outputs": [
      {
       "output_type": "stream",
       "stream": "stdout",
       "text": "                       SepalLength  SepalWidth  PetalLength  PetalWidth\nName                                                                   \nIris-setosa     count    50.000000   50.000000    50.000000   50.000000\n                mean      5.006000    3.418000     1.464000    0.244000\n                std       0.352490    0.381024     0.173511    0.107210\n                min       4.300000    2.300000     1.000000    0.100000\n                25%       4.800000    3.125000     1.400000    0.200000\n                50%       5.000000    3.400000     1.500000    0.200000\n                75%       5.200000    3.675000     1.575000    0.300000\n                max       5.800000    4.400000     1.900000    0.600000\nIris-versicolor count    50.000000   50.000000    50.000000   50.000000\n                mean      5.936000    2.770000     4.260000    1.326000\n                std       0.516171    0.313798     0.469911    0.197753\n                min       4.900000    2.000000     3.000000    1.000000\n                25%       5.600000    2.525000     4.000000    1.200000\n                50%       5.900000    2.800000     4.350000    1.300000\n                75%       6.300000    3.000000     4.600000    1.500000\n                max       7.000000    3.400000     5.100000    1.800000\nIris-virginica  count    50.000000   50.000000    50.000000   50.000000\n                mean      6.588000    2.974000     5.552000    2.026000\n                std       0.635880    0.322497     0.551895    0.274650\n                min       4.900000    2.200000     4.500000    1.400000\n                25%       6.225000    2.800000     5.100000    1.800000\n                50%       6.500000    3.000000     5.550000    2.000000\n                75%       6.900000    3.175000     5.875000    2.300000\n                max       7.900000    3.800000     6.900000    2.500000\n\n[24 rows x 4 columns]\n"
      }
     ],
     "prompt_number": 66
    },
    {
     "cell_type": "code",
     "collapsed": false,
     "input": "# problem 5a: the shape begin to separate which appears to indicate that the three types of iris have different charateristcs\n# problem 6b: the petal length and the petal width appear to be the most distiguishing variables of the three iris species. ",
     "language": "python",
     "metadata": {},
     "outputs": [],
     "prompt_number": 67
    },
    {
     "cell_type": "code",
     "collapsed": false,
     "input": "#problem 7: When sorting by PetalLength and PetalWidth, the Names of the iris appear to be grouped together, \n# thus confirming my answer above that PetalLength and PetalWidth is the better characteristic to predict flower type\nprint iris.sort('SepalLength')",
     "language": "python",
     "metadata": {},
     "outputs": [
      {
       "output_type": "stream",
       "stream": "stdout",
       "text": "     SepalLength  SepalWidth  PetalLength  PetalWidth             Name\n13           4.3         3.0          1.1         0.1      Iris-setosa\n42           4.4         3.2          1.3         0.2      Iris-setosa\n38           4.4         3.0          1.3         0.2      Iris-setosa\n8            4.4         2.9          1.4         0.2      Iris-setosa\n41           4.5         2.3          1.3         0.3      Iris-setosa\n22           4.6         3.6          1.0         0.2      Iris-setosa\n3            4.6         3.1          1.5         0.2      Iris-setosa\n6            4.6         3.4          1.4         0.3      Iris-setosa\n47           4.6         3.2          1.4         0.2      Iris-setosa\n2            4.7         3.2          1.3         0.2      Iris-setosa\n29           4.7         3.2          1.6         0.2      Iris-setosa\n12           4.8         3.0          1.4         0.1      Iris-setosa\n45           4.8         3.0          1.4         0.3      Iris-setosa\n24           4.8         3.4          1.9         0.2      Iris-setosa\n11           4.8         3.4          1.6         0.2      Iris-setosa\n30           4.8         3.1          1.6         0.2      Iris-setosa\n57           4.9         2.4          3.3         1.0  Iris-versicolor\n106          4.9         2.5          4.5         1.7   Iris-virginica\n34           4.9         3.1          1.5         0.1      Iris-setosa\n9            4.9         3.1          1.5         0.1      Iris-setosa\n37           4.9         3.1          1.5         0.1      Iris-setosa\n1            4.9         3.0          1.4         0.2      Iris-setosa\n40           5.0         3.5          1.3         0.3      Iris-setosa\n26           5.0         3.4          1.6         0.4      Iris-setosa\n49           5.0         3.3          1.4         0.2      Iris-setosa\n35           5.0         3.2          1.2         0.2      Iris-setosa\n43           5.0         3.5          1.6         0.6      Iris-setosa\n60           5.0         2.0          3.5         1.0  Iris-versicolor\n7            5.0         3.4          1.5         0.2      Iris-setosa\n93           5.0         2.3          3.3         1.0  Iris-versicolor\n4            5.0         3.6          1.4         0.2      Iris-setosa\n25           5.0         3.0          1.6         0.2      Iris-setosa\n44           5.1         3.8          1.9         0.4      Iris-setosa\n46           5.1         3.8          1.6         0.2      Iris-setosa\n98           5.1         2.5          3.0         1.1  Iris-versicolor\n0            5.1         3.5          1.4         0.2      Iris-setosa\n39           5.1         3.4          1.5         0.2      Iris-setosa\n17           5.1         3.5          1.4         0.3      Iris-setosa\n23           5.1         3.3          1.7         0.5      Iris-setosa\n21           5.1         3.7          1.5         0.4      Iris-setosa\n19           5.1         3.8          1.5         0.3      Iris-setosa\n32           5.2         4.1          1.5         0.1      Iris-setosa\n28           5.2         3.4          1.4         0.2      Iris-setosa\n27           5.2         3.5          1.5         0.2      Iris-setosa\n59           5.2         2.7          3.9         1.4  Iris-versicolor\n48           5.3         3.7          1.5         0.2      Iris-setosa\n84           5.4         3.0          4.5         1.5  Iris-versicolor\n5            5.4         3.9          1.7         0.4      Iris-setosa\n20           5.4         3.4          1.7         0.2      Iris-setosa\n31           5.4         3.4          1.5         0.4      Iris-setosa\n10           5.4         3.7          1.5         0.2      Iris-setosa\n16           5.4         3.9          1.3         0.4      Iris-setosa\n36           5.5         3.5          1.3         0.2      Iris-setosa\n90           5.5         2.6          4.4         1.2  Iris-versicolor\n33           5.5         4.2          1.4         0.2      Iris-setosa\n53           5.5         2.3          4.0         1.3  Iris-versicolor\n81           5.5         2.4          3.7         1.0  Iris-versicolor\n80           5.5         2.4          3.8         1.1  Iris-versicolor\n89           5.5         2.5          4.0         1.3  Iris-versicolor\n88           5.6         3.0          4.1         1.3  Iris-versicolor\n             ...         ...          ...         ...              ...\n\n[150 rows x 5 columns]\n"
      }
     ],
     "prompt_number": 68
    },
    {
     "cell_type": "code",
     "collapsed": false,
     "input": "print iris.sort('SepalWidth')",
     "language": "python",
     "metadata": {},
     "outputs": [
      {
       "output_type": "stream",
       "stream": "stdout",
       "text": "     SepalLength  SepalWidth  PetalLength  PetalWidth             Name\n60           5.0         2.0          3.5         1.0  Iris-versicolor\n62           6.0         2.2          4.0         1.0  Iris-versicolor\n119          6.0         2.2          5.0         1.5   Iris-virginica\n68           6.2         2.2          4.5         1.5  Iris-versicolor\n41           4.5         2.3          1.3         0.3      Iris-setosa\n53           5.5         2.3          4.0         1.3  Iris-versicolor\n93           5.0         2.3          3.3         1.0  Iris-versicolor\n87           6.3         2.3          4.4         1.3  Iris-versicolor\n81           5.5         2.4          3.7         1.0  Iris-versicolor\n80           5.5         2.4          3.8         1.1  Iris-versicolor\n57           4.9         2.4          3.3         1.0  Iris-versicolor\n72           6.3         2.5          4.9         1.5  Iris-versicolor\n146          6.3         2.5          5.0         1.9   Iris-virginica\n98           5.1         2.5          3.0         1.1  Iris-versicolor\n113          5.7         2.5          5.0         2.0   Iris-virginica\n108          6.7         2.5          5.8         1.8   Iris-virginica\n69           5.6         2.5          3.9         1.1  Iris-versicolor\n89           5.5         2.5          4.0         1.3  Iris-versicolor\n106          4.9         2.5          4.5         1.7   Iris-virginica\n92           5.8         2.6          4.0         1.2  Iris-versicolor\n79           5.7         2.6          3.5         1.0  Iris-versicolor\n90           5.5         2.6          4.4         1.2  Iris-versicolor\n118          7.7         2.6          6.9         2.3   Iris-virginica\n134          6.1         2.6          5.6         1.4   Iris-virginica\n101          5.8         2.7          5.1         1.9   Iris-virginica\n94           5.6         2.7          4.2         1.3  Iris-versicolor\n59           5.2         2.7          3.9         1.4  Iris-versicolor\n111          6.4         2.7          5.3         1.9   Iris-virginica\n82           5.8         2.7          3.9         1.2  Iris-versicolor\n67           5.8         2.7          4.1         1.0  Iris-versicolor\n142          5.8         2.7          5.1         1.9   Iris-virginica\n123          6.3         2.7          4.9         1.8   Iris-virginica\n83           6.0         2.7          5.1         1.6  Iris-versicolor\n133          6.3         2.8          5.1         1.5   Iris-virginica\n132          6.4         2.8          5.6         2.2   Iris-virginica\n130          7.4         2.8          6.1         1.9   Iris-virginica\n128          6.4         2.8          5.6         2.1   Iris-virginica\n54           6.5         2.8          4.6         1.5  Iris-versicolor\n73           6.1         2.8          4.7         1.2  Iris-versicolor\n126          6.2         2.8          4.8         1.8   Iris-virginica\n99           5.7         2.8          4.1         1.3  Iris-versicolor\n122          7.7         2.8          6.7         2.0   Iris-virginica\n121          5.6         2.8          4.9         2.0   Iris-virginica\n114          5.8         2.8          5.1         2.4   Iris-virginica\n71           6.1         2.8          4.0         1.3  Iris-versicolor\n76           6.8         2.8          4.8         1.4  Iris-versicolor\n55           5.7         2.8          4.5         1.3  Iris-versicolor\n78           6.0         2.9          4.5         1.5  Iris-versicolor\n58           6.6         2.9          4.6         1.3  Iris-versicolor\n64           5.6         2.9          3.6         1.3  Iris-versicolor\n63           6.1         2.9          4.7         1.4  Iris-versicolor\n74           6.4         2.9          4.3         1.3  Iris-versicolor\n97           6.2         2.9          4.3         1.3  Iris-versicolor\n96           5.7         2.9          4.2         1.3  Iris-versicolor\n103          6.3         2.9          5.6         1.8   Iris-virginica\n107          7.3         2.9          6.3         1.8   Iris-virginica\n8            4.4         2.9          1.4         0.2      Iris-setosa\n147          6.5         3.0          5.2         2.0   Iris-virginica\n75           6.6         3.0          4.4         1.4  Iris-versicolor\n145          6.7         3.0          5.2         2.3   Iris-virginica\n             ...         ...          ...         ...              ...\n\n[150 rows x 5 columns]\n"
      }
     ],
     "prompt_number": 69
    },
    {
     "cell_type": "code",
     "collapsed": false,
     "input": "print iris.sort('PetalLength')",
     "language": "python",
     "metadata": {},
     "outputs": [
      {
       "output_type": "stream",
       "stream": "stdout",
       "text": "    SepalLength  SepalWidth  PetalLength  PetalWidth             Name\n22          4.6         3.6          1.0         0.2      Iris-setosa\n13          4.3         3.0          1.1         0.1      Iris-setosa\n14          5.8         4.0          1.2         0.2      Iris-setosa\n35          5.0         3.2          1.2         0.2      Iris-setosa\n36          5.5         3.5          1.3         0.2      Iris-setosa\n40          5.0         3.5          1.3         0.3      Iris-setosa\n38          4.4         3.0          1.3         0.2      Iris-setosa\n42          4.4         3.2          1.3         0.2      Iris-setosa\n2           4.7         3.2          1.3         0.2      Iris-setosa\n41          4.5         2.3          1.3         0.3      Iris-setosa\n16          5.4         3.9          1.3         0.4      Iris-setosa\n17          5.1         3.5          1.4         0.3      Iris-setosa\n45          4.8         3.0          1.4         0.3      Iris-setosa\n33          5.5         4.2          1.4         0.2      Iris-setosa\n28          5.2         3.4          1.4         0.2      Iris-setosa\n47          4.6         3.2          1.4         0.2      Iris-setosa\n49          5.0         3.3          1.4         0.2      Iris-setosa\n0           5.1         3.5          1.4         0.2      Iris-setosa\n4           5.0         3.6          1.4         0.2      Iris-setosa\n1           4.9         3.0          1.4         0.2      Iris-setosa\n12          4.8         3.0          1.4         0.1      Iris-setosa\n6           4.6         3.4          1.4         0.3      Iris-setosa\n8           4.4         2.9          1.4         0.2      Iris-setosa\n34          4.9         3.1          1.5         0.1      Iris-setosa\n10          5.4         3.7          1.5         0.2      Iris-setosa\n32          5.2         4.1          1.5         0.1      Iris-setosa\n31          5.4         3.4          1.5         0.4      Iris-setosa\n15          5.7         4.4          1.5         0.4      Iris-setosa\n27          5.2         3.5          1.5         0.2      Iris-setosa\n9           4.9         3.1          1.5         0.1      Iris-setosa\n7           5.0         3.4          1.5         0.2      Iris-setosa\n3           4.6         3.1          1.5         0.2      Iris-setosa\n48          5.3         3.7          1.5         0.2      Iris-setosa\n21          5.1         3.7          1.5         0.4      Iris-setosa\n19          5.1         3.8          1.5         0.3      Iris-setosa\n39          5.1         3.4          1.5         0.2      Iris-setosa\n37          4.9         3.1          1.5         0.1      Iris-setosa\n30          4.8         3.1          1.6         0.2      Iris-setosa\n29          4.7         3.2          1.6         0.2      Iris-setosa\n11          4.8         3.4          1.6         0.2      Iris-setosa\n26          5.0         3.4          1.6         0.4      Iris-setosa\n25          5.0         3.0          1.6         0.2      Iris-setosa\n46          5.1         3.8          1.6         0.2      Iris-setosa\n43          5.0         3.5          1.6         0.6      Iris-setosa\n18          5.7         3.8          1.7         0.3      Iris-setosa\n5           5.4         3.9          1.7         0.4      Iris-setosa\n23          5.1         3.3          1.7         0.5      Iris-setosa\n20          5.4         3.4          1.7         0.2      Iris-setosa\n24          4.8         3.4          1.9         0.2      Iris-setosa\n44          5.1         3.8          1.9         0.4      Iris-setosa\n98          5.1         2.5          3.0         1.1  Iris-versicolor\n93          5.0         2.3          3.3         1.0  Iris-versicolor\n57          4.9         2.4          3.3         1.0  Iris-versicolor\n60          5.0         2.0          3.5         1.0  Iris-versicolor\n79          5.7         2.6          3.5         1.0  Iris-versicolor\n64          5.6         2.9          3.6         1.3  Iris-versicolor\n81          5.5         2.4          3.7         1.0  Iris-versicolor\n80          5.5         2.4          3.8         1.1  Iris-versicolor\n69          5.6         2.5          3.9         1.1  Iris-versicolor\n82          5.8         2.7          3.9         1.2  Iris-versicolor\n            ...         ...          ...         ...              ...\n\n[150 rows x 5 columns]\n"
      }
     ],
     "prompt_number": 70
    },
    {
     "cell_type": "code",
     "collapsed": false,
     "input": "print iris.sort('PetalLength')",
     "language": "python",
     "metadata": {},
     "outputs": [
      {
       "output_type": "stream",
       "stream": "stdout",
       "text": "    SepalLength  SepalWidth  PetalLength  PetalWidth             Name\n22          4.6         3.6          1.0         0.2      Iris-setosa\n13          4.3         3.0          1.1         0.1      Iris-setosa\n14          5.8         4.0          1.2         0.2      Iris-setosa\n35          5.0         3.2          1.2         0.2      Iris-setosa\n36          5.5         3.5          1.3         0.2      Iris-setosa\n40          5.0         3.5          1.3         0.3      Iris-setosa\n38          4.4         3.0          1.3         0.2      Iris-setosa\n42          4.4         3.2          1.3         0.2      Iris-setosa\n2           4.7         3.2          1.3         0.2      Iris-setosa\n41          4.5         2.3          1.3         0.3      Iris-setosa\n16          5.4         3.9          1.3         0.4      Iris-setosa\n17          5.1         3.5          1.4         0.3      Iris-setosa\n45          4.8         3.0          1.4         0.3      Iris-setosa\n33          5.5         4.2          1.4         0.2      Iris-setosa\n28          5.2         3.4          1.4         0.2      Iris-setosa\n47          4.6         3.2          1.4         0.2      Iris-setosa\n49          5.0         3.3          1.4         0.2      Iris-setosa\n0           5.1         3.5          1.4         0.2      Iris-setosa\n4           5.0         3.6          1.4         0.2      Iris-setosa\n1           4.9         3.0          1.4         0.2      Iris-setosa\n12          4.8         3.0          1.4         0.1      Iris-setosa\n6           4.6         3.4          1.4         0.3      Iris-setosa\n8           4.4         2.9          1.4         0.2      Iris-setosa\n34          4.9         3.1          1.5         0.1      Iris-setosa\n10          5.4         3.7          1.5         0.2      Iris-setosa\n32          5.2         4.1          1.5         0.1      Iris-setosa\n31          5.4         3.4          1.5         0.4      Iris-setosa\n15          5.7         4.4          1.5         0.4      Iris-setosa\n27          5.2         3.5          1.5         0.2      Iris-setosa\n9           4.9         3.1          1.5         0.1      Iris-setosa\n7           5.0         3.4          1.5         0.2      Iris-setosa\n3           4.6         3.1          1.5         0.2      Iris-setosa\n48          5.3         3.7          1.5         0.2      Iris-setosa\n21          5.1         3.7          1.5         0.4      Iris-setosa\n19          5.1         3.8          1.5         0.3      Iris-setosa\n39          5.1         3.4          1.5         0.2      Iris-setosa\n37          4.9         3.1          1.5         0.1      Iris-setosa\n30          4.8         3.1          1.6         0.2      Iris-setosa\n29          4.7         3.2          1.6         0.2      Iris-setosa\n11          4.8         3.4          1.6         0.2      Iris-setosa\n26          5.0         3.4          1.6         0.4      Iris-setosa\n25          5.0         3.0          1.6         0.2      Iris-setosa\n46          5.1         3.8          1.6         0.2      Iris-setosa\n43          5.0         3.5          1.6         0.6      Iris-setosa\n18          5.7         3.8          1.7         0.3      Iris-setosa\n5           5.4         3.9          1.7         0.4      Iris-setosa\n23          5.1         3.3          1.7         0.5      Iris-setosa\n20          5.4         3.4          1.7         0.2      Iris-setosa\n24          4.8         3.4          1.9         0.2      Iris-setosa\n44          5.1         3.8          1.9         0.4      Iris-setosa\n98          5.1         2.5          3.0         1.1  Iris-versicolor\n93          5.0         2.3          3.3         1.0  Iris-versicolor\n57          4.9         2.4          3.3         1.0  Iris-versicolor\n60          5.0         2.0          3.5         1.0  Iris-versicolor\n79          5.7         2.6          3.5         1.0  Iris-versicolor\n64          5.6         2.9          3.6         1.3  Iris-versicolor\n81          5.5         2.4          3.7         1.0  Iris-versicolor\n80          5.5         2.4          3.8         1.1  Iris-versicolor\n69          5.6         2.5          3.9         1.1  Iris-versicolor\n82          5.8         2.7          3.9         1.2  Iris-versicolor\n            ...         ...          ...         ...              ...\n\n[150 rows x 5 columns]\n"
      }
     ],
     "prompt_number": 71
    },
    {
     "cell_type": "code",
     "collapsed": false,
     "input": "#problem 8:  I am not exactly sure what this problem is asking for\n# My initial guess is to use an if, elif, and else statements to try to classify the flower based on PetalLength or PetalWidth",
     "language": "python",
     "metadata": {},
     "outputs": []
    }
   ],
   "metadata": {}
  }
 ]
}