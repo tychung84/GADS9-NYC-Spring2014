{
 "metadata": {
  "name": ""
 },
 "nbformat": 3,
 "nbformat_minor": 0,
 "worksheets": [
  {
   "cells": [
    {
     "cell_type": "code",
     "collapsed": false,
     "input": [
      "%pylab inline"
     ],
     "language": "python",
     "metadata": {},
     "outputs": [
      {
       "output_type": "stream",
       "stream": "stdout",
       "text": [
        "Populating the interactive namespace from numpy and matplotlib\n"
       ]
      }
     ],
     "prompt_number": 20
    },
    {
     "cell_type": "code",
     "collapsed": false,
     "input": [
      "%matplotlib inline\n",
      "\n",
      "import json\n",
      "\n",
      "import requests\n",
      "import sklearn\n",
      "import pandas as pd\n",
      "import numpy as np\n",
      "import matplotlib.pyplot as plt\n",
      "\n",
      "pd.set_option('display.width', 5000)\n",
      "pd.set_option('display.max_columns', 2)\n",
      "pd.set_option('display.max_rows', 400)   \n"
     ],
     "language": "python",
     "metadata": {},
     "outputs": [],
     "prompt_number": 21
    },
    {
     "cell_type": "code",
     "collapsed": false,
     "input": [
      "data=pd.read_csv('test.csv')\n",
      "data.head()"
     ],
     "language": "python",
     "metadata": {},
     "outputs": [
      {
       "html": [
        "<div style=\"max-height:1000px;max-width:1500px;overflow:auto;\">\n",
        "<table border=\"1\" class=\"dataframe\">\n",
        "  <thead>\n",
        "    <tr style=\"text-align: right;\">\n",
        "      <th></th>\n",
        "      <th>Tweet</th>\n",
        "      <th>Timezone</th>\n",
        "      <th></th>\n",
        "    </tr>\n",
        "  </thead>\n",
        "  <tbody>\n",
        "    <tr>\n",
        "      <th>0</th>\n",
        "      <td> RT @LibreRed: Chomsky: El pu00e1nico de EEUU s...</td>\n",
        "      <td>     Atlantic Time (Canada)</td>\n",
        "      <td>...</td>\n",
        "    </tr>\n",
        "    <tr>\n",
        "      <th>1</th>\n",
        "      <td> #esc vote from ukrainian voters for russia wil...</td>\n",
        "      <td>                     Athens</td>\n",
        "      <td>...</td>\n",
        "    </tr>\n",
        "    <tr>\n",
        "      <th>2</th>\n",
        "      <td> Putin visita Crimea mientras recrudece violenc...</td>\n",
        "      <td> Pacific Time (US &amp; Canada)</td>\n",
        "      <td>...</td>\n",
        "    </tr>\n",
        "    <tr>\n",
        "      <th>3</th>\n",
        "      <td> RT @RichardHoiles: Vladimir Putin settles down...</td>\n",
        "      <td>     Atlantic Time (Canada)</td>\n",
        "      <td>...</td>\n",
        "    </tr>\n",
        "    <tr>\n",
        "      <th>4</th>\n",
        "      <td> RT @ElUniversal: Putin visita Crimea mientras ...</td>\n",
        "      <td>                     London</td>\n",
        "      <td>...</td>\n",
        "    </tr>\n",
        "  </tbody>\n",
        "</table>\n",
        "<p>5 rows \u00d7 4 columns</p>\n",
        "</div>"
       ],
       "metadata": {},
       "output_type": "pyout",
       "prompt_number": 22,
       "text": [
        "                                               Tweet                    Timezone    \n",
        "0  RT @LibreRed: Chomsky: El pu00e1nico de EEUU s...      Atlantic Time (Canada) ...\n",
        "1  #esc vote from ukrainian voters for russia wil...                      Athens ...\n",
        "2  Putin visita Crimea mientras recrudece violenc...  Pacific Time (US & Canada) ...\n",
        "3  RT @RichardHoiles: Vladimir Putin settles down...      Atlantic Time (Canada) ...\n",
        "4  RT @ElUniversal: Putin visita Crimea mientras ...                      London ...\n",
        "\n",
        "[5 rows x 4 columns]"
       ]
      }
     ],
     "prompt_number": 22
    },
    {
     "cell_type": "code",
     "collapsed": false,
     "input": [
      "clean =[str(r.split('tweets')[0]) for r in data.Tweet]\n",
      "clean =[str(r.split('http')[0]) for r in data.Tweet]\n",
      "\n",
      "data.tweet=clean\n",
      "\n",
      "\n",
      "\n"
     ],
     "language": "python",
     "metadata": {},
     "outputs": [],
     "prompt_number": 23
    },
    {
     "cell_type": "code",
     "collapsed": false,
     "input": [
      "pos=pd.read_csv('positive.csv')\n",
      "pos.head()\n",
      "\n",
      "pos=pd.read_csv('positive.csv')\n",
      "pos.head()"
     ],
     "language": "python",
     "metadata": {},
     "outputs": [
      {
       "html": [
        "<div style=\"max-height:1000px;max-width:1500px;overflow:auto;\">\n",
        "<table border=\"1\" class=\"dataframe\">\n",
        "  <thead>\n",
        "    <tr style=\"text-align: right;\">\n",
        "      <th></th>\n",
        "      <th>abidance</th>\n",
        "    </tr>\n",
        "  </thead>\n",
        "  <tbody>\n",
        "    <tr>\n",
        "      <th>0</th>\n",
        "      <td>  abidance</td>\n",
        "    </tr>\n",
        "    <tr>\n",
        "      <th>1</th>\n",
        "      <td> abilities</td>\n",
        "    </tr>\n",
        "    <tr>\n",
        "      <th>2</th>\n",
        "      <td>   ability</td>\n",
        "    </tr>\n",
        "    <tr>\n",
        "      <th>3</th>\n",
        "      <td>      able</td>\n",
        "    </tr>\n",
        "    <tr>\n",
        "      <th>4</th>\n",
        "      <td>     above</td>\n",
        "    </tr>\n",
        "  </tbody>\n",
        "</table>\n",
        "<p>5 rows \u00d7 1 columns</p>\n",
        "</div>"
       ],
       "metadata": {},
       "output_type": "pyout",
       "prompt_number": 24,
       "text": [
        "    abidance\n",
        "0   abidance\n",
        "1  abilities\n",
        "2    ability\n",
        "3       able\n",
        "4      above\n",
        "\n",
        "[5 rows x 1 columns]"
       ]
      }
     ],
     "prompt_number": 24
    },
    {
     "cell_type": "code",
     "collapsed": false,
     "input": [
      "neg=pd.read_csv('negative.csv')\n",
      "neg.head()\n",
      "pos=pd.read_csv('positive.csv')\n",
      "pos.head()\n",
      "\n",
      "\n",
      "\n"
     ],
     "language": "python",
     "metadata": {},
     "outputs": [
      {
       "html": [
        "<div style=\"max-height:1000px;max-width:1500px;overflow:auto;\">\n",
        "<table border=\"1\" class=\"dataframe\">\n",
        "  <thead>\n",
        "    <tr style=\"text-align: right;\">\n",
        "      <th></th>\n",
        "      <th>abidance</th>\n",
        "    </tr>\n",
        "  </thead>\n",
        "  <tbody>\n",
        "    <tr>\n",
        "      <th>0</th>\n",
        "      <td>  abidance</td>\n",
        "    </tr>\n",
        "    <tr>\n",
        "      <th>1</th>\n",
        "      <td> abilities</td>\n",
        "    </tr>\n",
        "    <tr>\n",
        "      <th>2</th>\n",
        "      <td>   ability</td>\n",
        "    </tr>\n",
        "    <tr>\n",
        "      <th>3</th>\n",
        "      <td>      able</td>\n",
        "    </tr>\n",
        "    <tr>\n",
        "      <th>4</th>\n",
        "      <td>     above</td>\n",
        "    </tr>\n",
        "  </tbody>\n",
        "</table>\n",
        "<p>5 rows \u00d7 1 columns</p>\n",
        "</div>"
       ],
       "metadata": {},
       "output_type": "pyout",
       "prompt_number": 26,
       "text": [
        "    abidance\n",
        "0   abidance\n",
        "1  abilities\n",
        "2    ability\n",
        "3       able\n",
        "4      above\n",
        "\n",
        "[5 rows x 1 columns]"
       ]
      }
     ],
     "prompt_number": 26
    },
    {
     "cell_type": "code",
     "collapsed": false,
     "input": [
      "# Determine if the tweet \"tone\" is positive or negative; then write info to a text doc\n",
      "\n",
      "from collections import Counter\n",
      "import re\n",
      "lenth=len(data.Tweet)\n",
      "\n",
      "list=[]\n",
      "mood=0\n",
      "\n",
      "moodlist=[]\n",
      "i=0\n",
      "saveFile = open(\"julia.txt\",\"w\")\n",
      "\n",
      "while i< lenth:\n",
      "    for word in data.Tweet[i:i+1]:\n",
      "        word=word.split(\" \")\n",
      "        c=Counter(word)\n",
      "    neglist=[]\n",
      "    for wordn in neg.abandoned:\n",
      "        if c.get(wordn,0) > 0:\n",
      "            neglist.append(wordn)\n",
      "            print neglist\n",
      "    poslist=[]        \n",
      "    for wordp in pos.abidance:\n",
      "        if c.get(wordp,0) > 0:\n",
      "            poslist.append(wordp)\n",
      "            print poslist\n",
      "    if len(neglist) > len(poslist): \n",
      "        mood= 0\n",
      "    elif len(neglist) < len(poslist):\n",
      "        mood=1\n",
      "    else:\n",
      "        mood= np.nan\n",
      "    mood=str(mood)\n",
      "    \n",
      "    saveFile.write(mood)\n",
      "    saveFile.write('\\n')   \n",
      "    \n",
      "    i=i+1\n",
      "saveFile.close() \n"
     ],
     "language": "python",
     "metadata": {},
     "outputs": [
      {
       "output_type": "stream",
       "stream": "stdout",
       "text": [
        "['control']\n",
        "['crisis']\n",
        "['faith']\n",
        "['faith', 'will']\n",
        "['violence']\n",
        "['down']\n",
        "['down', 'annexation']\n",
        "['down', 'annexation', 'annexation']\n",
        "['violence']\n",
        "['crime']"
       ]
      },
      {
       "output_type": "stream",
       "stream": "stdout",
       "text": [
        "\n",
        "['will']\n",
        "['control']\n",
        "['annexed']\n",
        "['annexation']"
       ]
      },
      {
       "output_type": "stream",
       "stream": "stdout",
       "text": [
        "\n",
        "['annexation', 'annexation']\n",
        "['capable']\n",
        "['annexed']\n",
        "['blame']\n",
        "['blame', 'blame']\n",
        "['responsible']\n",
        "['love']"
       ]
      },
      {
       "output_type": "stream",
       "stream": "stdout",
       "text": [
        "\n",
        "['losing']\n",
        "['losing', 'losing']\n",
        "['might']\n",
        "['nice']\n",
        "['nice', 'responsible']\n",
        "['annexed']\n",
        "['annexed']\n",
        "['annexed']"
       ]
      },
      {
       "output_type": "stream",
       "stream": "stdout",
       "text": [
        "\n",
        "['retreat']\n",
        "['annexed']\n",
        "['responsible']\n",
        "['annexed']\n",
        "['annexed']"
       ]
      },
      {
       "output_type": "stream",
       "stream": "stdout",
       "text": [
        "\n",
        "['capable']\n",
        "['annexed']\n",
        "['violence']\n",
        "['useful']\n",
        "['will']"
       ]
      },
      {
       "output_type": "stream",
       "stream": "stdout",
       "text": [
        "\n",
        "['annexed']\n",
        "['annexed']\n",
        "['annexed']\n",
        "['sorry']\n",
        "['down']\n",
        "['down', 'annexation']\n",
        "['down', 'annexation', 'annexation']\n",
        "['mean']"
       ]
      },
      {
       "output_type": "stream",
       "stream": "stdout",
       "text": [
        "\n",
        "['wish']\n",
        "['wish', 'wish']\n",
        "['responsible']\n",
        "['responsible', 'welcome']\n",
        "['top']\n",
        "['annexed']\n",
        "['annexed']\n",
        "['annexed']"
       ]
      },
      {
       "output_type": "stream",
       "stream": "stdout",
       "text": [
        "\n",
        "['support']\n",
        "['annexation']\n",
        "['annexation', 'annexation']\n",
        "['annexed']\n",
        "['little']\n",
        "['annexed']"
       ]
      },
      {
       "output_type": "stream",
       "stream": "stdout",
       "text": [
        "\n",
        "['support']\n",
        "['dark']\n",
        "['dark', 'dark']\n",
        "['liking']\n",
        "['liking', 'sense']\n",
        "['liking', 'sense', 'sense']\n",
        "['annexed']\n",
        "['annexed']\n",
        "['support']"
       ]
      },
      {
       "output_type": "stream",
       "stream": "stdout",
       "text": [
        "\n",
        "['annexed']\n",
        "['support']\n",
        "['support']\n",
        "['annexed']\n",
        "['annexed']\n",
        "['annexed']\n",
        "['need']"
       ]
      },
      {
       "output_type": "stream",
       "stream": "stdout",
       "text": [
        "\n",
        "['annexed']\n",
        "['useful']\n",
        "['annexed']\n",
        "['annexed']\n",
        "['annexed']\n",
        "['annexed']"
       ]
      },
      {
       "output_type": "stream",
       "stream": "stdout",
       "text": [
        "\n",
        "['support']\n",
        "['upset']\n",
        "['annexed']\n",
        "['annexed']\n",
        "['awkward']\n",
        "['illegal']"
       ]
      },
      {
       "output_type": "stream",
       "stream": "stdout",
       "text": [
        "\n",
        "['illegal', 'illegal']\n",
        "['annexed']\n",
        "['annexed']\n",
        "['annexation']\n",
        "['annexation', 'annexation']\n",
        "['annexed']\n",
        "['crisis']\n",
        "['nice']"
       ]
      },
      {
       "output_type": "stream",
       "stream": "stdout",
       "text": [
        "\n",
        "['nice', 'responsible']\n",
        "['annexed']\n",
        "['annexed']\n",
        "['annexed']\n",
        "['support']\n",
        "['will']"
       ]
      },
      {
       "output_type": "stream",
       "stream": "stdout",
       "text": [
        "\n",
        "['annexed']\n",
        "['annexed']\n",
        "['annexed']\n",
        "['annexed']\n",
        "['annexed']\n",
        "['annexed']\n",
        "['annexed']"
       ]
      },
      {
       "output_type": "stream",
       "stream": "stdout",
       "text": [
        "\n",
        "['annexed']\n",
        "['annexed']\n",
        "['annexed']\n",
        "['annexed']\n",
        "['support']"
       ]
      },
      {
       "output_type": "stream",
       "stream": "stdout",
       "text": [
        "\n",
        "['annexed']\n",
        "['annexed']\n",
        "['annexed']\n",
        "['upset']\n",
        "['annexed']\n",
        "['annexed']\n",
        "['annexed']"
       ]
      },
      {
       "output_type": "stream",
       "stream": "stdout",
       "text": [
        "\n",
        "['annexed']\n",
        "['annexed']\n",
        "['annexed']\n",
        "['annexed']\n",
        "['annexed']"
       ]
      },
      {
       "output_type": "stream",
       "stream": "stdout",
       "text": [
        "\n",
        "['annexed']\n",
        "['annexed']\n",
        "['annexed']\n",
        "['annexed']\n",
        "['annexed']"
       ]
      },
      {
       "output_type": "stream",
       "stream": "stdout",
       "text": [
        "\n",
        "['annexed']\n",
        "['annexed']\n",
        "['annexed']\n",
        "['genuine']\n",
        "['annexed']"
       ]
      },
      {
       "output_type": "stream",
       "stream": "stdout",
       "text": [
        "\n",
        "['annexed']\n",
        "['annexed']\n",
        "['annexed']\n",
        "['annexed']\n",
        "['annexed']\n",
        "['down']\n",
        "['down', 'annexation']\n",
        "['down', 'annexation', 'annexation']\n",
        "['annexed']"
       ]
      },
      {
       "output_type": "stream",
       "stream": "stdout",
       "text": [
        "\n",
        "['annexed']\n",
        "['violence']\n",
        "['annexed']\n",
        "['annexed']\n",
        "['annexed']\n",
        "['annexed']\n",
        "['annexed']"
       ]
      },
      {
       "output_type": "stream",
       "stream": "stdout",
       "text": [
        "\n",
        "['annexed']\n",
        "['annexed']\n",
        "['heartless']\n",
        "['problems']\n",
        "['problems', 'problems']\n",
        "['annexed']\n",
        "['annexed']"
       ]
      },
      {
       "output_type": "stream",
       "stream": "stdout",
       "text": [
        "\n",
        "['responsible']\n",
        "['annexed']\n",
        "['right']\n",
        "['annexed']\n",
        "['glad']"
       ]
      },
      {
       "output_type": "stream",
       "stream": "stdout",
       "text": [
        "\n",
        "['glad', 'responsibility']\n",
        "['annexed']\n",
        "['annexed']\n",
        "['annexed']\n",
        "['annexed']\n",
        "['annexed']\n",
        "['annexed']\n",
        "['annexed']"
       ]
      },
      {
       "output_type": "stream",
       "stream": "stdout",
       "text": [
        "\n",
        "['annexed']\n",
        "['genuine']\n",
        "['discontent']\n",
        "['discontent', 'discontent']\n",
        "['will']\n",
        "['annexed']\n",
        "['annexed']"
       ]
      },
      {
       "output_type": "stream",
       "stream": "stdout",
       "text": [
        "\n",
        "['keen']\n",
        "['keen', 'unfair']\n",
        "['keen']\n",
        "['annexed']\n",
        "['annexed']\n",
        "['annexed']\n",
        "['annexed']\n",
        "['annexed']"
       ]
      },
      {
       "output_type": "stream",
       "stream": "stdout",
       "text": [
        "\n",
        "['annexed']\n",
        "['will']\n",
        "['live']\n",
        "['violence']\n",
        "['sure']"
       ]
      },
      {
       "output_type": "stream",
       "stream": "stdout",
       "text": [
        "\n",
        "['annexed']\n",
        "['kick']\n",
        "['kick', 'kick']\n",
        "['fair']\n",
        "['fair', 'fair']\n",
        "['live']\n",
        "['shame']\n",
        "['okay']\n",
        "['will']"
       ]
      },
      {
       "output_type": "stream",
       "stream": "stdout",
       "text": [
        "\n",
        "['live']\n",
        "['excellent']\n",
        "['worse']\n",
        "['need']\n",
        "['love']\n",
        "['straight']"
       ]
      },
      {
       "output_type": "stream",
       "stream": "stdout",
       "text": [
        "\n",
        "['live']\n",
        "['annexed']\n",
        "['fitting']\n",
        "['blatantly']\n",
        "['annexation']\n",
        "['annexation', 'annexed']\n",
        "['annexation', 'annexed', 'annexation']\n",
        "['deal']"
       ]
      },
      {
       "output_type": "stream",
       "stream": "stdout",
       "text": [
        "\n",
        "['deal', 'worth']\n",
        "['sure']\n",
        "['deal']\n",
        "['crisis']\n",
        "['fitting']\n",
        "['bad']\n",
        "['annexed']"
       ]
      },
      {
       "output_type": "stream",
       "stream": "stdout",
       "text": [
        "\n",
        "['will']\n",
        "['sorry']\n",
        "['will']\n",
        "['deal']\n",
        "['deal', 'worth']\n",
        "['annexed']\n",
        "['will']"
       ]
      },
      {
       "output_type": "stream",
       "stream": "stdout",
       "text": [
        "\n",
        "['fair']\n",
        "['fair', 'fair']\n",
        "['fair']\n",
        "['fair', 'fair']\n",
        "['annexed']\n",
        "['misunderstanding']\n",
        "['misunderstanding', 'misunderstanding']\n",
        "['misunderstanding', 'misunderstanding', 'misunderstanding']\n",
        "['might']\n",
        "['better']\n",
        "['stole']"
       ]
      },
      {
       "output_type": "stream",
       "stream": "stdout",
       "text": [
        "\n",
        "['stole', 'war']\n",
        "['civil']\n",
        "['will']\n",
        "['control']\n",
        "['worse']\n",
        "['deal']\n",
        "['deal', 'worth']\n",
        "['annexed']\n",
        "['deal']"
       ]
      },
      {
       "output_type": "stream",
       "stream": "stdout",
       "text": [
        "\n",
        "['deal', 'worth']\n",
        "['deal']\n",
        "['fair']\n",
        "['fair', 'fair']\n",
        "['losing']\n",
        "['losing', 'losing']\n",
        "['might']\n",
        "['deal']\n",
        "['deal', 'worth']\n",
        "['annexed']\n",
        "['will']"
       ]
      },
      {
       "output_type": "stream",
       "stream": "stdout",
       "text": [
        "\n",
        "['will']\n",
        "['sorry']\n",
        "['fitting']\n",
        "['deal']\n",
        "['deal', 'worth']\n",
        "['sure']\n",
        "['sorry']\n",
        "['annexed']"
       ]
      },
      {
       "output_type": "stream",
       "stream": "stdout",
       "text": [
        "\n",
        "['annexed']\n",
        "['fiasco']\n",
        "['cross']\n",
        "['cross', 'doubt']\n",
        "['cross', 'doubt', 'seriously']\n",
        "['fair']\n",
        "['fair', 'fair']\n",
        "['annexed']\n",
        "['fair']"
       ]
      },
      {
       "output_type": "stream",
       "stream": "stdout",
       "text": [
        "\n",
        "['fair', 'fair']\n",
        "['annexation']\n",
        "['annexation', 'annexation']\n",
        "['fitting']\n",
        "['deal']\n",
        "['deal', 'worth']\n",
        "['useful']\n",
        "['deal']"
       ]
      },
      {
       "output_type": "stream",
       "stream": "stdout",
       "text": [
        "\n",
        "['deal', 'worth']\n",
        "['deal']\n",
        "['deal', 'worth']\n",
        "['will']\n",
        "['annexed']\n",
        "['fair']\n",
        "['fair', 'fair']\n",
        "['worth']\n",
        "['better']"
       ]
      },
      {
       "output_type": "stream",
       "stream": "stdout",
       "text": [
        "\n",
        "['naughty']\n",
        "['annexed']\n",
        "['will']\n",
        "['fair']\n",
        "['fair', 'fair']\n",
        "['will']\n",
        "['little']\n",
        "['strictly']"
       ]
      },
      {
       "output_type": "stream",
       "stream": "stdout",
       "text": [
        "\n",
        "['strictly', 'detained']\n",
        "['annexed']\n",
        "['sorry']\n",
        "['less']\n",
        "['encouragement']\n",
        "['encouragement', 'encouragement']\n",
        "['support']\n",
        "['deal']"
       ]
      },
      {
       "output_type": "stream",
       "stream": "stdout",
       "text": [
        "\n",
        "['deal', 'worth']\n",
        "['easy']\n",
        "['easy', 'will']\n",
        "['will']\n",
        "['annexation']\n",
        "['annexation', 'annexation']\n",
        "['annexed']\n",
        "['control']"
       ]
      },
      {
       "output_type": "stream",
       "stream": "stdout",
       "text": [
        "\n",
        "['deal']\n",
        "['deal', 'worth']\n",
        "['violence']\n",
        "['hostile']\n",
        "['hostile', 'hostile']\n",
        "['fascist']\n",
        "['fascist', 'illegal']\n",
        "['fascist', 'illegal', 'illegal']\n",
        "['sure']\n",
        "['sure', 'will']\n",
        "['support']"
       ]
      },
      {
       "output_type": "stream",
       "stream": "stdout",
       "text": [
        "\n",
        "['fair']\n",
        "['fair', 'fair']\n",
        "['fair', 'fair', 'sure']\n",
        "['violence']\n",
        "['annexed']\n",
        "['control']\n",
        "['violence']\n",
        "['hostile']\n",
        "['hostile', 'hostile']\n",
        "['embarrassment']\n",
        "['black']"
       ]
      },
      {
       "output_type": "stream",
       "stream": "stdout",
       "text": [
        "\n",
        "['positive']\n",
        "['positive', 'will']\n",
        "['annexed']\n",
        "['sorry']\n",
        "['sorry', 'annexed']\n",
        "['swear']\n",
        "['accurately']\n",
        "['accurately', 'even']\n",
        "['good']\n",
        "['problems']\n",
        "['problems', 'problems']\n",
        "['misunderstanding']"
       ]
      },
      {
       "output_type": "stream",
       "stream": "stdout",
       "text": [
        "\n",
        "['misunderstanding', 'misunderstanding']\n",
        "['misunderstanding', 'misunderstanding', 'misunderstanding']\n",
        "['need']\n",
        "['justice']\n",
        "['justice', 'justice']\n",
        "['justice', 'justice', 'will']\n",
        "['fiasco']\n",
        "['less']\n",
        "['less', 'worse']\n",
        "['violence']\n",
        "['annexation']"
       ]
      },
      {
       "output_type": "stream",
       "stream": "stdout",
       "text": [
        "\n",
        "['annexation', 'annexation']\n",
        "['annexed']\n",
        "['good']\n",
        "['awkward']\n",
        "['violence']\n",
        "['fascist']\n",
        "['fascist', 'illegal']\n",
        "['fascist', 'illegal', 'illegal']\n",
        "['good']"
       ]
      },
      {
       "output_type": "stream",
       "stream": "stdout",
       "text": [
        "\n",
        "['annexed']\n",
        "['annexed']\n",
        "['little']\n",
        "['slightly']\n",
        "['decent']\n",
        "['decent', 'tolerable']\n",
        "['annexed']\n",
        "['annexed']\n",
        "['annexed']"
       ]
      },
      {
       "output_type": "stream",
       "stream": "stdout",
       "text": [
        "\n",
        "['right']\n",
        "['right', 'support']\n",
        "['misunderstanding']\n",
        "['misunderstanding', 'misunderstanding']\n",
        "['misunderstanding', 'misunderstanding', 'misunderstanding']\n",
        "['annexed']\n",
        "['annexed']\n",
        "['annexed']"
       ]
      },
      {
       "output_type": "stream",
       "stream": "stdout",
       "text": [
        "\n",
        "['annexed']\n",
        "['upset']\n",
        "['annexed']\n",
        "['annexed']"
       ]
      },
      {
       "output_type": "stream",
       "stream": "stdout",
       "text": [
        "\n",
        "['drama']\n",
        "['drama', 'drama']\n",
        "['control']\n",
        "['annexed']\n",
        "['annexed']\n",
        "['will']\n",
        "['annexed']\n",
        "['annexed']"
       ]
      },
      {
       "output_type": "stream",
       "stream": "stdout",
       "text": [
        "\n",
        "['annexed']\n",
        "['annexed']\n",
        "['annexed']\n",
        "['will']\n",
        "['annexed']\n",
        "['annexed']"
       ]
      },
      {
       "output_type": "stream",
       "stream": "stdout",
       "text": [
        "\n",
        "['good']\n",
        "['annexed']\n",
        "['annexed']\n",
        "['annexed']\n",
        "['annexed']\n",
        "['control']"
       ]
      },
      {
       "output_type": "stream",
       "stream": "stdout",
       "text": [
        "\n",
        "['sound']\n",
        "['annexed']\n",
        "['annexed']\n",
        "['annexed']\n",
        "['tyrannical']"
       ]
      },
      {
       "output_type": "stream",
       "stream": "stdout",
       "text": [
        "\n",
        "['annexed']\n",
        "['annexed']\n",
        "['annexed']\n",
        "['annexed']\n",
        "['control']\n",
        "['annexed']\n",
        "['annexed']"
       ]
      },
      {
       "output_type": "stream",
       "stream": "stdout",
       "text": [
        "\n",
        "['annexed']\n",
        "['annexed']\n",
        "['annexed']\n",
        "['annexed']\n",
        "['annexed']"
       ]
      },
      {
       "output_type": "stream",
       "stream": "stdout",
       "text": [
        "\n",
        "['sure']\n",
        "['control']\n",
        "['annexed']\n",
        "['annexed']\n",
        "['annexed']"
       ]
      },
      {
       "output_type": "stream",
       "stream": "stdout",
       "text": [
        "\n",
        "['annexed']\n",
        "['sound']\n",
        "['annexed']\n",
        "['annexed']\n",
        "['special']"
       ]
      },
      {
       "output_type": "stream",
       "stream": "stdout",
       "text": [
        "\n",
        "['annexed']\n",
        "['above']\n",
        "['annexed']\n",
        "['annexed']\n",
        "['annexed']\n",
        "['annexed']\n",
        "['annexed']"
       ]
      },
      {
       "output_type": "stream",
       "stream": "stdout",
       "text": [
        "\n",
        "['annexed']\n",
        "['annexed']\n",
        "['annexed']\n",
        "['annexed']\n",
        "['annexed']"
       ]
      },
      {
       "output_type": "stream",
       "stream": "stdout",
       "text": [
        "\n",
        "['annexation']\n",
        "['annexation', 'annexation']\n",
        "['annexed']\n",
        "['annexed']\n",
        "['annexed']\n",
        "['annexed']"
       ]
      },
      {
       "output_type": "stream",
       "stream": "stdout",
       "text": [
        "\n",
        "['annexed']\n",
        "['annexed']\n",
        "['annexed']\n",
        "['annexed']\n",
        "['annexed']"
       ]
      },
      {
       "output_type": "stream",
       "stream": "stdout",
       "text": [
        "\n",
        "['happy']\n",
        "['control']\n",
        "['sorry']\n",
        "['annexed']\n",
        "['annexed']\n",
        "['obviously']"
       ]
      },
      {
       "output_type": "stream",
       "stream": "stdout",
       "text": [
        "\n",
        "['annexed']\n",
        "['annexed']\n",
        "['annexed']\n",
        "['kick']\n",
        "['kick', 'kick']\n",
        "['annexed']"
       ]
      },
      {
       "output_type": "stream",
       "stream": "stdout",
       "text": [
        "\n",
        "['annexed']\n",
        "['annexed']\n",
        "['annexed']\n",
        "['annexed']\n",
        "['annexed']\n",
        "['oppressive']"
       ]
      },
      {
       "output_type": "stream",
       "stream": "stdout",
       "text": [
        "\n",
        "['annexed']\n",
        "['annexed']\n",
        "['annexed']\n",
        "['annexed']\n",
        "['annexed']\n",
        "['annexed']"
       ]
      },
      {
       "output_type": "stream",
       "stream": "stdout",
       "text": [
        "\n",
        "['happy']\n",
        "['annexed']\n",
        "['annexed']\n",
        "['annexed']\n",
        "['annexed']\n",
        "['annexed']\n",
        "['obviously']"
       ]
      },
      {
       "output_type": "stream",
       "stream": "stdout",
       "text": [
        "\n",
        "['sure']\n",
        "['sure', 'will']\n",
        "['annexed']\n",
        "['annexed']\n",
        "['annexed']\n",
        "['annexed']\n",
        "['annexed']"
       ]
      },
      {
       "output_type": "stream",
       "stream": "stdout",
       "text": [
        "\n",
        "['annexed']\n",
        "['annexed']\n",
        "['annexed']\n",
        "['kind']\n",
        "['annexed']"
       ]
      },
      {
       "output_type": "stream",
       "stream": "stdout",
       "text": [
        "\n",
        "['annexed']\n",
        "['annexed']\n",
        "['annexed']\n",
        "['annexed']\n",
        "['annexed']"
       ]
      },
      {
       "output_type": "stream",
       "stream": "stdout",
       "text": [
        "\n",
        "['annexed']\n",
        "['annexed']\n",
        "['annexed']\n",
        "['annexed']\n",
        "['annexed']\n",
        "['annexed']"
       ]
      },
      {
       "output_type": "stream",
       "stream": "stdout",
       "text": [
        "\n",
        "['annexed']\n",
        "['annexed']\n",
        "['annexed']\n",
        "['annexed']\n",
        "['pretend']"
       ]
      },
      {
       "output_type": "stream",
       "stream": "stdout",
       "text": [
        "\n",
        "['pretend', 'trying']\n",
        "['pretend', 'trying', 'control']\n",
        "['crisis']\n",
        "['annexed']\n",
        "['annexed']\n",
        "['annexed']\n",
        "['annexed']"
       ]
      },
      {
       "output_type": "stream",
       "stream": "stdout",
       "text": [
        "\n",
        "['annexed']\n",
        "['annexed']\n",
        "['crisis']\n",
        "['annexed']\n",
        "['annexed']\n",
        "['annexed']"
       ]
      },
      {
       "output_type": "stream",
       "stream": "stdout",
       "text": [
        "\n",
        "['annexed']\n",
        "['obviously']\n",
        "['good']\n",
        "['game']\n",
        "['game', 'annexation']\n",
        "['game', 'annexation', 'annexation']\n",
        "['annexed']\n",
        "['annexed']"
       ]
      },
      {
       "output_type": "stream",
       "stream": "stdout",
       "text": [
        "\n",
        "['annexation']\n",
        "['annexation', 'annexation']\n",
        "['annexed']\n",
        "['annexed']\n",
        "['annexed']\n",
        "['hilarious']"
       ]
      },
      {
       "output_type": "stream",
       "stream": "stdout",
       "text": [
        "\n",
        "['hilarious', 'proper']\n",
        "['annexed']\n",
        "['annexed']\n",
        "['annexed']\n",
        "['annexed']"
       ]
      },
      {
       "output_type": "stream",
       "stream": "stdout",
       "text": [
        "\n",
        "['irony']\n",
        "['annexation']\n",
        "['annexation', 'annexation']\n",
        "['obviously']\n",
        "['annexation']\n",
        "['annexation', 'annexation']\n",
        "['annexed']\n",
        "['annexed']"
       ]
      },
      {
       "output_type": "stream",
       "stream": "stdout",
       "text": [
        "\n",
        "['annexed']\n",
        "['drama']\n",
        "['drama', 'drama']\n",
        "['annexation']\n",
        "['annexation', 'annexation']\n",
        "['violence']\n",
        "['annexed']"
       ]
      },
      {
       "output_type": "stream",
       "stream": "stdout",
       "text": [
        "\n",
        "['annexed']\n",
        "['annexed']\n",
        "['annexed']\n",
        "['annexed']\n",
        "['annexation']"
       ]
      },
      {
       "output_type": "stream",
       "stream": "stdout",
       "text": [
        "\n",
        "['annexation', 'annexation']\n",
        "['annexation']\n",
        "['annexation', 'annexation']\n",
        "['annexed']\n",
        "['good']\n",
        "['conflict']"
       ]
      },
      {
       "output_type": "stream",
       "stream": "stdout",
       "text": [
        "\n",
        "['conflict', 'conflict']\n",
        "['conflict', 'conflict', 'sin']\n",
        "['conflict', 'conflict', 'sin', 'sin']\n",
        "['help']\n",
        "['help', 'help']\n",
        "['annexed']\n",
        "['annexed']\n",
        "['annexed']\n",
        "['annexed']\n",
        "['annexed']\n",
        "['annexed']"
       ]
      },
      {
       "output_type": "stream",
       "stream": "stdout",
       "text": [
        "\n",
        "['annexed']\n",
        "['annexed']\n",
        "['annexed']\n",
        "['obviously']\n",
        "['annexed']\n",
        "['annexed']"
       ]
      },
      {
       "output_type": "stream",
       "stream": "stdout",
       "text": [
        "\n",
        "['annexed']\n",
        "['annexed']\n",
        "['control']\n",
        "['excuse']\n",
        "['excuse', 'excuse']\n",
        "['excuse', 'excuse', 'uprising']"
       ]
      },
      {
       "output_type": "stream",
       "stream": "stdout",
       "text": [
        "\n",
        "['annexed']\n",
        "['annexed']\n",
        "['better']\n",
        "['annexed']\n",
        "['annexed']\n",
        "['annexed']"
       ]
      },
      {
       "output_type": "stream",
       "stream": "stdout",
       "text": [
        "\n",
        "['annexed']\n",
        "['rescue']\n",
        "['annexation']\n",
        "['annexation', 'annexation']\n",
        "['poor']\n",
        "['poor', 'annexed']\n",
        "['control']"
       ]
      },
      {
       "output_type": "stream",
       "stream": "stdout",
       "text": [
        "\n",
        "['annexed']\n",
        "['annexed']\n",
        "['annexed']\n",
        "['violence']\n",
        "['annexed']"
       ]
      },
      {
       "output_type": "stream",
       "stream": "stdout",
       "text": [
        "\n",
        "['annexed']\n",
        "['live']\n",
        "['live']\n",
        "['worse']\n",
        "['lost']\n",
        "['worse']"
       ]
      },
      {
       "output_type": "stream",
       "stream": "stdout",
       "text": [
        "\n",
        "['less']\n",
        "['less', 'trouble']\n",
        "['less', 'trouble', 'trouble']\n",
        "['annexed']\n",
        "['control']\n",
        "['impossible']\n",
        "['problem']"
       ]
      },
      {
       "output_type": "stream",
       "stream": "stdout",
       "text": [
        "\n",
        "['control']\n",
        "['control']\n",
        "['open']\n",
        "['open']\n",
        "['lost']\n",
        "['lost', 'annexation']\n",
        "['lost', 'annexation', 'annexation']\n",
        "['will']"
       ]
      },
      {
       "output_type": "stream",
       "stream": "stdout",
       "text": [
        "\n",
        "['victory']\n",
        "['victory', 'victory']\n",
        "['control']\n",
        "['crackdown']\n",
        "['crackdown', 'crackdown']\n",
        "['crackdown', 'crackdown', 'threaten']\n",
        "['control']\n",
        "['established']\n",
        "['annexed']"
       ]
      },
      {
       "output_type": "stream",
       "stream": "stdout",
       "text": [
        "\n",
        "['established']\n",
        "['established']\n",
        "['plague']\n",
        "['plague', 'plague']\n",
        "['plague', 'plague', 'resistant']\n",
        "['plague', 'plague', 'resistant', 'resistant']\n",
        "['divine']\n"
       ]
      },
      {
       "output_type": "stream",
       "stream": "stdout",
       "text": [
        "['divine', 'gentle']\n",
        "['conflict']\n",
        "['conflict', 'conflict']\n",
        "['established']\n",
        "['lost']\n",
        "['lost', 'annexation']\n",
        "['lost', 'annexation', 'annexation']\n",
        "['violence']\n",
        "['violence', 'annexed']\n",
        "['lost']\n",
        "['lost', 'annexation']\n",
        "['lost', 'annexation', 'annexation']\n",
        "['lost']"
       ]
      },
      {
       "output_type": "stream",
       "stream": "stdout",
       "text": [
        "\n",
        "['lost', 'annexation']\n",
        "['lost', 'annexation', 'annexation']\n",
        "['showdown']\n",
        "['showdown', 'showdown']\n",
        "['lost']\n",
        "['lost', 'annexation']\n",
        "['lost', 'annexation', 'annexation']\n",
        "['against']\n",
        "['against', 'extreme']\n",
        "['against', 'extreme', 'extreme']\n",
        "['support']\n",
        "['legitimate']\n",
        "['violence']"
       ]
      },
      {
       "output_type": "stream",
       "stream": "stdout",
       "text": [
        "\n",
        "['violence']\n",
        "['violence']\n",
        "['legitimate']\n",
        "['annexed']\n",
        "['annexed']"
       ]
      },
      {
       "output_type": "stream",
       "stream": "stdout",
       "text": [
        "\n",
        "['adoring']\n",
        "['violence']\n",
        "['violence']\n",
        "['violence']\n",
        "['bloodshed']\n",
        "['violence']"
       ]
      },
      {
       "output_type": "stream",
       "stream": "stdout",
       "text": [
        "\n",
        "['good']\n",
        "['violence']\n",
        "['illegal']\n",
        "['illegal', 'illegal']\n",
        "['bloodshed']\n",
        "['violence']\n",
        "['violence']"
       ]
      },
      {
       "output_type": "stream",
       "stream": "stdout",
       "text": [
        "\n",
        "['historic']\n",
        "['well']\n",
        "['well', 'well']\n",
        "['well', 'well', 'will']\n",
        "['wrong']\n",
        "['violence']\n",
        "['victory']\n",
        "['victory', 'victory']\n",
        "['victory']\n",
        "['victory', 'victory']\n",
        "['violence']"
       ]
      },
      {
       "output_type": "stream",
       "stream": "stdout",
       "text": [
        "\n",
        "['violence', 'annexed']\n",
        "['violence']\n",
        "['violence']\n",
        "['benefits']\n",
        "['benefits', 'benefits']\n",
        "['benefits', 'benefits', 'special']\n",
        "['violence']\n",
        "['control']"
       ]
      },
      {
       "output_type": "stream",
       "stream": "stdout",
       "text": [
        "\n",
        "['control']\n",
        "['legitimacy']\n",
        "['control']\n",
        "['lost']\n",
        "['lost', 'annexation']\n",
        "['lost', 'annexation', 'annexation']\n",
        "['control']"
       ]
      },
      {
       "output_type": "stream",
       "stream": "stdout",
       "text": [
        "\n",
        "['annexed']\n",
        "['bloodshed']\n",
        "['control']\n",
        "['crisis']\n",
        "['control']\n",
        "['wrong']\n",
        "['block']"
       ]
      },
      {
       "output_type": "stream",
       "stream": "stdout",
       "text": [
        "\n",
        "['control']\n",
        "['control']\n",
        "['adoring']\n",
        "['will']"
       ]
      },
      {
       "output_type": "stream",
       "stream": "stdout",
       "text": [
        "\n",
        "['independence']\n",
        "['independence', 'independence']\n",
        "['independence', 'independence', 'will']\n",
        "['struggle']\n",
        "['struggle', 'struggle']\n",
        "['control']\n",
        "['showdown']\n",
        "['showdown', 'showdown']\n",
        "['showdown']\n",
        "['showdown', 'showdown']\n",
        "['lovely']"
       ]
      },
      {
       "output_type": "stream",
       "stream": "stdout",
       "text": [
        "\n",
        "['violence']\n",
        "['annexed']\n",
        "['control']\n",
        "['fraudulent']\n",
        "['fraudulent', 'illegal']\n",
        "['fraudulent', 'illegal', 'shameless']\n",
        "['fraudulent', 'illegal', 'shameless', 'travesty']\n",
        "['fraudulent', 'illegal', 'shameless', 'travesty', 'unconstitutional']\n",
        "['fraudulent', 'illegal', 'shameless', 'travesty', 'unconstitutional', 'illegal']\n",
        "['showdown']"
       ]
      },
      {
       "output_type": "stream",
       "stream": "stdout",
       "text": [
        "\n",
        "['showdown', 'showdown']\n",
        "['fraudulent']\n",
        "['fraudulent', 'illegal']\n",
        "['fraudulent', 'illegal', 'shameless']\n",
        "['fraudulent', 'illegal', 'shameless', 'unconstitutional']\n",
        "['fraudulent', 'illegal', 'shameless', 'unconstitutional', 'illegal']\n",
        "['control']\n",
        "['pro']\n",
        "['control']\n",
        "['fraudulent']\n",
        "['fraudulent', 'illegal']\n",
        "['fraudulent', 'illegal', 'shameless']\n",
        "['fraudulent', 'illegal', 'shameless', 'unconstitutional']\n",
        "['fraudulent', 'illegal', 'shameless', 'unconstitutional', 'illegal']\n",
        "['lost']"
       ]
      },
      {
       "output_type": "stream",
       "stream": "stdout",
       "text": [
        "\n",
        "['lost', 'annexation']\n",
        "['lost', 'annexation', 'annexation']\n",
        "['block']\n",
        "['fight']\n",
        "['fight', 'fight']\n",
        "['truly']\n",
        "['control']\n",
        "['annexed']"
       ]
      },
      {
       "output_type": "stream",
       "stream": "stdout",
       "text": [
        "\n",
        "['friends']\n",
        "['friends', 'friends']\n",
        "['friends', 'friends', 'will']\n",
        "['lost']\n",
        "['lost', 'annexation']\n",
        "['lost', 'annexation', 'annexation']\n",
        "['coup']\n",
        "['interest']\n",
        "['interest', 'interest']\n",
        "['rogue']\n",
        "['rogue', 'rogue']\n",
        "['rogue', 'rogue', 'trying']\n",
        "['live']"
       ]
      },
      {
       "output_type": "stream",
       "stream": "stdout",
       "text": [
        "\n",
        "['control']\n",
        "['control']\n",
        "['control']\n",
        "['control']\n",
        "['block']"
       ]
      },
      {
       "output_type": "stream",
       "stream": "stdout",
       "text": [
        "\n",
        "['least']\n",
        "['block']\n",
        "['control']\n",
        "['least']\n",
        "['control']\n",
        "['least']"
       ]
      },
      {
       "output_type": "stream",
       "stream": "stdout",
       "text": [
        "\n",
        "['least']\n",
        "['least']\n",
        "['least']\n",
        "['least']\n",
        "['least']"
       ]
      },
      {
       "output_type": "stream",
       "stream": "stdout",
       "text": [
        "\n",
        "['least']\n",
        "['lost']\n",
        "['lost', 'annexation']\n",
        "['lost', 'annexation', 'annexation']\n",
        "['terror']\n",
        "['terror']\n",
        "['least']"
       ]
      },
      {
       "output_type": "stream",
       "stream": "stdout",
       "text": [
        "\n",
        "['blame']\n",
        "['blame', 'blame']\n",
        "['control']\n",
        "['adoring']\n",
        "['least']\n",
        "['terror']\n",
        "['terror']"
       ]
      },
      {
       "output_type": "stream",
       "stream": "stdout",
       "text": [
        "\n",
        "['terror']\n",
        "['terror']\n",
        "['terror']\n",
        "['overwhelmingly']\n",
        "['least']\n",
        "['trying']"
       ]
      },
      {
       "output_type": "stream",
       "stream": "stdout",
       "text": [
        "\n",
        "['terror']\n",
        "['will']\n",
        "['adoring']\n",
        "['independence']\n",
        "['independence', 'independence']\n",
        "['independence', 'independence', 'will']\n",
        "['independence']"
       ]
      },
      {
       "output_type": "stream",
       "stream": "stdout",
       "text": [
        "\n",
        "['independence', 'independence']\n",
        "['independence', 'independence', 'will']\n",
        "['independence']\n",
        "['independence', 'independence']\n",
        "['independence', 'independence', 'will']\n",
        "['least']\n",
        "['impression']\n",
        "['impression', 'impression']\n",
        "['fever']\n",
        "['control']"
       ]
      },
      {
       "output_type": "stream",
       "stream": "stdout",
       "text": [
        "\n",
        "['control']\n",
        "['annexed']\n",
        "['annexed']\n",
        "['live']\n",
        "['annexed']"
       ]
      },
      {
       "output_type": "stream",
       "stream": "stdout",
       "text": [
        "\n",
        "['victory']\n",
        "['victory', 'victory']\n",
        "['genuine']\n",
        "['terror']\n",
        "['genuine']\n",
        "['control']\n",
        "['genuine']"
       ]
      },
      {
       "output_type": "stream",
       "stream": "stdout",
       "text": [
        "\n",
        "['celebration']\n",
        "['control']\n",
        "['terror']\n",
        "['split']\n",
        "['split', 'annexation']\n",
        "['split', 'annexation', 'annexation']\n",
        "['genuine']"
       ]
      },
      {
       "output_type": "stream",
       "stream": "stdout",
       "text": [
        "\n",
        "['deadly']\n",
        "['least']\n",
        "['lethal']\n",
        "['lethal', 'annexed']\n",
        "['control']\n",
        "['independence']"
       ]
      },
      {
       "output_type": "stream",
       "stream": "stdout",
       "text": [
        "\n",
        "['independence', 'independence']\n",
        "['independence', 'independence', 'will']\n",
        "['genuine']\n",
        "['genuine']\n",
        "['control']\n",
        "['control']\n",
        "['control']\n",
        "['control']"
       ]
      },
      {
       "output_type": "stream",
       "stream": "stdout",
       "text": [
        "\n",
        "['control']\n",
        "['control']\n",
        "['annexed']\n",
        "['control']\n",
        "['annexation']\n",
        "['annexation', 'annexation']\n",
        "['crackdown']\n",
        "['crackdown', 'crackdown']\n",
        "['crackdown', 'crackdown', 'threaten']"
       ]
      },
      {
       "output_type": "stream",
       "stream": "stdout",
       "text": [
        "\n",
        "['annexation']\n",
        "['annexation', 'annexation']\n",
        "['terror']\n",
        "['problems']\n",
        "['problems', 'problems']\n",
        "['genuine']"
       ]
      },
      {
       "output_type": "stream",
       "stream": "stdout",
       "text": [
        "\n",
        "['annexation']\n",
        "['annexation', 'annexation']\n",
        "['independence']\n",
        "['independence', 'independence']\n",
        "['independence', 'independence', 'will']\n",
        "['problematic']\n",
        "['problematic', 'problematic']\n",
        "['least']\n",
        "['control']"
       ]
      },
      {
       "output_type": "stream",
       "stream": "stdout",
       "text": [
        "\n",
        "['fraudulent']\n",
        "['fraudulent', 'illegal']\n",
        "['fraudulent', 'illegal', 'shameless']\n",
        "['fraudulent', 'illegal', 'shameless', 'unconstitutional']\n",
        "['fraudulent', 'illegal', 'shameless', 'unconstitutional', 'illegal']\n",
        "['fraudulent']\n",
        "['fraudulent', 'illegal']\n",
        "['fraudulent', 'illegal', 'shameless']\n",
        "['fraudulent', 'illegal', 'shameless', 'unconstitutional']\n",
        "['fraudulent', 'illegal', 'shameless', 'unconstitutional', 'illegal']\n",
        "['least']\n",
        "['fraudulent']\n",
        "['fraudulent', 'illegal']\n",
        "['fraudulent', 'illegal', 'shameless']\n",
        "['fraudulent', 'illegal', 'shameless', 'unconstitutional']\n",
        "['fraudulent', 'illegal', 'shameless', 'unconstitutional', 'illegal']\n",
        "['good']"
       ]
      },
      {
       "output_type": "stream",
       "stream": "stdout",
       "text": [
        "\n",
        "['fraudulent']\n",
        "['fraudulent', 'illegal']\n",
        "['fraudulent', 'illegal', 'shameless']\n",
        "['fraudulent', 'illegal', 'shameless', 'unconstitutional']\n",
        "['fraudulent', 'illegal', 'shameless', 'unconstitutional', 'illegal']\n",
        "['fraudulent']\n",
        "['fraudulent', 'illegal']\n",
        "['fraudulent', 'illegal', 'shameless']\n",
        "['fraudulent', 'illegal', 'shameless', 'unconstitutional']\n",
        "['fraudulent', 'illegal', 'shameless', 'unconstitutional', 'illegal']\n",
        "['fraudulent']\n",
        "['fraudulent', 'illegal']\n",
        "['fraudulent', 'illegal', 'shameless']\n",
        "['fraudulent', 'illegal', 'shameless', 'unconstitutional']\n",
        "['fraudulent', 'illegal', 'shameless', 'unconstitutional', 'illegal']\n",
        "['fraudulent']\n",
        "['fraudulent', 'illegal']\n",
        "['fraudulent', 'illegal', 'shameless']\n",
        "['fraudulent', 'illegal', 'shameless', 'unconstitutional']\n",
        "['fraudulent', 'illegal', 'shameless', 'unconstitutional', 'illegal']\n",
        "['dream']\n",
        "['dream', 'dream']\n",
        "['fraudulent']"
       ]
      },
      {
       "output_type": "stream",
       "stream": "stdout",
       "text": [
        "\n",
        "['fraudulent', 'illegal']\n",
        "['fraudulent', 'illegal', 'shameless']\n",
        "['fraudulent', 'illegal', 'shameless', 'unconstitutional']\n",
        "['fraudulent', 'illegal', 'shameless', 'unconstitutional', 'illegal']\n",
        "['good']\n",
        "['genuine']\n",
        "['dream']\n",
        "['dream', 'dream']\n",
        "['independence']\n",
        "['independence', 'independence']\n",
        "['independence', 'independence', 'will']\n",
        "['better']"
       ]
      },
      {
       "output_type": "stream",
       "stream": "stdout",
       "text": [
        "\n",
        "['better', 'good']\n",
        "['control']\n",
        "['bloodshed']\n",
        "['violence']\n",
        "['violence', 'annexed']\n",
        "['control']\n",
        "['wish']\n",
        "['wish', 'wish']\n",
        "['victory']"
       ]
      },
      {
       "output_type": "stream",
       "stream": "stdout",
       "text": [
        "\n",
        "['victory', 'victory']\n",
        "['tension']\n",
        "['tension', 'tension']\n",
        "['control']\n",
        "['control']\n",
        "['annexed']\n",
        "['genuine']"
       ]
      },
      {
       "output_type": "stream",
       "stream": "stdout",
       "text": [
        "\n",
        "['annexed']\n",
        "['annexed']\n",
        "['good']\n",
        "['genuine']\n",
        "['tyranny']"
       ]
      },
      {
       "output_type": "stream",
       "stream": "stdout",
       "text": [
        "\n",
        "['genuine']\n",
        "['ready']\n",
        "['ready', 'will']\n",
        "['genuine']\n",
        "['bogus']\n",
        "['genuine']"
       ]
      },
      {
       "output_type": "stream",
       "stream": "stdout",
       "text": [
        "\n",
        "['stooges']\n",
        "['stooges', 'stooges']\n",
        "['will']\n",
        "['bogus']\n",
        "['annexed']\n",
        "['control']\n",
        "['real']"
       ]
      },
      {
       "output_type": "stream",
       "stream": "stdout",
       "text": [
        "\n",
        "['sad']\n",
        "['genuine']\n",
        "['manipulation']\n",
        "['manipulation', 'manipulation']\n",
        "['manipulation']\n",
        "['manipulation', 'manipulation']\n",
        "['easy']"
       ]
      },
      {
       "output_type": "stream",
       "stream": "stdout",
       "text": [
        "\n",
        "['easy', 'fine']\n",
        "['manipulation']\n",
        "['manipulation', 'manipulation']\n",
        "['groundless']\n",
        "['manipulation']\n",
        "['manipulation', 'manipulation']\n",
        "['fraudulent']\n",
        "['fraudulent', 'illegal']\n",
        "['fraudulent', 'illegal', 'unconstitutional']\n",
        "['fraudulent', 'illegal', 'unconstitutional', 'illegal']\n",
        "['victory']"
       ]
      },
      {
       "output_type": "stream",
       "stream": "stdout",
       "text": [
        "\n",
        "['victory', 'victory']\n",
        "['terror']\n",
        "['stooges']\n",
        "['stooges', 'stooges']\n",
        "['will']\n",
        "['right']\n",
        "['right', 'support']\n",
        "['right', 'support', 'will']\n",
        "['manipulation']\n",
        "['manipulation', 'manipulation']\n",
        "['spite']"
       ]
      },
      {
       "output_type": "stream",
       "stream": "stdout",
       "text": [
        "\n",
        "['spite', 'threats']\n",
        "['spite', 'threats', 'threats']\n",
        "['will']\n",
        "['fraudulent']\n",
        "['fraudulent', 'illegal']\n",
        "['fraudulent', 'illegal', 'unconstitutional']\n",
        "['fraudulent', 'illegal', 'unconstitutional', 'illegal']\n",
        "['fraudulent']\n",
        "['fraudulent', 'illegal']\n",
        "['fraudulent', 'illegal', 'shameless']\n",
        "['fraudulent', 'illegal', 'shameless', 'unconstitutional']\n",
        "['fraudulent', 'illegal', 'shameless', 'unconstitutional', 'illegal']\n",
        "['unhappy']\n",
        "['unhappy', 'Apparently']\n",
        "['lost']"
       ]
      },
      {
       "output_type": "stream",
       "stream": "stdout",
       "text": [
        "\n",
        "['lost', 'annexation']\n",
        "['lost', 'annexation', 'annexation']\n",
        "['will']\n",
        "['manipulation']\n",
        "['manipulation', 'manipulation']\n",
        "['manipulation']\n",
        "['manipulation', 'manipulation']\n",
        "['control']\n",
        "['manipulation']\n",
        "['manipulation', 'manipulation']\n",
        "['control']"
       ]
      },
      {
       "output_type": "stream",
       "stream": "stdout",
       "text": [
        "\n",
        "['manipulation']\n",
        "['manipulation', 'manipulation']\n",
        "['unhappy']\n",
        "['unhappy', 'Apparently']\n",
        "['manipulation']\n",
        "['manipulation', 'manipulation']\n",
        "['annexed']\n",
        "['mean']\n",
        "['fraudulent']"
       ]
      },
      {
       "output_type": "stream",
       "stream": "stdout",
       "text": [
        "\n",
        "['fraudulent', 'illegal']\n",
        "['fraudulent', 'illegal', 'shameless']\n",
        "['fraudulent', 'illegal', 'shameless', 'unconstitutional']\n",
        "['fraudulent', 'illegal', 'shameless', 'unconstitutional', 'illegal']\n",
        "['annexation']\n",
        "['annexation', 'annexation']\n",
        "['trying']\n",
        "['annexed']\n",
        "['stunt']"
       ]
      },
      {
       "output_type": "stream",
       "stream": "stdout",
       "text": [
        "\n",
        "['fraudulent']\n",
        "['fraudulent', 'illegal']\n",
        "['fraudulent', 'illegal', 'unconstitutional']\n",
        "['fraudulent', 'illegal', 'unconstitutional', 'illegal']\n",
        "['annexation']\n",
        "['annexation', 'annexation']\n",
        "['annexation']\n",
        "['annexation', 'annexation']\n",
        "['stupidity']\n",
        "['stupidity']\n",
        "['stupidity']"
       ]
      },
      {
       "output_type": "stream",
       "stream": "stdout",
       "text": [
        "\n",
        "['stunt']\n",
        "['stupidity']\n",
        "['stunt']\n",
        "['stupidity']\n",
        "['stupidity']\n",
        "['stupidity']"
       ]
      },
      {
       "output_type": "stream",
       "stream": "stdout",
       "text": [
        "\n",
        "['stunt']\n",
        "['tartars']\n",
        "['tartars']\n",
        "['nice']\n",
        "['bloodshed']\n",
        "['independence']"
       ]
      },
      {
       "output_type": "stream",
       "stream": "stdout",
       "text": [
        "\n",
        "['independence', 'independence']\n",
        "['independence', 'independence', 'will']\n",
        "['stunt']\n",
        "['stunt']\n",
        "['stupidity']\n",
        "['stupidity']\n",
        "['fraudulent']"
       ]
      },
      {
       "output_type": "stream",
       "stream": "stdout",
       "text": [
        "\n",
        "['fraudulent', 'illegal']\n",
        "['fraudulent', 'illegal', 'shameless']\n",
        "['fraudulent', 'illegal', 'shameless', 'unconstitutional']\n",
        "['fraudulent', 'illegal', 'shameless', 'unconstitutional', 'illegal']\n",
        "['stupidity']\n",
        "['stupidity']\n",
        "['stupidity']\n",
        "['genuine']\n",
        "['stupidity']\n",
        "['control']"
       ]
      },
      {
       "output_type": "stream",
       "stream": "stdout",
       "text": [
        "\n",
        "['stupidity']\n",
        "['stupidity']\n",
        "['stunt']\n",
        "['war']\n",
        "['stupidity']\n",
        "['stupidity']"
       ]
      },
      {
       "output_type": "stream",
       "stream": "stdout",
       "text": [
        "\n",
        "['stupidity']\n",
        "['manipulation']\n",
        "['manipulation', 'manipulation']\n",
        "['genuine']\n",
        "['stupidity']\n",
        "['stupidity']"
       ]
      },
      {
       "output_type": "stream",
       "stream": "stdout",
       "text": [
        "\n",
        "['stupidity']\n",
        "['ridiculous']\n",
        "['stupidity']\n",
        "['genuine']\n",
        "['favor']"
       ]
      },
      {
       "output_type": "stream",
       "stream": "stdout",
       "text": [
        "\n",
        "['favor', 'favor']\n",
        "['sharp']\n",
        "['annexed']\n",
        "['genuine']\n",
        "['war']\n",
        "['stupidity']\n",
        "['manipulation']\n",
        "['manipulation', 'manipulation']\n",
        "['unhappy']"
       ]
      },
      {
       "output_type": "stream",
       "stream": "stdout",
       "text": [
        "\n",
        "['unhappy', 'Apparently']\n",
        "['stunt']\n",
        "['annexed']\n",
        "['showdown']\n",
        "['showdown', 'showdown']\n",
        "['annexed']\n",
        "['stunt']"
       ]
      },
      {
       "output_type": "stream",
       "stream": "stdout",
       "text": [
        "\n",
        "['stunt']\n",
        "['will']\n",
        "['fake']\n",
        "['genuine']\n",
        "['violence']\n",
        "['game']"
       ]
      },
      {
       "output_type": "stream",
       "stream": "stdout",
       "text": [
        "\n",
        "['game', 'risky']\n",
        "['stunt']\n",
        "['stupidity']\n",
        "['stupidity']\n",
        "['showdown']\n",
        "['showdown', 'showdown']\n"
       ]
      },
      {
       "output_type": "stream",
       "stream": "stdout",
       "text": [
        "['fake']\n",
        "['game']\n",
        "['game', 'risky']\n",
        "['stupidity']\n",
        "['genuine']\n",
        "['stupidity']\n",
        "['wrong']"
       ]
      },
      {
       "output_type": "stream",
       "stream": "stdout",
       "text": [
        "\n",
        "['independence']\n",
        "['independence', 'independence']\n",
        "['independence', 'independence', 'will']\n",
        "['stupidity']\n",
        "['game']\n",
        "['game', 'risky']\n",
        "['down']\n",
        "['genuine']"
       ]
      },
      {
       "output_type": "stream",
       "stream": "stdout",
       "text": [
        "\n",
        "['genuine']\n",
        "['crime']\n",
        "['determination']\n",
        "['determination', 'determination']\n",
        "['determination', 'determination', 'great']\n",
        "['crime']\n",
        "['determination']\n",
        "['determination', 'determination']\n",
        "['determination', 'determination', 'great']\n",
        "['game']\n",
        "['game', 'risky']"
       ]
      },
      {
       "output_type": "stream",
       "stream": "stdout",
       "text": [
        "\n",
        "['annexed']\n",
        "['genuine']\n",
        "['crime']\n",
        "['determination']\n",
        "['determination', 'determination']\n",
        "['determination', 'determination', 'great']\n",
        "['control']\n",
        "['crime']\n",
        "['determination']"
       ]
      },
      {
       "output_type": "stream",
       "stream": "stdout",
       "text": [
        "\n",
        "['determination', 'determination']\n",
        "['determination', 'determination', 'great']\n",
        "['game']\n",
        "['game', 'risky']\n",
        "['crime']\n",
        "['crime']\n",
        "['crime']\n",
        "['determination']\n",
        "['determination', 'determination']\n",
        "['determination', 'determination', 'great']\n",
        "['crime']\n",
        "['crime', 'murder']\n",
        "['illegal']\n",
        "['illegal', 'illegal']"
       ]
      },
      {
       "output_type": "stream",
       "stream": "stdout",
       "text": [
        "\n",
        "['stunt']\n",
        "['havoc']\n",
        "['leverage']\n",
        "['least']\n",
        "['independence']\n",
        "['independence', 'independence']\n",
        "['annexed']"
       ]
      },
      {
       "output_type": "stream",
       "stream": "stdout",
       "text": [
        "\n",
        "['victory']\n",
        "['victory', 'victory']\n",
        "['deadly']\n",
        "['victory']\n",
        "['victory', 'victory']\n",
        "['annexed']\n",
        "['stolen']\n",
        "['stolen', 'stolen']\n",
        "['clearly']\n",
        "['clearly', 'will']"
       ]
      },
      {
       "output_type": "stream",
       "stream": "stdout",
       "text": [
        "\n",
        "['clearly', 'will', 'worth']\n",
        "['game']\n",
        "['game', 'risky']\n",
        "['game']\n",
        "['game', 'risky']\n",
        "['fraudulent']\n",
        "['fraudulent', 'illegal']\n",
        "['fraudulent', 'illegal', 'shameless']\n",
        "['fraudulent', 'illegal', 'shameless', 'unconstitutional']\n",
        "['fraudulent', 'illegal', 'shameless', 'unconstitutional', 'illegal']\n",
        "['genuine']\n",
        "['even']"
       ]
      },
      {
       "output_type": "stream",
       "stream": "stdout",
       "text": [
        "\n",
        "['happy']\n",
        "['independence']\n",
        "['independence', 'independence']\n",
        "['integrity']\n",
        "['game']\n",
        "['game', 'risky']\n",
        "['stunt']"
       ]
      },
      {
       "output_type": "stream",
       "stream": "stdout",
       "text": [
        "\n",
        "['legitimate']\n",
        "['right']\n",
        "['game']\n",
        "['game', 'risky']\n",
        "['crisis']\n",
        "['hurt']"
       ]
      },
      {
       "output_type": "stream",
       "stream": "stdout",
       "text": [
        "\n",
        "['annexed']\n",
        "['manipulation']\n",
        "['manipulation', 'manipulation']\n",
        "['control']\n",
        "['game']"
       ]
      },
      {
       "output_type": "stream",
       "stream": "stdout",
       "text": [
        "\n",
        "['game', 'risky']\n",
        "['genuine']\n",
        "['bulky']\n",
        "['manipulation']\n",
        "['manipulation', 'manipulation']\n",
        "['genuine']"
       ]
      },
      {
       "output_type": "stream",
       "stream": "stdout",
       "text": [
        "\n",
        "['fraudulent']\n",
        "['fraudulent', 'illegal']\n",
        "['fraudulent', 'illegal', 'unconstitutional']\n",
        "['fraudulent', 'illegal', 'unconstitutional', 'illegal']\n",
        "['glad']\n",
        "['control']\n",
        "['showdown']\n",
        "['showdown', 'showdown']\n",
        "['fair']\n",
        "['fair', 'fair']\n",
        "['fair', 'fair', 'will']\n",
        "['manipulation']"
       ]
      },
      {
       "output_type": "stream",
       "stream": "stdout",
       "text": [
        "\n",
        "['manipulation', 'manipulation']\n",
        "['game']\n",
        "['game', 'risky']\n",
        "['groundless']\n",
        "['annexed']\n",
        "['beloved']"
       ]
      },
      {
       "output_type": "stream",
       "stream": "stdout",
       "text": [
        "\n",
        "['annexation']\n",
        "['annexation', 'annexation']\n",
        "['legitimate']\n",
        "['independence']\n",
        "['independence', 'independence']\n",
        "['independence', 'independence', 'will']\n",
        "['legitimate']\n",
        "['fraud']\n",
        "['fraud', 'fraud']\n",
        "['might']"
       ]
      },
      {
       "output_type": "stream",
       "stream": "stdout",
       "text": [
        "\n",
        "['might', 'will']\n",
        "['fair']\n",
        "['fair', 'fair']\n",
        "['fair', 'fair', 'free']\n",
        "['legitimate']\n",
        "['independence']\n",
        "['independence', 'independence']\n",
        "['independence', 'independence', 'will']\n",
        "['flawed']\n",
        "['flawed', 'flawed']\n",
        "['clearly']\n",
        "['weak']"
       ]
      },
      {
       "output_type": "stream",
       "stream": "stdout",
       "text": [
        "\n",
        "['game']\n",
        "['game', 'risky']\n",
        "['legitimate']\n",
        "['victory']\n",
        "['victory', 'victory']\n",
        "['victory']\n",
        "['victory', 'victory']\n",
        "['independence']\n",
        "['independence', 'independence']\n",
        "['independence', 'independence', 'will']"
       ]
      },
      {
       "output_type": "stream",
       "stream": "stdout",
       "text": [
        "\n",
        "['active']\n",
        "['active', 'will']\n",
        "['havoc']\n",
        "['sin']\n",
        "['sin', 'sin']\n",
        "['precious']\n",
        "['precious', 'precious']\n",
        "['top']"
       ]
      },
      {
       "output_type": "stream",
       "stream": "stdout",
       "text": [
        "\n",
        "['sure']\n",
        "['control']\n",
        "['control']\n",
        "['glad']"
       ]
      },
      {
       "output_type": "stream",
       "stream": "stdout",
       "text": [
        "\n",
        "['victory']\n",
        "['victory', 'victory']\n",
        "['hope']\n",
        "['hope', 'hope']\n",
        "['hope', 'hope', 'optimistic']\n",
        "['sure']\n",
        "['hope']\n",
        "['hope', 'hope']\n",
        "['hope', 'hope', 'optimistic']\n",
        "['independence']\n",
        "['independence', 'independence']\n",
        "['independence', 'independence', 'will']\n",
        "['hope']"
       ]
      },
      {
       "output_type": "stream",
       "stream": "stdout",
       "text": [
        "\n",
        "['hope', 'hope']\n",
        "['hope', 'hope', 'optimistic']\n",
        "['hope']\n",
        "['hope', 'hope']\n",
        "['hope', 'hope', 'optimistic']\n",
        "['hope']\n",
        "['hope', 'hope']\n",
        "['hope', 'hope', 'optimistic']\n",
        "['control']\n",
        "['hope']\n",
        "['hope', 'hope']\n",
        "['hope', 'hope', 'optimistic']\n",
        "['frustration']\n",
        "['frustration', 'illegal']\n",
        "['frustration', 'illegal', 'annexation']\n",
        "['frustration', 'illegal', 'annexation', 'annexation']\n",
        "['frustration', 'illegal', 'annexation', 'annexation', 'illegal']\n",
        "['right']"
       ]
      },
      {
       "output_type": "stream",
       "stream": "stdout",
       "text": [
        "\n",
        "['corrupt']\n",
        "['corrupt', 'mischievous']\n",
        "['corrupt', 'mischievous', 'threat']\n",
        "['conflict']\n",
        "['conflict', 'conflict']\n",
        "['game']\n",
        "['game', 'risky']\n",
        "['corrupt']\n",
        "['corrupt', 'mischievous']\n",
        "['corrupt', 'mischievous', 'threat']\n",
        "['disappointed']\n",
        "['fake']"
       ]
      },
      {
       "output_type": "stream",
       "stream": "stdout",
       "text": [
        "\n",
        "['disappointed']\n",
        "['disappointed']\n",
        "['crisis']\n",
        "['even']\n",
        "['murderous']"
       ]
      },
      {
       "output_type": "stream",
       "stream": "stdout",
       "text": [
        "\n",
        "['control']\n",
        "['sure']\n",
        "['control']\n",
        "['fake']\n",
        "['plausible']"
       ]
      },
      {
       "output_type": "stream",
       "stream": "stdout",
       "text": [
        "\n",
        "['plausible', 'support']\n",
        "['ridiculous']\n",
        "['hope']\n",
        "['hope', 'hope']\n",
        "['hope', 'hope', 'optimistic']\n",
        "['plausible']\n",
        "['plausible', 'support']\n",
        "['will']\n",
        "['legitimate']\n",
        "['will']"
       ]
      },
      {
       "output_type": "stream",
       "stream": "stdout",
       "text": [
        "\n",
        "['interesting']\n",
        "['corrupt']\n",
        "['corrupt', 'mischievous']\n",
        "['corrupt', 'mischievous', 'threat']\n",
        "['stolen']\n",
        "['stolen', 'stolen']\n",
        "['pro']\n",
        "['hope']"
       ]
      },
      {
       "output_type": "stream",
       "stream": "stdout",
       "text": [
        "\n",
        "['hope', 'hope']\n",
        "['hope', 'hope', 'optimistic']\n",
        "['conflict']\n",
        "['conflict', 'conflict']\n",
        "['control']\n",
        "['pro']\n",
        "['will']\n",
        "['will']\n",
        "['legitimate']"
       ]
      },
      {
       "output_type": "stream",
       "stream": "stdout",
       "text": [
        "\n",
        "['control']\n",
        "['democratic']\n",
        "['genuine']\n",
        "['glad']\n",
        "['hope']"
       ]
      },
      {
       "output_type": "stream",
       "stream": "stdout",
       "text": [
        "\n",
        "['hope', 'hope']\n",
        "['hope', 'hope', 'optimistic']\n",
        "['fraud']\n",
        "['fraud', 'fraud']\n",
        "['control']\n",
        "['annexation']\n",
        "['annexation', 'annexation']\n",
        "['hope']\n",
        "['hope', 'hope']\n",
        "['hope', 'hope', 'optimistic']\n",
        "['lost']\n",
        "['lost', 'annexation']\n",
        "['lost', 'annexation', 'annexation']\n",
        "['lost']"
       ]
      },
      {
       "output_type": "stream",
       "stream": "stdout",
       "text": [
        "\n",
        "['lost', 'annexation']\n",
        "['lost', 'annexation', 'annexation']\n",
        "['will']\n",
        "['revolution']\n",
        "['revolution', 'revolution']\n",
        "['spot']\n",
        "['heart']\n",
        "['fraudulent']"
       ]
      },
      {
       "output_type": "stream",
       "stream": "stdout",
       "text": [
        "\n",
        "['fraudulent', 'illegal']\n",
        "['fraudulent', 'illegal', 'shameless']\n",
        "['fraudulent', 'illegal', 'shameless', 'unconstitutional']\n",
        "['fraudulent', 'illegal', 'shameless', 'unconstitutional', 'illegal']\n",
        "['spot']\n",
        "['light']\n",
        "['light', 'light']\n",
        "['hell']\n",
        "['violence']\n",
        "['defensive']\n",
        "['even']"
       ]
      },
      {
       "output_type": "stream",
       "stream": "stdout",
       "text": [
        "\n",
        "['even', 'victory']\n",
        "['even', 'victory', 'victory']\n",
        "['annexation']\n",
        "['annexation', 'annexation']\n",
        "['holy']\n",
        "['settle']\n",
        "['violence']\n",
        "['violence', 'annexed']\n",
        "['hell']\n",
        "['glad']\n",
        "['bloodshed']"
       ]
      },
      {
       "output_type": "stream",
       "stream": "stdout",
       "text": [
        "\n",
        "['victory']\n",
        "['victory', 'victory']\n",
        "['annexed']\n",
        "['deadly']\n",
        "['glad']\n",
        "['game']"
       ]
      },
      {
       "output_type": "stream",
       "stream": "stdout",
       "text": [
        "\n",
        "['game', 'risky']\n",
        "['even']\n",
        "['even', 'friends']\n",
        "['even', 'friends', 'friends']\n",
        "['historic']\n",
        "['bloodshed']\n",
        "['legitimate']"
       ]
      },
      {
       "output_type": "stream",
       "stream": "stdout",
       "text": [
        "\n",
        "['blood']\n",
        "['worse']\n",
        "['legitimate']\n",
        "['responsible']\n",
        "['glad']"
       ]
      },
      {
       "output_type": "stream",
       "stream": "stdout",
       "text": [
        "\n",
        "['will']\n",
        "['stunt']\n",
        "['genuine']\n",
        "['game']\n",
        "['game', 'risky']\n",
        "['annexed']\n",
        "['annexed']\n",
        "['hope']"
       ]
      },
      {
       "output_type": "stream",
       "stream": "stdout",
       "text": [
        "\n",
        "['hope', 'hope']\n",
        "['hope', 'hope', 'optimistic']\n",
        "['against']\n",
        "['against', 'siege']\n",
        "['annexed']\n",
        "['legitimate']\n",
        "['annexed']\n",
        "['game']\n",
        "['award']\n",
        "['award', 'loyalty']\n",
        "['award', 'loyalty', 'loyalty']\n",
        "['award']"
       ]
      },
      {
       "output_type": "stream",
       "stream": "stdout",
       "text": [
        "\n",
        "['award', 'loyalty']\n",
        "['award', 'loyalty', 'loyalty']\n",
        "['game']\n",
        "['game']\n",
        "['award']\n",
        "['award', 'loyalty']\n",
        "['award', 'loyalty', 'loyalty']\n",
        "['game']\n",
        "['game']\n",
        "['annexed']"
       ]
      },
      {
       "output_type": "stream",
       "stream": "stdout",
       "text": [
        "\n",
        "['independence']\n",
        "['independence', 'independence']\n",
        "['independence', 'independence', 'understanding']\n",
        "['independence', 'independence', 'understanding', 'understanding']\n",
        "['stunt']\n",
        "['legitimate']\n",
        "['showdown']\n",
        "['showdown', 'showdown']\n",
        "['conflict']\n",
        "['conflict', 'conflict']\n",
        "['murderous']"
       ]
      },
      {
       "output_type": "stream",
       "stream": "stdout",
       "text": [
        "\n",
        "['conflict']\n",
        "['conflict', 'conflict']\n",
        "['fraudulent']\n",
        "['fraudulent', 'illegal']\n",
        "['fraudulent', 'illegal', 'shameless']\n",
        "['fraudulent', 'illegal', 'shameless', 'unconstitutional']\n",
        "['fraudulent', 'illegal', 'shameless', 'unconstitutional', 'illegal']\n",
        "['fear']\n",
        "['favor']\n",
        "['favor', 'favor']\n",
        "['favor', 'favor', 'will']\n",
        "['fear']\n",
        "['favor']\n",
        "['favor', 'favor']\n",
        "['favor', 'favor', 'will']\n",
        "['game']"
       ]
      },
      {
       "output_type": "stream",
       "stream": "stdout",
       "text": [
        "\n",
        "['game', 'risky']\n",
        "['will']\n",
        "['star']\n",
        "['star', 'star']\n",
        "['independence']\n",
        "['independence', 'independence']\n",
        "['independence']\n",
        "['independence', 'independence']\n",
        "['control']"
       ]
      },
      {
       "output_type": "stream",
       "stream": "stdout",
       "text": [
        "\n",
        "['justification']\n",
        "['showdown']\n",
        "['showdown', 'showdown']\n",
        "['deadly']\n",
        "['annexed']\n",
        "['annexed']"
       ]
      },
      {
       "output_type": "stream",
       "stream": "stdout",
       "text": [
        "\n",
        "['annexed']\n",
        "['illegal']\n",
        "['illegal', 'annexation']\n",
        "['illegal', 'annexation', 'annexation']\n",
        "['illegal', 'annexation', 'annexation', 'never']\n",
        "['illegal', 'annexation', 'annexation', 'never', 'illegal']\n",
        "['integrity']\n",
        "['integrity', 'will']\n",
        "['guerra']\n",
        "['deportation']\n",
        "['investing']"
       ]
      },
      {
       "output_type": "stream",
       "stream": "stdout",
       "text": [
        "\n",
        "['lies']\n",
        "['lies', 'lies']\n",
        "['reunification']\n",
        "['lies']\n",
        "['lies', 'lies']\n",
        "['investing']\n",
        "['condemns']"
       ]
      },
      {
       "output_type": "stream",
       "stream": "stdout",
       "text": [
        "\n",
        "['condemns', 'violations']\n",
        "['condemns', 'violations', 'condemns']\n",
        "['condemns', 'violations', 'condemns', 'violations']\n",
        "['rights']\n",
        "['light']\n",
        "['light', 'light']\n",
        "['light', 'light', 'will']\n",
        "['condemns']\n",
        "['condemns', 'violations']\n",
        "['condemns', 'violations', 'condemns']\n",
        "['condemns', 'violations', 'condemns', 'violations']\n",
        "['rights']\n",
        "['condemns']\n",
        "['condemns', 'violations']\n",
        "['condemns', 'violations', 'condemns']\n",
        "['condemns', 'violations', 'condemns', 'violations']\n",
        "['rights']\n",
        "['condemns']\n",
        "['condemns', 'violations']\n",
        "['condemns', 'violations', 'condemns']\n",
        "['condemns', 'violations', 'condemns', 'violations']\n",
        "['rights']"
       ]
      },
      {
       "output_type": "stream",
       "stream": "stdout",
       "text": [
        "\n",
        "['condemns']\n",
        "['condemns', 'violations']\n",
        "['condemns', 'violations', 'condemns']\n",
        "['condemns', 'violations', 'condemns', 'violations']\n",
        "['rights']\n",
        "['condemns']\n",
        "['condemns', 'violations']\n",
        "['condemns', 'violations', 'condemns']\n",
        "['condemns', 'violations', 'condemns', 'violations']\n",
        "['rights']\n",
        "['investing']\n",
        "['condemns']"
       ]
      },
      {
       "output_type": "stream",
       "stream": "stdout",
       "text": [
        "\n",
        "['condemns', 'violations']\n",
        "['condemns', 'violations', 'condemns']\n",
        "['condemns', 'violations', 'condemns', 'violations']\n",
        "['rights']\n",
        "['condemns']\n",
        "['condemns', 'violations']\n",
        "['condemns', 'violations', 'condemns']\n",
        "['condemns', 'violations', 'condemns', 'violations']\n",
        "['rights']\n",
        "['condemns']\n",
        "['condemns', 'violations']\n",
        "['condemns', 'violations', 'condemns']\n",
        "['condemns', 'violations', 'condemns', 'violations']\n",
        "['rights']\n",
        "['investing']\n",
        "['hurt']\n",
        "['deportation']\n",
        "['able']\n",
        "['able', 'will']\n",
        "['condemns']"
       ]
      },
      {
       "output_type": "stream",
       "stream": "stdout",
       "text": [
        "\n",
        "['condemns', 'violations']\n",
        "['condemns', 'violations', 'condemns']\n",
        "['condemns', 'violations', 'condemns', 'violations']\n",
        "['rights']\n",
        "['condemns']\n",
        "['condemns', 'violations']\n",
        "['condemns', 'violations', 'condemns']\n",
        "['condemns', 'violations', 'condemns', 'violations']\n",
        "['rights']\n",
        "['condemns']\n",
        "['condemns', 'violations']\n",
        "['condemns', 'violations', 'condemns']\n",
        "['condemns', 'violations', 'condemns', 'violations']\n",
        "['rights']\n",
        "['problem']\n",
        "['condemns']\n",
        "['condemns', 'violations']\n",
        "['condemns', 'violations', 'condemns']\n",
        "['condemns', 'violations', 'condemns', 'violations']\n",
        "['rights']\n",
        "['condemns']\n",
        "['condemns', 'violations']\n",
        "['condemns', 'violations', 'condemns']\n",
        "['condemns', 'violations', 'condemns', 'violations']\n",
        "['rights']"
       ]
      },
      {
       "output_type": "stream",
       "stream": "stdout",
       "text": [
        "\n",
        "['condemns']\n",
        "['condemns', 'violations']\n",
        "['condemns', 'violations', 'condemns']\n",
        "['condemns', 'violations', 'condemns', 'violations']\n",
        "['rights']\n",
        "['condemns']\n",
        "['condemns', 'violations']\n",
        "['condemns', 'violations', 'condemns']\n",
        "['condemns', 'violations', 'condemns', 'violations']\n",
        "['rights']\n",
        "['condemns']\n",
        "['condemns', 'violations']\n",
        "['condemns', 'violations', 'condemns']\n",
        "['condemns', 'violations', 'condemns', 'violations']\n",
        "['rights']\n",
        "['condemns']\n",
        "['condemns', 'violations']\n",
        "['condemns', 'violations', 'condemns']\n",
        "['condemns', 'violations', 'condemns', 'violations']\n",
        "['rights']\n",
        "['condemns']\n",
        "['condemns', 'violations']\n",
        "['condemns', 'violations', 'condemns']\n",
        "['condemns', 'violations', 'condemns', 'violations']\n",
        "['rights']"
       ]
      },
      {
       "output_type": "stream",
       "stream": "stdout",
       "text": [
        "\n",
        "['condemns']\n",
        "['condemns', 'violations']\n",
        "['condemns', 'violations', 'condemns']\n",
        "['condemns', 'violations', 'condemns', 'violations']\n",
        "['rights']\n",
        "['condemns']\n",
        "['condemns', 'violations']\n",
        "['condemns', 'violations', 'condemns']\n",
        "['condemns', 'violations', 'condemns', 'violations']\n",
        "['rights']\n",
        "['condemns']\n",
        "['condemns', 'violations']\n",
        "['condemns', 'violations', 'condemns']\n",
        "['condemns', 'violations', 'condemns', 'violations']\n",
        "['rights']\n",
        "['condemns']\n",
        "['condemns', 'violations']\n",
        "['condemns', 'violations', 'condemns']\n",
        "['condemns', 'violations', 'condemns', 'violations']\n",
        "['rights']"
       ]
      },
      {
       "output_type": "stream",
       "stream": "stdout",
       "text": [
        "\n",
        "['condemns']\n",
        "['condemns', 'violations']\n",
        "['condemns', 'violations', 'condemns']\n",
        "['condemns', 'violations', 'condemns', 'violations']\n",
        "['rights']\n",
        "['violations']\n",
        "['violations', 'violations']\n",
        "['rights']\n",
        "['condemns']\n",
        "['condemns', 'violations']\n",
        "['condemns', 'violations', 'condemns']\n",
        "['condemns', 'violations', 'condemns', 'violations']\n",
        "['rights']\n",
        "['condemns']\n",
        "['condemns', 'violations']\n",
        "['condemns', 'violations', 'condemns']\n",
        "['condemns', 'violations', 'condemns', 'violations']\n",
        "['rights']\n",
        "['condemns']\n",
        "['condemns', 'violations']\n",
        "['condemns', 'violations', 'condemns']\n",
        "['condemns', 'violations', 'condemns', 'violations']\n",
        "['rights']\n",
        "['violations']"
       ]
      },
      {
       "output_type": "stream",
       "stream": "stdout",
       "text": [
        "\n",
        "['violations', 'violations']\n",
        "['rights']\n",
        "['condemns']\n",
        "['condemns', 'violations']\n",
        "['condemns', 'violations', 'condemns']\n",
        "['condemns', 'violations', 'condemns', 'violations']\n",
        "['rights']\n",
        "['condemns']\n",
        "['condemns', 'violations']\n",
        "['condemns', 'violations', 'condemns']\n",
        "['condemns', 'violations', 'condemns', 'violations']\n",
        "['rights']\n",
        "['condemns']\n",
        "['condemns', 'violations']\n",
        "['condemns', 'violations', 'condemns']\n",
        "['condemns', 'violations', 'condemns', 'violations']\n",
        "['rights']\n",
        "['condemns']\n",
        "['condemns', 'violations']\n",
        "['condemns', 'violations', 'condemns']\n",
        "['condemns', 'violations', 'condemns', 'violations']\n",
        "['rights']\n",
        "['condemns']\n",
        "['condemns', 'violations']\n",
        "['condemns', 'violations', 'condemns']\n",
        "['condemns', 'violations', 'condemns', 'violations']\n",
        "['rights']"
       ]
      },
      {
       "output_type": "stream",
       "stream": "stdout",
       "text": [
        "\n",
        "['condemns']\n",
        "['condemns', 'violations']\n",
        "['condemns', 'violations', 'condemns']\n",
        "['condemns', 'violations', 'condemns', 'violations']\n",
        "['rights']\n",
        "['condemns']\n",
        "['condemns', 'violations']\n",
        "['condemns', 'violations', 'condemns']\n",
        "['condemns', 'violations', 'condemns', 'violations']\n",
        "['rights']\n",
        "['condemns']\n",
        "['condemns', 'violations']\n",
        "['condemns', 'violations', 'condemns']\n",
        "['condemns', 'violations', 'condemns', 'violations']\n",
        "['rights']\n",
        "['condemns']\n",
        "['condemns', 'violations']\n",
        "['condemns', 'violations', 'condemns']\n",
        "['condemns', 'violations', 'condemns', 'violations']\n",
        "['rights']\n",
        "['condemns']\n",
        "['condemns', 'violations']\n",
        "['condemns', 'violations', 'condemns']\n",
        "['condemns', 'violations', 'condemns', 'violations']\n",
        "['rights']"
       ]
      },
      {
       "output_type": "stream",
       "stream": "stdout",
       "text": [
        "\n",
        "['condemns']\n",
        "['condemns', 'violations']\n",
        "['condemns', 'violations', 'condemns']\n",
        "['condemns', 'violations', 'condemns', 'violations']\n",
        "['rights']\n",
        "['condemns']\n",
        "['condemns', 'violations']\n",
        "['condemns', 'violations', 'condemns']\n",
        "['condemns', 'violations', 'condemns', 'violations']\n",
        "['rights']\n",
        "['condemns']\n",
        "['condemns', 'violations']\n",
        "['condemns', 'violations', 'condemns']\n",
        "['condemns', 'violations', 'condemns', 'violations']\n",
        "['rights']\n",
        "['condemns']\n",
        "['condemns', 'violations']\n",
        "['condemns', 'violations', 'condemns']\n",
        "['condemns', 'violations', 'condemns', 'violations']\n",
        "['rights']\n",
        "['condemns']"
       ]
      },
      {
       "output_type": "stream",
       "stream": "stdout",
       "text": [
        "\n",
        "['condemns', 'violations']\n",
        "['condemns', 'violations', 'condemns']\n",
        "['condemns', 'violations', 'condemns', 'violations']\n",
        "['rights']\n",
        "['condemns']\n",
        "['condemns', 'violations']\n",
        "['condemns', 'violations', 'condemns']\n",
        "['condemns', 'violations', 'condemns', 'violations']\n",
        "['rights']\n",
        "['condemns']\n",
        "['condemns', 'violations']\n",
        "['condemns', 'violations', 'condemns']\n",
        "['condemns', 'violations', 'condemns', 'violations']\n",
        "['rights']\n",
        "['condemns']\n",
        "['condemns', 'violations']\n",
        "['condemns', 'violations', 'condemns']\n",
        "['condemns', 'violations', 'condemns', 'violations']\n",
        "['rights']\n",
        "['condemns']\n",
        "['condemns', 'violations']\n",
        "['condemns', 'violations', 'condemns']\n",
        "['condemns', 'violations', 'condemns', 'violations']\n",
        "['rights']\n",
        "['violations']\n",
        "['violations', 'violations']\n",
        "['rights']\n",
        "['investing']"
       ]
      },
      {
       "output_type": "stream",
       "stream": "stdout",
       "text": [
        "\n",
        "['lies']\n",
        "['lies', 'lies']\n",
        "['condemns']\n",
        "['condemns', 'violations']\n",
        "['condemns', 'violations', 'condemns']\n",
        "['condemns', 'violations', 'condemns', 'violations']\n",
        "['rights']\n",
        "['condemns']\n",
        "['condemns', 'violations']\n",
        "['condemns', 'violations', 'condemns']\n",
        "['condemns', 'violations', 'condemns', 'violations']\n",
        "['rights']\n",
        "['condemns']\n",
        "['condemns', 'violations']\n",
        "['condemns', 'violations', 'condemns']\n",
        "['condemns', 'violations', 'condemns', 'violations']\n",
        "['rights']\n",
        "['condemns']\n",
        "['condemns', 'violations']\n",
        "['condemns', 'violations', 'condemns']\n",
        "['condemns', 'violations', 'condemns', 'violations']\n",
        "['rights']"
       ]
      },
      {
       "output_type": "stream",
       "stream": "stdout",
       "text": [
        "\n",
        "['illegal']\n",
        "['illegal', 'annexation']\n",
        "['illegal', 'annexation', 'annexation']\n",
        "['illegal', 'annexation', 'annexation', 'never']\n",
        "['illegal', 'annexation', 'annexation', 'never', 'illegal']\n",
        "['integrity']\n",
        "['integrity', 'will']\n",
        "['investing']\n",
        "['condemns']\n",
        "['condemns', 'violations']\n",
        "['condemns', 'violations', 'condemns']\n",
        "['condemns', 'violations', 'condemns', 'violations']\n",
        "['rights']\n",
        "['denunciation']\n",
        "['denunciation', 'denunciations']\n",
        "['investing']"
       ]
      },
      {
       "output_type": "stream",
       "stream": "stdout",
       "text": [
        "\n",
        "['investing']\n",
        "['lies']\n",
        "['lies', 'lies']\n",
        "['lies']\n",
        "['lies', 'lies']\n",
        "['lies']\n",
        "['lies', 'lies']\n",
        "['lies']"
       ]
      },
      {
       "output_type": "stream",
       "stream": "stdout",
       "text": [
        "\n",
        "['lies', 'lies']\n",
        "['annexed']\n",
        "['undermine']\n",
        "['condemns']\n",
        "['condemns', 'violations']\n",
        "['condemns', 'violations', 'condemns']\n",
        "['condemns', 'violations', 'condemns', 'violations']\n",
        "['rights']\n",
        "['condemns']\n",
        "['condemns', 'violations']\n",
        "['condemns', 'violations', 'condemns']\n",
        "['condemns', 'violations', 'condemns', 'violations']\n",
        "['rights']\n",
        "['investing']"
       ]
      },
      {
       "output_type": "stream",
       "stream": "stdout",
       "text": [
        "\n",
        "['problemas']\n",
        "['investing']\n",
        "['condemns']\n",
        "['condemns', 'violations']\n",
        "['condemns', 'violations', 'condemns']\n",
        "['condemns', 'violations', 'condemns', 'violations']\n",
        "['rights']\n",
        "['propaganda']\n",
        "['propaganda', 'propaganda']\n",
        "['condemns']\n",
        "['condemns', 'violations']\n",
        "['condemns', 'violations', 'condemns']\n",
        "['condemns', 'violations', 'condemns', 'violations']\n",
        "['rights']"
       ]
      },
      {
       "output_type": "stream",
       "stream": "stdout",
       "text": [
        "\n",
        "['will']\n",
        "['investing']\n",
        "['investing']\n",
        "['war']\n",
        "['accessible']\n",
        "['lies']"
       ]
      },
      {
       "output_type": "stream",
       "stream": "stdout",
       "text": [
        "\n",
        "['lies', 'lies']\n",
        "['lies']\n",
        "['lies', 'lies']\n",
        "['problemas']\n",
        "['deportation']\n",
        "['able']\n",
        "['able', 'will']\n",
        "['reunification']"
       ]
      },
      {
       "output_type": "stream",
       "stream": "stdout",
       "text": [
        "\n",
        "['problem']\n",
        "['lies']\n",
        "['lies', 'lies']\n",
        "['condemns']\n",
        "['condemns', 'violations']\n",
        "['condemns', 'violations', 'condemns']\n",
        "['condemns', 'violations', 'condemns', 'violations']\n",
        "['rights']\n",
        "['concerns']\n",
        "['concerns', 'concerns']\n",
        "['concerns', 'concerns', 'propaganda']\n",
        "['concerns', 'concerns', 'propaganda', 'propaganda']\n",
        "['concerns', 'concerns', 'propaganda', 'propaganda', 'serious']\n",
        "['clearly']\n",
        "['clearly', 'important']\n",
        "['clearly', 'important', 'rights']\n",
        "['illegal']\n",
        "['illegal', 'annexation']\n",
        "['illegal', 'annexation', 'annexation']\n",
        "['illegal', 'annexation', 'annexation', 'never']\n",
        "['illegal', 'annexation', 'annexation', 'never', 'illegal']\n",
        "['integrity']\n",
        "['integrity', 'will']\n",
        "['lies']"
       ]
      },
      {
       "output_type": "stream",
       "stream": "stdout",
       "text": [
        "\n",
        "['lies', 'lies']\n",
        "['defense']\n",
        "['lies']\n",
        "['lies', 'lies']\n",
        "['illegal']\n",
        "['illegal', 'annexation']\n",
        "['illegal', 'annexation', 'annexation']\n",
        "['illegal', 'annexation', 'annexation', 'never']\n",
        "['illegal', 'annexation', 'annexation', 'never', 'illegal']\n",
        "['integrity']\n",
        "['integrity', 'will']\n",
        "['reunification']\n",
        "['lies']"
       ]
      },
      {
       "output_type": "stream",
       "stream": "stdout",
       "text": [
        "\n",
        "['lies', 'lies']\n",
        "['violations']\n",
        "['violations', 'violations']\n",
        "['rights']\n",
        "['violations']\n",
        "['violations', 'violations']\n",
        "['rights']\n",
        "['condemns']\n",
        "['condemns', 'violations']\n",
        "['condemns', 'violations', 'condemns']\n",
        "['condemns', 'violations', 'condemns', 'violations']\n",
        "['rights']\n",
        "['condemns']"
       ]
      },
      {
       "output_type": "stream",
       "stream": "stdout",
       "text": [
        "\n",
        "['condemns', 'violations']\n",
        "['condemns', 'violations', 'condemns']\n",
        "['condemns', 'violations', 'condemns', 'violations']\n",
        "['rights']\n",
        "['lies']\n",
        "['lies', 'lies']\n",
        "['lies']\n",
        "['lies', 'lies']\n",
        "['lies']\n",
        "['lies', 'lies']\n",
        "['lies']\n",
        "['lies', 'lies']\n",
        "['lies']"
       ]
      },
      {
       "output_type": "stream",
       "stream": "stdout",
       "text": [
        "\n",
        "['lies', 'lies']\n",
        "['problemas']\n",
        "['violations']\n",
        "['violations', 'violations']\n",
        "['rights']\n",
        "['violations']\n",
        "['violations', 'violations']\n",
        "['rights']\n",
        "['condemns']\n",
        "['condemns', 'violations']\n",
        "['condemns', 'violations', 'condemns']\n",
        "['condemns', 'violations', 'condemns', 'violations']\n",
        "['rights']"
       ]
      },
      {
       "output_type": "stream",
       "stream": "stdout",
       "text": [
        "\n",
        "['illegal']\n",
        "['illegal', 'never']\n",
        "['illegal', 'never', 'illegal']\n",
        "['integrity']\n",
        "['integrity', 'will']\n",
        "['lies']\n",
        "['lies', 'lies']\n",
        "['condemns']\n",
        "['condemns', 'violations']\n",
        "['condemns', 'violations', 'condemns']\n",
        "['condemns', 'violations', 'condemns', 'violations']\n",
        "['rights']\n",
        "['illegal']\n",
        "['illegal', 'never']\n",
        "['illegal', 'never', 'illegal']\n",
        "['integrity']\n",
        "['integrity', 'will']\n",
        "['diplomatic']\n",
        "['diplomatic', 'diplomatic']\n",
        "['diplomatic', 'diplomatic', 'victory']"
       ]
      },
      {
       "output_type": "stream",
       "stream": "stdout",
       "text": [
        "\n",
        "['diplomatic', 'diplomatic', 'victory', 'victory']\n",
        "['lies']\n",
        "['lies', 'lies']\n",
        "['lies', 'lies', 'sorry']\n",
        "['investing']\n",
        "['condemns']\n",
        "['condemns', 'violations']\n",
        "['condemns', 'violations', 'condemns']\n",
        "['condemns', 'violations', 'condemns', 'violations']\n",
        "['rights']\n",
        "['concerns']\n",
        "['concerns', 'concerns']\n",
        "['condemns']\n",
        "['condemns', 'violations']\n",
        "['condemns', 'violations', 'condemns']\n",
        "['condemns', 'violations', 'condemns', 'violations']\n",
        "['rights']"
       ]
      },
      {
       "output_type": "stream",
       "stream": "stdout",
       "text": [
        "\n",
        "['lies']\n",
        "['lies', 'lies']\n",
        "['lies']\n",
        "['lies', 'lies']\n",
        "['condemns']\n",
        "['condemns', 'violations']\n",
        "['condemns', 'violations', 'condemns']\n",
        "['condemns', 'violations', 'condemns', 'violations']\n",
        "['rights']\n",
        "['detained']\n",
        "['investing']"
       ]
      },
      {
       "output_type": "stream",
       "stream": "stdout",
       "text": [
        "\n",
        "['investing']\n",
        "['violent']\n",
        "['violent', 'violations']\n",
        "['violent', 'violations', 'violations']\n",
        "['rights']\n",
        "['reunification']\n",
        "['lies']\n",
        "['lies', 'lies']\n",
        "['lies', 'lies', 'sorry']\n",
        "['investing']\n",
        "['condemns']"
       ]
      },
      {
       "output_type": "stream",
       "stream": "stdout",
       "text": [
        "\n",
        "['condemns', 'violations']\n",
        "['condemns', 'violations', 'condemns']\n",
        "['condemns', 'violations', 'condemns', 'violations']\n",
        "['rights']\n",
        "['condemns']\n",
        "['condemns', 'violations']\n",
        "['condemns', 'violations', 'condemns']\n",
        "['condemns', 'violations', 'condemns', 'violations']\n",
        "['rights']\n",
        "['lies']\n",
        "['lies', 'lies']\n",
        "['guardian']\n",
        "['propaganda']\n",
        "['propaganda', 'propaganda']\n",
        "['lies']\n",
        "['lies', 'lies']\n",
        "['rights']\n",
        "['deportation']\n",
        "['able']\n",
        "['able', 'will']"
       ]
      },
      {
       "output_type": "stream",
       "stream": "stdout",
       "text": [
        "\n",
        "['lies']\n",
        "['lies', 'lies']\n",
        "['attack']\n",
        "['losing']\n",
        "['losing', 'losing']\n",
        "['losing', 'losing', 'reluctance']\n",
        "['losing', 'losing', 'reluctance', 'reluctance']\n",
        "['help']\n",
        "['help', 'help']\n",
        "['condemns']\n",
        "['condemns', 'violations']\n",
        "['condemns', 'violations', 'condemns']\n",
        "['condemns', 'violations', 'condemns', 'violations']\n",
        "['rights']\n",
        "['lies']"
       ]
      },
      {
       "output_type": "stream",
       "stream": "stdout",
       "text": [
        "\n",
        "['lies', 'lies']\n",
        "['lies']\n",
        "['lies', 'lies']\n",
        "['threat']\n",
        "['threat', 'deportation']\n",
        "['lies']\n",
        "['lies', 'lies']\n",
        "['lies']\n",
        "['lies', 'lies']\n",
        "['threat']"
       ]
      },
      {
       "output_type": "stream",
       "stream": "stdout",
       "text": [
        "\n",
        "['threat', 'deportation']\n",
        "['rights']\n",
        "['narrow']\n",
        "['threat']\n",
        "['threat', 'deportation']\n",
        "['lies']\n",
        "['lies', 'lies']\n",
        "['lies', 'lies', 'sorry']\n",
        "['illegal']\n",
        "['illegal', 'annexation']\n",
        "['illegal', 'annexation', 'annexation']\n",
        "['illegal', 'annexation', 'annexation', 'never']\n",
        "['illegal', 'annexation', 'annexation', 'never', 'illegal']\n",
        "['integrity']\n",
        "['integrity', 'will']\n",
        "['threat']"
       ]
      },
      {
       "output_type": "stream",
       "stream": "stdout",
       "text": [
        "\n",
        "['threat', 'deportation']\n",
        "['lies']\n",
        "['lies', 'lies']\n",
        "['interesting']\n",
        "['condemns']\n",
        "['condemns', 'violations']\n",
        "['condemns', 'violations', 'condemns']\n",
        "['condemns', 'violations', 'condemns', 'violations']\n",
        "['rights']\n",
        "['threat']\n",
        "['threat', 'deportation']\n",
        "['problemas']\n",
        "['problemas']\n",
        "['reunification']"
       ]
      },
      {
       "output_type": "stream",
       "stream": "stdout",
       "text": [
        "\n",
        "['threat']\n",
        "['threat', 'deportation']\n",
        "['deportation']\n",
        "['rights']\n",
        "['repression']\n",
        "['repression', 'repression']\n",
        "['detained']"
       ]
      },
      {
       "output_type": "stream",
       "stream": "stdout",
       "text": [
        "\n",
        "['condemns']\n",
        "['condemns', 'violations']\n",
        "['condemns', 'violations', 'condemns']\n",
        "['condemns', 'violations', 'condemns', 'violations']\n",
        "['good']\n",
        "['good', 'rights']\n",
        "['detained']\n",
        "['showdown']\n",
        "['showdown', 'showdown']\n",
        "['detained']\n",
        "['friends']"
       ]
      },
      {
       "output_type": "stream",
       "stream": "stdout",
       "text": [
        "\n",
        "['friends', 'friends']\n",
        "['detained']\n",
        "['illegal']\n",
        "['illegal', 'annexation']\n",
        "['illegal', 'annexation', 'annexation']\n",
        "['illegal', 'annexation', 'annexation', 'never']\n",
        "['illegal', 'annexation', 'annexation', 'never', 'illegal']\n",
        "['integrity']\n",
        "['integrity', 'will']\n",
        "['detained']\n",
        "['detained']\n",
        "['annexation']\n",
        "['annexation', 'annexation']\n",
        "['detained']"
       ]
      },
      {
       "output_type": "stream",
       "stream": "stdout",
       "text": [
        "\n",
        "['detained']\n",
        "['violations']\n",
        "['violations', 'violations']\n",
        "['rights']\n",
        "['detained']\n",
        "['lies']\n",
        "['lies', 'lies']\n",
        "['detained']\n",
        "['lies']"
       ]
      },
      {
       "output_type": "stream",
       "stream": "stdout",
       "text": [
        "\n",
        "['lies', 'lies']\n",
        "['right']\n",
        "['lies']\n",
        "['lies', 'lies']\n",
        "['repression']\n",
        "['repression', 'repression']\n",
        "['lies']\n",
        "['lies', 'lies']\n",
        "['abandon']"
       ]
      },
      {
       "output_type": "stream",
       "stream": "stdout",
       "text": [
        "\n",
        "['lies']\n",
        "['lies', 'lies']\n",
        "['lies']\n",
        "['lies', 'lies']\n",
        "['lies']\n",
        "['lies', 'lies']\n",
        "['lies']\n",
        "['lies', 'lies']\n",
        "['lies']\n",
        "['lies', 'lies']\n",
        "['threat']"
       ]
      },
      {
       "output_type": "stream",
       "stream": "stdout",
       "text": [
        "\n",
        "['threat', 'deportation']\n",
        "['lies']\n",
        "['lies', 'lies']\n",
        "['threat']\n",
        "['threat', 'deportation']\n",
        "['lies']\n",
        "['lies', 'lies']\n",
        "['guerra']\n",
        "['lies']\n",
        "['lies', 'lies']\n",
        "['detained']"
       ]
      },
      {
       "output_type": "stream",
       "stream": "stdout",
       "text": [
        "\n",
        "['deterioration']\n",
        "['deterioration', 'deterioration']\n",
        "['threat']\n",
        "['threat', 'deportation']\n",
        "['lies']\n",
        "['lies', 'lies']\n",
        "['accurate']\n",
        "['detained']"
       ]
      },
      {
       "output_type": "stream",
       "stream": "stdout",
       "text": [
        "\n",
        "['lies']\n",
        "['lies', 'lies']\n",
        "['worse']\n",
        "['lies']\n",
        "['lies', 'lies']\n",
        "['annexation']\n",
        "['annexation', 'annexation']\n",
        "['annexation', 'annexation', 'deportation']\n",
        "['investing']\n",
        "['problems']"
       ]
      },
      {
       "output_type": "stream",
       "stream": "stdout",
       "text": [
        "\n",
        "['problems', 'problems']\n",
        "['will']\n",
        "['lies']\n",
        "['lies', 'lies']\n",
        "['down']\n",
        "['down', 'took']\n",
        "['lies']\n",
        "['lies', 'lies']\n",
        "['lies']\n",
        "['lies', 'lies']\n",
        "['lies']"
       ]
      },
      {
       "output_type": "stream",
       "stream": "stdout",
       "text": [
        "\n",
        "['lies', 'lies']\n",
        "['illegal']\n",
        "['illegal', 'illegal']\n",
        "['lies']\n",
        "['lies', 'lies']\n",
        "['propaganda']\n",
        "['propaganda', 'propaganda']\n",
        "['forbidden']\n",
        "['forbidden', 'deportation']\n",
        "['lies']"
       ]
      },
      {
       "output_type": "stream",
       "stream": "stdout",
       "text": [
        "\n",
        "['lies', 'lies']\n",
        "['lies']\n",
        "['lies', 'lies']\n",
        "['condemns']\n",
        "['condemns', 'violations']\n",
        "['condemns', 'violations', 'condemns']\n",
        "['condemns', 'violations', 'condemns', 'violations']\n",
        "['rights']\n",
        "['never']\n",
        "['attractive']\n",
        "['attractive', 'attractive']\n",
        "['violations']\n",
        "['violations', 'violations']\n",
        "['rights']\n",
        "['opposition']"
       ]
      },
      {
       "output_type": "stream",
       "stream": "stdout",
       "text": [
        "\n",
        "['opposition', 'opposition']\n",
        "['tribute']\n",
        "['detained']\n",
        "['trying']\n",
        "['lies']\n",
        "['lies', 'lies']\n",
        "['guardian']"
       ]
      },
      {
       "output_type": "stream",
       "stream": "stdout",
       "text": [
        "\n",
        "['lost']\n",
        "['gravely']\n",
        "['violations']\n",
        "['violations', 'violations']\n",
        "['rights']\n",
        "['lies']\n",
        "['lies', 'lies']\n",
        "['able']\n",
        "['gravely']"
       ]
      },
      {
       "output_type": "stream",
       "stream": "stdout",
       "text": [
        "\n",
        "['gravely']\n",
        "['detained']\n",
        "['threat']\n",
        "['threat', 'deportation']\n",
        "['lies']\n",
        "['lies', 'lies']\n",
        "['gravely']\n",
        "['detained']"
       ]
      },
      {
       "output_type": "stream",
       "stream": "stdout",
       "text": [
        "\n",
        "['close']\n",
        "['lies']\n",
        "['lies', 'lies']\n",
        "['illegal']\n",
        "['illegal', 'annexation']\n",
        "['illegal', 'annexation', 'annexation']\n",
        "['illegal', 'annexation', 'annexation', 'never']\n",
        "['illegal', 'annexation', 'annexation', 'never', 'illegal']\n",
        "['integrity']\n",
        "['integrity', 'will']\n",
        "['rights']\n",
        "['rights']"
       ]
      },
      {
       "output_type": "stream",
       "stream": "stdout",
       "text": [
        "\n",
        "['violations']\n",
        "['violations', 'violations']\n",
        "['rights']\n",
        "['lies']\n",
        "['lies', 'lies']\n",
        "['deportation']\n",
        "['lies']\n",
        "['lies', 'lies']\n",
        "['lies']\n",
        "['lies', 'lies']\n",
        "['investing']"
       ]
      },
      {
       "output_type": "stream",
       "stream": "stdout",
       "text": [
        "\n",
        "['lies']\n",
        "['lies', 'lies']\n",
        "['lies']\n",
        "['lies', 'lies']\n",
        "['threat']\n",
        "['threat', 'deportation']\n",
        "['deportation']\n",
        "['lies']\n",
        "['lies', 'lies']\n",
        "['deportation']"
       ]
      },
      {
       "output_type": "stream",
       "stream": "stdout",
       "text": [
        "\n",
        "['lies']\n",
        "['lies', 'lies']\n",
        "['able']\n",
        "['concerns']\n",
        "['concerns', 'concerns']\n",
        "['concerns', 'concerns', 'propaganda']\n",
        "['concerns', 'concerns', 'propaganda', 'propaganda']\n",
        "['concerns', 'concerns', 'propaganda', 'propaganda', 'serious']\n",
        "['clearly']\n",
        "['clearly', 'important']\n",
        "['clearly', 'important', 'rights']\n",
        "['lies']\n",
        "['lies', 'lies']\n",
        "['took']\n",
        "['deportation']"
       ]
      },
      {
       "output_type": "stream",
       "stream": "stdout",
       "text": [
        "\n",
        "['fallout']\n",
        "['adventure']\n",
        "['adventure', 'adventure']\n",
        "['deportation']\n",
        "['lies']\n",
        "['lies', 'lies']\n",
        "['war']\n",
        "['important']"
       ]
      },
      {
       "output_type": "stream",
       "stream": "stdout",
       "text": [
        "\n",
        "['lies']\n",
        "['lies', 'lies']\n",
        "['lies']\n",
        "['lies', 'lies']\n",
        "['lies']\n",
        "['lies', 'lies']\n",
        "['lies']\n",
        "['lies', 'lies']\n",
        "['guardian']\n",
        "['rights']"
       ]
      },
      {
       "output_type": "stream",
       "stream": "stdout",
       "text": [
        "\n",
        "['rights']\n",
        "['deportation']\n",
        "['deadly']\n",
        "['victory']\n",
        "['victory', 'victory']\n",
        "['lies']\n",
        "['lies', 'lies']\n",
        "['war']\n",
        "['deportation']"
       ]
      },
      {
       "output_type": "stream",
       "stream": "stdout",
       "text": [
        "\n",
        "['rights']\n",
        "['intimidation']\n",
        "['intimidation', 'intimidation']\n",
        "['intimidation', 'intimidation', 'shame']\n",
        "['war']\n",
        "['intimidation']\n",
        "['intimidation', 'intimidation']\n",
        "['intimidation', 'intimidation', 'shame']\n",
        "['deportation']"
       ]
      },
      {
       "output_type": "stream",
       "stream": "stdout",
       "text": [
        "\n",
        "['intimidation']\n",
        "['intimidation', 'intimidation']\n",
        "['intimidation', 'intimidation', 'shame']\n",
        "['intimidation']\n",
        "['intimidation', 'intimidation']\n",
        "['intimidation', 'intimidation', 'shame']\n",
        "['intimidation']\n",
        "['intimidation', 'intimidation']\n",
        "['intimidation', 'intimidation', 'shame']\n",
        "['intimidation']\n",
        "['intimidation', 'intimidation']\n",
        "['intimidation', 'intimidation', 'shame']\n",
        "['intimidation']"
       ]
      },
      {
       "output_type": "stream",
       "stream": "stdout",
       "text": [
        "\n",
        "['intimidation', 'intimidation']\n",
        "['intimidation', 'intimidation', 'shame']\n",
        "['intimidation']\n",
        "['intimidation', 'intimidation']\n",
        "['intimidation', 'intimidation', 'shame']\n",
        "['intimidation']\n",
        "['intimidation', 'intimidation']\n",
        "['intimidation', 'intimidation', 'shame']\n",
        "['deportation']\n",
        "['deportation']\n",
        "['detained']"
       ]
      },
      {
       "output_type": "stream",
       "stream": "stdout",
       "text": [
        "\n",
        "['violations']\n",
        "['violations', 'violations']\n",
        "['rights']\n",
        "['intimidation']\n",
        "['intimidation', 'intimidation']\n",
        "['intimidation', 'intimidation', 'shame']\n",
        "['investing']\n",
        "['intimidation']\n",
        "['intimidation', 'intimidation']\n",
        "['intimidation', 'intimidation', 'shame']\n",
        "['lies']\n",
        "['lies', 'lies']\n",
        "['celebration']"
       ]
      },
      {
       "output_type": "stream",
       "stream": "stdout",
       "text": [
        "\n",
        "['celebration', 'victory']\n",
        "['celebration', 'victory', 'victory']\n",
        "['rights']\n",
        "['intimidation']\n",
        "['intimidation', 'intimidation']\n",
        "['intimidation', 'intimidation', 'shame']\n",
        "['lies']\n",
        "['lies', 'lies']\n",
        "['rights']"
       ]
      },
      {
       "output_type": "stream",
       "stream": "stdout",
       "text": [
        "\n",
        "['wow']\n",
        "['war']\n",
        "['intimidation']\n",
        "['intimidation', 'intimidation']\n",
        "['intimidation', 'intimidation', 'shame']\n",
        "['victory']\n",
        "['victory', 'victory']\n",
        "['lies']"
       ]
      },
      {
       "output_type": "stream",
       "stream": "stdout",
       "text": [
        "\n",
        "['lies', 'lies']\n",
        "['poison']\n",
        "['poison', 'poison']\n",
        "['supreme']\n",
        "['love']\n",
        "['good']\n",
        "['rights']\n",
        "['deportation']"
       ]
      },
      {
       "output_type": "stream",
       "stream": "stdout",
       "text": [
        "\n",
        "['lies']\n",
        "['lies', 'lies']\n",
        "['deportation']\n",
        "['intimidation']\n",
        "['intimidation', 'intimidation']\n",
        "['intimidation', 'intimidation', 'shame']\n",
        "['lies']\n",
        "['lies', 'lies']\n",
        "['lies']\n",
        "['lies', 'lies']\n",
        "['rights']"
       ]
      },
      {
       "output_type": "stream",
       "stream": "stdout",
       "text": [
        "\n",
        "['violations']\n",
        "['violations', 'violations']\n",
        "['rights']\n",
        "['deportation']\n",
        "['deterioration']\n",
        "['deterioration', 'deterioration']\n",
        "['violations']\n",
        "['violations', 'violations']\n",
        "['rights']\n",
        "['deportation']\n",
        "['respect']"
       ]
      },
      {
       "output_type": "stream",
       "stream": "stdout",
       "text": [
        "\n",
        "['respect', 'respect']\n",
        "['respect', 'respect', 'right']\n",
        "['fears']\n",
        "['fears', 'fears']\n",
        "['lies']\n",
        "['lies', 'lies']\n",
        "['lies']\n",
        "['lies', 'lies']\n",
        "['detained']\n",
        "['support']"
       ]
      },
      {
       "output_type": "stream",
       "stream": "stdout",
       "text": [
        "\n",
        "['illegal']\n",
        "['illegal', 'annexation']\n",
        "['illegal', 'annexation', 'annexation']\n",
        "['illegal', 'annexation', 'annexation', 'never']\n",
        "['illegal', 'annexation', 'annexation', 'never', 'illegal']\n",
        "['integrity']\n",
        "['integrity', 'will']\n",
        "['will']\n",
        "['problemas']\n",
        "['problemas']\n",
        "['will']\n",
        "['hard']\n",
        "['hard', 'took']"
       ]
      },
      {
       "output_type": "stream",
       "stream": "stdout",
       "text": [
        "\n",
        "['right']\n",
        "['intimidation']\n",
        "['intimidation', 'intimidation']\n",
        "['intimidation', 'intimidation', 'shame']\n",
        "['lies']\n",
        "['lies', 'lies']\n",
        "['guardian']\n",
        "['lies']\n",
        "['lies', 'lies']\n",
        "['guardian']\n",
        "['lies']\n",
        "['lies', 'lies']\n",
        "['poison']\n",
        "['poison', 'poison']\n",
        "['supreme']"
       ]
      },
      {
       "output_type": "stream",
       "stream": "stdout",
       "text": [
        "\n",
        "['lies']\n",
        "['lies', 'lies']\n",
        "['detained']\n",
        "['lies']\n",
        "['lies', 'lies']\n",
        "['intimidation']\n",
        "['intimidation', 'intimidation']\n",
        "['intimidation', 'intimidation', 'shame']\n",
        "['rights']"
       ]
      },
      {
       "output_type": "stream",
       "stream": "stdout",
       "text": [
        "\n",
        "['rights']\n",
        "['forbidden']\n",
        "['forbidden', 'deportation']\n",
        "['rights']\n",
        "['intimidation']\n",
        "['intimidation', 'intimidation']\n",
        "['intimidation', 'intimidation', 'shame']\n",
        "['rights']"
       ]
      },
      {
       "output_type": "stream",
       "stream": "stdout",
       "text": [
        "\n",
        "['intimidation']\n",
        "['intimidation', 'intimidation']\n",
        "['intimidation', 'intimidation', 'shame']\n",
        "['harassment']\n",
        "['harassment', 'harassment']\n",
        "['harassment', 'harassment', 'deportation']\n",
        "['insecurity']\n",
        "['insecurity', 'insecurity']\n",
        "['insecurity']\n",
        "['insecurity', 'insecurity']\n",
        "['intimidation']\n",
        "['intimidation', 'intimidation']\n",
        "['intimidation', 'intimidation', 'shame']\n",
        "['problems']\n",
        "['problems', 'problems']\n",
        "['insecurity']"
       ]
      },
      {
       "output_type": "stream",
       "stream": "stdout",
       "text": [
        "\n",
        "['insecurity', 'insecurity']\n",
        "['insecurity']\n",
        "['insecurity', 'insecurity']\n",
        "['conflict']\n",
        "['conflict', 'conflict']\n",
        "['conflict', 'conflict', 'threatening']\n",
        "['conflict', 'conflict', 'threatening', 'threatening']\n",
        "['will']\n",
        "['problemas']\n",
        "['insecurity']\n",
        "['insecurity', 'insecurity']\n",
        "['insecurity']\n",
        "['insecurity', 'insecurity']\n",
        "['lies']"
       ]
      },
      {
       "output_type": "stream",
       "stream": "stdout",
       "text": [
        "\n",
        "['lies', 'lies']\n",
        "['threat']\n",
        "['threat', 'deportation']\n",
        "['guerra']\n",
        "['intimidation']\n",
        "['intimidation', 'intimidation']\n",
        "['intimidation', 'intimidation', 'shame']\n",
        "['intimidation']\n",
        "['intimidation', 'intimidation']\n",
        "['intimidation', 'intimidation', 'shame']\n",
        "['lies']"
       ]
      },
      {
       "output_type": "stream",
       "stream": "stdout",
       "text": [
        "\n",
        "['lies', 'lies']\n",
        "['insecurity']\n",
        "['insecurity', 'insecurity']\n",
        "['intimidation']\n",
        "['intimidation', 'intimidation']\n",
        "['intimidation', 'intimidation', 'shame']\n",
        "['detained']\n",
        "['violations']\n",
        "['violations', 'violations']\n",
        "['rights']\n",
        "['insecurity']"
       ]
      },
      {
       "output_type": "stream",
       "stream": "stdout",
       "text": [
        "\n",
        "['insecurity', 'insecurity']\n",
        "['lies']\n",
        "['lies', 'lies']\n",
        "['insecurity']\n",
        "['insecurity', 'insecurity']\n",
        "['hard']\n",
        "['hard', 'took']\n",
        "['right']\n",
        "['rights']\n",
        "['rights']"
       ]
      },
      {
       "output_type": "stream",
       "stream": "stdout",
       "text": [
        "\n",
        "['rights']\n",
        "['insecurity']\n",
        "['insecurity', 'insecurity']\n",
        "['brutal']\n",
        "['deportation']\n",
        "['insecurity']\n",
        "['insecurity', 'insecurity']\n",
        "['fine']\n",
        "['insecurity']"
       ]
      },
      {
       "output_type": "stream",
       "stream": "stdout",
       "text": [
        "\n",
        "['insecurity', 'insecurity']\n",
        "['deportation']\n",
        "['deportation']\n",
        "['deportation']\n",
        "['insecurity']\n",
        "['insecurity', 'insecurity']\n",
        "['violations']"
       ]
      },
      {
       "output_type": "stream",
       "stream": "stdout",
       "text": [
        "\n",
        "['violations', 'violations']\n",
        "['rights']\n",
        "['violations']\n",
        "['violations', 'violations']\n",
        "['rights']\n",
        "['violations']\n",
        "['violations', 'violations']\n",
        "['rights']\n",
        "['violations']\n",
        "['violations', 'violations']\n",
        "['rights']\n",
        "['violations']\n",
        "['violations', 'violations']\n",
        "['rights']\n",
        "['violations']\n",
        "['violations', 'violations']"
       ]
      },
      {
       "output_type": "stream",
       "stream": "stdout",
       "text": [
        "\n",
        "['rights']\n",
        "['violations']\n",
        "['violations', 'violations']\n",
        "['rights']\n",
        "['violations']\n",
        "['violations', 'violations']\n",
        "['rights']\n",
        "['lies']\n",
        "['lies', 'lies']\n",
        "['violations']\n",
        "['violations', 'violations']\n",
        "['rights']\n",
        "['violations']"
       ]
      },
      {
       "output_type": "stream",
       "stream": "stdout",
       "text": [
        "\n",
        "['violations', 'violations']\n",
        "['rights']\n",
        "['violations']\n",
        "['violations', 'violations']\n",
        "['rights']\n",
        "['violations']\n",
        "['violations', 'violations']\n",
        "['rights']\n",
        "['violations']\n",
        "['violations', 'violations']\n",
        "['rights']\n",
        "['violations']\n",
        "['violations', 'violations']\n",
        "['rights']\n",
        "['violations']"
       ]
      },
      {
       "output_type": "stream",
       "stream": "stdout",
       "text": [
        "\n",
        "['violations', 'violations']\n",
        "['rights']\n",
        "['violations']\n",
        "['violations', 'violations']\n",
        "['rights']\n",
        "['violations']\n",
        "['violations', 'violations']\n",
        "['rights']\n",
        "['violations']\n",
        "['violations', 'violations']\n",
        "['rights']\n",
        "['violations']\n",
        "['violations', 'violations']\n",
        "['rights']\n",
        "['violations']"
       ]
      },
      {
       "output_type": "stream",
       "stream": "stdout",
       "text": [
        "\n",
        "['violations', 'violations']\n",
        "['rights']\n",
        "['violations']\n",
        "['violations', 'violations']\n",
        "['rights']\n",
        "['violations']\n",
        "['violations', 'violations']\n",
        "['rights']\n",
        "['violations']\n",
        "['violations', 'violations']\n",
        "['rights']\n",
        "['violations']\n",
        "['violations', 'violations']\n",
        "['rights']\n",
        "['deportation']"
       ]
      },
      {
       "output_type": "stream",
       "stream": "stdout",
       "text": [
        "\n",
        "['violations']\n",
        "['violations', 'violations']\n",
        "['rights']\n",
        "['violations']\n",
        "['violations', 'violations']\n",
        "['rights']\n",
        "['lies']\n",
        "['lies', 'lies']\n",
        "['violations']\n",
        "['violations', 'violations']\n",
        "['rights']\n",
        "['crisis']\n",
        "['violations']"
       ]
      },
      {
       "output_type": "stream",
       "stream": "stdout",
       "text": [
        "\n",
        "['violations', 'violations']\n",
        "['rights']\n",
        "['violations']\n",
        "['violations', 'violations']\n",
        "['rights']\n",
        "['violations']\n",
        "['violations', 'violations']\n",
        "['rights']\n",
        "['rights']\n",
        "['violations']\n",
        "['violations', 'violations']\n",
        "['rights']\n",
        "['violations']"
       ]
      },
      {
       "output_type": "stream",
       "stream": "stdout",
       "text": [
        "\n",
        "['violations', 'violations']\n",
        "['rights']\n",
        "['violations']\n",
        "['violations', 'violations']\n",
        "['rights']\n",
        "['annexation']\n",
        "['annexation', 'annexation']\n",
        "['annexation', 'annexation', 'deportation']\n",
        "['violations']\n",
        "['violations', 'violations']\n",
        "['rights']\n",
        "['violations']\n",
        "['violations', 'violations']\n",
        "['rights']\n",
        "['violations']"
       ]
      },
      {
       "output_type": "stream",
       "stream": "stdout",
       "text": [
        "\n",
        "['violations', 'violations']\n",
        "['rights']\n",
        "['violations']\n",
        "['violations', 'violations']\n",
        "['rights']\n",
        "['violations']\n",
        "['violations', 'violations']\n",
        "['rights']\n",
        "['violations']\n",
        "['violations', 'violations']\n",
        "['rights']\n",
        "['violations']\n",
        "['violations', 'violations']\n",
        "['rights']\n",
        "['violations']\n",
        "['violations', 'violations']\n",
        "['rights']"
       ]
      },
      {
       "output_type": "stream",
       "stream": "stdout",
       "text": [
        "\n",
        "['violations']\n",
        "['violations', 'violations']\n",
        "['rights']\n",
        "['annexation']\n",
        "['annexation', 'annexation']\n",
        "['annexation', 'annexation', 'deportation']\n",
        "['violations']\n",
        "['violations', 'violations']\n",
        "['rights']\n",
        "['annexation']\n",
        "['annexation', 'annexation']\n",
        "['annexation', 'annexation', 'deportation']\n",
        "['violations']\n",
        "['violations', 'violations']\n",
        "['rights']\n",
        "['lies']\n",
        "['lies', 'lies']\n",
        "['rights']"
       ]
      },
      {
       "output_type": "stream",
       "stream": "stdout",
       "text": [
        "\n",
        "['rights', 'top']\n",
        "['violations']\n",
        "['violations', 'violations']\n",
        "['rights']\n",
        "['confrontation']\n",
        "['confrontation', 'confrontation']\n",
        "['gain']\n",
        "['gain', 'rights']\n",
        "['violations']\n",
        "['violations', 'violations']\n",
        "['rights']\n",
        "['violations']\n",
        "['violations', 'violations']\n",
        "['rights']\n",
        "['violations']"
       ]
      },
      {
       "output_type": "stream",
       "stream": "stdout",
       "text": [
        "\n",
        "['violations', 'violations']\n",
        "['rights']\n",
        "['lies']\n",
        "['lies', 'lies']\n",
        "['lies']\n",
        "['lies', 'lies']\n",
        "['lies']\n",
        "['lies', 'lies']\n",
        "['violations']\n",
        "['violations', 'violations']\n",
        "['rights']"
       ]
      },
      {
       "output_type": "stream",
       "stream": "stdout",
       "text": [
        "\n",
        "['violations']\n",
        "['violations', 'violations']\n",
        "['rights']\n",
        "['violations']\n",
        "['violations', 'violations']\n",
        "['rights']\n",
        "['violations']\n",
        "['violations', 'violations']\n",
        "['rights']\n",
        "['violations']\n",
        "['violations', 'violations']\n",
        "['rights']\n",
        "['violations']"
       ]
      },
      {
       "output_type": "stream",
       "stream": "stdout",
       "text": [
        "\n",
        "['violations', 'violations']\n",
        "['rights']\n",
        "['violations']\n",
        "['violations', 'violations']\n",
        "['rights']\n",
        "['violations']\n",
        "['violations', 'violations']\n",
        "['rights']\n",
        "['intimidation']\n",
        "['intimidation', 'intimidation']\n",
        "['intimidation', 'intimidation', 'shame']\n",
        "['wounds']\n",
        "['wounds', 'wounds']\n",
        "['better']\n",
        "['will']"
       ]
      },
      {
       "output_type": "stream",
       "stream": "stdout",
       "text": [
        "\n",
        "['violations']\n",
        "['violations', 'violations']\n",
        "['rights']\n",
        "['violations']\n",
        "['violations', 'violations']\n",
        "['rights']\n",
        "['violations']\n",
        "['violations', 'violations']\n",
        "['rights']\n",
        "['violations']\n",
        "['violations', 'violations']\n",
        "['rights']\n",
        "['intimidation']"
       ]
      },
      {
       "output_type": "stream",
       "stream": "stdout",
       "text": [
        "\n",
        "['intimidation', 'intimidation']\n",
        "['intimidation', 'intimidation', 'shame']\n",
        "['deportation']\n",
        "['violations']\n",
        "['violations', 'violations']\n",
        "['rights']\n",
        "['violations']\n",
        "['violations', 'violations']\n",
        "['rights']\n",
        "['violations']\n",
        "['violations', 'violations']\n",
        "['rights']"
       ]
      },
      {
       "output_type": "stream",
       "stream": "stdout",
       "text": [
        "\n",
        "['violations']\n",
        "['violations', 'violations']\n",
        "['rights']\n",
        "['fear']\n",
        "['fear', 'insecurity']\n",
        "['fear', 'insecurity', 'insecurity']\n",
        "['rights']\n",
        "['lies']\n",
        "['lies', 'lies']\n",
        "['violations']\n",
        "['violations', 'violations']\n",
        "['rights']\n",
        "['violations']"
       ]
      },
      {
       "output_type": "stream",
       "stream": "stdout",
       "text": [
        "\n",
        "['violations', 'violations']\n",
        "['rights']\n",
        "['violations']\n",
        "['violations', 'violations']\n",
        "['rights']\n",
        "['violations']\n",
        "['violations', 'violations']\n",
        "['rights']\n",
        "['violations']\n",
        "['violations', 'violations']\n",
        "['rights']\n",
        "['rights']\n",
        "['violations']\n",
        "['violations', 'violations']\n",
        "['rights']"
       ]
      },
      {
       "output_type": "stream",
       "stream": "stdout",
       "text": [
        "\n",
        "['intimidation']\n",
        "['intimidation', 'intimidation']\n",
        "['intimidation', 'intimidation', 'shame']\n",
        "['violations']\n",
        "['violations', 'violations']\n",
        "['rights']\n",
        "['deportation']\n",
        "['violations']\n",
        "['violations', 'violations']\n",
        "['rights']\n",
        "['violations']\n",
        "['violations', 'violations']\n",
        "['rights']"
       ]
      },
      {
       "output_type": "stream",
       "stream": "stdout",
       "text": [
        "\n",
        "['violations']\n",
        "['violations', 'violations']\n",
        "['rights']\n",
        "['violations']\n",
        "['violations', 'violations']\n",
        "['rights']\n",
        "['willing']\n",
        "['violations']\n",
        "['violations', 'violations']\n",
        "['rights']\n",
        "['violations']"
       ]
      },
      {
       "output_type": "stream",
       "stream": "stdout",
       "text": [
        "\n",
        "['violations', 'violations']\n",
        "['rights']\n",
        "['right']\n",
        "['violations']\n",
        "['violations', 'violations']\n",
        "['rights']\n",
        "['violations']\n",
        "['violations', 'violations']\n",
        "['rights']\n",
        "['mess']\n",
        "['mess', 'mess']\n",
        "['insecurity']\n",
        "['insecurity', 'insecurity']\n",
        "['illegal']\n",
        "['illegal', 'annexation']"
       ]
      },
      {
       "output_type": "stream",
       "stream": "stdout",
       "text": [
        "\n",
        "['illegal', 'annexation', 'annexation']\n",
        "['illegal', 'annexation', 'annexation', 'never']\n",
        "['illegal', 'annexation', 'annexation', 'never', 'illegal']\n",
        "['integrity']\n",
        "['integrity', 'will']\n",
        "['violations']\n",
        "['violations', 'violations']\n",
        "['rights']\n",
        "['will']\n",
        "['violations']\n",
        "['violations', 'violations']\n",
        "['rights']\n",
        "['willing']\n",
        "['concerns']\n",
        "['concerns', 'concerns']\n",
        "['concerns', 'concerns', 'propaganda']\n",
        "['concerns', 'concerns', 'propaganda', 'propaganda']\n",
        "['concerns', 'concerns', 'propaganda', 'propaganda', 'serious']\n",
        "['clearly']\n",
        "['clearly', 'important']"
       ]
      },
      {
       "output_type": "stream",
       "stream": "stdout",
       "text": [
        "\n",
        "['clearly', 'important', 'rights']\n",
        "['brutal']\n",
        "['violations']\n",
        "['violations', 'violations']\n",
        "['rights']\n",
        "['violations']\n",
        "['violations', 'violations']\n",
        "['rights']\n",
        "['violations']\n",
        "['violations', 'violations']\n",
        "['rights']\n",
        "['violations']\n",
        "['violations', 'violations']\n",
        "['rights']"
       ]
      },
      {
       "output_type": "stream",
       "stream": "stdout",
       "text": [
        "\n",
        "['violations']\n",
        "['violations', 'violations']\n",
        "['rights']\n",
        "['violations']\n",
        "['violations', 'violations']\n",
        "['rights']\n",
        "['insecurity']\n",
        "['insecurity', 'insecurity']\n",
        "['intimidation']\n",
        "['intimidation', 'intimidation']\n",
        "['intimidation', 'intimidation', 'shame']\n",
        "['gravely']\n",
        "['insecurity']"
       ]
      },
      {
       "output_type": "stream",
       "stream": "stdout",
       "text": [
        "\n",
        "['insecurity', 'insecurity']\n",
        "['violations']\n",
        "['violations', 'violations']\n",
        "['rights']\n",
        "['insecurity']\n",
        "['insecurity', 'insecurity']\n",
        "['violations']\n",
        "['violations', 'violations']\n",
        "['rights']\n",
        "['wow']"
       ]
      },
      {
       "output_type": "stream",
       "stream": "stdout",
       "text": [
        "\n",
        "['insecurity']\n",
        "['insecurity', 'insecurity']\n",
        "['rights']\n",
        "['insecurity']\n",
        "['insecurity', 'insecurity']\n",
        "['black']\n",
        "['violations']\n",
        "['violations', 'violations']\n",
        "['rights']\n",
        "['war']"
       ]
      },
      {
       "output_type": "stream",
       "stream": "stdout",
       "text": [
        "\n",
        "['black']\n",
        "['violations']\n",
        "['violations', 'violations']\n",
        "['rights']\n",
        "['violations']\n",
        "['violations', 'violations']\n",
        "['rights']\n",
        "['violations']\n",
        "['violations', 'violations']\n",
        "['rights']\n",
        "['detained']"
       ]
      },
      {
       "output_type": "stream",
       "stream": "stdout",
       "text": [
        "\n",
        "['black']\n",
        "['violations']\n",
        "['violations', 'violations']\n",
        "['rights']\n",
        "['black']\n",
        "['genocide']\n",
        "['genocide', 'genocide']\n",
        "['bad']\n",
        "['bad', 'viciously']"
       ]
      },
      {
       "output_type": "stream",
       "stream": "stdout",
       "text": [
        "\n",
        "['bad', 'viciously', 'annexation']\n",
        "['bad', 'viciously', 'annexation', 'annexation']\n",
        "['insecurity']\n",
        "['insecurity', 'insecurity']\n",
        "['black']\n",
        "['black']\n",
        "['intimidation']\n",
        "['intimidation', 'intimidation']\n",
        "['intimidation', 'intimidation', 'shame']\n",
        "['violations']"
       ]
      },
      {
       "output_type": "stream",
       "stream": "stdout",
       "text": [
        "\n",
        "['violations', 'violations']\n",
        "['rights']\n",
        "['black']\n",
        "['deportation']\n",
        "['bloodshed']\n",
        "['victory']\n",
        "['victory', 'victory']\n",
        "['black']\n",
        "['deportation']\n",
        "['violations']\n",
        "['violations', 'violations']\n",
        "['rights']\n",
        "['black']"
       ]
      },
      {
       "output_type": "stream",
       "stream": "stdout",
       "text": [
        "\n",
        "['deportation']\n",
        "['deportation']\n",
        "['deportation']\n",
        "['rights']"
       ]
      },
      {
       "output_type": "stream",
       "stream": "stdout",
       "text": [
        "\n",
        "['beautiful']\n",
        "['violations']\n",
        "['violations', 'violations']\n",
        "['rights']\n",
        "['black']\n",
        "['beautiful']\n",
        "['beautiful']"
       ]
      },
      {
       "output_type": "stream",
       "stream": "stdout",
       "text": [
        "\n",
        "['violations']\n",
        "['violations', 'violations']\n",
        "['rights']\n",
        "['beautiful']\n",
        "['insecurity']\n",
        "['insecurity', 'insecurity']\n",
        "['beautiful']"
       ]
      },
      {
       "output_type": "stream",
       "stream": "stdout",
       "text": [
        "\n",
        "['detained']\n",
        "['beautiful']\n",
        "['denunciation']\n",
        "['denunciation', 'denunciations']\n",
        "['beautiful']\n",
        "['black']"
       ]
      },
      {
       "output_type": "stream",
       "stream": "stdout",
       "text": [
        "\n",
        "['violations']\n",
        "['violations', 'violations']\n",
        "['rights']\n",
        "['insecurity']\n",
        "['insecurity', 'insecurity']\n",
        "['confusing']\n",
        "['confusing', 'violations']\n",
        "['confusing', 'violations', 'violations']\n",
        "['rights']\n",
        "['alarming']\n",
        "['alarming', 'deterioration']\n",
        "['alarming', 'deterioration', 'problems']"
       ]
      },
      {
       "output_type": "stream",
       "stream": "stdout",
       "text": [
        "\n",
        "['alarming', 'deterioration', 'problems', 'problems']\n",
        "['alarming', 'deterioration', 'problems', 'problems', 'serious']\n",
        "['alarming', 'deterioration', 'problems', 'problems', 'serious', 'deterioration']\n",
        "['especially']\n",
        "['beautiful']\n",
        "['beautiful']\n",
        "['insecurity']\n",
        "['insecurity', 'insecurity']\n",
        "['beautiful']\n",
        "['rights']"
       ]
      },
      {
       "output_type": "stream",
       "stream": "stdout",
       "text": [
        "\n",
        "['insecurity']\n",
        "['insecurity', 'insecurity']\n",
        "['rights']\n",
        "['violations']\n",
        "['violations', 'violations']\n",
        "['rights']\n",
        "['rights']\n",
        "['beautiful']\n",
        "['democratic']"
       ]
      },
      {
       "output_type": "stream",
       "stream": "stdout",
       "text": [
        "\n",
        "['democratic', 'free']\n",
        "['beautiful']\n",
        "['black']\n",
        "['violations']\n",
        "['violations', 'violations']\n",
        "['rights']\n",
        "['beautiful']\n",
        "['beautiful']"
       ]
      },
      {
       "output_type": "stream",
       "stream": "stdout",
       "text": [
        "\n",
        "['will']\n",
        "['violations']\n",
        "['violations', 'violations']\n",
        "['rights']\n",
        "['intimidation']\n",
        "['intimidation', 'intimidation']\n",
        "['intimidation', 'intimidation', 'shame']\n",
        "['inconvenient']\n",
        "['inconvenient', 'undo']\n",
        "['rights']"
       ]
      },
      {
       "output_type": "stream",
       "stream": "stdout",
       "text": [
        "\n",
        "['insecurity']\n",
        "['insecurity', 'insecurity']\n",
        "['beautiful']\n",
        "['insecurity']\n",
        "['insecurity', 'insecurity']\n",
        "['beautiful']\n",
        "['black']\n",
        "['concerns']"
       ]
      },
      {
       "output_type": "stream",
       "stream": "stdout",
       "text": [
        "\n",
        "['concerns', 'concerns']\n",
        "['concerns', 'concerns', 'propaganda']\n",
        "['concerns', 'concerns', 'propaganda', 'propaganda']\n",
        "['concerns', 'concerns', 'propaganda', 'propaganda', 'serious']\n",
        "['clearly']\n",
        "['clearly', 'important']\n",
        "['clearly', 'important', 'rights']\n",
        "['sadly']\n",
        "['sadly', 'violations']\n",
        "['sadly', 'violations', 'violations']\n",
        "['rights']\n",
        "['violations']\n",
        "['violations', 'violations']\n",
        "['rights']\n",
        "['rights']\n",
        "['concerns']\n",
        "['concerns', 'concerns']\n",
        "['concerns', 'concerns', 'propaganda']\n",
        "['concerns', 'concerns', 'propaganda', 'propaganda']\n",
        "['concerns', 'concerns', 'propaganda', 'propaganda', 'serious']\n",
        "['clearly']\n",
        "['clearly', 'important']\n",
        "['clearly', 'important', 'rights']\n",
        "['violations']\n",
        "['violations', 'violations']\n",
        "['rights']\n",
        "['violations']"
       ]
      },
      {
       "output_type": "stream",
       "stream": "stdout",
       "text": [
        "\n",
        "['violations', 'violations']\n",
        "['rights']\n",
        "['violations']\n",
        "['violations', 'violations']\n",
        "['rights']\n",
        "['lies']\n",
        "['lies', 'lies']\n",
        "['violations']\n",
        "['violations', 'violations']\n",
        "['rights']\n",
        "['black']\n",
        "['violations']\n",
        "['violations', 'violations']\n",
        "['rights']\n",
        "['took']"
       ]
      },
      {
       "output_type": "stream",
       "stream": "stdout",
       "text": [
        "\n",
        "['accurate']\n",
        "['accurate', 'deal']\n",
        "['harassment']\n",
        "['harassment', 'harassment']\n",
        "['harassment', 'harassment', 'lies']\n",
        "['harassment', 'harassment', 'lies', 'lies']\n",
        "['lost']\n",
        "['intimidation']\n",
        "['intimidation', 'intimidation']\n",
        "['intimidation', 'intimidation', 'shame']\n",
        "['rights']\n",
        "['great']"
       ]
      },
      {
       "output_type": "stream",
       "stream": "stdout",
       "text": [
        "\n",
        "['black']\n",
        "['black']\n",
        "['intimidation']\n",
        "['intimidation', 'intimidation']\n",
        "['intimidation', 'intimidation', 'shame']\n",
        "['lies']\n",
        "['lies', 'lies']\n",
        "['alarming']\n",
        "['alarming', 'deterioration']\n",
        "['alarming', 'deterioration', 'problems']"
       ]
      },
      {
       "output_type": "stream",
       "stream": "stdout",
       "text": [
        "\n",
        "['alarming', 'deterioration', 'problems', 'problems']\n",
        "['alarming', 'deterioration', 'problems', 'problems', 'serious']\n",
        "['alarming', 'deterioration', 'problems', 'problems', 'serious', 'deterioration']\n",
        "['beautiful']\n",
        "['coup']\n",
        "['violations']\n",
        "['violations', 'violations']\n",
        "['rights']\n",
        "['violations']\n",
        "['violations', 'violations']\n",
        "['rights']\n",
        "['beautiful']"
       ]
      },
      {
       "output_type": "stream",
       "stream": "stdout",
       "text": [
        "\n",
        "['violations']\n",
        "['violations', 'violations']\n",
        "['rights']\n",
        "['problem']\n",
        "['violations']\n",
        "['violations', 'violations']\n",
        "['rights']\n",
        "['learned']\n",
        "['violations']\n",
        "['violations', 'violations']\n",
        "['rights']\n",
        "['violations']\n",
        "['violations', 'violations']\n",
        "['rights']"
       ]
      },
      {
       "output_type": "stream",
       "stream": "stdout",
       "text": [
        "\n",
        "['defense']\n",
        "['deportation']\n",
        "['fallout']\n",
        "['adventure']\n",
        "['adventure', 'adventure']\n",
        "['privilege']\n",
        "['fallout']\n",
        "['adventure']"
       ]
      },
      {
       "output_type": "stream",
       "stream": "stdout",
       "text": [
        "\n",
        "['adventure', 'adventure']\n",
        "['forbid']\n",
        "['forbid', 'deportation']\n",
        "['violations']\n",
        "['violations', 'violations']\n",
        "['rights']\n",
        "['insecurity']\n",
        "['insecurity', 'insecurity']\n",
        "['able']\n",
        "['violations']"
       ]
      },
      {
       "output_type": "stream",
       "stream": "stdout",
       "text": [
        "\n",
        "['violations', 'violations']\n",
        "['rights']\n",
        "['persecution']\n",
        "['persecution', 'persecution']\n",
        "['threat']\n",
        "['threat', 'deportation']\n",
        "['violations']\n",
        "['violations', 'violations']\n",
        "['rights']\n",
        "['violations']\n",
        "['violations', 'violations']\n",
        "['rights']\n",
        "['rights']\n",
        "['rights', 'star']\n",
        "['rights', 'star', 'star']\n",
        "['strange']"
       ]
      },
      {
       "output_type": "stream",
       "stream": "stdout",
       "text": [
        "\n",
        "['violations']\n",
        "['violations', 'violations']\n",
        "['rights']\n",
        "['rights']\n",
        "['rights', 'star']\n",
        "['rights', 'star', 'star']\n",
        "['violations']\n",
        "['violations', 'violations']\n",
        "['rights']\n",
        "['especially']\n",
        "['especially', 'love']\n",
        "['violations']"
       ]
      },
      {
       "output_type": "stream",
       "stream": "stdout",
       "text": [
        "\n",
        "['violations', 'violations']\n",
        "['rights']\n",
        "['lies']\n",
        "['lies', 'lies']\n",
        "['violations']\n",
        "['violations', 'violations']\n",
        "['rights']\n",
        "['violations']\n",
        "['violations', 'violations']\n",
        "['rights']\n",
        "['war']"
       ]
      },
      {
       "output_type": "stream",
       "stream": "stdout",
       "text": [
        "\n",
        "['deportation']\n",
        "['intimidation']\n",
        "['intimidation', 'intimidation']\n",
        "['intimidation', 'intimidation', 'shame']\n",
        "['annexation']\n",
        "['annexation', 'annexation']\n",
        "['abuses']\n",
        "['abuses', 'abuses']\n",
        "['abuses', 'abuses', 'against']\n",
        "['rights']\n",
        "['rights']"
       ]
      },
      {
       "output_type": "stream",
       "stream": "stdout",
       "text": [
        "\n"
       ]
      }
     ],
     "prompt_number": 12
    },
    {
     "cell_type": "code",
     "collapsed": false,
     "input": [
      "# If tone is positve, the number of positve words is stored (+ length); Otherwise the length of negative words will be stored (with a -(length)).\n",
      "\n",
      "lenth=len(data.Tweet)\n",
      "\n",
      "mood=0\n",
      "\n",
      "negnum=0\n",
      "posnum=0\n",
      "length=0\n",
      "\n",
      "moodlist=[]\n",
      "i=0\n",
      "saveFile = open(\"julia.txt\",\"w\")\n",
      "while i< lenth:\n",
      "    for word in data.Tweet[i:i+1]:\n",
      "        word=word.split(\" \")\n",
      "        c=Counter(word)\n",
      "    neglist=[]\n",
      "    for wordn in neg.abandoned:\n",
      "        if c.get(wordn,0) > 0:\n",
      "            neglist.append(wordn)\n",
      "            negnum=len(neglist)\n",
      "    poslist=[]        \n",
      "    for wordp in pos.abidance:\n",
      "        if c.get(wordp,0) > 0:\n",
      "            poslist.append(wordp)\n",
      "            posnum=len(poslist)\n",
      "    if len(neglist) > len(poslist): \n",
      "        mood= 0\n",
      "        length= -(negnum)\n",
      "        feeling='negative'\n",
      "    elif len(neglist) < len(poslist):\n",
      "        mood=1\n",
      "        length=posnum\n",
      "    else:\n",
      "        mood= np.nan\n",
      "    mood=str(mood)\n",
      "    length=str(length)\n",
      "    poslist=str(poslist)\n",
      "    neglist=str(neglist)\n",
      "    \n",
      "    \n",
      "    saveFile.write(length)\n",
      "    saveFile.write('\\n')\n",
      "           \n",
      "    \n",
      "    i=i+1\n",
      "saveFile.close() "
     ],
     "language": "python",
     "metadata": {},
     "outputs": [],
     "prompt_number": 19
    }
   ],
   "metadata": {}
  }
 ]
}