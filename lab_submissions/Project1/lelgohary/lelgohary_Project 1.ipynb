{
 "metadata": {
  "name": ""
 },
 "nbformat": 3,
 "nbformat_minor": 0,
 "worksheets": [
  {
   "cells": [
    {
     "cell_type": "code",
     "collapsed": false,
     "input": [
      "#Pulling in libraries\n",
      "import numpy as np\n",
      "import pandas as pd\n",
      "import matplotlib.pyplot as plt\n",
      "\n",
      "%matplotlib inline "
     ],
     "language": "python",
     "metadata": {},
     "outputs": []
    },
    {
     "cell_type": "markdown",
     "metadata": {},
     "source": [
      "STEP 1: ASSEMBLE"
     ]
    },
    {
     "cell_type": "code",
     "collapsed": false,
     "input": [
      "#Importing Relevant Data\n",
      "df = pd.read_csv(\"/Users/lailaelgohary/Desktop/GA Class/Project 1/dohmh_restaurant-inspections_002 3/WebExtract.txt\", \n",
      "                       sep = ',')\n",
      "\n",
      "cuisine = pd.read_csv(\"/Users/lailaelgohary/Desktop/GA Class/Project 1/dohmh_restaurant-inspections_002 3/Cuisine.txt\", \n",
      "                       sep = ',')\n",
      "df"
     ],
     "language": "python",
     "metadata": {},
     "outputs": []
    },
    {
     "cell_type": "code",
     "collapsed": false,
     "input": [
      "#Creating the borough dictionary\n",
      "boro_dict = {'1': 'MANHATTAN', '2': 'BRONX', '3': 'BROOKLYN', '4':'QUEENS', '5':'STATEN ISLAND'}\n",
      "\n",
      "#Converting it to a dataframe so I can then join it to the main df\n",
      "boro_df = pd.DataFrame(boro_dict.items(), columns=['BORO', 'LONG'])\n",
      "boro_df = boro_df.sort(['BORO'])\n",
      "boro_df\n",
      "\n"
     ],
     "language": "python",
     "metadata": {},
     "outputs": []
    },
    {
     "cell_type": "code",
     "collapsed": false,
     "input": [
      "#Join df with the cuisine description based on the CUISINECODE column\n",
      "df_raw = pd.merge(df, cuisine, on='CUISINECODE', how='outer')\n",
      "#df_candb = pd.merge(df_raw,boro_df, on='BORO', how='outer')        #<---- NOTE TO SELF : FIND OUT WHY THIS ISN\"T WORKING!!!\n",
      "#df_candb"
     ],
     "language": "python",
     "metadata": {},
     "outputs": []
    },
    {
     "cell_type": "markdown",
     "metadata": {},
     "source": [
      "STEP 2: CLEAN"
     ]
    },
    {
     "cell_type": "code",
     "collapsed": false,
     "input": [
      "#Dedupes those that are duplicates across all the columns based on the unique id\n",
      "df_clean = df_raw.drop_duplicates(cols='CAMIS', take_last=False, inplace=False)\n",
      "\n",
      "#Noticed that there are quite a few restaurants that the borough is unknown (0) - will remove them\n",
      "df_clean = df_clean[df_clean.BORO != 0]"
     ],
     "language": "python",
     "metadata": {},
     "outputs": []
    },
    {
     "cell_type": "code",
     "collapsed": false,
     "input": [
      "bcounts = df_clean.groupby('BORO')\n",
      "bcounts = bcounts.count()\n",
      "bcounts = bcounts.DBA\n",
      "bcounts = bcounts.reset_index(bcounts, drop = False)\n",
      "\n",
      "\n",
      "#NO MATTER WHAT I DO THIS WON\"T WORK!!!!\n",
      "#bcounts.merge(boro_df, how = 'outer', on='BORO')\n",
      "#bcounts.join(boro_df, on='BORO', how='inner', lsuffix='test')\n",
      "\n",
      "#So I will manually change the numbers to text\n",
      "bcounts.loc[0,'BORO'] = 'MANHATTAN'\n",
      "bcounts.loc[1,'BORO'] = 'BRONX'\n",
      "bcounts.loc[2,'BORO'] = 'BROOKLYN'\n",
      "bcounts.loc[3,'BORO'] = 'QUEENS'\n",
      "bcounts.loc[4,'BORO'] = 'STATEN ISLAND'\n",
      "bcounts\n",
      "\n",
      "#Changing the column names\n",
      "bcounts.rename(columns={'BORO':'BOROUGH','DBA':'RESTCOUNTS'}, inplace=True)\n",
      "bcounts"
     ],
     "language": "python",
     "metadata": {},
     "outputs": []
    },
    {
     "cell_type": "code",
     "collapsed": false,
     "input": [
      "#Creating counts on the number of restaurants there are based on tallying the name column\n",
      "restcounts = df_clean.DBA.value_counts()\n",
      "\n",
      "#Converting it to a dataframe\n",
      "restcounts_df = pd.DataFrame({\"RESTAURANTS\":restcounts.index,\"COUNTS\":restcounts})\n",
      "restcounts_df\n",
      "\n",
      "#Adding an index because it's currently using the rest name as a index (which means I can't plot based on that)\n",
      "#Create a new index\n",
      "newIndex=range(0,len(restcounts_df))\n",
      "restcounts_df['INDEX']=newIndex\n",
      "restcounts_df=restcounts_df.set_index('INDEX')\n",
      "\n",
      "df_rc = restcounts_df\n",
      "\n",
      "#To change the order of the columns.\n",
      "cols = df_rc.columns.tolist()\n",
      "cols = cols[-1:] + cols[:-1]\n",
      "df_rc = df_rc[cols]\n",
      "df_rc"
     ],
     "language": "python",
     "metadata": {},
     "outputs": []
    },
    {
     "cell_type": "code",
     "collapsed": false,
     "input": [
      "#Creating counts on the number of restaurants by cuisine\n",
      "cuscounts = df_clean.CODEDESC.value_counts()\n",
      "\n",
      "#Converting it to a dataframe\n",
      "cuscounts_df = pd.DataFrame({\"Cuisines\":cuscounts.index,\"RestCounts\":cuscounts})\n",
      "cuscounts_df\n",
      "\n",
      "#Adding an index because it's currently using the rest name as a index (which means I can't plot based on that)\n",
      "#Create a new index\n",
      "newIndex2=range(0,len(cuscounts_df))\n",
      "cuscounts_df['INDEX2']=newIndex2\n",
      "cuscounts_df=cuscounts_df.set_index('INDEX2')"
     ],
     "language": "python",
     "metadata": {},
     "outputs": []
    },
    {
     "cell_type": "markdown",
     "metadata": {},
     "source": [
      "STEP 3: EXPLORE"
     ]
    },
    {
     "cell_type": "code",
     "collapsed": false,
     "input": [
      "#The describe function is not very helpful for this dataset\n",
      "df_clean.SCORE.describe()"
     ],
     "language": "python",
     "metadata": {},
     "outputs": []
    },
    {
     "cell_type": "code",
     "collapsed": false,
     "input": [
      "#There are 3 main subsets of data I'll be looking at\n",
      "\n",
      "#bcounts = is the total restaurants broken down by borough.\n",
      "#df_rc = counts of restaurants.  I mostly look at chain restaurants v. their one off counterparts.\n",
      "#cuscount_df = looking at the different types of cuisines across the city."
     ],
     "language": "python",
     "metadata": {},
     "outputs": []
    },
    {
     "cell_type": "code",
     "collapsed": false,
     "input": [
      "#BCOUNTS\n",
      "\n",
      "BLABELS = ['MANHATTAN','BRONX','BROOKLYN','QUEENS','STATEN ISLAND']\t\n",
      "\n",
      "plt.bar(bcounts.BOROUGH.index,bcounts.RESTCOUNTS.values,width=0.8, color ='#0c2c84', edgecolor = '#1d91c0', linewidth =3, alpha = 0.9, align = 'center')\n",
      "plt.grid()\n",
      "plt.title('Number of Restaurants by Borough',size=18)\n",
      "plt.xlabel('Boroughs', size=18)\n",
      "plt.xticks(bcounts.BOROUGH.index, BLABELS, rotation = 25)\n",
      "plt.ylabel('Restaurants', size=18)\n",
      "plt.show()"
     ],
     "language": "python",
     "metadata": {},
     "outputs": []
    },
    {
     "cell_type": "code",
     "collapsed": false,
     "input": [
      "#DF_RC\n",
      "\n",
      "#Calculating the proportion that chain restaurants make of the landscape\n",
      "#df_rc[(df_rc.COUNTS > 1)] = 1273  <----- Wasn't sure how to calculate this within the next line\n",
      "rest2 = round((float(1273)/len(df_rc.COUNTS) * 100),1)\n",
      "rest1 = round((100 - rest2),1) "
     ],
     "language": "python",
     "metadata": {},
     "outputs": []
    },
    {
     "cell_type": "code",
     "collapsed": false,
     "input": [
      "#Caluclating the sum of restaurants that are chains\n",
      "r2plus = df_rc[(df_rc.COUNTS>1)]\n",
      "r2plus = r2plus.COUNTS.sum()\n",
      "r2plus\n",
      "\n",
      "#Calculating the sum of restaurants where there is only one in the city\n",
      "r1only = df_rc[(df_rc.COUNTS==1)]\n",
      "r1only = r1only.COUNTS.sum()\n",
      "r1only\n",
      "\n",
      "#All the restaurants in the city\n",
      "allr = df_rc.COUNTS.sum()\n",
      "allr\n",
      "\n",
      "r2plus_share = round((float(r2plus)/allr * 100),1)\n",
      "r2plus_share\n"
     ],
     "language": "python",
     "metadata": {},
     "outputs": []
    },
    {
     "cell_type": "code",
     "collapsed": false,
     "input": [
      "#Interesting Stat\n",
      "i_s = 'While only %s percent of all the restaurants in NYC have more than one location, they account for %s percent of the total restaurants in the city.' %(rest2, r2plus_share)\n",
      "i_s      #<------ NOT SURE HOW TO DO THE % SIGN INSIDE A STRING"
     ],
     "language": "python",
     "metadata": {},
     "outputs": []
    },
    {
     "cell_type": "code",
     "collapsed": true,
     "input": [
      "#CUSCOUNTS_DF\n",
      "\n",
      "#Narrowing it to the top 10 cuisine types\n",
      "cc2 = cuscounts_df[0:10]\n",
      "LABELS = ['American', 'Chinese','Other','Pizza','Cafe','Italian','Latin','Japanese','Mexican','Bakery'] \n",
      "\n",
      "#Regular bar chart\n",
      "plt.bar(cc2.Cuisines.index,cc2.RestCounts.values,width=0.9, color ='#525252', edgecolor = '#31a354', linewidth =1)\n",
      "plt.grid()\n",
      "plt.title('Restaurant Counts by Cuisine Type - Top 10')\n",
      "plt.xlabel('Cuisine Types')\n",
      "plt.xticks(cc2.Cuisines.index, LABELS, rotation = 25)\n",
      "plt.ylabel('Restaurant Counts')\n",
      "plt.show()"
     ],
     "language": "python",
     "metadata": {},
     "outputs": []
    },
    {
     "cell_type": "code",
     "collapsed": false,
     "input": [
      "#cc2.sort(['RestCounts'], ascending=[1]) <---- -NOT WORKING\n",
      "\n",
      "plt.barh(cc2.Cuisines.index,cc2.RestCounts.values, align='edge', color = '#525252', edgecolor = '#31a354', linewidth =1)\n",
      "plt.grid()\n",
      "plt.title('Restaurant Counts by Cuisine Type - Top 10', fontsize=18)\n",
      "plt.ylabel('Cuisine Types',fontsize=14)\n",
      "plt.yticks(cc2.Cuisines.index, LABELS,fontsize=12)\n",
      "plt.xlabel('Restaurant Counts',fontsize=14)\n",
      "plt.show()\n",
      "\n",
      "#Haven't figured out a way to sort it so that the largest value is on top."
     ],
     "language": "python",
     "metadata": {},
     "outputs": []
    },
    {
     "cell_type": "code",
     "collapsed": false,
     "input": [
      "score = df_clean[[11,12]]\n",
      "score = score.dropna()\n",
      "score = pd.DataFrame(score.sort(['SCORE']))\n",
      "\n",
      "print score\n",
      "type(score)"
     ],
     "language": "python",
     "metadata": {},
     "outputs": []
    },
    {
     "cell_type": "code",
     "collapsed": false,
     "input": [
      "#HISTOGRAM OF SANITATION SCORES\n",
      "score = df_clean[[11,12]]\n",
      "score = score.dropna()\n",
      "score = pd.DataFrame(score.sort(['SCORE']))\n",
      "\n",
      "fig,ax1 = plt.subplots(1,1)\n",
      "ax1.hist(score.SCORE,bins=np.arange(0,60,10),color='white')\n",
      "ax1.set_title('Sanitation Scores')\n",
      "ax1.set_xlabel('Score')"
     ],
     "language": "python",
     "metadata": {},
     "outputs": []
    },
    {
     "cell_type": "markdown",
     "metadata": {},
     "source": [
      "Thank you for taking a look at this, and for all your hard work... this was awesome!"
     ]
    }
   ],
   "metadata": {}
  }
 ]
}