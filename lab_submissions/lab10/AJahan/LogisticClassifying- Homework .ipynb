{
 "metadata": {
  "name": "",
  "signature": "sha256:207af99fe89cd521227aacf5ee236a033dcf5a22054258771844dd8f7d6294a8"
 },
 "nbformat": 3,
 "nbformat_minor": 0,
 "worksheets": [
  {
   "cells": [
    {
     "cell_type": "code",
     "collapsed": false,
     "input": [],
     "language": "python",
     "metadata": {},
     "outputs": [],
     "prompt_number": 55
    },
    {
     "cell_type": "code",
     "collapsed": false,
     "input": [],
     "language": "python",
     "metadata": {},
     "outputs": [],
     "prompt_number": 55
    },
    {
     "cell_type": "markdown",
     "metadata": {},
     "source": [
      "# Logistic Classification Example with the Iris Data Set"
     ]
    },
    {
     "cell_type": "code",
     "collapsed": false,
     "input": [
      "import numpy as np\n",
      "import pandas as pd\n",
      "import pylab as pl\n",
      "\n",
      "\n",
      "from sklearn import datasets\n",
      "\n",
      "%pylab inline"
     ],
     "language": "python",
     "metadata": {},
     "outputs": [
      {
       "output_type": "stream",
       "stream": "stdout",
       "text": [
        "Populating the interactive namespace from numpy and matplotlib\n"
       ]
      }
     ],
     "prompt_number": 56
    },
    {
     "cell_type": "markdown",
     "metadata": {},
     "source": [
      "### Acquire the data: Flower Power"
     ]
    },
    {
     "cell_type": "code",
     "collapsed": false,
     "input": [
      "# Load the data\n",
      "# take a look at the datasets available:\n",
      "#datasets."
     ],
     "language": "python",
     "metadata": {},
     "outputs": [],
     "prompt_number": 57
    },
    {
     "cell_type": "code",
     "collapsed": false,
     "input": [],
     "language": "python",
     "metadata": {},
     "outputs": [],
     "prompt_number": 57
    },
    {
     "cell_type": "code",
     "collapsed": false,
     "input": [
      "# import built in iris data set\n",
      "iris = datasets.load_iris()\n",
      "print iris.data\n",
      "\n",
      "df = pd.DataFrame(iris.data)\n",
      "\n",
      "#the iris.data means that it'll take only the values rather than all the information that comes in the library such as dtype)"
     ],
     "language": "python",
     "metadata": {},
     "outputs": [
      {
       "output_type": "stream",
       "stream": "stdout",
       "text": [
        "[[ 5.1  3.5  1.4  0.2]\n",
        " [ 4.9  3.   1.4  0.2]\n",
        " [ 4.7  3.2  1.3  0.2]\n",
        " [ 4.6  3.1  1.5  0.2]\n",
        " [ 5.   3.6  1.4  0.2]\n",
        " [ 5.4  3.9  1.7  0.4]\n",
        " [ 4.6  3.4  1.4  0.3]\n",
        " [ 5.   3.4  1.5  0.2]\n",
        " [ 4.4  2.9  1.4  0.2]\n",
        " [ 4.9  3.1  1.5  0.1]\n",
        " [ 5.4  3.7  1.5  0.2]\n",
        " [ 4.8  3.4  1.6  0.2]\n",
        " [ 4.8  3.   1.4  0.1]\n",
        " [ 4.3  3.   1.1  0.1]\n",
        " [ 5.8  4.   1.2  0.2]\n",
        " [ 5.7  4.4  1.5  0.4]\n",
        " [ 5.4  3.9  1.3  0.4]\n",
        " [ 5.1  3.5  1.4  0.3]\n",
        " [ 5.7  3.8  1.7  0.3]\n",
        " [ 5.1  3.8  1.5  0.3]\n",
        " [ 5.4  3.4  1.7  0.2]\n",
        " [ 5.1  3.7  1.5  0.4]\n",
        " [ 4.6  3.6  1.   0.2]\n",
        " [ 5.1  3.3  1.7  0.5]\n",
        " [ 4.8  3.4  1.9  0.2]\n",
        " [ 5.   3.   1.6  0.2]\n",
        " [ 5.   3.4  1.6  0.4]\n",
        " [ 5.2  3.5  1.5  0.2]\n",
        " [ 5.2  3.4  1.4  0.2]\n",
        " [ 4.7  3.2  1.6  0.2]\n",
        " [ 4.8  3.1  1.6  0.2]\n",
        " [ 5.4  3.4  1.5  0.4]\n",
        " [ 5.2  4.1  1.5  0.1]\n",
        " [ 5.5  4.2  1.4  0.2]\n",
        " [ 4.9  3.1  1.5  0.1]\n",
        " [ 5.   3.2  1.2  0.2]\n",
        " [ 5.5  3.5  1.3  0.2]\n",
        " [ 4.9  3.1  1.5  0.1]\n",
        " [ 4.4  3.   1.3  0.2]\n",
        " [ 5.1  3.4  1.5  0.2]\n",
        " [ 5.   3.5  1.3  0.3]\n",
        " [ 4.5  2.3  1.3  0.3]\n",
        " [ 4.4  3.2  1.3  0.2]\n",
        " [ 5.   3.5  1.6  0.6]\n",
        " [ 5.1  3.8  1.9  0.4]\n",
        " [ 4.8  3.   1.4  0.3]\n",
        " [ 5.1  3.8  1.6  0.2]\n",
        " [ 4.6  3.2  1.4  0.2]\n",
        " [ 5.3  3.7  1.5  0.2]\n",
        " [ 5.   3.3  1.4  0.2]\n",
        " [ 7.   3.2  4.7  1.4]\n",
        " [ 6.4  3.2  4.5  1.5]\n",
        " [ 6.9  3.1  4.9  1.5]\n",
        " [ 5.5  2.3  4.   1.3]\n",
        " [ 6.5  2.8  4.6  1.5]\n",
        " [ 5.7  2.8  4.5  1.3]\n",
        " [ 6.3  3.3  4.7  1.6]\n",
        " [ 4.9  2.4  3.3  1. ]\n",
        " [ 6.6  2.9  4.6  1.3]\n",
        " [ 5.2  2.7  3.9  1.4]\n",
        " [ 5.   2.   3.5  1. ]\n",
        " [ 5.9  3.   4.2  1.5]\n",
        " [ 6.   2.2  4.   1. ]\n",
        " [ 6.1  2.9  4.7  1.4]\n",
        " [ 5.6  2.9  3.6  1.3]\n",
        " [ 6.7  3.1  4.4  1.4]\n",
        " [ 5.6  3.   4.5  1.5]\n",
        " [ 5.8  2.7  4.1  1. ]\n",
        " [ 6.2  2.2  4.5  1.5]\n",
        " [ 5.6  2.5  3.9  1.1]\n",
        " [ 5.9  3.2  4.8  1.8]\n",
        " [ 6.1  2.8  4.   1.3]\n",
        " [ 6.3  2.5  4.9  1.5]\n",
        " [ 6.1  2.8  4.7  1.2]\n",
        " [ 6.4  2.9  4.3  1.3]\n",
        " [ 6.6  3.   4.4  1.4]\n",
        " [ 6.8  2.8  4.8  1.4]\n",
        " [ 6.7  3.   5.   1.7]\n",
        " [ 6.   2.9  4.5  1.5]\n",
        " [ 5.7  2.6  3.5  1. ]\n",
        " [ 5.5  2.4  3.8  1.1]\n",
        " [ 5.5  2.4  3.7  1. ]\n",
        " [ 5.8  2.7  3.9  1.2]\n",
        " [ 6.   2.7  5.1  1.6]\n",
        " [ 5.4  3.   4.5  1.5]\n",
        " [ 6.   3.4  4.5  1.6]\n",
        " [ 6.7  3.1  4.7  1.5]\n",
        " [ 6.3  2.3  4.4  1.3]\n",
        " [ 5.6  3.   4.1  1.3]\n",
        " [ 5.5  2.5  4.   1.3]\n",
        " [ 5.5  2.6  4.4  1.2]\n",
        " [ 6.1  3.   4.6  1.4]\n",
        " [ 5.8  2.6  4.   1.2]\n",
        " [ 5.   2.3  3.3  1. ]\n",
        " [ 5.6  2.7  4.2  1.3]\n",
        " [ 5.7  3.   4.2  1.2]\n",
        " [ 5.7  2.9  4.2  1.3]\n",
        " [ 6.2  2.9  4.3  1.3]\n",
        " [ 5.1  2.5  3.   1.1]\n",
        " [ 5.7  2.8  4.1  1.3]\n",
        " [ 6.3  3.3  6.   2.5]\n",
        " [ 5.8  2.7  5.1  1.9]\n",
        " [ 7.1  3.   5.9  2.1]\n",
        " [ 6.3  2.9  5.6  1.8]\n",
        " [ 6.5  3.   5.8  2.2]\n",
        " [ 7.6  3.   6.6  2.1]\n",
        " [ 4.9  2.5  4.5  1.7]\n",
        " [ 7.3  2.9  6.3  1.8]\n",
        " [ 6.7  2.5  5.8  1.8]\n",
        " [ 7.2  3.6  6.1  2.5]\n",
        " [ 6.5  3.2  5.1  2. ]\n",
        " [ 6.4  2.7  5.3  1.9]\n",
        " [ 6.8  3.   5.5  2.1]\n",
        " [ 5.7  2.5  5.   2. ]\n",
        " [ 5.8  2.8  5.1  2.4]\n",
        " [ 6.4  3.2  5.3  2.3]\n",
        " [ 6.5  3.   5.5  1.8]\n",
        " [ 7.7  3.8  6.7  2.2]\n",
        " [ 7.7  2.6  6.9  2.3]\n",
        " [ 6.   2.2  5.   1.5]\n",
        " [ 6.9  3.2  5.7  2.3]\n",
        " [ 5.6  2.8  4.9  2. ]\n",
        " [ 7.7  2.8  6.7  2. ]\n",
        " [ 6.3  2.7  4.9  1.8]\n",
        " [ 6.7  3.3  5.7  2.1]\n",
        " [ 7.2  3.2  6.   1.8]\n",
        " [ 6.2  2.8  4.8  1.8]\n",
        " [ 6.1  3.   4.9  1.8]\n",
        " [ 6.4  2.8  5.6  2.1]\n",
        " [ 7.2  3.   5.8  1.6]\n",
        " [ 7.4  2.8  6.1  1.9]\n",
        " [ 7.9  3.8  6.4  2. ]\n",
        " [ 6.4  2.8  5.6  2.2]\n",
        " [ 6.3  2.8  5.1  1.5]\n",
        " [ 6.1  2.6  5.6  1.4]\n",
        " [ 7.7  3.   6.1  2.3]\n",
        " [ 6.3  3.4  5.6  2.4]\n",
        " [ 6.4  3.1  5.5  1.8]\n",
        " [ 6.   3.   4.8  1.8]\n",
        " [ 6.9  3.1  5.4  2.1]\n",
        " [ 6.7  3.1  5.6  2.4]\n",
        " [ 6.9  3.1  5.1  2.3]\n",
        " [ 5.8  2.7  5.1  1.9]\n",
        " [ 6.8  3.2  5.9  2.3]\n",
        " [ 6.7  3.3  5.7  2.5]\n",
        " [ 6.7  3.   5.2  2.3]\n",
        " [ 6.3  2.5  5.   1.9]\n",
        " [ 6.5  3.   5.2  2. ]\n",
        " [ 6.2  3.4  5.4  2.3]\n",
        " [ 5.9  3.   5.1  1.8]]\n"
       ]
      }
     ],
     "prompt_number": 58
    },
    {
     "cell_type": "code",
     "collapsed": false,
     "input": [
      "# About the data\n"
     ],
     "language": "python",
     "metadata": {},
     "outputs": [],
     "prompt_number": 59
    },
    {
     "cell_type": "code",
     "collapsed": false,
     "input": [
      "print(iris.DESCR)\n",
      "df.describe()"
     ],
     "language": "python",
     "metadata": {},
     "outputs": [
      {
       "output_type": "stream",
       "stream": "stdout",
       "text": [
        "Iris Plants Database\n",
        "\n",
        "Notes\n",
        "-----\n",
        "Data Set Characteristics:\n",
        "    :Number of Instances: 150 (50 in each of three classes)\n",
        "    :Number of Attributes: 4 numeric, predictive attributes and the class\n",
        "    :Attribute Information:\n",
        "        - sepal length in cm\n",
        "        - sepal width in cm\n",
        "        - petal length in cm\n",
        "        - petal width in cm\n",
        "        - class:\n",
        "                - Iris-Setosa\n",
        "                - Iris-Versicolour\n",
        "                - Iris-Virginica\n",
        "    :Summary Statistics:\n",
        "    ============== ==== ==== ======= ===== ====================\n",
        "                    Min  Max   Mean    SD   Class Correlation\n",
        "    ============== ==== ==== ======= ===== ====================\n",
        "    sepal length:   4.3  7.9   5.84   0.83    0.7826\n",
        "    sepal width:    2.0  4.4   3.05   0.43   -0.4194\n",
        "    petal length:   1.0  6.9   3.76   1.76    0.9490  (high!)\n",
        "    petal width:    0.1  2.5   1.20  0.76     0.9565  (high!)\n",
        "    ============== ==== ==== ======= ===== ====================\n",
        "    :Missing Attribute Values: None\n",
        "    :Class Distribution: 33.3% for each of 3 classes.\n",
        "    :Creator: R.A. Fisher\n",
        "    :Donor: Michael Marshall (MARSHALL%PLU@io.arc.nasa.gov)\n",
        "    :Date: July, 1988\n",
        "\n",
        "This is a copy of UCI ML iris datasets.\n",
        "http://archive.ics.uci.edu/ml/datasets/Iris\n",
        "\n",
        "The famous Iris database, first used by Sir R.A Fisher\n",
        "\n",
        "This is perhaps the best known database to be found in the\n",
        "pattern recognition literature.  Fisher's paper is a classic in the field and\n",
        "is referenced frequently to this day.  (See Duda & Hart, for example.)  The\n",
        "data set contains 3 classes of 50 instances each, where each class refers to a\n",
        "type of iris plant.  One class is linearly separable from the other 2; the\n",
        "latter are NOT linearly separable from each other.\n",
        "\n",
        "References\n",
        "----------\n",
        "   - Fisher,R.A. \"The use of multiple measurements in taxonomic problems\"\n",
        "     Annual Eugenics, 7, Part II, 179-188 (1936); also in \"Contributions to\n",
        "     Mathematical Statistics\" (John Wiley, NY, 1950).\n",
        "   - Duda,R.O., & Hart,P.E. (1973) Pattern Classification and Scene Analysis.\n",
        "     (Q327.D83) John Wiley & Sons.  ISBN 0-471-22361-1.  See page 218.\n",
        "   - Dasarathy, B.V. (1980) \"Nosing Around the Neighborhood: A New System\n",
        "     Structure and Classification Rule for Recognition in Partially Exposed\n",
        "     Environments\".  IEEE Transactions on Pattern Analysis and Machine\n",
        "     Intelligence, Vol. PAMI-2, No. 1, 67-71.\n",
        "   - Gates, G.W. (1972) \"The Reduced Nearest Neighbor Rule\".  IEEE Transactions\n",
        "     on Information Theory, May 1972, 431-433.\n",
        "   - See also: 1988 MLC Proceedings, 54-64.  Cheeseman et al\"s AUTOCLASS II\n",
        "     conceptual clustering system finds 3 classes in the data.\n",
        "   - Many, many more ...\n",
        "\n"
       ]
      },
      {
       "html": [
        "<div style=\"max-height:1000px;max-width:1500px;overflow:auto;\">\n",
        "<table border=\"1\" class=\"dataframe\">\n",
        "  <thead>\n",
        "    <tr style=\"text-align: right;\">\n",
        "      <th></th>\n",
        "      <th>0</th>\n",
        "      <th>1</th>\n",
        "      <th>2</th>\n",
        "      <th>3</th>\n",
        "    </tr>\n",
        "  </thead>\n",
        "  <tbody>\n",
        "    <tr>\n",
        "      <th>count</th>\n",
        "      <td> 150.000000</td>\n",
        "      <td> 150.000000</td>\n",
        "      <td> 150.000000</td>\n",
        "      <td> 150.000000</td>\n",
        "    </tr>\n",
        "    <tr>\n",
        "      <th>mean</th>\n",
        "      <td>   5.843333</td>\n",
        "      <td>   3.054000</td>\n",
        "      <td>   3.758667</td>\n",
        "      <td>   1.198667</td>\n",
        "    </tr>\n",
        "    <tr>\n",
        "      <th>std</th>\n",
        "      <td>   0.828066</td>\n",
        "      <td>   0.433594</td>\n",
        "      <td>   1.764420</td>\n",
        "      <td>   0.763161</td>\n",
        "    </tr>\n",
        "    <tr>\n",
        "      <th>min</th>\n",
        "      <td>   4.300000</td>\n",
        "      <td>   2.000000</td>\n",
        "      <td>   1.000000</td>\n",
        "      <td>   0.100000</td>\n",
        "    </tr>\n",
        "    <tr>\n",
        "      <th>25%</th>\n",
        "      <td>   5.100000</td>\n",
        "      <td>   2.800000</td>\n",
        "      <td>   1.600000</td>\n",
        "      <td>   0.300000</td>\n",
        "    </tr>\n",
        "    <tr>\n",
        "      <th>50%</th>\n",
        "      <td>   5.800000</td>\n",
        "      <td>   3.000000</td>\n",
        "      <td>   4.350000</td>\n",
        "      <td>   1.300000</td>\n",
        "    </tr>\n",
        "    <tr>\n",
        "      <th>75%</th>\n",
        "      <td>   6.400000</td>\n",
        "      <td>   3.300000</td>\n",
        "      <td>   5.100000</td>\n",
        "      <td>   1.800000</td>\n",
        "    </tr>\n",
        "    <tr>\n",
        "      <th>max</th>\n",
        "      <td>   7.900000</td>\n",
        "      <td>   4.400000</td>\n",
        "      <td>   6.900000</td>\n",
        "      <td>   2.500000</td>\n",
        "    </tr>\n",
        "  </tbody>\n",
        "</table>\n",
        "<p>8 rows \u00d7 4 columns</p>\n",
        "</div>"
       ],
       "metadata": {},
       "output_type": "pyout",
       "prompt_number": 60,
       "text": [
        "                0           1           2           3\n",
        "count  150.000000  150.000000  150.000000  150.000000\n",
        "mean     5.843333    3.054000    3.758667    1.198667\n",
        "std      0.828066    0.433594    1.764420    0.763161\n",
        "min      4.300000    2.000000    1.000000    0.100000\n",
        "25%      5.100000    2.800000    1.600000    0.300000\n",
        "50%      5.800000    3.000000    4.350000    1.300000\n",
        "75%      6.400000    3.300000    5.100000    1.800000\n",
        "max      7.900000    4.400000    6.900000    2.500000\n",
        "\n",
        "[8 rows x 4 columns]"
       ]
      }
     ],
     "prompt_number": 60
    },
    {
     "cell_type": "code",
     "collapsed": false,
     "input": [
      "#Take a look\n",
      "df = pd.DataFrame(iris.data)\n",
      "df.columns=(iris.feature_names)\n",
      "df['Flower Type']=pd.Series(iris.target)\n"
     ],
     "language": "python",
     "metadata": {},
     "outputs": [],
     "prompt_number": 61
    },
    {
     "cell_type": "markdown",
     "metadata": {},
     "source": [
      "### Clean - Its already pretty clean thanks to Sir Ronald Fisher\n",
      "![](http://upload.wikimedia.org/wikipedia/commons/thumb/4/46/R._A._Fischer.jpg/200px-R._A._Fischer.jpg)"
     ]
    },
    {
     "cell_type": "code",
     "collapsed": false,
     "input": [
      "df.head()"
     ],
     "language": "python",
     "metadata": {},
     "outputs": [
      {
       "html": [
        "<div style=\"max-height:1000px;max-width:1500px;overflow:auto;\">\n",
        "<table border=\"1\" class=\"dataframe\">\n",
        "  <thead>\n",
        "    <tr style=\"text-align: right;\">\n",
        "      <th></th>\n",
        "      <th>sepal length (cm)</th>\n",
        "      <th>sepal width (cm)</th>\n",
        "      <th>petal length (cm)</th>\n",
        "      <th>petal width (cm)</th>\n",
        "      <th>Flower Type</th>\n",
        "    </tr>\n",
        "  </thead>\n",
        "  <tbody>\n",
        "    <tr>\n",
        "      <th>0</th>\n",
        "      <td> 5.1</td>\n",
        "      <td> 3.5</td>\n",
        "      <td> 1.4</td>\n",
        "      <td> 0.2</td>\n",
        "      <td> 0</td>\n",
        "    </tr>\n",
        "    <tr>\n",
        "      <th>1</th>\n",
        "      <td> 4.9</td>\n",
        "      <td> 3.0</td>\n",
        "      <td> 1.4</td>\n",
        "      <td> 0.2</td>\n",
        "      <td> 0</td>\n",
        "    </tr>\n",
        "    <tr>\n",
        "      <th>2</th>\n",
        "      <td> 4.7</td>\n",
        "      <td> 3.2</td>\n",
        "      <td> 1.3</td>\n",
        "      <td> 0.2</td>\n",
        "      <td> 0</td>\n",
        "    </tr>\n",
        "    <tr>\n",
        "      <th>3</th>\n",
        "      <td> 4.6</td>\n",
        "      <td> 3.1</td>\n",
        "      <td> 1.5</td>\n",
        "      <td> 0.2</td>\n",
        "      <td> 0</td>\n",
        "    </tr>\n",
        "    <tr>\n",
        "      <th>4</th>\n",
        "      <td> 5.0</td>\n",
        "      <td> 3.6</td>\n",
        "      <td> 1.4</td>\n",
        "      <td> 0.2</td>\n",
        "      <td> 0</td>\n",
        "    </tr>\n",
        "  </tbody>\n",
        "</table>\n",
        "<p>5 rows \u00d7 5 columns</p>\n",
        "</div>"
       ],
       "metadata": {},
       "output_type": "pyout",
       "prompt_number": 62,
       "text": [
        "   sepal length (cm)  sepal width (cm)  petal length (cm)  petal width (cm)  \\\n",
        "0                5.1               3.5                1.4               0.2   \n",
        "1                4.9               3.0                1.4               0.2   \n",
        "2                4.7               3.2                1.3               0.2   \n",
        "3                4.6               3.1                1.5               0.2   \n",
        "4                5.0               3.6                1.4               0.2   \n",
        "\n",
        "   Flower Type  \n",
        "0            0  \n",
        "1            0  \n",
        "2            0  \n",
        "3            0  \n",
        "4            0  \n",
        "\n",
        "[5 rows x 5 columns]"
       ]
      }
     ],
     "prompt_number": 62
    },
    {
     "cell_type": "markdown",
     "metadata": {},
     "source": [
      "### Explore\n",
      "Our 3 Species:\n",
      "![](http://note.io/1iY4u5U)"
     ]
    },
    {
     "cell_type": "code",
     "collapsed": false,
     "input": [
      "df.describe()"
     ],
     "language": "python",
     "metadata": {},
     "outputs": [
      {
       "html": [
        "<div style=\"max-height:1000px;max-width:1500px;overflow:auto;\">\n",
        "<table border=\"1\" class=\"dataframe\">\n",
        "  <thead>\n",
        "    <tr style=\"text-align: right;\">\n",
        "      <th></th>\n",
        "      <th>sepal length (cm)</th>\n",
        "      <th>sepal width (cm)</th>\n",
        "      <th>petal length (cm)</th>\n",
        "      <th>petal width (cm)</th>\n",
        "      <th>Flower Type</th>\n",
        "    </tr>\n",
        "  </thead>\n",
        "  <tbody>\n",
        "    <tr>\n",
        "      <th>count</th>\n",
        "      <td> 150.000000</td>\n",
        "      <td> 150.000000</td>\n",
        "      <td> 150.000000</td>\n",
        "      <td> 150.000000</td>\n",
        "      <td> 150.000000</td>\n",
        "    </tr>\n",
        "    <tr>\n",
        "      <th>mean</th>\n",
        "      <td>   5.843333</td>\n",
        "      <td>   3.054000</td>\n",
        "      <td>   3.758667</td>\n",
        "      <td>   1.198667</td>\n",
        "      <td>   1.000000</td>\n",
        "    </tr>\n",
        "    <tr>\n",
        "      <th>std</th>\n",
        "      <td>   0.828066</td>\n",
        "      <td>   0.433594</td>\n",
        "      <td>   1.764420</td>\n",
        "      <td>   0.763161</td>\n",
        "      <td>   0.819232</td>\n",
        "    </tr>\n",
        "    <tr>\n",
        "      <th>min</th>\n",
        "      <td>   4.300000</td>\n",
        "      <td>   2.000000</td>\n",
        "      <td>   1.000000</td>\n",
        "      <td>   0.100000</td>\n",
        "      <td>   0.000000</td>\n",
        "    </tr>\n",
        "    <tr>\n",
        "      <th>25%</th>\n",
        "      <td>   5.100000</td>\n",
        "      <td>   2.800000</td>\n",
        "      <td>   1.600000</td>\n",
        "      <td>   0.300000</td>\n",
        "      <td>   0.000000</td>\n",
        "    </tr>\n",
        "    <tr>\n",
        "      <th>50%</th>\n",
        "      <td>   5.800000</td>\n",
        "      <td>   3.000000</td>\n",
        "      <td>   4.350000</td>\n",
        "      <td>   1.300000</td>\n",
        "      <td>   1.000000</td>\n",
        "    </tr>\n",
        "    <tr>\n",
        "      <th>75%</th>\n",
        "      <td>   6.400000</td>\n",
        "      <td>   3.300000</td>\n",
        "      <td>   5.100000</td>\n",
        "      <td>   1.800000</td>\n",
        "      <td>   2.000000</td>\n",
        "    </tr>\n",
        "    <tr>\n",
        "      <th>max</th>\n",
        "      <td>   7.900000</td>\n",
        "      <td>   4.400000</td>\n",
        "      <td>   6.900000</td>\n",
        "      <td>   2.500000</td>\n",
        "      <td>   2.000000</td>\n",
        "    </tr>\n",
        "  </tbody>\n",
        "</table>\n",
        "<p>8 rows \u00d7 5 columns</p>\n",
        "</div>"
       ],
       "metadata": {},
       "output_type": "pyout",
       "prompt_number": 63,
       "text": [
        "       sepal length (cm)  sepal width (cm)  petal length (cm)  \\\n",
        "count         150.000000        150.000000         150.000000   \n",
        "mean            5.843333          3.054000           3.758667   \n",
        "std             0.828066          0.433594           1.764420   \n",
        "min             4.300000          2.000000           1.000000   \n",
        "25%             5.100000          2.800000           1.600000   \n",
        "50%             5.800000          3.000000           4.350000   \n",
        "75%             6.400000          3.300000           5.100000   \n",
        "max             7.900000          4.400000           6.900000   \n",
        "\n",
        "       petal width (cm)  Flower Type  \n",
        "count        150.000000   150.000000  \n",
        "mean           1.198667     1.000000  \n",
        "std            0.763161     0.819232  \n",
        "min            0.100000     0.000000  \n",
        "25%            0.300000     0.000000  \n",
        "50%            1.300000     1.000000  \n",
        "75%            1.800000     2.000000  \n",
        "max            2.500000     2.000000  \n",
        "\n",
        "[8 rows x 5 columns]"
       ]
      }
     ],
     "prompt_number": 63
    },
    {
     "cell_type": "code",
     "collapsed": false,
     "input": [
      "pd.tools.plotting.scatter_matrix??"
     ],
     "language": "python",
     "metadata": {},
     "outputs": [],
     "prompt_number": 64
    },
    {
     "cell_type": "markdown",
     "metadata": {},
     "source": [
      "the pd.tools.plotting.scatter_matrix has a built in code that allows to create an entire matrix of histograms where it plots al lthe variables against each other"
     ]
    },
    {
     "cell_type": "code",
     "collapsed": false,
     "input": [
      "pd.tools.plotting.scatter_matrix(df,alpha=.8,figsize=(15,15))"
     ],
     "language": "python",
     "metadata": {},
     "outputs": [
      {
       "metadata": {},
       "output_type": "pyout",
       "prompt_number": 65,
       "text": [
        "array([[<matplotlib.axes.AxesSubplot object at 0x10debb290>,\n",
        "        <matplotlib.axes.AxesSubplot object at 0x10dec51d0>,\n",
        "        <matplotlib.axes.AxesSubplot object at 0x10dee7d90>,\n",
        "        <matplotlib.axes.AxesSubplot object at 0x10f90a4d0>,\n",
        "        <matplotlib.axes.AxesSubplot object at 0x10f932b10>],\n",
        "       [<matplotlib.axes.AxesSubplot object at 0x10f957750>,\n",
        "        <matplotlib.axes.AxesSubplot object at 0x10f979790>,\n",
        "        <matplotlib.axes.AxesSubplot object at 0x10f99ec10>,\n",
        "        <matplotlib.axes.AxesSubplot object at 0x10f95dcd0>,\n",
        "        <matplotlib.axes.AxesSubplot object at 0x10f9e0d50>],\n",
        "       [<matplotlib.axes.AxesSubplot object at 0x10fe092d0>,\n",
        "        <matplotlib.axes.AxesSubplot object at 0x10fe23d10>,\n",
        "        <matplotlib.axes.AxesSubplot object at 0x10fe4a790>,\n",
        "        <matplotlib.axes.AxesSubplot object at 0x10fe33190>,\n",
        "        <matplotlib.axes.AxesSubplot object at 0x10fe8cc90>],\n",
        "       [<matplotlib.axes.AxesSubplot object at 0x10feb1f50>,\n",
        "        <matplotlib.axes.AxesSubplot object at 0x10fecfc50>,\n",
        "        <matplotlib.axes.AxesSubplot object at 0x10fef9390>,\n",
        "        <matplotlib.axes.AxesSubplot object at 0x11030c250>,\n",
        "        <matplotlib.axes.AxesSubplot object at 0x11033c790>],\n",
        "       [<matplotlib.axes.AxesSubplot object at 0x110362890>,\n",
        "        <matplotlib.axes.AxesSubplot object at 0x110378d10>,\n",
        "        <matplotlib.axes.AxesSubplot object at 0x1103a6450>,\n",
        "        <matplotlib.axes.AxesSubplot object at 0x1103cb7d0>,\n",
        "        <matplotlib.axes.AxesSubplot object at 0x1103e94d0>]], dtype=object)"
       ]
      },
      {
       "metadata": {},
       "output_type": "display_data",
       "png": "[encoded data removed]",
       "text": [
        "<matplotlib.figure.Figure at 0x10a79fc10>"
       ]
      }
     ],
     "prompt_number": 65
    },
    {
     "cell_type": "markdown",
     "metadata": {},
     "source": [
      "### Subset"
     ]
    },
    {
     "cell_type": "code",
     "collapsed": false,
     "input": [
      "# We'll focus on the Sepal\n",
      "#Take the first two features\n",
      "X = iris.data[:,:2]  \n",
      "Y = iris.target"
     ],
     "language": "python",
     "metadata": {},
     "outputs": [],
     "prompt_number": 66
    },
    {
     "cell_type": "markdown",
     "metadata": {},
     "source": [
      "we are classifying what flower it is based on sepal length and width"
     ]
    },
    {
     "cell_type": "markdown",
     "metadata": {},
     "source": [
      "## Background on Logistic Classification\n",
      "\n",
      "* Binary Logistic Regression on Each Class vs. the Others\n",
      "\n",
      "* Logistic regression measures the relationship between a categorical dependent variable and one or more independent variables, which are usually (but not necessarily) continuous, by using probability scores as the predicted values of the dependent variable\n",
      "\n",
      "* constrain the predictions of the model to the range [0,1] so that we can interpret them as probability estimates. In Logistic Regression, we use the logit function to clamp predictions from the range [\u2212\u221e,\u221e] to [0,1]:"
     ]
    },
    {
     "cell_type": "code",
     "collapsed": false,
     "input": [
      "x = np.linspace(-10, 10, 100)\n",
      "y = 1.0 / (1.0 + np.exp(-x))\n",
      "import matplotlib.pyplot as plt\n",
      "plt.plot(x, y, 'r-', label='logit')\n",
      "plt.legend(loc='lower right')"
     ],
     "language": "python",
     "metadata": {},
     "outputs": [
      {
       "metadata": {},
       "output_type": "pyout",
       "prompt_number": 67,
       "text": [
        "<matplotlib.legend.Legend at 0x10fe93a90>"
       ]
      },
      {
       "metadata": {},
       "output_type": "display_data",
       "png": "[encoded data removed]",
       "text": [
        "<matplotlib.figure.Figure at 0x10fe71550>"
       ]
      }
     ],
     "prompt_number": 67
    },
    {
     "cell_type": "markdown",
     "metadata": {},
     "source": [
      "* The logistic function takes on values between 0 and 1, with input B0 + B1X and output F(x) (like a linear regression)\n",
      "\n",
      "* Multiple logistic regression has B0 + B1X + B2X2, etc.\n",
      "\n",
      "* Regression coefficients can be evaluated\n",
      "\n",
      "As compared with linear regression, we use the logit function to give an answer for all in the range 0 to 1:\n",
      "![](http://note.io/QfIYg6)"
     ]
    },
    {
     "cell_type": "markdown",
     "metadata": {},
     "source": [
      "### Resources\n",
      "* [Great background](http://melodi.ee.washington.edu/~halloj3/classification.pdf) from John Halloran on logistic regression vs naive bayes with examples"
     ]
    },
    {
     "cell_type": "code",
     "collapsed": false,
     "input": [],
     "language": "python",
     "metadata": {},
     "outputs": [],
     "prompt_number": 67
    },
    {
     "cell_type": "markdown",
     "metadata": {},
     "source": [
      "## Now lets classify some Irisses!"
     ]
    },
    {
     "cell_type": "code",
     "collapsed": false,
     "input": [
      "from sklearn import linear_model, datasets\n",
      "from sklearn.cross_validation import train_test_split"
     ],
     "language": "python",
     "metadata": {},
     "outputs": [],
     "prompt_number": 68
    },
    {
     "cell_type": "markdown",
     "metadata": {},
     "source": [
      "This pulls the linear regression model and cross validation from sklearn"
     ]
    },
    {
     "cell_type": "code",
     "collapsed": false,
     "input": [],
     "language": "python",
     "metadata": {},
     "outputs": [],
     "prompt_number": 68
    },
    {
     "cell_type": "code",
     "collapsed": false,
     "input": [
      "# Slice off a test set\n",
      "# Use train_test_split\n",
      "X_train, X_test, Y_train, Y_test = train_test_split(X,Y,test_size=0.25)\n"
     ],
     "language": "python",
     "metadata": {},
     "outputs": [],
     "prompt_number": 69
    },
    {
     "cell_type": "markdown",
     "metadata": {},
     "source": [
      "This splits up the data sets in to 4 things- X_train, X_test, Y_train, Y_test aand we set the test size to be 25% of the data set. "
     ]
    },
    {
     "cell_type": "code",
     "collapsed": false,
     "input": [],
     "language": "python",
     "metadata": {},
     "outputs": [],
     "prompt_number": 69
    },
    {
     "cell_type": "code",
     "collapsed": true,
     "input": [
      "logreg_fitter = linear_model.LogisticRegression()"
     ],
     "language": "python",
     "metadata": {},
     "outputs": [],
     "prompt_number": 70
    },
    {
     "cell_type": "markdown",
     "metadata": {},
     "source": [
      "In the parenthesse swe can provide attributes to do specific linear regressions on\n"
     ]
    },
    {
     "cell_type": "code",
     "collapsed": false,
     "input": [
      "# Logistic Regression\n",
      "\n",
      "logclf=logreg_fitter.fit(X_train, Y_train)\n",
      "\n",
      "#this fits the log linear regression to the training data\n",
      "# now this is a classifier based on sepal length and width\n"
     ],
     "language": "python",
     "metadata": {},
     "outputs": [],
     "prompt_number": 71
    },
    {
     "cell_type": "code",
     "collapsed": false,
     "input": [
      "# Coefficients for each category\n",
      "logclf.coef_"
     ],
     "language": "python",
     "metadata": {},
     "outputs": [
      {
       "metadata": {},
       "output_type": "pyout",
       "prompt_number": 72,
       "text": [
        "array([[-2.26075702,  3.65714687],\n",
        "       [ 0.48880118, -1.57985134],\n",
        "       [ 1.0672327 , -1.72299247]])"
       ]
      }
     ],
     "prompt_number": 72
    },
    {
     "cell_type": "markdown",
     "metadata": {},
     "source": [
      "So the first column is the y intercept, what is the 2nd column??"
     ]
    },
    {
     "cell_type": "code",
     "collapsed": false,
     "input": [
      "logclf.score(X_test,Y_test)\n",
      "\n",
      "#this score is telling you how much of our test data came out accurately categorized\n",
      "#built in the scoring function is a prediction ..so it tests predictions against the real data\n",
      "\n",
      "#so what it needs: the predictor and the x values\n",
      "#so given these two things, can it predict the y values correctly? \n",
      "#then u are comparing the predicted Y values vs the test set Y values\n",
      "\n",
      "#what are the x and y here??\n",
      "\n",
      "#the Y values here are the classfications"
     ],
     "language": "python",
     "metadata": {},
     "outputs": [
      {
       "metadata": {},
       "output_type": "pyout",
       "prompt_number": 73,
       "text": [
        "0.73684210526315785"
       ]
      }
     ],
     "prompt_number": 73
    },
    {
     "cell_type": "markdown",
     "metadata": {},
     "source": []
    },
    {
     "cell_type": "code",
     "collapsed": false,
     "input": [
      "logclf.predict(X_test)"
     ],
     "language": "python",
     "metadata": {},
     "outputs": [
      {
       "metadata": {},
       "output_type": "pyout",
       "prompt_number": 74,
       "text": [
        "array([0, 2, 2, 2, 2, 1, 0, 0, 2, 0, 1, 2, 2, 0, 2, 0, 0, 2, 2, 2, 0, 0, 1,\n",
        "       1, 0, 0, 2, 0, 2, 2, 2, 0, 2, 0, 2, 2, 1, 1])"
       ]
      }
     ],
     "prompt_number": 74
    },
    {
     "cell_type": "code",
     "collapsed": false,
     "input": [
      "logclf.predict_proba(X_test)"
     ],
     "language": "python",
     "metadata": {},
     "outputs": [
      {
       "metadata": {},
       "output_type": "pyout",
       "prompt_number": 75,
       "text": [
        "array([[ 0.8042655 ,  0.12221038,  0.07352411],\n",
        "       [ 0.04810028,  0.43409702,  0.5178027 ],\n",
        "       [ 0.04357989,  0.45647816,  0.49994195],\n",
        "       [ 0.00416704,  0.42562287,  0.57021009],\n",
        "       [ 0.06603041,  0.44608662,  0.48788297],\n",
        "       [ 0.19874235,  0.41861598,  0.38264167],\n",
        "       [ 0.76600857,  0.16328492,  0.07070651],\n",
        "       [ 0.62746257,  0.23173015,  0.14080728],\n",
        "       [ 0.15364787,  0.41972887,  0.42662326],\n",
        "       [ 0.47138005,  0.26766574,  0.26095421],\n",
        "       [ 0.11252547,  0.45219203,  0.43528251],\n",
        "       [ 0.02916691,  0.43111194,  0.53972115],\n",
        "       [ 0.00349413,  0.45774098,  0.53876489],\n",
        "       [ 0.75078472,  0.16611097,  0.08310431],\n",
        "       [ 0.04044016,  0.44480301,  0.51475683],\n",
        "       [ 0.8751411 ,  0.07974631,  0.04511259],\n",
        "       [ 0.78799098,  0.13404275,  0.07796627],\n",
        "       [ 0.07138463,  0.33287597,  0.5957394 ],\n",
        "       [ 0.09235372,  0.41984702,  0.48779926],\n",
        "       [ 0.03750323,  0.43289287,  0.5296039 ],\n",
        "       [ 0.80593863,  0.10845609,  0.08560528],\n",
        "       [ 0.76938722,  0.152156  ,  0.07845678],\n",
        "       [ 0.04587771,  0.49868785,  0.45543444],\n",
        "       [ 0.04259706,  0.48812151,  0.46928143],\n",
        "       [ 0.8786213 ,  0.08414558,  0.03723313],\n",
        "       [ 0.74950932,  0.17169559,  0.07879509],\n",
        "       [ 0.02916691,  0.43111194,  0.53972115],\n",
        "       [ 0.70964983,  0.19710957,  0.0932406 ],\n",
        "       [ 0.00572139,  0.4855249 ,  0.50875371],\n",
        "       [ 0.03398868,  0.45462893,  0.51138239],\n",
        "       [ 0.00348442,  0.47909821,  0.51741736],\n",
        "       [ 0.81795206,  0.11604218,  0.06600576],\n",
        "       [ 0.04810028,  0.43409702,  0.5178027 ],\n",
        "       [ 0.34346419,  0.33573904,  0.32079677],\n",
        "       [ 0.02222014,  0.46078462,  0.51699525],\n",
        "       [ 0.01726585,  0.45778411,  0.52495004],\n",
        "       [ 0.04587771,  0.49868785,  0.45543444],\n",
        "       [ 0.23923936,  0.40541277,  0.35534787]])"
       ]
      }
     ],
     "prompt_number": 75
    },
    {
     "cell_type": "code",
     "collapsed": false,
     "input": [
      "# Use these to predict"
     ],
     "language": "python",
     "metadata": {},
     "outputs": [],
     "prompt_number": 76
    },
    {
     "cell_type": "code",
     "collapsed": false,
     "input": [
      "# Plot the decision boundary. For that, we will assign a color to each\n",
      "# point in the mesh [x_min, m_max]x[y_min, y_max].\n",
      "h=.1\n",
      "#Plot Using only the training data\n",
      "x_min, x_max = X_train[:, 0].min() - .5, X_train[:, 0].max() + .5\n",
      "y_min, y_max = X_train[:, 1].min() - .5, X_train[:, 1].max() + .5\n",
      "xx, yy = np.meshgrid(np.arange(x_min, x_max, h), np.arange(y_min, y_max, h))\n",
      "\n",
      "# Z is predicting the category of the grid based on our prediction algorithm\n",
      "Z = logclf.predict(np.c_[xx.ravel(), yy.ravel()])"
     ],
     "language": "python",
     "metadata": {},
     "outputs": [],
     "prompt_number": 77
    },
    {
     "cell_type": "code",
     "collapsed": false,
     "input": [
      "# Put the result into a color plot\n",
      "Z = Z.reshape(xx.shape)\n",
      "pl.figure(1, figsize=(15, 11))\n",
      "pl.pcolormesh(xx, yy, Z, cmap=pl.cm.Paired)\n"
     ],
     "language": "python",
     "metadata": {},
     "outputs": [
      {
       "metadata": {},
       "output_type": "pyout",
       "prompt_number": 78,
       "text": [
        "<matplotlib.collections.QuadMesh at 0x110d622d0>"
       ]
      },
      {
       "metadata": {},
       "output_type": "display_data",
       "png": "[encoded data removed]",
       "text": [
        "<matplotlib.figure.Figure at 0x110d3fb50>"
       ]
      }
     ],
     "prompt_number": 78
    },
    {
     "cell_type": "markdown",
     "metadata": {},
     "source": [
      "this is the predicted values of Y (the sepal width given the sepal length) \n",
      "THe colors determine flower type"
     ]
    },
    {
     "cell_type": "code",
     "collapsed": false,
     "input": [
      "# Plot the TRAINING points\n",
      "pl.scatter(X_train[:, 0], X_train[:, 1], c=Y_train, edgecolors='k', s=100  , cmap=pl.cm.Paired)\n",
      "pl.xlabel('Sepal length',size='xx-large')\n",
      "pl.ylabel('Sepal width',size='xx-large')"
     ],
     "language": "python",
     "metadata": {},
     "outputs": [
      {
       "metadata": {},
       "output_type": "pyout",
       "prompt_number": 79,
       "text": [
        "<matplotlib.text.Text at 0x110d62750>"
       ]
      },
      {
       "metadata": {},
       "output_type": "display_data",
       "png": "[encoded data removed]",
       "text": [
        "<matplotlib.figure.Figure at 0x110d6b990>"
       ]
      }
     ],
     "prompt_number": 79
    },
    {
     "cell_type": "code",
     "collapsed": false,
     "input": [
      " # Plot the TESTING points\n",
      "pl.scatter(X_test[:, 0], X_test[:, 1], c=Y_test, edgecolors='y', marker='v' ,s=100 ,cmap=pl.cm.Paired)\n",
      "pl.xlabel('Sepal length')\n",
      "pl.ylabel('Sepal width')"
     ],
     "language": "python",
     "metadata": {},
     "outputs": [
      {
       "metadata": {},
       "output_type": "pyout",
       "prompt_number": 80,
       "text": [
        "<matplotlib.text.Text at 0x110da3f50>"
       ]
      },
      {
       "metadata": {},
       "output_type": "display_data",
       "png": "[encoded data removed]",
       "text": [
        "<matplotlib.figure.Figure at 0x110da8710>"
       ]
      }
     ],
     "prompt_number": 80
    },
    {
     "cell_type": "code",
     "collapsed": false,
     "input": [
      "# Combined\n",
      "makeplot_train(logclf)\n",
      "print \"Accuracy Score of the Trained Classifier:\",logclf.score(X_train,Y_train)\n",
      "\n",
      "makeplot_test(logclf)\n",
      "print \"Accuracy Score of the Trained Classifier on the Test Set:\",logclf.score(X_test,Y_test)\n",
      "\n",
      "makeplot_both(logclf)"
     ],
     "language": "python",
     "metadata": {},
     "outputs": [
      {
       "ename": "NameError",
       "evalue": "name 'makeplot_train' is not defined",
       "output_type": "pyerr",
       "traceback": [
        "\u001b[0;31m---------------------------------------------------------------------------\u001b[0m\n\u001b[0;31mNameError\u001b[0m                                 Traceback (most recent call last)",
        "\u001b[0;32m<ipython-input-81-02d395354b1d>\u001b[0m in \u001b[0;36m<module>\u001b[0;34m()\u001b[0m\n\u001b[1;32m      1\u001b[0m \u001b[0;31m# Combined\u001b[0m\u001b[0;34m\u001b[0m\u001b[0;34m\u001b[0m\u001b[0m\n\u001b[0;32m----> 2\u001b[0;31m \u001b[0mmakeplot_train\u001b[0m\u001b[0;34m(\u001b[0m\u001b[0mlogclf\u001b[0m\u001b[0;34m)\u001b[0m\u001b[0;34m\u001b[0m\u001b[0m\n\u001b[0m\u001b[1;32m      3\u001b[0m \u001b[0;32mprint\u001b[0m \u001b[0;34m\"Accuracy Score of the Trained Classifier:\"\u001b[0m\u001b[0;34m,\u001b[0m\u001b[0mlogclf\u001b[0m\u001b[0;34m.\u001b[0m\u001b[0mscore\u001b[0m\u001b[0;34m(\u001b[0m\u001b[0mX_train\u001b[0m\u001b[0;34m,\u001b[0m\u001b[0mY_train\u001b[0m\u001b[0;34m)\u001b[0m\u001b[0;34m\u001b[0m\u001b[0m\n\u001b[1;32m      4\u001b[0m \u001b[0;34m\u001b[0m\u001b[0m\n\u001b[1;32m      5\u001b[0m \u001b[0mmakeplot_test\u001b[0m\u001b[0;34m(\u001b[0m\u001b[0mlogclf\u001b[0m\u001b[0;34m)\u001b[0m\u001b[0;34m\u001b[0m\u001b[0m\n",
        "\u001b[0;31mNameError\u001b[0m: name 'makeplot_train' is not defined"
       ]
      }
     ],
     "prompt_number": 81
    },
    {
     "cell_type": "code",
     "collapsed": false,
     "input": [
      "#So here we are seeing how the classifier plots the test and training set"
     ],
     "language": "python",
     "metadata": {},
     "outputs": []
    },
    {
     "cell_type": "code",
     "collapsed": false,
     "input": [
      "#logistic classfier- asks a binary question: For any given value of X in class X is the probability that its a Y in classfier Y"
     ],
     "language": "python",
     "metadata": {},
     "outputs": []
    },
    {
     "cell_type": "code",
     "collapsed": false,
     "input": [],
     "language": "python",
     "metadata": {},
     "outputs": []
    },
    {
     "cell_type": "markdown",
     "metadata": {},
     "source": [
      "# Appendix"
     ]
    },
    {
     "cell_type": "markdown",
     "metadata": {},
     "source": [
      "## Plotting Functions\n",
      "_Note that these could be made much cleaner.  They should be transformed into a single plotting function along with variables for classification in put, test/train/both, multiplotting, etc. (maybe a good way to contribute to sklearn?)_"
     ]
    },
    {
     "cell_type": "code",
     "collapsed": false,
     "input": [
      "h = .01 # step size in the mesh for visualizing"
     ],
     "language": "python",
     "metadata": {},
     "outputs": []
    },
    {
     "cell_type": "code",
     "collapsed": false,
     "input": [
      "pl.pcolormesh?"
     ],
     "language": "python",
     "metadata": {},
     "outputs": []
    },
    {
     "cell_type": "code",
     "collapsed": false,
     "input": [
      "## PLOT JUST THE TRAINING SET\n",
      "def makeplot_train(classifier):\n",
      "        # Plot the decision boundary. For that, we will assign a color to each\n",
      "        # point in the mesh [x_min, m_max]x[y_min, y_max].\n",
      "    #Using only the training data\n",
      "    x_min, x_max = X_train[:, 0].min() - .5, X_train[:, 0].max() + .5\n",
      "    y_min, y_max = X_train[:, 1].min() - .5, X_train[:, 1].max() + .5\n",
      "    \n",
      "    # Create a meshgrid -- see what happens when h is smaller...\n",
      "    xx, yy = np.meshgrid(np.arange(x_min, x_max, h), np.arange(y_min, y_max, h))\n",
      "    \n",
      "    # Use classifier predictions for our point color\n",
      "    Z = classifier.predict(np.c_[xx.ravel(), yy.ravel()])\n",
      "   \n",
      "    # Put the result into a color plot for our background \n",
      "    Z = Z.reshape(xx.shape)\n",
      "    pl.figure(1, figsize=(15, 11))\n",
      "    pl.pcolormesh(xx, yy, Z, cmap=pl.cm.Paired)\n",
      "    \n",
      "\n",
      "   \n",
      "    \n",
      "    # Plot the TRAINING points\n",
      "    pl.scatter(X_train[:, 0], X_train[:, 1], c=Y_train, edgecolors='k', s=100  , cmap=pl.cm.Paired)\n",
      "    pl.xlabel('Sepal length')\n",
      "    pl.ylabel('Sepal width')\n",
      "    \n",
      "     # Plot the TESTING points\n",
      "   # pl.scatter(X_test[:, 0], X_test[:, 1], c=Y_test, edgecolors='y', marker='v' ,s=100 ,cmap=pl.cm.Paired)\n",
      "    #pl.xlabel('Sepal length')\n",
      "   # pl.ylabel('Sepal width')\n",
      "\n",
      "    pl.xlim(xx.min(), xx.max())\n",
      "    pl.ylim(yy.min(), yy.max())\n",
      "    pl.xticks(())\n",
      "    pl.yticks(())\n",
      "    pl.title(classifier.__module__)\n",
      "    pl.size(5)\n",
      "\n",
      "    pl.show()"
     ],
     "language": "python",
     "metadata": {},
     "outputs": []
    },
    {
     "cell_type": "code",
     "collapsed": false,
     "input": [
      "## PLOT JUST THE TEST SET WITH TRAINING BOUNDARIES\n",
      "def makeplot_test(classifier):\n",
      "        # Plot the decision boundary. For that, we will assign a color to each\n",
      "        # point in the mesh [x_min, m_max]x[y_min, y_max].\n",
      "    #Using only the training data\n",
      "    x_min, x_max = X_train[:, 0].min() - .5, X_train[:, 0].max() + .5\n",
      "    y_min, y_max = X_train[:, 1].min() - .5, X_train[:, 1].max() + .5\n",
      "    xx, yy = np.meshgrid(np.arange(x_min, x_max, h), np.arange(y_min, y_max, h))\n",
      "    Z = classifier.predict(np.c_[xx.ravel(), yy.ravel()])\n",
      "   \n",
      "    # Put the result into a color plot\n",
      "    Z = Z.reshape(xx.shape)\n",
      "    pl.figure(1, figsize=(15, 11))\n",
      "    pl.pcolormesh(xx, yy, Z, cmap=pl.cm.Paired)\n",
      "\n",
      "   \n",
      "    \n",
      "    # Plot the TRAINING points\n",
      "   # pl.scatter(X_train[:, 0], X_train[:, 1], c=Y_train, edgecolors='k', s=100  , cmap=pl.cm.Paired)\n",
      "    #pl.xlabel('Sepal length')\n",
      "    #pl.ylabel('Sepal width')\n",
      "    \n",
      "    #Plot the TESTING points\n",
      "    pl.scatter(X_test[:, 0], X_test[:, 1], c=Y_test, edgecolors='k', marker='v' ,s=100 ,cmap=pl.cm.Paired)\n",
      "    pl.xlabel('Sepal length')\n",
      "    pl.ylabel('Sepal width')\n",
      "\n",
      "    pl.xlim(xx.min(), xx.max())\n",
      "    pl.ylim(yy.min(), yy.max())\n",
      "    pl.xticks(())\n",
      "    pl.yticks(())\n",
      "    pl.title(classifier.__module__)\n",
      "    pl.size(5)\n",
      "\n",
      "    pl.show()"
     ],
     "language": "python",
     "metadata": {},
     "outputs": []
    },
    {
     "cell_type": "code",
     "collapsed": false,
     "input": [
      "def makeplot_both(classifier):\n",
      "        # Plot the decision boundary. For that, we will assign a color to each\n",
      "        # point in the mesh [x_min, m_max]x[y_min, y_max].\n",
      "    \n",
      "    #Plot Using only the training data\n",
      "    x_min, x_max = X_train[:, 0].min() - .5, X_train[:, 0].max() + .5\n",
      "    y_min, y_max = X_train[:, 1].min() - .5, X_train[:, 1].max() + .5\n",
      "    xx, yy = np.meshgrid(np.arange(x_min, x_max, h), np.arange(y_min, y_max, h))\n",
      "    Z = classifier.predict(np.c_[xx.ravel(), yy.ravel()])\n",
      "   \n",
      "    # Put the result into a color plot\n",
      "    Z = Z.reshape(xx.shape)\n",
      "    pl.figure(1, figsize=(15, 11))\n",
      "    pl.pcolormesh(xx, yy, Z, cmap=pl.cm.Paired)\n",
      "\n",
      "   \n",
      "    \n",
      "    # Plot the TRAINING points\n",
      "    pl.scatter(X_train[:, 0], X_train[:, 1], c=Y_train, edgecolors='k', s=100  , cmap=pl.cm.Paired)\n",
      "    pl.xlabel('Sepal length')\n",
      "    pl.ylabel('Sepal width')\n",
      "    \n",
      "     # Plot the TESTING points\n",
      "    pl.scatter(X_test[:, 0], X_test[:, 1], c=Y_test, edgecolors='y', marker='v' ,s=100 ,cmap=pl.cm.Paired)\n",
      "    pl.xlabel('Sepal length')\n",
      "    pl.ylabel('Sepal width')\n",
      "\n",
      "    pl.xlim(xx.min(), xx.max())\n",
      "    pl.ylim(yy.min(), yy.max())\n",
      "    pl.xticks(())\n",
      "    pl.yticks(())\n",
      "    pl.title(classifier.__module__)\n",
      "    pl.size(5)\n",
      "\n",
      "    pl.show()"
     ],
     "language": "python",
     "metadata": {},
     "outputs": []
    },
    {
     "cell_type": "code",
     "collapsed": false,
     "input": [],
     "language": "python",
     "metadata": {},
     "outputs": []
    },
    {
     "cell_type": "markdown",
     "metadata": {},
     "source": [
      "# Your turn\n",
      "\n",
      "## 1) Add in a classifier on the same data for decision trees\n",
      "\n",
      "## 2) Add in a classifier for naive bayes\n",
      "\n",
      "## 3) How do they all compare?\n",
      "\n",
      "## 4) Try it with test sizes of 3% and 40% -- how do they differ?"
     ]
    },
    {
     "cell_type": "code",
     "collapsed": false,
     "input": [],
     "language": "python",
     "metadata": {},
     "outputs": []
    },
    {
     "cell_type": "code",
     "collapsed": false,
     "input": [],
     "language": "python",
     "metadata": {},
     "outputs": []
    },
    {
     "cell_type": "code",
     "collapsed": false,
     "input": [
      "X_train, X_test, Y_train, Y_test = train_test_split(X,Y,test_size=0.25)\n",
      "\n",
      "from sklearn import tree\n",
      "clf2 = tree.DecisionTreeClassifier(criterion='entropy', max_depth=3,min_samples_leaf=5)\n",
      "clf2 = clf2.fit(X_train,Y_train)\n",
      "\n",
      "\n",
      "\n",
      "from sklearn import metrics\n",
      "def measure_performance(X,Y,clf2, show_accuracy=True, show_classification_report=True, show_confusion_matrix=True):\n",
      "    Y_pred2=clf2.predict(X)\n",
      "    if show_accuracy:\n",
      "        print \"Accuracy:{0: .3f}\" .format(metrics.accuracy_score(Y,Y_pred2)), \"\\n\"\n",
      "        \n",
      "    \n",
      "    if show_classification_report:\n",
      "        print \"Classification report\"\n",
      "        print metrics.classification_report(Y,Y_pred2), \"\\n\"\n",
      "    \n",
      "    if show_confusion_matrix:\n",
      "        print \"Confusion Matrix\"\n",
      "        print metrics.confusion_matrix(Y,Y_pred2), \"\\n\"\n",
      "        \n",
      "    \n",
      "measure_performance(X_train,Y_train,clf2, show_classification_report=True, show_confusion_matrix=True)"
     ],
     "language": "python",
     "metadata": {},
     "outputs": []
    },
    {
     "cell_type": "code",
     "collapsed": false,
     "input": [
      "X_train, X_test, Y_train, Y_test = train_test_split(X,Y,test_size=0.4)\n",
      "from sklearn import tree\n",
      "clf2 = tree.DecisionTreeClassifier(criterion='entropy', max_depth=3,min_samples_leaf=5)\n",
      "clf2 = clf2.fit(X_train,Y_train)\n",
      "\n",
      "\n",
      "\n",
      "from sklearn import metrics\n",
      "def measure_performance(X,Y,clf2, show_accuracy=True, show_classification_report=True, show_confusion_matrix=True):\n",
      "    Y_pred2=clf2.predict(X)\n",
      "    if show_accuracy:\n",
      "        print \"Accuracy:{0: .3f}\" .format(metrics.accuracy_score(Y,Y_pred2)), \"\\n\"\n",
      "        \n",
      "    \n",
      "    if show_classification_report:\n",
      "        print \"Classification report\"\n",
      "        print metrics.classification_report(Y,Y_pred2), \"\\n\"\n",
      "    \n",
      "    if show_confusion_matrix:\n",
      "        print \"Confusion Matrix\"\n",
      "        print metrics.confusion_matrix(Y,Y_pred2), \"\\n\"\n",
      "        \n",
      "    \n",
      "measure_performance(X_train,Y_train,clf2, show_classification_report=True, show_confusion_matrix=True)"
     ],
     "language": "python",
     "metadata": {},
     "outputs": []
    },
    {
     "cell_type": "code",
     "collapsed": false,
     "input": [
      "#So the decision tree algo will overfit when u have less data but Naive Bayes or Logistic will do the opposite.\n",
      "#if you increase the node depth that will also overfit"
     ],
     "language": "python",
     "metadata": {},
     "outputs": []
    },
    {
     "cell_type": "code",
     "collapsed": false,
     "input": [],
     "language": "python",
     "metadata": {},
     "outputs": []
    },
    {
     "cell_type": "code",
     "collapsed": false,
     "input": [
      "X_train, X_test, Y_train, Y_test = train_test_split(X,Y,test_size=0.03)\n",
      "from sklearn import tree\n",
      "clf2 = tree.DecisionTreeClassifier(criterion='entropy', max_depth=3,min_samples_leaf=5)\n",
      "clf2 = clf2.fit(X_train,Y_train)\n",
      "\n",
      "\n",
      "\n",
      "from sklearn import metrics\n",
      "def measure_performance(X,Y,clf2, show_accuracy=True, show_classification_report=True, show_confusion_matrix=True):\n",
      "    Y_pred2=clf2.predict(X)\n",
      "    if show_accuracy:\n",
      "        print \"Accuracy:{0: .3f}\" .format(metrics.accuracy_score(Y,Y_pred2)), \"\\n\"\n",
      "        \n",
      "    \n",
      "    if show_classification_report:\n",
      "        print \"Classification report\"\n",
      "        print metrics.classification_report(Y,Y_pred2), \"\\n\"\n",
      "    \n",
      "    if show_confusion_matrix:\n",
      "        print \"Confusion Matrix\"\n",
      "        print metrics.confusion_matrix(Y,Y_pred2), \"\\n\"\n",
      "        \n",
      "    \n",
      "measure_performance(X_train,Y_train,clf2, show_classification_report=True, show_confusion_matrix=True)"
     ],
     "language": "python",
     "metadata": {},
     "outputs": []
    },
    {
     "cell_type": "code",
     "collapsed": false,
     "input": [
      "from sklearn.naive_bayes import GaussianNB, BernoulliNB\n",
      "from sklearn.tree import DecisionTreeClassifier\n",
      "from sklearn.neighbors import KNeighborsClassifier\n",
      "from sklearn.linear_model import LogisticRegression\n"
     ],
     "language": "python",
     "metadata": {},
     "outputs": [],
     "prompt_number": 84
    },
    {
     "cell_type": "code",
     "collapsed": false,
     "input": [
      "X_train, X_test, Y_train, Y_test = train_test_split(X,Y,test_size=0.25)\n",
      "\n",
      "gnb = GaussianNB()\n",
      "bnb = BernoulliNB()\n",
      "lr = LogisticRegression()\n",
      "dt = DecisionTreeClassifier(criterion='entropy', max_depth=3, min_samples_leaf=5)\n",
      "knn = KNeighborsClassifier()\n",
      "\n",
      "#1. Train your classifier on the Training data set\n",
      "gnb.fit(X_train, Y_train)\n",
      "bnb.fit(X_train, Y_train)\n",
      "lr.fit(X_train, Y_train)\n",
      "dt.fit(X_train, Y_train)\n",
      "knn.fit(X_train, Y_train)\n",
      "\n",
      "#2. Score the classifier using the test data set\n",
      "gnb_score = gnb.score(X_test, Y_test)\n",
      "bnb_score = bnb.score(X_test, Y_test)\n",
      "lr_score = lr.score(X_test, Y_test)\n",
      "dt_score = dt.score(X_test, Y_test)\n",
      "knn_score = knn.score(X_test, Y_test)\n",
      "#clf (classification) = gnb, bnb, lr\n",
      "\n",
      "#3. Print the scores\n",
      "print \"Gaussian: %0.2f%%\" %(gnb_score * 100.0)\n",
      "print \"Bernoulli: %0.2f%%\" %(bnb_score * 100.0)\n",
      "print \"Linear Regression: %0.2f%%\" %(lr_score * 100.0)\n",
      "print \"Decision Tree: %0.2f%%\" %(dt_score * 100.0)\n",
      "print \"KNN: %0.2f%%\" %(gnb_score * 100.0)\n",
      "# the '%0.2f%%' is telling it to give me only 2 decimal points in the form of 0.01\n"
     ],
     "language": "python",
     "metadata": {},
     "outputs": [
      {
       "output_type": "stream",
       "stream": "stdout",
       "text": [
        "Gaussian: 81.58%\n",
        "Bernoulli: 26.32%\n",
        "Linear Regression: 76.32%\n",
        "Decision Tree: 81.58%\n",
        "KNN: 81.58%\n"
       ]
      }
     ],
     "prompt_number": 85
    },
    {
     "cell_type": "code",
     "collapsed": false,
     "input": [
      "#FOR LOOP to go through differest test sizes of all the algorithm\n",
      "\n",
      "gnb = GaussianNB()\n",
      "bnb = BernoulliNB()\n",
      "lr = LogisticRegression()\n",
      "dt = DecisionTreeClassifier(criterion='entropy', max_depth=3, min_samples_leaf=5)\n",
      "knn = KNeighborsClassifier()\n",
      "\n",
      "\n",
      "p = [.05, .1, .25, .5, .75, .4, .45]\n",
      "\n",
      "gnb_score_list = []\n",
      "bnb_score_list = []\n",
      "lr_score_list = []\n",
      "dt_score_list = []\n",
      "knn_score_list = []\n",
      "    \n",
      "    \n",
      "for i in p:\n",
      "    X_train, X_test, Y_train, Y_test = train_test_split(X,Y,test_size=i) \n",
      "\n",
      "    #1. Train your classifier on the Training data set\n",
      "    gnb.fit(X_train, Y_train)\n",
      "    bnb.fit(X_train, Y_train)\n",
      "    lr.fit(X_train, Y_train)\n",
      "    dt.fit(X_train, Y_train)\n",
      "    knn.fit(X_train, Y_train)\n",
      "\n",
      "    #2. Score the classifier using the test data set\n",
      "    gnb_score = gnb.score(X_test, Y_test)\n",
      "    gnb_score_list.append(gnb_score)\n",
      "    \n",
      "    bnb_score = bnb.score(X_test, Y_test)\n",
      "    bnb_score_list.append(bnb_score)\n",
      "    \n",
      "    lr_score = lr.score(X_test, Y_test)\n",
      "    lr_score_list.append(lr_score)\n",
      "    \n",
      "    dt_score = dt.score(X_test, Y_test)\n",
      "    dt_score_list.append(dt_score)\n",
      "    \n",
      "    knn_score = knn.score(X_test, Y_test)\n",
      "    knn_score_list.append(knn_score)\n",
      "    #clf (classification) = gnb, bnb, lr\n",
      "\n",
      "    #3. Print the scores\n",
      "    print \"Test Size Percentage: %0.2f%%\" %(i * 100)\n",
      "    print \"Gaussian: %0.2f%%\" %(gnb_score * 100.0)\n",
      "    print \"Bernoulli: %0.2f%%\" %(bnb_score * 100.0)\n",
      "    print \"Linear Regression: %0.2f%%\" %(lr_score * 100.0)\n",
      "    print \"Decision Tree: %0.2f%%\" %(dt_score * 100.0)\n",
      "    print \"KNN: %0.2f%%\" %(gnb_score * 100.0)\n",
      "    print \"-\"*20\n",
      "    # the '%0.2f%%' is telling it to give me only 2 decimal points in the form of 0.01\n"
     ],
     "language": "python",
     "metadata": {},
     "outputs": [
      {
       "output_type": "stream",
       "stream": "stdout",
       "text": [
        "Test Size Percentage: 5.00%\n",
        "Gaussian: 87.50%\n",
        "Bernoulli: 12.50%\n",
        "Linear Regression: 75.00%\n",
        "Decision Tree: 75.00%\n",
        "KNN: 87.50%\n",
        "--------------------\n",
        "Test Size Percentage: 10.00%\n",
        "Gaussian: 73.33%\n",
        "Bernoulli: 26.67%\n",
        "Linear Regression: 73.33%\n",
        "Decision Tree: 66.67%\n",
        "KNN: 73.33%\n",
        "--------------------\n",
        "Test Size Percentage: 25.00%\n",
        "Gaussian: 73.68%\n",
        "Bernoulli: 28.95%\n",
        "Linear Regression: 76.32%\n",
        "Decision Tree: 71.05%\n",
        "KNN: 73.68%\n",
        "--------------------\n",
        "Test Size Percentage: 50.00%\n",
        "Gaussian: 78.67%\n",
        "Bernoulli: 29.33%\n",
        "Linear Regression: 60.00%\n",
        "Decision Tree: 69.33%\n",
        "KNN: 78.67%\n",
        "--------------------\n",
        "Test Size Percentage: 75.00%\n",
        "Gaussian: 69.91%\n",
        "Bernoulli: 29.20%\n",
        "Linear Regression: 63.72%\n",
        "Decision Tree: 53.98%\n",
        "KNN: 69.91%\n",
        "--------------------\n",
        "Test Size Percentage: 40.00%\n",
        "Gaussian: 76.67%\n",
        "Bernoulli: 31.67%\n",
        "Linear Regression: 73.33%\n",
        "Decision Tree: 71.67%\n",
        "KNN: 76.67%\n",
        "--------------------\n",
        "Test Size Percentage: 45.00%\n",
        "Gaussian: 79.41%\n",
        "Bernoulli: 25.00%\n",
        "Linear Regression: 73.53%\n",
        "Decision Tree: 64.71%\n",
        "KNN: 79.41%\n",
        "--------------------\n"
       ]
      }
     ],
     "prompt_number": 86
    },
    {
     "cell_type": "code",
     "collapsed": false,
     "input": [
      "bnb_max_index = 0\n",
      "gnb_max_index = 0\n",
      "lr_max_index = 0\n",
      "dt_max_index = 0\n",
      "knn_max_index = 0\n",
      "\n",
      "bnb_max_score = 0\n",
      "gnb_max_score = 0\n",
      "lr_max_score = 0\n",
      "dt_max_score = 0\n",
      "knn_max_score = 0\n",
      "\n",
      "print len(bnb_score_list)\n",
      "for i in range(0,len(bnb_score_list)):\n",
      "    if bnb_score_list[i] > bnb_max_score:\n",
      "        bnb_max_score = bnb_score_list[i]\n",
      "        bnb_max_index = i\n",
      "        \n",
      "    if gnb_score_list[i] > gnb_max_score:\n",
      "        gnb_max_score = gnb_score_list[i]\n",
      "        gnb_max_index = i\n",
      "\n",
      "    if lr_score_list[i] > lr_max_score:\n",
      "        lr_max_score = lr_score_list[i]\n",
      "        lr_max_index = i\n",
      "\n",
      "    if dt_score_list[i] > dt_max_score:\n",
      "        dt_max_score = dt_score_list[i]\n",
      "        dt_max_index = i\n",
      "\n",
      "    if knn_score_list[i] > knn_max_score:\n",
      "        knn_max_score = knn_score_list[i]\n",
      "        knn_max_index = i\n",
      "        \n",
      "    \n",
      "    \n",
      "print \"Gaussian: %0.2f%% at %0.2f%%\" %(gnb_max_score * 100.0, p[gnb_max_index])\n",
      "print \"Bernoulli: %0.2f%% at %0.2f%%\" %(bnb_max_score * 100.0, p[bnb_max_index])\n",
      "print \"Linear Regression: %0.2f%% at %0.2f%%\" %(lr_max_score * 100.0, p[lr_max_index])\n",
      "print \"Decision Tree: %0.2f%% at %0.2f%%\" %(dt_max_score * 100.0, p[dt_max_index])\n",
      "print \"KNN: %0.2f%% at %0.2f%%\" %(knn_max_score * 100.0, p[knn_max_index])\n",
      "print \"-\"*20\n",
      "    "
     ],
     "language": "python",
     "metadata": {},
     "outputs": [
      {
       "output_type": "stream",
       "stream": "stdout",
       "text": [
        "7\n",
        "Gaussian: 87.50% at 0.05%\n",
        "Bernoulli: 31.67% at 0.40%\n",
        "Linear Regression: 76.32% at 0.25%\n",
        "Decision Tree: 75.00% at 0.05%\n",
        "KNN: 87.50% at 0.05%\n",
        "--------------------\n"
       ]
      }
     ],
     "prompt_number": 87
    },
    {
     "cell_type": "markdown",
     "metadata": {},
     "source": [
      "This shows the accuracy of different algorithms at different test sizes. \n",
      "\n",
      "A 5% test set size is way too little and suggests bias to the training set. \n",
      "\n",
      "Linear Regression at 25% seems like the best way to go, giving 76% accuracy. \n",
      "At a previous run,Decision Tree at 50% gave about 70% accuracy. \n",
      "\n",
      "Not sure why the percentage signs are showing the incorrect values, should've multiplied by 100. "
     ]
    },
    {
     "cell_type": "markdown",
     "metadata": {},
     "source": []
    }
   ],
   "metadata": {}
  }
 ]
}