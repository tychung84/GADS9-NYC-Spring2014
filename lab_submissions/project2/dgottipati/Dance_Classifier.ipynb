{
 "metadata": {
  "name": "Dance_Classifier"
 },
 "nbformat": 3,
 "nbformat_minor": 0,
 "worksheets": [
  {
   "cells": [
    {
     "cell_type": "raw",
     "metadata": {},
     "source": "# TODO: \n# Do a frequency analysis of each data set\n# Combine the data sets\n# Note the top 200 common word occurences\n# Remove this top list of stop words\n# Try Bi-grams for classificiation"
    },
    {
     "cell_type": "code",
     "collapsed": false,
     "input": "import nltk.classify.util\nfrom nltk.classify import NaiveBayesClassifier\nfrom nltk import tokenize\nimport os\nfrom nltk.corpus import stopwords\nimport re\n            \nfrom collections import Counter\nfrom itertools import chain",
     "language": "python",
     "metadata": {},
     "outputs": [],
     "prompt_number": 40
    },
    {
     "cell_type": "code",
     "collapsed": false,
     "input": "nltk.download()",
     "language": "python",
     "metadata": {},
     "outputs": [
      {
       "output_type": "stream",
       "stream": "stdout",
       "text": "showing info http://nltk.github.com/nltk_data/\n"
      },
      {
       "metadata": {},
       "output_type": "pyout",
       "prompt_number": 143,
       "text": "True"
      }
     ],
     "prompt_number": 143
    },
    {
     "cell_type": "heading",
     "level": 3,
     "metadata": {},
     "source": "Utility Functions for loading, processing, munging, removing stop words."
    },
    {
     "cell_type": "code",
     "collapsed": false,
     "input": "stop = stopwords.words('english')\ndef is_stop_word(word):\n    if len(word)<=2: return True\n    if contains_digits(word): return True               \n    if word.lower() in stop:return True\n    else:return False",
     "language": "python",
     "metadata": {},
     "outputs": [],
     "prompt_number": 112
    },
    {
     "cell_type": "code",
     "collapsed": false,
     "input": "def munge_word(word):\n    munge_list = [ \".\", \":\", \"\", \"?\", \",\", \"'\",\"(\", \")\", \"),\",\"[\", \"]\" , \"\\\"\", \"-\", \"&\"]\n    for l in munge_list:\n        if l in word:\n            word = word.strip(l)         \n    word = unicode(word, 'ascii', 'ignore')\n    return word",
     "language": "python",
     "metadata": {},
     "outputs": [],
     "prompt_number": 37
    },
    {
     "cell_type": "code",
     "collapsed": false,
     "input": "_digits = re.compile('\\d')\ndef contains_digits(d):\n    return bool(_digits.search(d))",
     "language": "python",
     "metadata": {},
     "outputs": [],
     "prompt_number": 42
    },
    {
     "cell_type": "code",
     "collapsed": false,
     "input": "all_words = nltk.FreqDist(w.lower() for w in dance_train_list)\nword_features = all_words.keys()[:2000]",
     "language": "python",
     "metadata": {},
     "outputs": []
    },
    {
     "cell_type": "raw",
     "metadata": {},
     "source": "function load_data():\nThis function loads the files from the disk and splits the words into tokens.\n    Input : \n            data_dir - The directory where your data files are\n            word_count - The max number of words to read from each file\n            debug - The debug boolean for the function.\n    Output:\n            A dictionary with each dance name as the key, and the associated words as a list"
    },
    {
     "cell_type": "code",
     "collapsed": false,
     "input": "def load_n_process_data( data_dir, word_limit= 7000, feature_limit=500, debug=False ):\n    \n    dance_train_data = {}\n    \n    for dance_file in os.listdir( data_dir ):\n        dance_name_label = str.split(dance_file,\".\")[0]\n        dance_train_list = []\n        f = open(data_dir + dance_file, 'r')\n        if debug == True:\n            print \"Reading file %s\" %f\n        \n        i = 0\n        for line in f:\n            for word in line.split():\n                i+=1\n                if i == word_limit:break\n                clean_word = munge_word(word)\n               \n                if not is_stop_word(clean_word):\n                    dance_train_list.append (clean_word)\n            if i == word_limit:break\n        \n        all_words = nltk.FreqDist(w.lower() for w in dance_train_list)\n        word_features = all_words.keys()[:feature_limit]\n        dance_train_data [ dance_name_label ] = word_features\n        \n        f.close()\n        \n    if debug == True:\n        for key, value in dance_train_data.items():\n            print \"------------------------------------------------------------------------------------------------------------------\"\n            print (key, len(value))\n            print value\n        \n    return dance_train_data",
     "language": "python",
     "metadata": {},
     "outputs": [],
     "prompt_number": 113
    },
    {
     "cell_type": "raw",
     "metadata": {},
     "source": "function remove_common_words():\nThis function combines all the lists from the various dance forms and removes the common elements, while preserving the dance label, dance feature format.\n    Input : Dance forms data dictionary. Format: dance label, dance feature list\n    Output : Dance forms data dictionary. Format: dance label, dance feature list"
    },
    {
     "cell_type": "code",
     "collapsed": false,
     "input": "def remove_common_words(dance_data_dict, debug=False):\n    temp_list =[]\n    for l in dance_data_dict.values():\n        temp_list.append(l)\n    \n    counts = Counter(chain(*map(set,temp_list)))\n    temp_list = [[i for i in sub_list if counts[i]==1] for sub_list in temp_list]\n    \n    i=0\n    for key in dance_data_dict.keys():\n    #print \"len = %d\" % len(dance_train_list[i])\n        dance_data_dict[key] = temp_list[i]\n        i+=1\n    return dance_data_dict ",
     "language": "python",
     "metadata": {},
     "outputs": [],
     "prompt_number": 6
    },
    {
     "cell_type": "heading",
     "level": 3,
     "metadata": {},
     "source": "Loading and Processing Dance Training Data Sets"
    },
    {
     "cell_type": "code",
     "collapsed": false,
     "input": "dance_train_dir = \"/Users/deeps/ds_playground/class_stuff/dance_classifier/train/\"\ndance_train_dict = load_n_process_data(dance_train_dir, debug=True)\ndance_train_dict = remove_common_words(dance_train_dict)\n\n#print dance_train_dict",
     "language": "python",
     "metadata": {},
     "outputs": [
      {
       "output_type": "stream",
       "stream": "stdout",
       "text": "Reading file <open file '/Users/deeps/ds_playground/class_stuff/dance_classifier/train/bellydance.txt', mode 'r' at 0x105fad780>\nReading file <open file '/Users/deeps/ds_playground/class_stuff/dance_classifier/train/bharatanatyam.txt', mode 'r' at 0x106a85810>"
      },
      {
       "output_type": "stream",
       "stream": "stdout",
       "text": "\nReading file <open file '/Users/deeps/ds_playground/class_stuff/dance_classifier/train/hiphop.txt', mode 'r' at 0x105fad780>"
      },
      {
       "output_type": "stream",
       "stream": "stdout",
       "text": "\nReading file <open file '/Users/deeps/ds_playground/class_stuff/dance_classifier/train/hula.txt', mode 'r' at 0x106a85810>"
      },
      {
       "output_type": "stream",
       "stream": "stdout",
       "text": "\n------------------------------------------------------------------------------------------------------------------\n('hula', 500)\n[u'hula', u'dancers', u'dance', u'hawaiian', u'many', u'kahiko', u'performed', u'often', u'auana', u'chant', u'form', u'laka', u'traditional', u'also', u'goddess', u'mele', u'instruments', u'considered', u'gourd', u'kumu', u'lei', u'pele', u'performance', u'sacred', u'story', u'used', u'wear', u'western', u'ancient', u'anklets', u'chants', u'chiefs', u'danced', u'dances', u'even', u'events', u'hawaii', u'hlau', u'however', u'island', u'islands', u'kui', u'may', u'might', u'one', u'performances', u'song', u'tapa', u'use', u'worn', u'would', u'accompanied', u'another', u'arts', u'bracelets', u'called', u'century', u'costumes', u'drum', u'early', u'enter', u'entrance', u'feet', u'include', u'learning', u'made', u'main', u'malo', u'means', u'modern', u'movements', u'musicians', u'necklaces', u'new', u'people', u'rhythm', u'significant', u'skirts', u'students', u'teacher', u'two', u'typically', u'women', u'wore', u'amuse', u'around', u'aspects', u'away', u'bare', u'categories', u'celebrating', u'centuries', u'ceremonies', u'ceremony', u'chanted', u'chief', u'come', u'composed', u'costuming', u'created', u'culture', u'dancing', u'dedicated', u'domains', u'emotion', u'enough', u'entertainment', u'error', u'every', u'everyday', u'female', u'finally', u'follow', u'forest', u'formal', u'found', u'generally', u'gods', u'guitar', u'haa', u'haka', u'hand', u'harmony', u'history', u'implements', u'including', u'influence', u'influences', u'instrument', u'ipu', u'lead', u'long', u'male', u'men', u'music', u'occasional', u'olapa', u'old', u'oli', u'performing', u'permission', u'place', u'practice', u'practitioners', u'prayer', u'puna', u'revealing', u'royalty', u'sacredness', u'schools', u'show', u'since', u'sister', u'small', u'source', u'state', u'steel', u'sticks', u'stories', u'tells', u'today', u'true', u'u.s', u'ukulele', u'well', u'western-influenced', u'within', u'words', u'wrapped', u'written', u'yards', u'/hul/', u'`ukulele', u'absence', u'accepted', u'accessories', u'according', u'accuracy', u'acoustic', u'acting', u'adaptation', u'additional', u'advertisement', u'affairs', u'ala', u\"alaka'i\", u'alii', u'altar', u'altered', u'always', u'american', u'ami', u'amusement', u'ancestors', u'ancients', u'anxious', u'aotearoa', u'aparima', u'appeared', u'appears', u'appease', u'arose', u'arrived', u'art', u'asked', u'associated', u'attended', u'attire', u'austere', u'available', u'bad', u'bamboo', u'ban', u'barkcloth', u'basic', u'bass', u'bassmaintains', u'began', u'beginning', u'beneath', u'birth', u'bored', u'born', u'breeze', u'broad', u'bulky', u'call', u'case', u'castanets', u'chain', u'changed', u'changes', u'changing', u'characterized', u'choice', u'choreographed', u'christian', u'christianized', u'circles', u'circumference', u'close', u'closely', u'cloth', u'clothing', u'coconut', u'codified', u'collectively', u'combine', u'comment', u'comments', u'completed', u'complex', u'consequences', u'continued', u'control', u'cook', u'could', u\"couldn't\", u'courtesy', u'cover', u'covered', u'craters', u'create', u'creation', u'crotch', u'daily', u'damaging', u'david', u'decorations', u'defined', u'denounced', u'describes', u'developed', u'devoted', u'died', u'diminishing', u'dire', u'display', u'disrespectful', u'district', u\"dog's-tooth\", u'double', u'dramatizes', u'drastically', u'dress', u'dresses', u'drift', u'drum;', u'eight-stringed', u'either', u'emergence', u'encompasses', u'encounters', u'encouraged', u'enjoyed', u'enormous', u'ensuring', u'entourage', u'etc.', u'event', u'evidently', u'evolved', u'example', u'experience', u'express', u'extended', u\"fa'ataupati\", u'family', u'fascinated', u'fast', u'fealty', u'feasts', u'feathered', u'featured', u'feed', u'feeling', u'females', u'festive', u'fiery', u'films', u'find', u'finished', u'fire', u'first', u'fish', u'flattery', u'fondness', u'foot', u'foreigners', u'forever', u'forms', u'frank', u'freedom', u'frivolous', u'functions', u'gathered', u'gave', u'genealogies', u'genitals', u'god', u'got', u'graceful', u'gracefully', u'grass', u'groups', u'guitaraccents', u'guitars', u'guitarused', u'halau(s', u'haumana', u\"hawai'i\", u'headpieces', u'heathen', u'heavily', u'heiau', u'hekedouble', u'hela', u'helpers', u'hena', u'hence', u'hewett', u'hidden', u'hierarchy', u'high', u'hiiaka', u'hill', u'hip', u'historical', u'hollywood', u'home', u'honor', u'honored', u'honoring', u'house', u'hulawhich', u'human', u'hura', u'idea', u'ideas', u'iliiliwater-worn', u'illustrating', u'imbued', u'importance', u'important', u'includes', u'increase', u'indigenous', u'influx', u\"instructor's\", u'instrumentation', u'interest', u'interpretation', u'invalidate', u'ipusingle', u'joann', u\"ka'o\", u'kaana', u'kaholo', u'kahoolawe', u'kala', u'kalkaua', u'kapa', u'kawaikapuokalani', u'kawelu', u'kealiinohomoku', u'king', u'kitschy', u'klaaurhythm', u'knee', u'knew', u'knowledge', u'known', u'kodak', u'kokua', u'kunihi', u\"kupe'e\", u'laapapa', u'lagenaria', u'lakalaka', u'language', u'late', u'later', u'lava', u'lavish', u'leader', u'left', u'legend', u'legends', u\"leipo'o\", u'length', u'less', u'lexicon', u'library', u'licensing', u\"lili'uokalani\", u'lineage', u'literally', u'lively', u'locality', u'locates', u'loincloth', u'longer', u'look', u'luck', u'luna', u'mai', u'mainland', u'maintain', u'maintained', u'major', u'males', u'marked', u'materials', u'mauna', u'mauna/tunihi', u'meaning', u'melodic', u'melody', u'memorized', u'merged', u'method', u'minor', u'missionaries', u'mistakes', u'modernism', u'molokai', u'monarchy', u'moods', u'morality', u'motions', u'move', u'much', u'musical', u'must', u'muumuu', u'mythology', u\"namakaokaha'i\", u'name', u'nana', u'nature', u'navy', u'necessarily', u'newly', u'newspaper', u'nobility', u'noho', u'occur', u'ocean', u'oceans', u'offerings', u'official', u'ohio', u'older', u'oral', u'order', u'originally', u'origins', u\"ote'a\", u'others', u'pahu']\n------------------------------------------------------------------------------------------------------------------\n('hiphop', 500)\n[u'dance', u'hip-hop', u'dancers', u'popping', u'styles', u'crew', u'new', u'called', u'locking', u'music', u'style', u'breaking', u'created', u'film', u'show', u'first', u'street', u'performed', u'also', u'b-boy', u'films', u'dancing', u'funk', u'like', u'battle', u'won', u'dancer', u'soul', u'york', u'crews', u'dances', u'series', u'time', u'video', u'electric', u'form', u'moves', u'several', u'choreographed', u'krumping', u'performance', u'shows', u'song', u'television', u'year', u'appeared', u'beat', u'boogaloo', u'movements', u'perform', u'theater', u'train', u'best', u'body', u'california', u'competition', u'jazz', u'jerkin', u'line', u'one', u'original', u'talent', u'united', u'videos', u'would', u'angeles', u'commercial', u'development', u'early', u'freestyle', u'got', u'jookin', u'lockers', u'los', u'made', u'released', u'season', u'started', u'studio', u'turfing', u'urban', u'world', u'according', u'battles', u'city', u'due', u'exposure', u'gliding', u'gold', u'including', u'industry', u'looks', u'lxd', u'part', u'party', u'popular', u'rock', u'showcase', u'similar', u'states', u'tutting', u'two', u'used', u'went', u'addition', u'ballet', u'basil', u'breakin', u'clemente', u'convention', u'culture', u'dancewear', u'documentary', u'entertainment', u'fad', u'featured', u'germany', u'hip', u'hop', u'however', u'interview', u'jackson', u'jazz-funk', u'juba', u'local', u'magazine', u'memphis', u'performances', u'popularity', u'rather', u'running', u'social', u'solid', u'solomon', u'term', u'top', u'toprock', u'yak', u'able', u'although', u\"america's\", u'around', u'award', u'became', u'becoming', u'boogaloos', u'center', u'company', u'competitions', u'debout', u'developed', u'dionisio', u'events', u'every', u'feature', u'festival', u'founded', u'four', u'france', u'french', u'includes', u'japan', u'jerk', u'juste', u'later', u'look', u'man', u'media', u'michael', u'move', u'mtv', u'musical', u'oakland', u'pop', u'practiced', u'primarily', u'professional', u'rap', u'remember', u'rhythm', u'rize', u'short', u'since', u'steady', u'storm', u'team', u'traditionally', u'udc', u'umbrella', u'uses', u'west', u'wild', u'abdc', u'african', u'already', u'always', u'american', u'another', u'arms', u'auditions', u'australia', u'b-girl', u'boom', u'boy', u'break', u'breakdance', u'broadcast', u'bronx', u'brothas', u'brought', u'campbell', u'characterized', u'choreography', u'classes', u'come', u'considered', u'contrast', u'contributed', u'count', u'counts', u'create', u'creation', u'cypher', u'different', u'director', u'done', u'era', u'established', u'europe', u'event', u'example', u'feet', u'footwork', u'formed', u'foundational', u'freeze', u'gained', u'get', u'ghettoriginal', u'giving', u'group', u'harris', u'helped', u'hosts', u'include', u'international', u'introduced', u'jabbawockeez', u'johnson', u'kingdom', u'large', u'liquid', u'living', u'mainstream', u'manager', u'many', u'member', u'mohh', u'monsters', u'movement', u'movie', u'name', u'nominated', u'none', u'often', u'outside', u'people', u'pete', u'played', u'popin', u'popularized', u'poreotics', u'premiered', u'produced', u'producer', u'production', u'promote', u'puerto', u'quest', u'r&b', u'range', u'referred', u'representation', u'responsible', u'ricans', u'robinson', u'robitzky', u'robot', u'role', u'routines', u'saigon', u'say', u'showcased', u'shown', u'sneakers', u'south', u'specific', u'spread', u'stage', u'stated', u'strictly', u'tap', u'teaching', u'technique', u'tennessee', u'think', u'thomas', u'though', u'three', u'timothy', u'together', u'toni', u'troupe', u'uprock', u'use', u'variety', u'version', u'way', u'web', u'well', u'wide', u'within', u'work', u'youth', u'youtube', u'acrobatic', u'actress', u'add', u'added', u'adolfo', u'affects', u'african-american', u'afrika', u'aggressive', u'angles', u'animation', u'apache', u'appearances', u'appears', u'art', u'arts', u'aside', u'attention', u'audiences', u'austin', u'awards', u'backslide', u'bambaataa', u'based', u'black', u'book', u'bouncing', u'boyz', u'break-boy', u'breakers', u\"britain's\", u'broadway', u'brooklyn', u'buddha', u'cabbage', u'call', u'came', u'campbellock', u'casino', u'cat', u'cats', u'cha', u'championships', u'channel', u'characters', u'chest', u'choreographer', u'choreographers', u'chu', u'circular', u'clowning', u'coast', u'comedy', u'commercialization', u'commercially', u'competitive', u'content', u'conventions', u'could', u'course', u'crazy', u'cultural', u'daddy', u'dane', u'daniel', u'developments', u'difference', u'directed', u'dissed', u'distinct', u'documentaries', u'downrock', u'driving', u'duo', u'easily', u'egypt', u'eight', u'emphasis', u'employed', u'end', u'episodes', u'evolved', u'exclusively', u'existed', u'extent', u'fabel', u'fatima', u'feeling', u'female', u'filmed', u'final', u'flashdance', u'flava', u'floating', u'floor', u'floor-oriented', u'force', u'formal', u'forms', u'freaks', u'frequently', u'gave', u'general', u'genre', u'george', u'graffiti', u'grind', u'hands', u'held', u'herc', u'historian', u'history', u'hit', u'hitting', u'hok', u'hong', u'house', u'hulu', u'ice', u'important', u'individual', u'influenced', u'instruction', u'internet', u'introducing', u'involved', u'jeffrey', u'jorge', u'journalist', u'justice', u'k-pop', u'kash', u'kept', u'kind', u'kool', u'korea', u'kraft', u'label', u'las', u'led', u'lee', u'lilou', u'limited', u'lines', u'live', u'lock', u'long', u'lot', u'maintained', u'make', u'may', u'men', u'mentored', u'method', u'movies', u'moving', u'ms.i.c', u'muraine', u'nappytabs', u'nation', u'network', u'notorious', u'observer', u'occurred', u'old', u'older', u'one-on-one', u'onto', u'opened', u'opposite', u'order', u'originally', u'pabon', u'pada', u'pants']\n------------------------------------------------------------------------------------------------------------------\n('bharatanatyam', 500)\n[u'bharata', u'natyam', u'dance', u'dancer', u'music', u'dancers', u'movements', u'natya', u'form', u'one', u'style', u'many', u'also', u'hindu', u'pillai', u'performed', u'body', u'devi', u'performances', u'rukmini', u'shiva', u'tamil', u'temple', u'various', u'ancient', u'art', u'element', u'elements', u'guru', u'indian', u'known', u'lord', u'love', u'performance', u'tanjore', u'abhinaya', u'arts', u'characters', u'culture', u'dancing', u'devadasis', u'e.g', u'like', u'nritta', u'original', u'women', u'arundale', u'called', u'considered', u'contemporary', u'costume', u\"dancer's\", u'depicted', u'devadasi', u'devotion', u'graceful', u'include', u'items', u'karanas', u'made', u'manifestation', u'meaning', u'nattuvanars', u'new', u'others', u'outside', u'popular', u'present', u'rows', u'see', u'set', u'song', u'times', u'traditionally', u'along', u'anklet', u'aspect', u'aspects', u'beautiful', u'beauty', u'carnatic', u'certain', u'costumes', u'destruction', u'different', u'earth', u'ensemble', u'etc', u'female', u'god', u'item', u'jewelry', u'later', u'learning', u'means', u'men', u'name', u'nritya', u'pandanallur', u'pleasing', u'professional', u'pure', u'qualities', u'recitals', u'replaced', u'rhythmic', u'sacred', u'said', u'section', u'seen', u'shastra', u'south', u'sringara', u'started', u'story', u'styles', u'supreme', u'syllables', u'teachers', u'temples', u'texts', u'therefore', u'time', u'two', u'types', u'usually', u'wear', u'well', u'work', u'according', u'age', u'alarippu', u'alaripu', u'always', u'ananda', u'angikam', u'apart', u'arangetram', u'back', u'balasaraswati', u'ballets', u'based', u'beginning', u'bells', u'bhakti', u'bringing', u'brothers', u'celebration', u'center', u'chinnayya', u'classical', u'completed', u'complex', u'containing', u'contribution', u'court', u'crafts', u'created', u'creation', u'danseuse', u'darpana', u'debut', u'deeply', u'deity', u'depicting', u'descendants', u'desi', u'development', u'devotional', u'displays', u'dramatic', u'elaborate', u'embodiment', u'emotional', u'emotions', u'entertainment', u'eternal', u'except', u'expression', u'expressions', u'eyes', u'fingers', u'five', u'footwork', u'formed', u'forms', u'four', u'free', u'grace', u'greatly', u'group', u'hard', u'hasta', u'heard', u'highly', u'india', u'iyer', u'jatis', u'jatiswaram', u'javalis', u'kaisiki', u'king', u'krishna', u'learn', u'left', u'light', u'limbs', u'lines', u'lotus', u'major', u'material', u'meant', u'modern', u'mostly', u'must', u'nadu', u'nataraja', u'nature', u'natyam-based', u'nritham', u'number', u'numerous', u'offered', u'origin', u'padams', u'patra', u'played', u'poem', u'poetry', u'ponniah', u'portrayed', u'poses', u'positions', u'practiced', u'presentation', u'process', u'programme', u'punctuated', u'quartet', u'raised', u're-editing', u'relatively', u'religious', u'rich', u'ringing', u'sadir', u'sahityam', u'satisfy', u'scriptures', u'sculptures', u'shabdam', u'shape', u'silappadikaram', u'sivanandam', u'solo', u'songs', u'soul', u'spiritual', u'stage', u'states', u'stock', u'swift', u'symbolizing', u'technique', u'thalam', u'thanjavur', u'theme', u'three', u'tillana', u'today', u'towards', u'traditional', u'traditions', u'trained', u'true', u'typically', u'universe', u'used', u'vadivelu', u'variety', u'varnam', u'vazhuvoor', u'without', u'words', u'world', u'years', u'yoga', u'aaharya', u'aaharyam', u'ability', u'able', u'abstract', u'academic', u'accepts', u'accompanied', u'accompanying', u'accomplished', u'act', u'actions', u'activities', u'actually', u'adapted', u'adavus', u'addition', u'adequately', u'advance', u'advanced', u'aether', u'agility', u'air', u'alapadma', u'among', u'amorous', u'amount', u'angaharas', u'anghika', u'anklets', u'announced', u'another', u'anugraha', u'anything', u'apasmara', u'apparitions', u'appropriated', u'apsaras', u'around', u'ascent', u'ascetic', u'ashish', u'associated', u'attached', u'attam', u'attention', u'attitude', u'auditorium', u'aum', u'authentic', u'authoritative', u'aware', u'balance', u\"balasaraswati's\", u'beat', u'beginners', u'behaviour', u'behind', u'being;', u'benediction', u'bestowing', u'better', u'beyond', u'bharatanatyam', u'bharatanrityam', u'bhava', u'bhavam', u'bhavas', u'bhramari', u'bhuvanam', u'black', u'bless', u'blue-throated', u'bodies', u'bold', u'bondage', u'boundaries', u'break', u'breasts', u'brilliance', u'brings', u'burnished', u'byapti', u'cannot', u'capable', u'captivating', u'carved', u'category', u'caused', u'celestial', u'centre', u'century', u'ceremony', u'chandra', u'chanting', u'character', u'character/dancer', u'charmingly', u'chaste', u'chatushra', u'chest', u'chidambaram', u'child;', u'chinese', u'chinnamelan', u'choose', u'choreographed', u'christians', u'circle', u'city', u'clever', u'combination', u'coming', u'commercialized', u'common', u'commonly', u'complements', u'completely', u'compositions', u'compounds', u'concealing', u'conceptualized', u'concludes', u'connected', u'consciousness', u'consists', u'constituents', u'contain', u'control', u'controversial', u'controversy', u'conversant', u'copper', u'cosmic', u'countries', u'courteous', u'courtesan', u'courts', u'cover', u'creates', u'creatively', u'criteria', u'criticized', u'dance;', u'danced', u'dandayudhapani', u'dasha', u'dasi', u'dasiattam', u'dead', u'decline', u'demon', u'demonstrate', u'denotes', u'depiction', u'described', u'describes', u'developed', u'devotee', u'difficult', u'directed', u'disassociating', u'diseases', u'disposition', u'distinct', u'distinctly', u'divine', u'divorced', u'dramatical', u'drishti', u'drive', u'drum', u'drums', u'duration', u'dwarfish', u'early', u'easily', u'effort', u'energy', u'enhance', u'enlighten', u'enlightenment', u'entered', u'era', u'erotic', u'esoteric', u'especially', u'essence', u'essential', u'essentials', u'etymology', u'even', u'eventual', u'evil', u'evocative', u'excel', u'exclusively', u'existences', u'exoteric', u'exposed', u'fact', u'fall', u'famous', u'favoring', u'feat', u'feigned', u'feminine', u'festivals', u'field', u'figure', u'final', u'fire', u'fire-dance']\n------------------------------------------------------------------------------------------------------------------\n('bellydance', 500)\n[u'dance', u'belly', u'dancers', u'movements', u'style', u'many', u'turkish', u'dancing', u'used', u'middle', u'often', u'hip', u'also', u'including', u'may', u'include', u'raqs', u'bellydance', u'hips', u'social', u'styles', u'egypt', u'egyptian', u'american', u'arabic', u'dancer', u'east', u'eastern', u'shimmies', u'body', u'several', u'although', u'bedlah', u'belt', u'costumes', u'dances', u'early', u'men', u'oriental', u'part', u'performed', u'performers', u'use', u'women', u'baladi', u'began', u'commonly', u'costume', u'countries', u'developed', u'known', u'music', u'sharqi', u'skirt', u'sometimes', u'term', u'today', u'turkey', u'usually', u'around', u'back', u'bra', u'cairo', u'community', u'considered', u'isolations', u'made', u'modern', u'people', u'perform', u'posture', u'professional', u'relaxed', u'states', u'still', u'torso', u'traditional', u'tribal', u'using', u'abdominal', u'ages', u'asia', u'authentic', u'based', u'city', u'contained', u'create', u'created', u'credited', u'decorated', u'different', u'elements', u'emphasis', u'even', u'fast', u'featured', u'films', u'fitted', u'forms', u'gamal', u'ghawazi', u'groups', u'last', u'late', u'moves', u'muscles', u'naming', u'new', u'playing', u'popularity', u'primarily', u'public', u'rather', u'referred', u'restaurants', u'ribcage', u'scene', u'separate', u'shimmy', u'since', u'skirts', u'teaching', u'time', u'typically', u'victorian', u'well', u'west', u'western', u'world', u\"world's\", u'worn', u'accents', u'addition', u'algeria', u'amera', u'arm', u'art', u'artists', u'awalim', u'ballet', u'basic', u'beaded', u'bloom', u'bodies', u'bond', u'british', u'burlesque', u'cabaret', u'centuries', u'century', u'character', u'chicago', u'claimed', u'common', u'competitions', u'complex', u'context', u'continuous', u'control', u'correct', u'country', u'danced', u'danse', u'deal', u'described', u'designed', u'display', u'distinct', u'distinctive', u'dresses', u'drew', u'drnzik', u'drops', u'earthy', u'effect', u'eid', u'embellishment', u'embellishments', u'especially', u'every', u'evidence', u'evolved', u'exercise', u'fact', u'fair', u'feature', u'features', u'feeling', u'female', u'film', u'first', u'fitness', u'floor', u'folk', u'folkloric', u'form', u'french', u'full', u'fusion', u'gained', u'gatherings', u'great', u'group', u'harem', u'heavy', u'held', u'heritage', u'highly', u'history', u'hollywood', u'horizontal', u'however', u'immigrants', u'important', u'included', u'influence', u'interest', u'interpret', u'lebanese', u'legs', u'lifts', u'lines', u'literally', u'little', u'lively', u'long', u'lycra', u'maazin', u'menstruation', u'movement', u'muscle', u'musicians', u'names', u'nicknamed', u'north', u'numerous', u'occasions', u'ordinary', u'origins', u'oryantal', u'particular', u'particularly', u'percussive', u'playful', u'popular', u'range', u'region', u'respectable', u'romani', u'routines', u'shaabi', u'shapes', u'shocking', u'shoulder', u'show', u'showing', u'singers', u'slightly', u'society', u'solo', u'space', u'special', u'spread', u'steps', u'street', u'strength', u'strong', u'students', u'technology', u'terezka', u'theaters', u'throughout', u'top', u'translation', u'two', u'typical', u'universally', u'veil', u'venues', u'version', u'vertical', u'vibrations', u'wear', u'widely', u'work', u'zills', u'zils', u'abdomen', u'abdou', u'abroad', u'academy', u'accent', u'accentuate', u'accidentally', u'accomplished', u'accounts', u'achieve', u'across', u'activities', u'actors', u'adept', u'affronted', u'aflalo', u'africa', u'african', u'ahalyea', u'akef', u'alexander', u'always', u'amar', u'amateur', u'amed', u'ancient', u'and/or', u'another', u'antonelli', u'appeal', u'appear', u'appears', u'applied', u'approach', u'arab', u'arabesques', u'ariellah', u'arms', u'arrested', u'arrive', u'articulations', u'associate', u'associated', u'association', u'ates', u'athletic', u'ats', u'attached', u'attention', u'audience', u'australia', u'author', u'avoiding', u'backbends', u'badia', u'balancing', u'balletic', u'bands', u'banned', u'beads', u'beat', u'beautiful', u'beginning', u'believed', u'bellydancer', u\"bellydancer's\", u'bellydancers', u'bellydancing', u'bencio', u'beneficial', u'bent', u'best', u'bossonis', u'bouncing', u'bras', u'brazil', u'brazilian', u'brice', u'brisbane', u'britain', u'build', u'builds', u'bullet', u'cabarets', u'called', u'cannot', u'capital', u'capitalize', u'careers', u'carnival', u'castanets', u'categories', u'celebrations', u'censored', u'centennial', u'centres', u'certainly', u'chair', u'changes', u'characteristic', u'chemise', u'chiffon', u'children', u'choreographed', u'circles', u'circus', u'claim', u'classes', u'cleopatra', u'clon', u'clone', u'closed', u'closely', u'clothes', u'clothing', u'club', u'clubs', u'codified', u'coins', u'colette', u'colombian', u'columbian', u'column', u'combine', u'combined', u'communities', u'compared', u'competition', u'connoisseurs', u'conservative', u'consistently', u'contexts', u'continue', u'continued', u'contoured', u'costuming', u'could', u'counted', u'counterparts', u'creating', u'crissie', u'criticism', u'cropped', u'crowds', u'crystals', u'culture', u'cutouts', u'cymbals', u'dabke', u'dalton', u'dance;', u\"dancer's\", u'dansi', u'decompress', u'denis', u'depending', u'depicted', u'depth', u'describe', u'descriptions', u'descriptive', u'designs', u'desire;', u'didem', u'differently', u'dina', u'directly', u'director', u'disputed', u'distinguishing', u'distributed', u'diverse', u'documentaries', u'dolphina', u'dozens', u'dramatic', u'drawing', u'driven', u'droves', u'drummer', u'due', u'earlier', u'earthquake', u'eastern-inspired', u'eastern/oriental', u'edge', u'edison', u'education', u'edward', u'efficient', u'egyptian-style', u'egyptian/arabic', u'element', u'embellished', u'embroidered', u'embroidery', u'empire', u'employment', u'enables', u'encouraging', u'energetic', u'energy', u'engaged', u'english', u'entertainment', u'entice', u'entire', u'episodes', u'era', u'escaping', u'european', u'eventually', u'exhibit']\n"
      }
     ],
     "prompt_number": 114
    },
    {
     "cell_type": "heading",
     "level": 3,
     "metadata": {},
     "source": "Loading and Processing Dance Test Data Sets"
    },
    {
     "cell_type": "code",
     "collapsed": false,
     "input": "dance_test_dir = \"/Users/deeps/ds_playground/class_stuff/dance_classifier/test/\"\ndance_test_dict = load_n_process_data(dance_test_dir, feature_limit=100, debug=True)\ndance_test_dict = remove_common_words(dance_test_dict)\n\n#print dance_test_dict",
     "language": "python",
     "metadata": {},
     "outputs": [
      {
       "output_type": "stream",
       "stream": "stdout",
       "text": "Reading file <open file '/Users/deeps/ds_playground/class_stuff/dance_classifier/test/bellydance.txt', mode 'r' at 0x105fad780>\nReading file <open file '/Users/deeps/ds_playground/class_stuff/dance_classifier/test/bharatnatyam.txt', mode 'r' at 0x106a85810>\nReading file <open file '/Users/deeps/ds_playground/class_stuff/dance_classifier/test/hiphop.txt', mode 'r' at 0x105fad780>\nReading file <open file '/Users/deeps/ds_playground/class_stuff/dance_classifier/test/hula.txt', mode 'r' at 0x106a85810>\n------------------------------------------------------------------------------------------------------------------"
      },
      {
       "output_type": "stream",
       "stream": "stdout",
       "text": "\n('hula', 100)\n[u'hula', u'hi`iaka', u'pele', u'also', u'hopoe', u'dancers', u'ha`ena', u'laka', u'sister', u'associated', u'contact', u'danced', u\"dancer's\", u'first', u'forest', u'halau', u'kapo', u'kapu', u'lohi`au', u\"pele's\", u'students', u'`ohi`a', u'altar', u'assisted', u'fit', u'friend', u'hawai`i', u'history', u'killed', u'kumu', u'loa', u'marked', u'mauna', u'offerings', u'po`opua`a', u'puna', u'rage', u'rules', u'school', u'stood', u'tales', u'trained', u'western', u'`olapa', u'`uniki', u'additional', u'admiration', u'agile', u'agriculturally', u'agriculture', u'ailolo', u'ali`i', u'alternate', u'among', u'another', u'apart', u'areas', u'arise', u'avoidance', u'back', u'bath', u'became', u'begged', u'beginnings', u'believed', u'bequeathed', u'bless', u'blessings', u'block', u'body', u'born', u'brought', u'burned', u'caring', u'carried', u'celebrations', u'ceremonial', u'ceremonies', u'certain', u'chant', u'chants', u'chiefs', u'cleanliness', u'closely', u'collected', u'completion', u'conduct', u'continue', u'corpse', u'could', u'dance', u'debut', u'dedicated', u'describe', u'destroyed', u'disciplined', u'divided', u'door', u'dwelling', u'elder']\n------------------------------------------------------------------------------------------------------------------\n('hiphop', 100)\n[u'hip', u'hop', u'dance', u'moves', u'breakdancing', u'dancers', u'dancing', u'cultural', u'culture', u'form', u'music', u'performed', u'steps', u'classes', u'cultures', u'feel', u'ground', u'like', u'locking', u'lot', u'many', u'master', u'movement', u'particularly', u'people', u'practice', u'see', u'standing', u'style', u'accompanies', u'across', u'adding', u'allows', u'almost', u'alongside', u'american', u'angeles', u'appear', u'appearing', u'around', u'associated', u'audience', u'away', u'basic', u'boundaries', u'break', u'breakdancers', u'bronx', u'called', u'campbell', u'canon', u'capitalized', u'chance', u'characterized', u'close', u'conservatories', u'consists', u'constantly', u'cool', u'country', u'curriculums', u'danced', u\"dancer's\", u'definition', u'developed', u'done', u'downrock', u'earned', u'easier', u'elements', u'eludes', u'energetic', u'enjoy', u'evolved', u'evolves', u'exclusive', u'executed', u'experience', u'factor', u'find', u'first', u'following', u'formally', u'found', u'four', u'freedom', u'give', u'good', u'including', u'incorporate', u'incorporating', u'influenced', u'innovation', u'interest', u'interested', u'interrupt', u'invented', u\"it's\", u'jazz', u'latino']\n------------------------------------------------------------------------------------------------------------------\n('bharatnatyam', 100)\n[u'dance', u'dancers', u'india', u'nritta', u'art', u'costumes', u'known', u'movements', u'natya', u'century', u'classical', u'dancer', u'dramatic', u'due', u'element', u'emotions', u'felt', u'form', u'forms', u'generation', u'gestures', u'hand', u'lyrics', u'male', u'mandi', u'music', u'nritya', u'one', u'patterns', u'perform', u'performed', u'piece', u'rhythm', u'rhythmic', u'sitting', u'song', u'story', u'style', u'styles', u'temples', u'time', u'today', u'two', u'well', u'women', u'abhinaya', u'achieving', u'ancient', u'arai', u'artists', u'arundale', u'aspects', u'associated', u'audience', u'available', u'backbone', u'balanced', u'beat', u'beautifully', u'beauty', u'bhaava', u'bharatanatyam', u'body', u'brothers', u'brought', u'bulk', u'changed', u'character', u'characters', u'choreography', u'codified', u'commonly', u'complex', u'compositions', u'concluding', u'constituents', u'conveyed', u'courses', u'courts', u'covering', u'cultural', u'dancing', u'days', u'dedicated', u'degree', u'deity', u'demonstration', u'described', u'designs', u'devadasi', u'devadasis', u'development', u'devi', u'devotional', u'difficult', u'discover', u'documented', u'early', u'educated', u'elaborate']\n------------------------------------------------------------------------------------------------------------------\n('bellydance', 100)\n[u'belly', u'dancing', u'dance', u'performed', u'music', u'movements', u'form', u'raqs', u'several', u'dancers', u'different', u'help', u'may', u'middle', u'social', u'styles', u'usually', u'abdomen', u'also', u'although', u'angular', u'baladi', u'body', u'celebration', u'choosing', u'dances', u'east', u'groups', u'hips', u'however', u'many', u'one', u'originating', u'origins', u'parts', u'personal', u'popular', u'prefer', u'routine', u'seems', u'shoes', u'today', u'workout', u'world', u'abdominal', u'abdominals', u'academic', u'aerobic', u'africa', u'ages', u'allow', u'allowing', u'almost', u'america', u'area', u'asia', u'authentic', u'ballet', u'bare', u'based', u'basic', u'beautiful', u'childbirth', u'choices', u'choreographed', u'circular', u'combination', u'comfortable', u'correctly', u'covering', u'creativity', u'cultural', u'cultures', u'dancer', u'debate', u'defining', u'depending', u'desirable', u'development', u'directed', u'distinguishing', u'due', u'eastern', u'enjoy', u'enjoyed', u'entertainment', u'ethnic', u'even', u'evolved', u'exercise', u'exist', u'experience', u'express', u'feature', u'feel', u'feet', u'female', u'females', u'fitness', u'flexible']\n"
      }
     ],
     "prompt_number": 115
    },
    {
     "cell_type": "heading",
     "level": 3,
     "metadata": {},
     "source": "Create Bag of Words Features for Training and Test dance data sets"
    },
    {
     "cell_type": "code",
     "collapsed": false,
     "input": "def bag_of_words(words):\n    return dict([(word, True) for word in words])",
     "language": "python",
     "metadata": {},
     "outputs": [],
     "prompt_number": 59
    },
    {
     "cell_type": "code",
     "collapsed": false,
     "input": "def create_features(dance_dict):\n    feature_list = []\n    for key, value in dance_dict.items():\n        feature_list += [(bag_of_words(value), key)]\n    return feature_list",
     "language": "python",
     "metadata": {},
     "outputs": [],
     "prompt_number": 60
    },
    {
     "cell_type": "code",
     "collapsed": false,
     "input": "dance_train_feature_list = create_features(dance_train_dict)\ndance_test_feature_list = create_features(dance_test_dict)\n#print dance_train_feature_list\n#print \"-----------------------------------------------------------------------------------------------------------------------------\"\n#print dance_test_feature_list",
     "language": "python",
     "metadata": {},
     "outputs": [],
     "prompt_number": 116
    },
    {
     "cell_type": "code",
     "collapsed": false,
     "input": "nb_cls = NaiveBayesClassifier.train(dance_train_feature_list)",
     "language": "python",
     "metadata": {},
     "outputs": [],
     "prompt_number": 117
    },
    {
     "cell_type": "heading",
     "level": 3,
     "metadata": {},
     "source": "Accuracy Score for Classifier"
    },
    {
     "cell_type": "code",
     "collapsed": false,
     "input": "print 'accuracy:', nltk.classify.util.accuracy( nb_cls, dance_test_feature_list)",
     "language": "python",
     "metadata": {},
     "outputs": [
      {
       "output_type": "stream",
       "stream": "stdout",
       "text": "accuracy: 0.75\n"
      }
     ],
     "prompt_number": 118
    },
    {
     "cell_type": "heading",
     "level": 3,
     "metadata": {},
     "source": "Showing Most Informative Features"
    },
    {
     "cell_type": "code",
     "collapsed": false,
     "input": "nb_cls.show_most_informative_features()",
     "language": "python",
     "metadata": {},
     "outputs": [
      {
       "output_type": "stream",
       "stream": "stdout",
       "text": "Most Informative Features\n            instructor's = None           hiphop : bellyd =      1.0 : 1.0"
      },
      {
       "output_type": "stream",
       "stream": "stdout",
       "text": "\n             established = None             hula : bellyd =      1.0 : 1.0\n                  byapti = None             hula : bellyd =      1.0 : 1.0\n                    love = None             hula : bellyd =      1.0 : 1.0\n              television = None             hula : bellyd =      1.0 : 1.0\n                  season = None             hula : bellyd =      1.0 : 1.0\n"
      }
     ],
     "prompt_number": 142
    },
    {
     "cell_type": "raw",
     "metadata": {},
     "source": "TODO:\nMake a function around this - so you can read and classify texts from any file."
    },
    {
     "cell_type": "raw",
     "metadata": {},
     "source": "classify_hiphop = \"The older dance styles that were created in the 1970s include uprock, breaking, and the funk styles.\\\nBreaking was created in The Bronx, New York, incorporating dances that were popular in the 1960s and early 1970s in \\\nAfrican-American and Latino communities\"\n\nclassify_bellydance = \"In order to move a part of your body in one direction, first move it in the opposite direction. E.g. \\\nIf you are trying to do a hip drop, first lift that hip slightly to do the drop. This give you the space your need to \\\ncreate the movement, which will help you create a bigger, fuller and more juicy movement.\"\n\nclassify_hula = \"while Hawaiians composed and performed chant and mele (songs) alone, hula has never been danced without \\\nverbal accompaniment. In ancient times, the chant remained the primary focus with the dance adapted to enhance the chant. \\\nFluid gestures added grace to the dance but did not necessarily mirror the chant's words in a sort of visual sign language. \\\nThe deeply metaphoric nature of Hawaiian language left ample room for multiple interpretations.\"\n\nclassify_bharatanatyam = \"The dance journey of this illustrious artist commenced at the age of six under the guidance of \\\nGuru Mahalingam Pillai of the Raja Rajeshwari Dance Academy in Mumbai. Her debut performance was at the age of nine at the \\\nAsthika Samajam, Mumbai to an audience of over a thousand. She continued her artistic endeavor under the tutelage of world \\\nrenowned gurus Padmabhushan VP Dhananjayan, Shanta Dhananjayan, and Padmashree Adyar K. Laxman in Chennai. The Cultural \\\nMinistry of the Government of India recognized the spark of excellence in the young ten year old and supported her with \\\nscholarships to pursue her training for the next decade. The effortlessness and grace that are a hallmark of Savitha's \\\nperformances emanate from a disciplined practice of Yoga. She has received specialized training in abhinaya (facial expressions) \\\nfrom workshops and classes conducted by Smt. Kalanidhi Narayan\""
    },
    {
     "cell_type": "heading",
     "level": 3,
     "metadata": {},
     "source": "Loading and Processing Dance Classification Data Sets"
    },
    {
     "cell_type": "code",
     "collapsed": false,
     "input": "dance_classify_dir = \"/Users/deeps/ds_playground/class_stuff/dance_classifier/classify/\"\ndance_classify_dict = load_n_process_data(dance_classify_dir, debug=True)\ndance_classify_dict = remove_common_words(dance_classify_dict)",
     "language": "python",
     "metadata": {},
     "outputs": [
      {
       "output_type": "stream",
       "stream": "stdout",
       "text": "Reading file <open file '/Users/deeps/ds_playground/class_stuff/dance_classifier/classify/bellydance.txt', mode 'r' at 0x105fad780>\nReading file <open file '/Users/deeps/ds_playground/class_stuff/dance_classifier/classify/bharatanatyam.txt', mode 'r' at 0x106a855d0>\nReading file <open file '/Users/deeps/ds_playground/class_stuff/dance_classifier/classify/hiphop.txt', mode 'r' at 0x105fad780>\nReading file <open file '/Users/deeps/ds_playground/class_stuff/dance_classifier/classify/hula.txt', mode 'r' at 0x106a855d0>\n------------------------------------------------------------------------------------------------------------------\n('hula', 42)\n[u'chant', u'dance', u'language', u'accompaniment', u'adapted', u'added', u'alone', u'ample', u'ancient', u\"chant's\", u'composed', u'danced', u'deeply', u'enhance', u'fluid', u'focus', u'gestures', u'grace', u'hawaiian', u'hawaiians', u'hula', u'interpretations', u'left', u'mele', u'metaphoric', u'mirror', u'multiple', u'nature', u'necessarily', u'never', u'performed', u'primary', u'remained', u'room', u'sign', u'songs', u'sort', u'times', u'verbal', u'visual', u'without', u'words']\n------------------------------------------------------------------------------------------------------------------\n('hiphop', 18)\n[u'breaking', u'created', u'styles', u'african-american', u'bronx', u'communities', u'dance', u'dances', u'early', u'funk', u'include', u'incorporating', u'latino', u'new', u'older', u'popular', u'uprock', u'york']\n------------------------------------------------------------------------------------------------------------------\n('bharatanatyam', 73)\n[u'age', u'dance', u'dhananjayan', u'mumbai', u'training', u'abhinaya', u'academy', u'adyar', u'artist', u'artistic', u'asthika', u'audience', u'chennai', u'classes', u'commenced', u'conducted', u'continued', u'cultural', u'debut', u'decade', u'disciplined', u'effortlessness', u'emanate', u'endeavor', u'excellence', u'expressions', u'facial', u'government', u'grace', u'guidance', u'guru', u'gurus', u'hallmark', u'illustrious', u'india', u'journey', u'kalanidhi', u'laxman', u'mahalingam', u'ministry', u'narayan', u'next', u'nine', u'old', u'padmabhushan', u'padmashree', u'performance', u'performances', u'pillai', u'practice', u'pursue', u'raja', u'rajeshwari', u'received', u'recognized', u'renowned', u'samajam', u\"savitha's\", u'scholarships', u'shanta', u'six', u'smt', u'spark', u'specialized', u'supported', u'ten', u'thousand', u'tutelage', u'workshops', u'world', u'year', u'yoga', u'young']\n------------------------------------------------------------------------------------------------------------------\n('bellydance', 23)\n[u'create', u'direction', u'drop', u'first', u'hip', u'move', u'movement', u'bigger', u'body', u'e.g', u'fuller', u'give', u'help', u'juicy', u'lift', u'need', u'one', u'opposite', u'order', u'part', u'slightly', u'space', u'trying']\n"
      }
     ],
     "prompt_number": 144
    },
    {
     "cell_type": "heading",
     "level": 3,
     "metadata": {},
     "source": "The Final step of Text classification"
    },
    {
     "cell_type": "code",
     "collapsed": false,
     "input": "for key, value in dance_classify_dict.items():\n    print (\"Classifying text in %s as\" %(key)),\n    print nb_cls.classify(bag_of_words(value))",
     "language": "python",
     "metadata": {},
     "outputs": [
      {
       "output_type": "stream",
       "stream": "stdout",
       "text": "Classifying text in hula as hula\nClassifying text in hiphop as hiphop\nClassifying text in bharatanatyam as bharatanatyam\nClassifying text in bellydance as bellydance\n"
      }
     ],
     "prompt_number": 145
    }
   ],
   "metadata": {}
  }
 ]
}